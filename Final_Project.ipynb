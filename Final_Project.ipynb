{
  "cells": [
    {
      "cell_type": "code",
      "execution_count": 2,
      "id": "e75ef297",
      "metadata": {
        "id": "e75ef297"
      },
      "outputs": [],
      "source": [
        "# Reading excel file\n",
        "import pandas as pd\n",
        "import numpy as np\n",
        "df = pd.read_excel('FinalData.xls')"
      ]
    },
    {
      "cell_type": "code",
      "execution_count": 3,
      "id": "1d76b7de",
      "metadata": {
        "colab": {
          "base_uri": "https://localhost:8080/",
          "height": 372
        },
        "id": "1d76b7de",
        "outputId": "22ead681-7b12-4ba6-e08a-38dcf40c1c50"
      },
      "outputs": [
        {
          "output_type": "execute_result",
          "data": {
            "text/plain": [
              "   Gender Race (Reported)      Age  Height (cm)  Weight (kg)  Diabetes  \\\n",
              "0    male           White  60 - 69      193.040        115.7       NaN   \n",
              "1  female           White  50 - 59      176.530        144.2       NaN   \n",
              "2  female           White  40 - 49      162.560         77.1       NaN   \n",
              "3    male           White  60 - 69      182.245         90.7       NaN   \n",
              "4    male           White  50 - 59      167.640         72.6       NaN   \n",
              "\n",
              "   Simvastatin (Zocor)  Amiodarone (Cordarone)  Target INR  \\\n",
              "0                  0.0                     0.0         2.5   \n",
              "1                  0.0                     0.0         2.5   \n",
              "2                  0.0                     0.0         2.5   \n",
              "3                  0.0                     0.0         2.5   \n",
              "4                  0.0                     0.0         2.5   \n",
              "\n",
              "   INR on Reported Therapeutic Dose of Warfarin Cyp2C9 genotypes  \\\n",
              "0                                          2.60            *1/*1   \n",
              "1                                          2.15            *1/*1   \n",
              "2                                          1.90            *1/*1   \n",
              "3                                          2.40            *1/*1   \n",
              "4                                          1.90            *1/*3   \n",
              "\n",
              "  VKORC1 genotype: -1639 G>A (3673); chr16:31015190; rs9923231; C/T  \\\n",
              "0                                                A/G                  \n",
              "1                                                A/A                  \n",
              "2                                                G/G                  \n",
              "3                                                A/G                  \n",
              "4                                                A/G                  \n",
              "\n",
              "   Therapeutic Dose of Warfarin  \n",
              "0                          49.0  \n",
              "1                          42.0  \n",
              "2                          53.0  \n",
              "3                          28.0  \n",
              "4                          42.0  "
            ],
            "text/html": [
              "\n",
              "  <div id=\"df-aef564c8-a620-415e-8e3d-8e065e2a3907\">\n",
              "    <div class=\"colab-df-container\">\n",
              "      <div>\n",
              "<style scoped>\n",
              "    .dataframe tbody tr th:only-of-type {\n",
              "        vertical-align: middle;\n",
              "    }\n",
              "\n",
              "    .dataframe tbody tr th {\n",
              "        vertical-align: top;\n",
              "    }\n",
              "\n",
              "    .dataframe thead th {\n",
              "        text-align: right;\n",
              "    }\n",
              "</style>\n",
              "<table border=\"1\" class=\"dataframe\">\n",
              "  <thead>\n",
              "    <tr style=\"text-align: right;\">\n",
              "      <th></th>\n",
              "      <th>Gender</th>\n",
              "      <th>Race (Reported)</th>\n",
              "      <th>Age</th>\n",
              "      <th>Height (cm)</th>\n",
              "      <th>Weight (kg)</th>\n",
              "      <th>Diabetes</th>\n",
              "      <th>Simvastatin (Zocor)</th>\n",
              "      <th>Amiodarone (Cordarone)</th>\n",
              "      <th>Target INR</th>\n",
              "      <th>INR on Reported Therapeutic Dose of Warfarin</th>\n",
              "      <th>Cyp2C9 genotypes</th>\n",
              "      <th>VKORC1 genotype: -1639 G&gt;A (3673); chr16:31015190; rs9923231; C/T</th>\n",
              "      <th>Therapeutic Dose of Warfarin</th>\n",
              "    </tr>\n",
              "  </thead>\n",
              "  <tbody>\n",
              "    <tr>\n",
              "      <th>0</th>\n",
              "      <td>male</td>\n",
              "      <td>White</td>\n",
              "      <td>60 - 69</td>\n",
              "      <td>193.040</td>\n",
              "      <td>115.7</td>\n",
              "      <td>NaN</td>\n",
              "      <td>0.0</td>\n",
              "      <td>0.0</td>\n",
              "      <td>2.5</td>\n",
              "      <td>2.60</td>\n",
              "      <td>*1/*1</td>\n",
              "      <td>A/G</td>\n",
              "      <td>49.0</td>\n",
              "    </tr>\n",
              "    <tr>\n",
              "      <th>1</th>\n",
              "      <td>female</td>\n",
              "      <td>White</td>\n",
              "      <td>50 - 59</td>\n",
              "      <td>176.530</td>\n",
              "      <td>144.2</td>\n",
              "      <td>NaN</td>\n",
              "      <td>0.0</td>\n",
              "      <td>0.0</td>\n",
              "      <td>2.5</td>\n",
              "      <td>2.15</td>\n",
              "      <td>*1/*1</td>\n",
              "      <td>A/A</td>\n",
              "      <td>42.0</td>\n",
              "    </tr>\n",
              "    <tr>\n",
              "      <th>2</th>\n",
              "      <td>female</td>\n",
              "      <td>White</td>\n",
              "      <td>40 - 49</td>\n",
              "      <td>162.560</td>\n",
              "      <td>77.1</td>\n",
              "      <td>NaN</td>\n",
              "      <td>0.0</td>\n",
              "      <td>0.0</td>\n",
              "      <td>2.5</td>\n",
              "      <td>1.90</td>\n",
              "      <td>*1/*1</td>\n",
              "      <td>G/G</td>\n",
              "      <td>53.0</td>\n",
              "    </tr>\n",
              "    <tr>\n",
              "      <th>3</th>\n",
              "      <td>male</td>\n",
              "      <td>White</td>\n",
              "      <td>60 - 69</td>\n",
              "      <td>182.245</td>\n",
              "      <td>90.7</td>\n",
              "      <td>NaN</td>\n",
              "      <td>0.0</td>\n",
              "      <td>0.0</td>\n",
              "      <td>2.5</td>\n",
              "      <td>2.40</td>\n",
              "      <td>*1/*1</td>\n",
              "      <td>A/G</td>\n",
              "      <td>28.0</td>\n",
              "    </tr>\n",
              "    <tr>\n",
              "      <th>4</th>\n",
              "      <td>male</td>\n",
              "      <td>White</td>\n",
              "      <td>50 - 59</td>\n",
              "      <td>167.640</td>\n",
              "      <td>72.6</td>\n",
              "      <td>NaN</td>\n",
              "      <td>0.0</td>\n",
              "      <td>0.0</td>\n",
              "      <td>2.5</td>\n",
              "      <td>1.90</td>\n",
              "      <td>*1/*3</td>\n",
              "      <td>A/G</td>\n",
              "      <td>42.0</td>\n",
              "    </tr>\n",
              "  </tbody>\n",
              "</table>\n",
              "</div>\n",
              "      <button class=\"colab-df-convert\" onclick=\"convertToInteractive('df-aef564c8-a620-415e-8e3d-8e065e2a3907')\"\n",
              "              title=\"Convert this dataframe to an interactive table.\"\n",
              "              style=\"display:none;\">\n",
              "        \n",
              "  <svg xmlns=\"http://www.w3.org/2000/svg\" height=\"24px\"viewBox=\"0 0 24 24\"\n",
              "       width=\"24px\">\n",
              "    <path d=\"M0 0h24v24H0V0z\" fill=\"none\"/>\n",
              "    <path d=\"M18.56 5.44l.94 2.06.94-2.06 2.06-.94-2.06-.94-.94-2.06-.94 2.06-2.06.94zm-11 1L8.5 8.5l.94-2.06 2.06-.94-2.06-.94L8.5 2.5l-.94 2.06-2.06.94zm10 10l.94 2.06.94-2.06 2.06-.94-2.06-.94-.94-2.06-.94 2.06-2.06.94z\"/><path d=\"M17.41 7.96l-1.37-1.37c-.4-.4-.92-.59-1.43-.59-.52 0-1.04.2-1.43.59L10.3 9.45l-7.72 7.72c-.78.78-.78 2.05 0 2.83L4 21.41c.39.39.9.59 1.41.59.51 0 1.02-.2 1.41-.59l7.78-7.78 2.81-2.81c.8-.78.8-2.07 0-2.86zM5.41 20L4 18.59l7.72-7.72 1.47 1.35L5.41 20z\"/>\n",
              "  </svg>\n",
              "      </button>\n",
              "      \n",
              "  <style>\n",
              "    .colab-df-container {\n",
              "      display:flex;\n",
              "      flex-wrap:wrap;\n",
              "      gap: 12px;\n",
              "    }\n",
              "\n",
              "    .colab-df-convert {\n",
              "      background-color: #E8F0FE;\n",
              "      border: none;\n",
              "      border-radius: 50%;\n",
              "      cursor: pointer;\n",
              "      display: none;\n",
              "      fill: #1967D2;\n",
              "      height: 32px;\n",
              "      padding: 0 0 0 0;\n",
              "      width: 32px;\n",
              "    }\n",
              "\n",
              "    .colab-df-convert:hover {\n",
              "      background-color: #E2EBFA;\n",
              "      box-shadow: 0px 1px 2px rgba(60, 64, 67, 0.3), 0px 1px 3px 1px rgba(60, 64, 67, 0.15);\n",
              "      fill: #174EA6;\n",
              "    }\n",
              "\n",
              "    [theme=dark] .colab-df-convert {\n",
              "      background-color: #3B4455;\n",
              "      fill: #D2E3FC;\n",
              "    }\n",
              "\n",
              "    [theme=dark] .colab-df-convert:hover {\n",
              "      background-color: #434B5C;\n",
              "      box-shadow: 0px 1px 3px 1px rgba(0, 0, 0, 0.15);\n",
              "      filter: drop-shadow(0px 1px 2px rgba(0, 0, 0, 0.3));\n",
              "      fill: #FFFFFF;\n",
              "    }\n",
              "  </style>\n",
              "\n",
              "      <script>\n",
              "        const buttonEl =\n",
              "          document.querySelector('#df-aef564c8-a620-415e-8e3d-8e065e2a3907 button.colab-df-convert');\n",
              "        buttonEl.style.display =\n",
              "          google.colab.kernel.accessAllowed ? 'block' : 'none';\n",
              "\n",
              "        async function convertToInteractive(key) {\n",
              "          const element = document.querySelector('#df-aef564c8-a620-415e-8e3d-8e065e2a3907');\n",
              "          const dataTable =\n",
              "            await google.colab.kernel.invokeFunction('convertToInteractive',\n",
              "                                                     [key], {});\n",
              "          if (!dataTable) return;\n",
              "\n",
              "          const docLinkHtml = 'Like what you see? Visit the ' +\n",
              "            '<a target=\"_blank\" href=https://colab.research.google.com/notebooks/data_table.ipynb>data table notebook</a>'\n",
              "            + ' to learn more about interactive tables.';\n",
              "          element.innerHTML = '';\n",
              "          dataTable['output_type'] = 'display_data';\n",
              "          await google.colab.output.renderOutput(dataTable, element);\n",
              "          const docLink = document.createElement('div');\n",
              "          docLink.innerHTML = docLinkHtml;\n",
              "          element.appendChild(docLink);\n",
              "        }\n",
              "      </script>\n",
              "    </div>\n",
              "  </div>\n",
              "  "
            ]
          },
          "metadata": {},
          "execution_count": 3
        }
      ],
      "source": [
        "# Check first 5 rows of the dataset\n",
        "df.head()"
      ]
    },
    {
      "cell_type": "code",
      "execution_count": 4,
      "id": "264293ca",
      "metadata": {
        "colab": {
          "base_uri": "https://localhost:8080/"
        },
        "id": "264293ca",
        "outputId": "d3189a40-278f-45bc-df51-ea75c1f33464"
      },
      "outputs": [
        {
          "output_type": "execute_result",
          "data": {
            "text/plain": [
              "Index(['Gender', 'Race (Reported)', 'Age', 'Height (cm)', 'Weight (kg)',\n",
              "       'Diabetes', 'Simvastatin (Zocor)', 'Amiodarone (Cordarone)',\n",
              "       'Target INR', 'INR on Reported Therapeutic Dose of Warfarin',\n",
              "       'Cyp2C9 genotypes',\n",
              "       'VKORC1 genotype: -1639 G>A (3673); chr16:31015190; rs9923231; C/T',\n",
              "       'Therapeutic Dose of Warfarin'],\n",
              "      dtype='object')"
            ]
          },
          "metadata": {},
          "execution_count": 4
        }
      ],
      "source": [
        "# Check columns of the dataset\n",
        "df.columns"
      ]
    },
    {
      "cell_type": "code",
      "execution_count": 5,
      "id": "22de0101",
      "metadata": {
        "colab": {
          "base_uri": "https://localhost:8080/"
        },
        "id": "22de0101",
        "outputId": "5e313c92-6b64-4697-c2ef-4fc41a82b7c9"
      },
      "outputs": [
        {
          "output_type": "stream",
          "name": "stdout",
          "text": [
            "<class 'pandas.core.frame.DataFrame'>\n",
            "RangeIndex: 5700 entries, 0 to 5699\n",
            "Data columns (total 13 columns):\n",
            " #   Column                                                             Non-Null Count  Dtype  \n",
            "---  ------                                                             --------------  -----  \n",
            " 0   Gender                                                             5696 non-null   object \n",
            " 1   Race (Reported)                                                    5194 non-null   object \n",
            " 2   Age                                                                5658 non-null   object \n",
            " 3   Height (cm)                                                        4554 non-null   float64\n",
            " 4   Weight (kg)                                                        5413 non-null   float64\n",
            " 5   Diabetes                                                           3283 non-null   float64\n",
            " 6   Simvastatin (Zocor)                                                3861 non-null   float64\n",
            " 7   Amiodarone (Cordarone)                                             4182 non-null   float64\n",
            " 8   Target INR                                                         1259 non-null   float64\n",
            " 9   INR on Reported Therapeutic Dose of Warfarin                       4968 non-null   float64\n",
            " 10  Cyp2C9 genotypes                                                   5567 non-null   object \n",
            " 11  VKORC1 genotype: -1639 G>A (3673); chr16:31015190; rs9923231; C/T  4046 non-null   object \n",
            " 12  Therapeutic Dose of Warfarin                                       5528 non-null   float64\n",
            "dtypes: float64(8), object(5)\n",
            "memory usage: 579.0+ KB\n"
          ]
        }
      ],
      "source": [
        "# Check missing values in the dataset\n",
        "df.info()"
      ]
    },
    {
      "cell_type": "code",
      "execution_count": 6,
      "id": "c94a3e9c",
      "metadata": {
        "colab": {
          "base_uri": "https://localhost:8080/",
          "height": 344
        },
        "id": "c94a3e9c",
        "outputId": "7df793ad-0066-4919-d967-d928361a6995"
      },
      "outputs": [
        {
          "output_type": "execute_result",
          "data": {
            "text/plain": [
              "       Height (cm)  Weight (kg)     Diabetes  Simvastatin (Zocor)  \\\n",
              "count  4554.000000  5413.000000  3283.000000          3861.000000   \n",
              "mean    168.047778    77.852569     0.187024             0.146335   \n",
              "std      10.845992    21.859764     0.389990             0.353488   \n",
              "min     124.968000    30.000000     0.000000             0.000000   \n",
              "25%     160.020000    62.000000     0.000000             0.000000   \n",
              "50%     167.894000    75.000000     0.000000             0.000000   \n",
              "75%     176.022000    90.000000     0.000000             0.000000   \n",
              "max     202.000000   237.700000     1.000000             1.000000   \n",
              "\n",
              "       Amiodarone (Cordarone)   Target INR  \\\n",
              "count             4182.000000  1259.000000   \n",
              "mean                 0.066236     2.538324   \n",
              "std                  0.248724     0.198140   \n",
              "min                  0.000000     1.300000   \n",
              "25%                  0.000000     2.500000   \n",
              "50%                  0.000000     2.500000   \n",
              "75%                  0.000000     2.500000   \n",
              "max                  1.000000     3.500000   \n",
              "\n",
              "       INR on Reported Therapeutic Dose of Warfarin  \\\n",
              "count                                   4968.000000   \n",
              "mean                                       2.364438   \n",
              "std                                        0.464644   \n",
              "min                                        0.800000   \n",
              "25%                                        2.100000   \n",
              "50%                                        2.400000   \n",
              "75%                                        2.610000   \n",
              "max                                        6.100000   \n",
              "\n",
              "       Therapeutic Dose of Warfarin  \n",
              "count                   5528.000000  \n",
              "mean                      30.977887  \n",
              "std                       16.801048  \n",
              "min                        2.100000  \n",
              "25%                       19.530000  \n",
              "50%                       28.000000  \n",
              "75%                       38.500000  \n",
              "max                      315.000000  "
            ],
            "text/html": [
              "\n",
              "  <div id=\"df-9b8913f0-88d2-4db6-8969-755e6c36fc86\">\n",
              "    <div class=\"colab-df-container\">\n",
              "      <div>\n",
              "<style scoped>\n",
              "    .dataframe tbody tr th:only-of-type {\n",
              "        vertical-align: middle;\n",
              "    }\n",
              "\n",
              "    .dataframe tbody tr th {\n",
              "        vertical-align: top;\n",
              "    }\n",
              "\n",
              "    .dataframe thead th {\n",
              "        text-align: right;\n",
              "    }\n",
              "</style>\n",
              "<table border=\"1\" class=\"dataframe\">\n",
              "  <thead>\n",
              "    <tr style=\"text-align: right;\">\n",
              "      <th></th>\n",
              "      <th>Height (cm)</th>\n",
              "      <th>Weight (kg)</th>\n",
              "      <th>Diabetes</th>\n",
              "      <th>Simvastatin (Zocor)</th>\n",
              "      <th>Amiodarone (Cordarone)</th>\n",
              "      <th>Target INR</th>\n",
              "      <th>INR on Reported Therapeutic Dose of Warfarin</th>\n",
              "      <th>Therapeutic Dose of Warfarin</th>\n",
              "    </tr>\n",
              "  </thead>\n",
              "  <tbody>\n",
              "    <tr>\n",
              "      <th>count</th>\n",
              "      <td>4554.000000</td>\n",
              "      <td>5413.000000</td>\n",
              "      <td>3283.000000</td>\n",
              "      <td>3861.000000</td>\n",
              "      <td>4182.000000</td>\n",
              "      <td>1259.000000</td>\n",
              "      <td>4968.000000</td>\n",
              "      <td>5528.000000</td>\n",
              "    </tr>\n",
              "    <tr>\n",
              "      <th>mean</th>\n",
              "      <td>168.047778</td>\n",
              "      <td>77.852569</td>\n",
              "      <td>0.187024</td>\n",
              "      <td>0.146335</td>\n",
              "      <td>0.066236</td>\n",
              "      <td>2.538324</td>\n",
              "      <td>2.364438</td>\n",
              "      <td>30.977887</td>\n",
              "    </tr>\n",
              "    <tr>\n",
              "      <th>std</th>\n",
              "      <td>10.845992</td>\n",
              "      <td>21.859764</td>\n",
              "      <td>0.389990</td>\n",
              "      <td>0.353488</td>\n",
              "      <td>0.248724</td>\n",
              "      <td>0.198140</td>\n",
              "      <td>0.464644</td>\n",
              "      <td>16.801048</td>\n",
              "    </tr>\n",
              "    <tr>\n",
              "      <th>min</th>\n",
              "      <td>124.968000</td>\n",
              "      <td>30.000000</td>\n",
              "      <td>0.000000</td>\n",
              "      <td>0.000000</td>\n",
              "      <td>0.000000</td>\n",
              "      <td>1.300000</td>\n",
              "      <td>0.800000</td>\n",
              "      <td>2.100000</td>\n",
              "    </tr>\n",
              "    <tr>\n",
              "      <th>25%</th>\n",
              "      <td>160.020000</td>\n",
              "      <td>62.000000</td>\n",
              "      <td>0.000000</td>\n",
              "      <td>0.000000</td>\n",
              "      <td>0.000000</td>\n",
              "      <td>2.500000</td>\n",
              "      <td>2.100000</td>\n",
              "      <td>19.530000</td>\n",
              "    </tr>\n",
              "    <tr>\n",
              "      <th>50%</th>\n",
              "      <td>167.894000</td>\n",
              "      <td>75.000000</td>\n",
              "      <td>0.000000</td>\n",
              "      <td>0.000000</td>\n",
              "      <td>0.000000</td>\n",
              "      <td>2.500000</td>\n",
              "      <td>2.400000</td>\n",
              "      <td>28.000000</td>\n",
              "    </tr>\n",
              "    <tr>\n",
              "      <th>75%</th>\n",
              "      <td>176.022000</td>\n",
              "      <td>90.000000</td>\n",
              "      <td>0.000000</td>\n",
              "      <td>0.000000</td>\n",
              "      <td>0.000000</td>\n",
              "      <td>2.500000</td>\n",
              "      <td>2.610000</td>\n",
              "      <td>38.500000</td>\n",
              "    </tr>\n",
              "    <tr>\n",
              "      <th>max</th>\n",
              "      <td>202.000000</td>\n",
              "      <td>237.700000</td>\n",
              "      <td>1.000000</td>\n",
              "      <td>1.000000</td>\n",
              "      <td>1.000000</td>\n",
              "      <td>3.500000</td>\n",
              "      <td>6.100000</td>\n",
              "      <td>315.000000</td>\n",
              "    </tr>\n",
              "  </tbody>\n",
              "</table>\n",
              "</div>\n",
              "      <button class=\"colab-df-convert\" onclick=\"convertToInteractive('df-9b8913f0-88d2-4db6-8969-755e6c36fc86')\"\n",
              "              title=\"Convert this dataframe to an interactive table.\"\n",
              "              style=\"display:none;\">\n",
              "        \n",
              "  <svg xmlns=\"http://www.w3.org/2000/svg\" height=\"24px\"viewBox=\"0 0 24 24\"\n",
              "       width=\"24px\">\n",
              "    <path d=\"M0 0h24v24H0V0z\" fill=\"none\"/>\n",
              "    <path d=\"M18.56 5.44l.94 2.06.94-2.06 2.06-.94-2.06-.94-.94-2.06-.94 2.06-2.06.94zm-11 1L8.5 8.5l.94-2.06 2.06-.94-2.06-.94L8.5 2.5l-.94 2.06-2.06.94zm10 10l.94 2.06.94-2.06 2.06-.94-2.06-.94-.94-2.06-.94 2.06-2.06.94z\"/><path d=\"M17.41 7.96l-1.37-1.37c-.4-.4-.92-.59-1.43-.59-.52 0-1.04.2-1.43.59L10.3 9.45l-7.72 7.72c-.78.78-.78 2.05 0 2.83L4 21.41c.39.39.9.59 1.41.59.51 0 1.02-.2 1.41-.59l7.78-7.78 2.81-2.81c.8-.78.8-2.07 0-2.86zM5.41 20L4 18.59l7.72-7.72 1.47 1.35L5.41 20z\"/>\n",
              "  </svg>\n",
              "      </button>\n",
              "      \n",
              "  <style>\n",
              "    .colab-df-container {\n",
              "      display:flex;\n",
              "      flex-wrap:wrap;\n",
              "      gap: 12px;\n",
              "    }\n",
              "\n",
              "    .colab-df-convert {\n",
              "      background-color: #E8F0FE;\n",
              "      border: none;\n",
              "      border-radius: 50%;\n",
              "      cursor: pointer;\n",
              "      display: none;\n",
              "      fill: #1967D2;\n",
              "      height: 32px;\n",
              "      padding: 0 0 0 0;\n",
              "      width: 32px;\n",
              "    }\n",
              "\n",
              "    .colab-df-convert:hover {\n",
              "      background-color: #E2EBFA;\n",
              "      box-shadow: 0px 1px 2px rgba(60, 64, 67, 0.3), 0px 1px 3px 1px rgba(60, 64, 67, 0.15);\n",
              "      fill: #174EA6;\n",
              "    }\n",
              "\n",
              "    [theme=dark] .colab-df-convert {\n",
              "      background-color: #3B4455;\n",
              "      fill: #D2E3FC;\n",
              "    }\n",
              "\n",
              "    [theme=dark] .colab-df-convert:hover {\n",
              "      background-color: #434B5C;\n",
              "      box-shadow: 0px 1px 3px 1px rgba(0, 0, 0, 0.15);\n",
              "      filter: drop-shadow(0px 1px 2px rgba(0, 0, 0, 0.3));\n",
              "      fill: #FFFFFF;\n",
              "    }\n",
              "  </style>\n",
              "\n",
              "      <script>\n",
              "        const buttonEl =\n",
              "          document.querySelector('#df-9b8913f0-88d2-4db6-8969-755e6c36fc86 button.colab-df-convert');\n",
              "        buttonEl.style.display =\n",
              "          google.colab.kernel.accessAllowed ? 'block' : 'none';\n",
              "\n",
              "        async function convertToInteractive(key) {\n",
              "          const element = document.querySelector('#df-9b8913f0-88d2-4db6-8969-755e6c36fc86');\n",
              "          const dataTable =\n",
              "            await google.colab.kernel.invokeFunction('convertToInteractive',\n",
              "                                                     [key], {});\n",
              "          if (!dataTable) return;\n",
              "\n",
              "          const docLinkHtml = 'Like what you see? Visit the ' +\n",
              "            '<a target=\"_blank\" href=https://colab.research.google.com/notebooks/data_table.ipynb>data table notebook</a>'\n",
              "            + ' to learn more about interactive tables.';\n",
              "          element.innerHTML = '';\n",
              "          dataTable['output_type'] = 'display_data';\n",
              "          await google.colab.output.renderOutput(dataTable, element);\n",
              "          const docLink = document.createElement('div');\n",
              "          docLink.innerHTML = docLinkHtml;\n",
              "          element.appendChild(docLink);\n",
              "        }\n",
              "      </script>\n",
              "    </div>\n",
              "  </div>\n",
              "  "
            ]
          },
          "metadata": {},
          "execution_count": 6
        }
      ],
      "source": [
        "# Describing the dataset\n",
        "df.describe()"
      ]
    },
    {
      "cell_type": "code",
      "execution_count": 7,
      "id": "9372c587",
      "metadata": {
        "colab": {
          "base_uri": "https://localhost:8080/",
          "height": 502
        },
        "id": "9372c587",
        "outputId": "fb679979-350a-43f5-c3b0-6f2f4ad8f2b5"
      },
      "outputs": [
        {
          "output_type": "execute_result",
          "data": {
            "text/plain": [
              "      Gender  Race (Reported)    Age  Height (cm)  Weight (kg)  Diabetes  \\\n",
              "0      False            False  False        False        False      True   \n",
              "1      False            False  False        False        False      True   \n",
              "2      False            False  False        False        False      True   \n",
              "3      False            False  False        False        False      True   \n",
              "4      False            False  False        False        False      True   \n",
              "...      ...              ...    ...          ...          ...       ...   \n",
              "5695   False            False  False        False        False     False   \n",
              "5696   False            False  False        False        False     False   \n",
              "5697   False            False  False        False        False     False   \n",
              "5698   False            False  False        False        False     False   \n",
              "5699   False            False  False        False        False     False   \n",
              "\n",
              "      Simvastatin (Zocor)  Amiodarone (Cordarone)  Target INR  \\\n",
              "0                   False                   False       False   \n",
              "1                   False                   False       False   \n",
              "2                   False                   False       False   \n",
              "3                   False                   False       False   \n",
              "4                   False                   False       False   \n",
              "...                   ...                     ...         ...   \n",
              "5695                False                   False        True   \n",
              "5696                False                   False        True   \n",
              "5697                False                   False        True   \n",
              "5698                False                   False        True   \n",
              "5699                False                   False        True   \n",
              "\n",
              "      INR on Reported Therapeutic Dose of Warfarin  Cyp2C9 genotypes  \\\n",
              "0                                            False             False   \n",
              "1                                            False             False   \n",
              "2                                            False             False   \n",
              "3                                            False             False   \n",
              "4                                            False             False   \n",
              "...                                            ...               ...   \n",
              "5695                                         False             False   \n",
              "5696                                         False             False   \n",
              "5697                                         False             False   \n",
              "5698                                         False              True   \n",
              "5699                                         False              True   \n",
              "\n",
              "      VKORC1 genotype: -1639 G>A (3673); chr16:31015190; rs9923231; C/T  \\\n",
              "0                                                 False                   \n",
              "1                                                 False                   \n",
              "2                                                 False                   \n",
              "3                                                 False                   \n",
              "4                                                 False                   \n",
              "...                                                 ...                   \n",
              "5695                                               True                   \n",
              "5696                                               True                   \n",
              "5697                                               True                   \n",
              "5698                                               True                   \n",
              "5699                                               True                   \n",
              "\n",
              "      Therapeutic Dose of Warfarin  \n",
              "0                            False  \n",
              "1                            False  \n",
              "2                            False  \n",
              "3                            False  \n",
              "4                            False  \n",
              "...                            ...  \n",
              "5695                         False  \n",
              "5696                         False  \n",
              "5697                         False  \n",
              "5698                         False  \n",
              "5699                         False  \n",
              "\n",
              "[5700 rows x 13 columns]"
            ],
            "text/html": [
              "\n",
              "  <div id=\"df-78c8dc27-3251-4faa-a43d-bf149fe5b412\">\n",
              "    <div class=\"colab-df-container\">\n",
              "      <div>\n",
              "<style scoped>\n",
              "    .dataframe tbody tr th:only-of-type {\n",
              "        vertical-align: middle;\n",
              "    }\n",
              "\n",
              "    .dataframe tbody tr th {\n",
              "        vertical-align: top;\n",
              "    }\n",
              "\n",
              "    .dataframe thead th {\n",
              "        text-align: right;\n",
              "    }\n",
              "</style>\n",
              "<table border=\"1\" class=\"dataframe\">\n",
              "  <thead>\n",
              "    <tr style=\"text-align: right;\">\n",
              "      <th></th>\n",
              "      <th>Gender</th>\n",
              "      <th>Race (Reported)</th>\n",
              "      <th>Age</th>\n",
              "      <th>Height (cm)</th>\n",
              "      <th>Weight (kg)</th>\n",
              "      <th>Diabetes</th>\n",
              "      <th>Simvastatin (Zocor)</th>\n",
              "      <th>Amiodarone (Cordarone)</th>\n",
              "      <th>Target INR</th>\n",
              "      <th>INR on Reported Therapeutic Dose of Warfarin</th>\n",
              "      <th>Cyp2C9 genotypes</th>\n",
              "      <th>VKORC1 genotype: -1639 G&gt;A (3673); chr16:31015190; rs9923231; C/T</th>\n",
              "      <th>Therapeutic Dose of Warfarin</th>\n",
              "    </tr>\n",
              "  </thead>\n",
              "  <tbody>\n",
              "    <tr>\n",
              "      <th>0</th>\n",
              "      <td>False</td>\n",
              "      <td>False</td>\n",
              "      <td>False</td>\n",
              "      <td>False</td>\n",
              "      <td>False</td>\n",
              "      <td>True</td>\n",
              "      <td>False</td>\n",
              "      <td>False</td>\n",
              "      <td>False</td>\n",
              "      <td>False</td>\n",
              "      <td>False</td>\n",
              "      <td>False</td>\n",
              "      <td>False</td>\n",
              "    </tr>\n",
              "    <tr>\n",
              "      <th>1</th>\n",
              "      <td>False</td>\n",
              "      <td>False</td>\n",
              "      <td>False</td>\n",
              "      <td>False</td>\n",
              "      <td>False</td>\n",
              "      <td>True</td>\n",
              "      <td>False</td>\n",
              "      <td>False</td>\n",
              "      <td>False</td>\n",
              "      <td>False</td>\n",
              "      <td>False</td>\n",
              "      <td>False</td>\n",
              "      <td>False</td>\n",
              "    </tr>\n",
              "    <tr>\n",
              "      <th>2</th>\n",
              "      <td>False</td>\n",
              "      <td>False</td>\n",
              "      <td>False</td>\n",
              "      <td>False</td>\n",
              "      <td>False</td>\n",
              "      <td>True</td>\n",
              "      <td>False</td>\n",
              "      <td>False</td>\n",
              "      <td>False</td>\n",
              "      <td>False</td>\n",
              "      <td>False</td>\n",
              "      <td>False</td>\n",
              "      <td>False</td>\n",
              "    </tr>\n",
              "    <tr>\n",
              "      <th>3</th>\n",
              "      <td>False</td>\n",
              "      <td>False</td>\n",
              "      <td>False</td>\n",
              "      <td>False</td>\n",
              "      <td>False</td>\n",
              "      <td>True</td>\n",
              "      <td>False</td>\n",
              "      <td>False</td>\n",
              "      <td>False</td>\n",
              "      <td>False</td>\n",
              "      <td>False</td>\n",
              "      <td>False</td>\n",
              "      <td>False</td>\n",
              "    </tr>\n",
              "    <tr>\n",
              "      <th>4</th>\n",
              "      <td>False</td>\n",
              "      <td>False</td>\n",
              "      <td>False</td>\n",
              "      <td>False</td>\n",
              "      <td>False</td>\n",
              "      <td>True</td>\n",
              "      <td>False</td>\n",
              "      <td>False</td>\n",
              "      <td>False</td>\n",
              "      <td>False</td>\n",
              "      <td>False</td>\n",
              "      <td>False</td>\n",
              "      <td>False</td>\n",
              "    </tr>\n",
              "    <tr>\n",
              "      <th>...</th>\n",
              "      <td>...</td>\n",
              "      <td>...</td>\n",
              "      <td>...</td>\n",
              "      <td>...</td>\n",
              "      <td>...</td>\n",
              "      <td>...</td>\n",
              "      <td>...</td>\n",
              "      <td>...</td>\n",
              "      <td>...</td>\n",
              "      <td>...</td>\n",
              "      <td>...</td>\n",
              "      <td>...</td>\n",
              "      <td>...</td>\n",
              "    </tr>\n",
              "    <tr>\n",
              "      <th>5695</th>\n",
              "      <td>False</td>\n",
              "      <td>False</td>\n",
              "      <td>False</td>\n",
              "      <td>False</td>\n",
              "      <td>False</td>\n",
              "      <td>False</td>\n",
              "      <td>False</td>\n",
              "      <td>False</td>\n",
              "      <td>True</td>\n",
              "      <td>False</td>\n",
              "      <td>False</td>\n",
              "      <td>True</td>\n",
              "      <td>False</td>\n",
              "    </tr>\n",
              "    <tr>\n",
              "      <th>5696</th>\n",
              "      <td>False</td>\n",
              "      <td>False</td>\n",
              "      <td>False</td>\n",
              "      <td>False</td>\n",
              "      <td>False</td>\n",
              "      <td>False</td>\n",
              "      <td>False</td>\n",
              "      <td>False</td>\n",
              "      <td>True</td>\n",
              "      <td>False</td>\n",
              "      <td>False</td>\n",
              "      <td>True</td>\n",
              "      <td>False</td>\n",
              "    </tr>\n",
              "    <tr>\n",
              "      <th>5697</th>\n",
              "      <td>False</td>\n",
              "      <td>False</td>\n",
              "      <td>False</td>\n",
              "      <td>False</td>\n",
              "      <td>False</td>\n",
              "      <td>False</td>\n",
              "      <td>False</td>\n",
              "      <td>False</td>\n",
              "      <td>True</td>\n",
              "      <td>False</td>\n",
              "      <td>False</td>\n",
              "      <td>True</td>\n",
              "      <td>False</td>\n",
              "    </tr>\n",
              "    <tr>\n",
              "      <th>5698</th>\n",
              "      <td>False</td>\n",
              "      <td>False</td>\n",
              "      <td>False</td>\n",
              "      <td>False</td>\n",
              "      <td>False</td>\n",
              "      <td>False</td>\n",
              "      <td>False</td>\n",
              "      <td>False</td>\n",
              "      <td>True</td>\n",
              "      <td>False</td>\n",
              "      <td>True</td>\n",
              "      <td>True</td>\n",
              "      <td>False</td>\n",
              "    </tr>\n",
              "    <tr>\n",
              "      <th>5699</th>\n",
              "      <td>False</td>\n",
              "      <td>False</td>\n",
              "      <td>False</td>\n",
              "      <td>False</td>\n",
              "      <td>False</td>\n",
              "      <td>False</td>\n",
              "      <td>False</td>\n",
              "      <td>False</td>\n",
              "      <td>True</td>\n",
              "      <td>False</td>\n",
              "      <td>True</td>\n",
              "      <td>True</td>\n",
              "      <td>False</td>\n",
              "    </tr>\n",
              "  </tbody>\n",
              "</table>\n",
              "<p>5700 rows × 13 columns</p>\n",
              "</div>\n",
              "      <button class=\"colab-df-convert\" onclick=\"convertToInteractive('df-78c8dc27-3251-4faa-a43d-bf149fe5b412')\"\n",
              "              title=\"Convert this dataframe to an interactive table.\"\n",
              "              style=\"display:none;\">\n",
              "        \n",
              "  <svg xmlns=\"http://www.w3.org/2000/svg\" height=\"24px\"viewBox=\"0 0 24 24\"\n",
              "       width=\"24px\">\n",
              "    <path d=\"M0 0h24v24H0V0z\" fill=\"none\"/>\n",
              "    <path d=\"M18.56 5.44l.94 2.06.94-2.06 2.06-.94-2.06-.94-.94-2.06-.94 2.06-2.06.94zm-11 1L8.5 8.5l.94-2.06 2.06-.94-2.06-.94L8.5 2.5l-.94 2.06-2.06.94zm10 10l.94 2.06.94-2.06 2.06-.94-2.06-.94-.94-2.06-.94 2.06-2.06.94z\"/><path d=\"M17.41 7.96l-1.37-1.37c-.4-.4-.92-.59-1.43-.59-.52 0-1.04.2-1.43.59L10.3 9.45l-7.72 7.72c-.78.78-.78 2.05 0 2.83L4 21.41c.39.39.9.59 1.41.59.51 0 1.02-.2 1.41-.59l7.78-7.78 2.81-2.81c.8-.78.8-2.07 0-2.86zM5.41 20L4 18.59l7.72-7.72 1.47 1.35L5.41 20z\"/>\n",
              "  </svg>\n",
              "      </button>\n",
              "      \n",
              "  <style>\n",
              "    .colab-df-container {\n",
              "      display:flex;\n",
              "      flex-wrap:wrap;\n",
              "      gap: 12px;\n",
              "    }\n",
              "\n",
              "    .colab-df-convert {\n",
              "      background-color: #E8F0FE;\n",
              "      border: none;\n",
              "      border-radius: 50%;\n",
              "      cursor: pointer;\n",
              "      display: none;\n",
              "      fill: #1967D2;\n",
              "      height: 32px;\n",
              "      padding: 0 0 0 0;\n",
              "      width: 32px;\n",
              "    }\n",
              "\n",
              "    .colab-df-convert:hover {\n",
              "      background-color: #E2EBFA;\n",
              "      box-shadow: 0px 1px 2px rgba(60, 64, 67, 0.3), 0px 1px 3px 1px rgba(60, 64, 67, 0.15);\n",
              "      fill: #174EA6;\n",
              "    }\n",
              "\n",
              "    [theme=dark] .colab-df-convert {\n",
              "      background-color: #3B4455;\n",
              "      fill: #D2E3FC;\n",
              "    }\n",
              "\n",
              "    [theme=dark] .colab-df-convert:hover {\n",
              "      background-color: #434B5C;\n",
              "      box-shadow: 0px 1px 3px 1px rgba(0, 0, 0, 0.15);\n",
              "      filter: drop-shadow(0px 1px 2px rgba(0, 0, 0, 0.3));\n",
              "      fill: #FFFFFF;\n",
              "    }\n",
              "  </style>\n",
              "\n",
              "      <script>\n",
              "        const buttonEl =\n",
              "          document.querySelector('#df-78c8dc27-3251-4faa-a43d-bf149fe5b412 button.colab-df-convert');\n",
              "        buttonEl.style.display =\n",
              "          google.colab.kernel.accessAllowed ? 'block' : 'none';\n",
              "\n",
              "        async function convertToInteractive(key) {\n",
              "          const element = document.querySelector('#df-78c8dc27-3251-4faa-a43d-bf149fe5b412');\n",
              "          const dataTable =\n",
              "            await google.colab.kernel.invokeFunction('convertToInteractive',\n",
              "                                                     [key], {});\n",
              "          if (!dataTable) return;\n",
              "\n",
              "          const docLinkHtml = 'Like what you see? Visit the ' +\n",
              "            '<a target=\"_blank\" href=https://colab.research.google.com/notebooks/data_table.ipynb>data table notebook</a>'\n",
              "            + ' to learn more about interactive tables.';\n",
              "          element.innerHTML = '';\n",
              "          dataTable['output_type'] = 'display_data';\n",
              "          await google.colab.output.renderOutput(dataTable, element);\n",
              "          const docLink = document.createElement('div');\n",
              "          docLink.innerHTML = docLinkHtml;\n",
              "          element.appendChild(docLink);\n",
              "        }\n",
              "      </script>\n",
              "    </div>\n",
              "  </div>\n",
              "  "
            ]
          },
          "metadata": {},
          "execution_count": 7
        }
      ],
      "source": [
        "# Checking for NA Values in the dataset\n",
        "df.isna()"
      ]
    },
    {
      "cell_type": "code",
      "execution_count": 8,
      "id": "0c887932",
      "metadata": {
        "colab": {
          "base_uri": "https://localhost:8080/"
        },
        "id": "0c887932",
        "outputId": "c4f54ed0-9f4e-43de-d3b8-d6b18ffcf7ab"
      },
      "outputs": [
        {
          "output_type": "execute_result",
          "data": {
            "text/plain": [
              "Gender                                                                  4\n",
              "Race (Reported)                                                       506\n",
              "Age                                                                    42\n",
              "Height (cm)                                                          1146\n",
              "Weight (kg)                                                           287\n",
              "Diabetes                                                             2417\n",
              "Simvastatin (Zocor)                                                  1839\n",
              "Amiodarone (Cordarone)                                               1518\n",
              "Target INR                                                           4441\n",
              "INR on Reported Therapeutic Dose of Warfarin                          732\n",
              "Cyp2C9 genotypes                                                      133\n",
              "VKORC1 genotype: -1639 G>A (3673); chr16:31015190; rs9923231; C/T    1654\n",
              "Therapeutic Dose of Warfarin                                          172\n",
              "dtype: int64"
            ]
          },
          "metadata": {},
          "execution_count": 8
        }
      ],
      "source": [
        "# Finding Total Missing Values\n",
        "df.isna().sum()"
      ]
    },
    {
      "cell_type": "code",
      "execution_count": 9,
      "id": "aeabff61",
      "metadata": {
        "colab": {
          "base_uri": "https://localhost:8080/"
        },
        "id": "aeabff61",
        "outputId": "ef11c6a9-067f-4e81-b56d-d9185b864778"
      },
      "outputs": [
        {
          "output_type": "execute_result",
          "data": {
            "text/plain": [
              "14891"
            ]
          },
          "metadata": {},
          "execution_count": 9
        }
      ],
      "source": [
        "# Total sum of missing values\n",
        "df.isna().sum().sum()"
      ]
    },
    {
      "cell_type": "code",
      "execution_count": 10,
      "id": "b742892a",
      "metadata": {
        "id": "b742892a"
      },
      "outputs": [],
      "source": [
        "# Replacing missing values with mode\n",
        "df['Gender'] = df['Gender'].fillna(df['Gender'].mode()[0])\n",
        "df['Race (Reported)'] = df['Race (Reported)'].fillna(df['Race (Reported)'].mode()[0])\n",
        "df['Age'] = df['Age'].fillna(df['Age'].mode()[0])\n",
        "df['Cyp2C9 genotypes'] = df['Cyp2C9 genotypes'].fillna(df['Cyp2C9 genotypes'].mode()[0])\n",
        "df['VKORC1 genotype: -1639 G>A (3673); chr16:31015190; rs9923231; C/T'] = df['VKORC1 genotype: -1639 G>A (3673); chr16:31015190; rs9923231; C/T'].fillna(df['VKORC1 genotype: -1639 G>A (3673); chr16:31015190; rs9923231; C/T'].mode()[0])"
      ]
    },
    {
      "cell_type": "code",
      "execution_count": 11,
      "id": "74fd3e23-5ba4-4d62-87ce-2668afe78da9",
      "metadata": {
        "id": "74fd3e23-5ba4-4d62-87ce-2668afe78da9"
      },
      "outputs": [],
      "source": [
        "# Replacing missing values with mean\n",
        "df['Height (cm)'] = df['Height (cm)'].fillna(df['Height (cm)'].mean())\n",
        "df['Weight (kg)'] = df['Weight (kg)'].fillna(df['Weight (kg)'].mean())\n",
        "df['Diabetes'] = df['Diabetes'].fillna(df['Diabetes'].mean())\n",
        "df['Simvastatin (Zocor)'] = df['Simvastatin (Zocor)'].fillna(df['Simvastatin (Zocor)'].mean())\n",
        "df['Amiodarone (Cordarone)'] = df['Amiodarone (Cordarone)'].fillna(df['Amiodarone (Cordarone)'].mean())\n",
        "df['Target INR'] = df['Target INR'].fillna(df['Target INR'].mean())\n",
        "df['INR on Reported Therapeutic Dose of Warfarin'] = df['INR on Reported Therapeutic Dose of Warfarin'].fillna(df['INR on Reported Therapeutic Dose of Warfarin'].mean())\n",
        "df['Therapeutic Dose of Warfarin'] = df['Therapeutic Dose of Warfarin'].fillna(df['Therapeutic Dose of Warfarin'].mean())"
      ]
    },
    {
      "cell_type": "code",
      "execution_count": 12,
      "id": "3c63d1c6-50f8-4611-b2bd-e549e93a9ab4",
      "metadata": {
        "colab": {
          "base_uri": "https://localhost:8080/",
          "height": 502
        },
        "id": "3c63d1c6-50f8-4611-b2bd-e549e93a9ab4",
        "outputId": "989815ef-3a55-4258-b4e6-b2c27e0af37c"
      },
      "outputs": [
        {
          "output_type": "execute_result",
          "data": {
            "text/plain": [
              "      Gender  Race (Reported)    Age  Height (cm)  Weight (kg)  Diabetes  \\\n",
              "0      False            False  False        False        False     False   \n",
              "1      False            False  False        False        False     False   \n",
              "2      False            False  False        False        False     False   \n",
              "3      False            False  False        False        False     False   \n",
              "4      False            False  False        False        False     False   \n",
              "...      ...              ...    ...          ...          ...       ...   \n",
              "5695   False            False  False        False        False     False   \n",
              "5696   False            False  False        False        False     False   \n",
              "5697   False            False  False        False        False     False   \n",
              "5698   False            False  False        False        False     False   \n",
              "5699   False            False  False        False        False     False   \n",
              "\n",
              "      Simvastatin (Zocor)  Amiodarone (Cordarone)  Target INR  \\\n",
              "0                   False                   False       False   \n",
              "1                   False                   False       False   \n",
              "2                   False                   False       False   \n",
              "3                   False                   False       False   \n",
              "4                   False                   False       False   \n",
              "...                   ...                     ...         ...   \n",
              "5695                False                   False       False   \n",
              "5696                False                   False       False   \n",
              "5697                False                   False       False   \n",
              "5698                False                   False       False   \n",
              "5699                False                   False       False   \n",
              "\n",
              "      INR on Reported Therapeutic Dose of Warfarin  Cyp2C9 genotypes  \\\n",
              "0                                            False             False   \n",
              "1                                            False             False   \n",
              "2                                            False             False   \n",
              "3                                            False             False   \n",
              "4                                            False             False   \n",
              "...                                            ...               ...   \n",
              "5695                                         False             False   \n",
              "5696                                         False             False   \n",
              "5697                                         False             False   \n",
              "5698                                         False             False   \n",
              "5699                                         False             False   \n",
              "\n",
              "      VKORC1 genotype: -1639 G>A (3673); chr16:31015190; rs9923231; C/T  \\\n",
              "0                                                 False                   \n",
              "1                                                 False                   \n",
              "2                                                 False                   \n",
              "3                                                 False                   \n",
              "4                                                 False                   \n",
              "...                                                 ...                   \n",
              "5695                                              False                   \n",
              "5696                                              False                   \n",
              "5697                                              False                   \n",
              "5698                                              False                   \n",
              "5699                                              False                   \n",
              "\n",
              "      Therapeutic Dose of Warfarin  \n",
              "0                            False  \n",
              "1                            False  \n",
              "2                            False  \n",
              "3                            False  \n",
              "4                            False  \n",
              "...                            ...  \n",
              "5695                         False  \n",
              "5696                         False  \n",
              "5697                         False  \n",
              "5698                         False  \n",
              "5699                         False  \n",
              "\n",
              "[5700 rows x 13 columns]"
            ],
            "text/html": [
              "\n",
              "  <div id=\"df-48262602-afce-474d-8fa3-6032835c92aa\">\n",
              "    <div class=\"colab-df-container\">\n",
              "      <div>\n",
              "<style scoped>\n",
              "    .dataframe tbody tr th:only-of-type {\n",
              "        vertical-align: middle;\n",
              "    }\n",
              "\n",
              "    .dataframe tbody tr th {\n",
              "        vertical-align: top;\n",
              "    }\n",
              "\n",
              "    .dataframe thead th {\n",
              "        text-align: right;\n",
              "    }\n",
              "</style>\n",
              "<table border=\"1\" class=\"dataframe\">\n",
              "  <thead>\n",
              "    <tr style=\"text-align: right;\">\n",
              "      <th></th>\n",
              "      <th>Gender</th>\n",
              "      <th>Race (Reported)</th>\n",
              "      <th>Age</th>\n",
              "      <th>Height (cm)</th>\n",
              "      <th>Weight (kg)</th>\n",
              "      <th>Diabetes</th>\n",
              "      <th>Simvastatin (Zocor)</th>\n",
              "      <th>Amiodarone (Cordarone)</th>\n",
              "      <th>Target INR</th>\n",
              "      <th>INR on Reported Therapeutic Dose of Warfarin</th>\n",
              "      <th>Cyp2C9 genotypes</th>\n",
              "      <th>VKORC1 genotype: -1639 G&gt;A (3673); chr16:31015190; rs9923231; C/T</th>\n",
              "      <th>Therapeutic Dose of Warfarin</th>\n",
              "    </tr>\n",
              "  </thead>\n",
              "  <tbody>\n",
              "    <tr>\n",
              "      <th>0</th>\n",
              "      <td>False</td>\n",
              "      <td>False</td>\n",
              "      <td>False</td>\n",
              "      <td>False</td>\n",
              "      <td>False</td>\n",
              "      <td>False</td>\n",
              "      <td>False</td>\n",
              "      <td>False</td>\n",
              "      <td>False</td>\n",
              "      <td>False</td>\n",
              "      <td>False</td>\n",
              "      <td>False</td>\n",
              "      <td>False</td>\n",
              "    </tr>\n",
              "    <tr>\n",
              "      <th>1</th>\n",
              "      <td>False</td>\n",
              "      <td>False</td>\n",
              "      <td>False</td>\n",
              "      <td>False</td>\n",
              "      <td>False</td>\n",
              "      <td>False</td>\n",
              "      <td>False</td>\n",
              "      <td>False</td>\n",
              "      <td>False</td>\n",
              "      <td>False</td>\n",
              "      <td>False</td>\n",
              "      <td>False</td>\n",
              "      <td>False</td>\n",
              "    </tr>\n",
              "    <tr>\n",
              "      <th>2</th>\n",
              "      <td>False</td>\n",
              "      <td>False</td>\n",
              "      <td>False</td>\n",
              "      <td>False</td>\n",
              "      <td>False</td>\n",
              "      <td>False</td>\n",
              "      <td>False</td>\n",
              "      <td>False</td>\n",
              "      <td>False</td>\n",
              "      <td>False</td>\n",
              "      <td>False</td>\n",
              "      <td>False</td>\n",
              "      <td>False</td>\n",
              "    </tr>\n",
              "    <tr>\n",
              "      <th>3</th>\n",
              "      <td>False</td>\n",
              "      <td>False</td>\n",
              "      <td>False</td>\n",
              "      <td>False</td>\n",
              "      <td>False</td>\n",
              "      <td>False</td>\n",
              "      <td>False</td>\n",
              "      <td>False</td>\n",
              "      <td>False</td>\n",
              "      <td>False</td>\n",
              "      <td>False</td>\n",
              "      <td>False</td>\n",
              "      <td>False</td>\n",
              "    </tr>\n",
              "    <tr>\n",
              "      <th>4</th>\n",
              "      <td>False</td>\n",
              "      <td>False</td>\n",
              "      <td>False</td>\n",
              "      <td>False</td>\n",
              "      <td>False</td>\n",
              "      <td>False</td>\n",
              "      <td>False</td>\n",
              "      <td>False</td>\n",
              "      <td>False</td>\n",
              "      <td>False</td>\n",
              "      <td>False</td>\n",
              "      <td>False</td>\n",
              "      <td>False</td>\n",
              "    </tr>\n",
              "    <tr>\n",
              "      <th>...</th>\n",
              "      <td>...</td>\n",
              "      <td>...</td>\n",
              "      <td>...</td>\n",
              "      <td>...</td>\n",
              "      <td>...</td>\n",
              "      <td>...</td>\n",
              "      <td>...</td>\n",
              "      <td>...</td>\n",
              "      <td>...</td>\n",
              "      <td>...</td>\n",
              "      <td>...</td>\n",
              "      <td>...</td>\n",
              "      <td>...</td>\n",
              "    </tr>\n",
              "    <tr>\n",
              "      <th>5695</th>\n",
              "      <td>False</td>\n",
              "      <td>False</td>\n",
              "      <td>False</td>\n",
              "      <td>False</td>\n",
              "      <td>False</td>\n",
              "      <td>False</td>\n",
              "      <td>False</td>\n",
              "      <td>False</td>\n",
              "      <td>False</td>\n",
              "      <td>False</td>\n",
              "      <td>False</td>\n",
              "      <td>False</td>\n",
              "      <td>False</td>\n",
              "    </tr>\n",
              "    <tr>\n",
              "      <th>5696</th>\n",
              "      <td>False</td>\n",
              "      <td>False</td>\n",
              "      <td>False</td>\n",
              "      <td>False</td>\n",
              "      <td>False</td>\n",
              "      <td>False</td>\n",
              "      <td>False</td>\n",
              "      <td>False</td>\n",
              "      <td>False</td>\n",
              "      <td>False</td>\n",
              "      <td>False</td>\n",
              "      <td>False</td>\n",
              "      <td>False</td>\n",
              "    </tr>\n",
              "    <tr>\n",
              "      <th>5697</th>\n",
              "      <td>False</td>\n",
              "      <td>False</td>\n",
              "      <td>False</td>\n",
              "      <td>False</td>\n",
              "      <td>False</td>\n",
              "      <td>False</td>\n",
              "      <td>False</td>\n",
              "      <td>False</td>\n",
              "      <td>False</td>\n",
              "      <td>False</td>\n",
              "      <td>False</td>\n",
              "      <td>False</td>\n",
              "      <td>False</td>\n",
              "    </tr>\n",
              "    <tr>\n",
              "      <th>5698</th>\n",
              "      <td>False</td>\n",
              "      <td>False</td>\n",
              "      <td>False</td>\n",
              "      <td>False</td>\n",
              "      <td>False</td>\n",
              "      <td>False</td>\n",
              "      <td>False</td>\n",
              "      <td>False</td>\n",
              "      <td>False</td>\n",
              "      <td>False</td>\n",
              "      <td>False</td>\n",
              "      <td>False</td>\n",
              "      <td>False</td>\n",
              "    </tr>\n",
              "    <tr>\n",
              "      <th>5699</th>\n",
              "      <td>False</td>\n",
              "      <td>False</td>\n",
              "      <td>False</td>\n",
              "      <td>False</td>\n",
              "      <td>False</td>\n",
              "      <td>False</td>\n",
              "      <td>False</td>\n",
              "      <td>False</td>\n",
              "      <td>False</td>\n",
              "      <td>False</td>\n",
              "      <td>False</td>\n",
              "      <td>False</td>\n",
              "      <td>False</td>\n",
              "    </tr>\n",
              "  </tbody>\n",
              "</table>\n",
              "<p>5700 rows × 13 columns</p>\n",
              "</div>\n",
              "      <button class=\"colab-df-convert\" onclick=\"convertToInteractive('df-48262602-afce-474d-8fa3-6032835c92aa')\"\n",
              "              title=\"Convert this dataframe to an interactive table.\"\n",
              "              style=\"display:none;\">\n",
              "        \n",
              "  <svg xmlns=\"http://www.w3.org/2000/svg\" height=\"24px\"viewBox=\"0 0 24 24\"\n",
              "       width=\"24px\">\n",
              "    <path d=\"M0 0h24v24H0V0z\" fill=\"none\"/>\n",
              "    <path d=\"M18.56 5.44l.94 2.06.94-2.06 2.06-.94-2.06-.94-.94-2.06-.94 2.06-2.06.94zm-11 1L8.5 8.5l.94-2.06 2.06-.94-2.06-.94L8.5 2.5l-.94 2.06-2.06.94zm10 10l.94 2.06.94-2.06 2.06-.94-2.06-.94-.94-2.06-.94 2.06-2.06.94z\"/><path d=\"M17.41 7.96l-1.37-1.37c-.4-.4-.92-.59-1.43-.59-.52 0-1.04.2-1.43.59L10.3 9.45l-7.72 7.72c-.78.78-.78 2.05 0 2.83L4 21.41c.39.39.9.59 1.41.59.51 0 1.02-.2 1.41-.59l7.78-7.78 2.81-2.81c.8-.78.8-2.07 0-2.86zM5.41 20L4 18.59l7.72-7.72 1.47 1.35L5.41 20z\"/>\n",
              "  </svg>\n",
              "      </button>\n",
              "      \n",
              "  <style>\n",
              "    .colab-df-container {\n",
              "      display:flex;\n",
              "      flex-wrap:wrap;\n",
              "      gap: 12px;\n",
              "    }\n",
              "\n",
              "    .colab-df-convert {\n",
              "      background-color: #E8F0FE;\n",
              "      border: none;\n",
              "      border-radius: 50%;\n",
              "      cursor: pointer;\n",
              "      display: none;\n",
              "      fill: #1967D2;\n",
              "      height: 32px;\n",
              "      padding: 0 0 0 0;\n",
              "      width: 32px;\n",
              "    }\n",
              "\n",
              "    .colab-df-convert:hover {\n",
              "      background-color: #E2EBFA;\n",
              "      box-shadow: 0px 1px 2px rgba(60, 64, 67, 0.3), 0px 1px 3px 1px rgba(60, 64, 67, 0.15);\n",
              "      fill: #174EA6;\n",
              "    }\n",
              "\n",
              "    [theme=dark] .colab-df-convert {\n",
              "      background-color: #3B4455;\n",
              "      fill: #D2E3FC;\n",
              "    }\n",
              "\n",
              "    [theme=dark] .colab-df-convert:hover {\n",
              "      background-color: #434B5C;\n",
              "      box-shadow: 0px 1px 3px 1px rgba(0, 0, 0, 0.15);\n",
              "      filter: drop-shadow(0px 1px 2px rgba(0, 0, 0, 0.3));\n",
              "      fill: #FFFFFF;\n",
              "    }\n",
              "  </style>\n",
              "\n",
              "      <script>\n",
              "        const buttonEl =\n",
              "          document.querySelector('#df-48262602-afce-474d-8fa3-6032835c92aa button.colab-df-convert');\n",
              "        buttonEl.style.display =\n",
              "          google.colab.kernel.accessAllowed ? 'block' : 'none';\n",
              "\n",
              "        async function convertToInteractive(key) {\n",
              "          const element = document.querySelector('#df-48262602-afce-474d-8fa3-6032835c92aa');\n",
              "          const dataTable =\n",
              "            await google.colab.kernel.invokeFunction('convertToInteractive',\n",
              "                                                     [key], {});\n",
              "          if (!dataTable) return;\n",
              "\n",
              "          const docLinkHtml = 'Like what you see? Visit the ' +\n",
              "            '<a target=\"_blank\" href=https://colab.research.google.com/notebooks/data_table.ipynb>data table notebook</a>'\n",
              "            + ' to learn more about interactive tables.';\n",
              "          element.innerHTML = '';\n",
              "          dataTable['output_type'] = 'display_data';\n",
              "          await google.colab.output.renderOutput(dataTable, element);\n",
              "          const docLink = document.createElement('div');\n",
              "          docLink.innerHTML = docLinkHtml;\n",
              "          element.appendChild(docLink);\n",
              "        }\n",
              "      </script>\n",
              "    </div>\n",
              "  </div>\n",
              "  "
            ]
          },
          "metadata": {},
          "execution_count": 12
        }
      ],
      "source": [
        "# checking for missing values\n",
        "df.isna()"
      ]
    },
    {
      "cell_type": "code",
      "execution_count": 13,
      "id": "558ff36a-70c8-4136-af9c-90e250f3727a",
      "metadata": {
        "colab": {
          "base_uri": "https://localhost:8080/"
        },
        "id": "558ff36a-70c8-4136-af9c-90e250f3727a",
        "outputId": "06c7c2fa-0b71-4907-a669-0360acf107e9"
      },
      "outputs": [
        {
          "output_type": "execute_result",
          "data": {
            "text/plain": [
              "Gender                                                               0\n",
              "Race (Reported)                                                      0\n",
              "Age                                                                  0\n",
              "Height (cm)                                                          0\n",
              "Weight (kg)                                                          0\n",
              "Diabetes                                                             0\n",
              "Simvastatin (Zocor)                                                  0\n",
              "Amiodarone (Cordarone)                                               0\n",
              "Target INR                                                           0\n",
              "INR on Reported Therapeutic Dose of Warfarin                         0\n",
              "Cyp2C9 genotypes                                                     0\n",
              "VKORC1 genotype: -1639 G>A (3673); chr16:31015190; rs9923231; C/T    0\n",
              "Therapeutic Dose of Warfarin                                         0\n",
              "dtype: int64"
            ]
          },
          "metadata": {},
          "execution_count": 13
        }
      ],
      "source": [
        "df.isna().sum()"
      ]
    },
    {
      "cell_type": "code",
      "execution_count": 14,
      "id": "e2914f7b-4fac-4bae-8163-246ad1dd9f18",
      "metadata": {
        "colab": {
          "base_uri": "https://localhost:8080/",
          "height": 1000
        },
        "id": "e2914f7b-4fac-4bae-8163-246ad1dd9f18",
        "outputId": "cd2cd7e1-76ca-4de7-bd56-54b3ecbd8070"
      },
      "outputs": [
        {
          "output_type": "execute_result",
          "data": {
            "text/plain": [
              "array([[<matplotlib.axes._subplots.AxesSubplot object at 0x7f096ecbaee0>,\n",
              "        <matplotlib.axes._subplots.AxesSubplot object at 0x7f096ec22340>,\n",
              "        <matplotlib.axes._subplots.AxesSubplot object at 0x7f096ebd1760>],\n",
              "       [<matplotlib.axes._subplots.AxesSubplot object at 0x7f096ebe2a30>,\n",
              "        <matplotlib.axes._subplots.AxesSubplot object at 0x7f096ee5ae20>,\n",
              "        <matplotlib.axes._subplots.AxesSubplot object at 0x7f096ee14190>],\n",
              "       [<matplotlib.axes._subplots.AxesSubplot object at 0x7f096ee14280>,\n",
              "        <matplotlib.axes._subplots.AxesSubplot object at 0x7f096ee406d0>,\n",
              "        <matplotlib.axes._subplots.AxesSubplot object at 0x7f096ed9bd90>]],\n",
              "      dtype=object)"
            ]
          },
          "metadata": {},
          "execution_count": 14
        },
        {
          "output_type": "display_data",
          "data": {
            "text/plain": [
              "<Figure size 1440x1080 with 9 Axes>"
            ],
            "image/png": "[encoded data removed]"
          },
          "metadata": {
            "needs_background": "light"
          }
        }
      ],
      "source": [
        "# visualization of dataset\n",
        "df.hist(bins=50, figsize=(20,15))"
      ]
    },
    {
      "cell_type": "code",
      "source": [
        "# Data Visualization"
      ],
      "metadata": {
        "id": "N88Zg8G1tNI4"
      },
      "id": "N88Zg8G1tNI4",
      "execution_count": 15,
      "outputs": []
    },
    {
      "cell_type": "code",
      "execution_count": 16,
      "id": "996e69ec-5419-43eb-bf89-8c278385a2b3",
      "metadata": {
        "id": "996e69ec-5419-43eb-bf89-8c278385a2b3"
      },
      "outputs": [],
      "source": [
        "# Creating lables for model\n",
        "df_target = df[['Therapeutic Dose of Warfarin']]\n",
        "df_features = df.drop(columns=['Therapeutic Dose of Warfarin'])"
      ]
    },
    {
      "cell_type": "code",
      "execution_count": 17,
      "id": "2b789a34-a4e8-48dd-8431-9d2325d384cf",
      "metadata": {
        "colab": {
          "base_uri": "https://localhost:8080/"
        },
        "id": "2b789a34-a4e8-48dd-8431-9d2325d384cf",
        "outputId": "91ec474b-ff04-4124-e74a-eca447986bff"
      },
      "outputs": [
        {
          "output_type": "execute_result",
          "data": {
            "text/plain": [
              "Index(['Gender', 'Race (Reported)', 'Age', 'Height (cm)', 'Weight (kg)',\n",
              "       'Diabetes', 'Simvastatin (Zocor)', 'Amiodarone (Cordarone)',\n",
              "       'Target INR', 'INR on Reported Therapeutic Dose of Warfarin',\n",
              "       'Cyp2C9 genotypes',\n",
              "       'VKORC1 genotype: -1639 G>A (3673); chr16:31015190; rs9923231; C/T'],\n",
              "      dtype='object')"
            ]
          },
          "metadata": {},
          "execution_count": 17
        }
      ],
      "source": [
        "# Features without Target column\n",
        "df_features.columns"
      ]
    },
    {
      "cell_type": "code",
      "execution_count": 18,
      "id": "194c68ca-96e7-417a-9c38-f296d975ab5a",
      "metadata": {
        "colab": {
          "base_uri": "https://localhost:8080/"
        },
        "id": "194c68ca-96e7-417a-9c38-f296d975ab5a",
        "outputId": "4c3a9ab0-59de-4bb9-e66c-6747a3225699"
      },
      "outputs": [
        {
          "output_type": "execute_result",
          "data": {
            "text/plain": [
              "Index(['Therapeutic Dose of Warfarin'], dtype='object')"
            ]
          },
          "metadata": {},
          "execution_count": 18
        }
      ],
      "source": [
        "# Target column\n",
        "df_target.columns"
      ]
    },
    {
      "cell_type": "code",
      "execution_count": 19,
      "id": "2675f20d-119a-4138-9b6d-efa6bfac1ab2",
      "metadata": {
        "id": "2675f20d-119a-4138-9b6d-efa6bfac1ab2"
      },
      "outputs": [],
      "source": [
        "# Spliting the data into train and test\n",
        "from sklearn.model_selection import train_test_split\n",
        "X_train, X_test, y_train, y_test = train_test_split(df_features, df_target, test_size = 0.2, random_state = 10)"
      ]
    },
    {
      "cell_type": "code",
      "execution_count": 20,
      "id": "30387014-b552-4234-a9f7-3f32255dc3d6",
      "metadata": {
        "colab": {
          "base_uri": "https://localhost:8080/",
          "height": 372
        },
        "id": "30387014-b552-4234-a9f7-3f32255dc3d6",
        "outputId": "8d534129-5cde-42fa-a5cc-f7c1b1d4e572"
      },
      "outputs": [
        {
          "output_type": "execute_result",
          "data": {
            "text/plain": [
              "      Gender Race (Reported)      Age  Height (cm)  Weight (kg)  Diabetes  \\\n",
              "5437  female           White  70 - 79   160.020000        60.91  0.000000   \n",
              "2979    male          Korean  20 - 29   178.000000        82.00  0.000000   \n",
              "4743  female           Malay  60 - 69   168.047778        72.00  0.187024   \n",
              "2668    male           White  70 - 79   175.260000        85.30  0.000000   \n",
              "3264    male       Caucasian  80 - 89   168.047778        59.00  0.000000   \n",
              "\n",
              "      Simvastatin (Zocor)  Amiodarone (Cordarone)  Target INR  \\\n",
              "5437             0.000000                0.000000    2.538324   \n",
              "2979             0.000000                0.000000    2.538324   \n",
              "4743             0.146335                0.066236    2.538324   \n",
              "2668             0.000000                0.000000    2.538324   \n",
              "3264             0.146335                0.000000    2.538324   \n",
              "\n",
              "      INR on Reported Therapeutic Dose of Warfarin Cyp2C9 genotypes  \\\n",
              "5437                                      2.200000            *1/*3   \n",
              "2979                                      2.470000            *1/*1   \n",
              "4743                                      2.120000            *1/*1   \n",
              "2668                                      2.500000            *1/*3   \n",
              "3264                                      2.364438            *1/*2   \n",
              "\n",
              "     VKORC1 genotype: -1639 G>A (3673); chr16:31015190; rs9923231; C/T  \n",
              "5437                                                A/A                 \n",
              "2979                                                A/A                 \n",
              "4743                                                A/A                 \n",
              "2668                                                A/A                 \n",
              "3264                                                G/G                 "
            ],
            "text/html": [
              "\n",
              "  <div id=\"df-c7e883b4-f08d-45d6-afce-2ef135f1e759\">\n",
              "    <div class=\"colab-df-container\">\n",
              "      <div>\n",
              "<style scoped>\n",
              "    .dataframe tbody tr th:only-of-type {\n",
              "        vertical-align: middle;\n",
              "    }\n",
              "\n",
              "    .dataframe tbody tr th {\n",
              "        vertical-align: top;\n",
              "    }\n",
              "\n",
              "    .dataframe thead th {\n",
              "        text-align: right;\n",
              "    }\n",
              "</style>\n",
              "<table border=\"1\" class=\"dataframe\">\n",
              "  <thead>\n",
              "    <tr style=\"text-align: right;\">\n",
              "      <th></th>\n",
              "      <th>Gender</th>\n",
              "      <th>Race (Reported)</th>\n",
              "      <th>Age</th>\n",
              "      <th>Height (cm)</th>\n",
              "      <th>Weight (kg)</th>\n",
              "      <th>Diabetes</th>\n",
              "      <th>Simvastatin (Zocor)</th>\n",
              "      <th>Amiodarone (Cordarone)</th>\n",
              "      <th>Target INR</th>\n",
              "      <th>INR on Reported Therapeutic Dose of Warfarin</th>\n",
              "      <th>Cyp2C9 genotypes</th>\n",
              "      <th>VKORC1 genotype: -1639 G&gt;A (3673); chr16:31015190; rs9923231; C/T</th>\n",
              "    </tr>\n",
              "  </thead>\n",
              "  <tbody>\n",
              "    <tr>\n",
              "      <th>5437</th>\n",
              "      <td>female</td>\n",
              "      <td>White</td>\n",
              "      <td>70 - 79</td>\n",
              "      <td>160.020000</td>\n",
              "      <td>60.91</td>\n",
              "      <td>0.000000</td>\n",
              "      <td>0.000000</td>\n",
              "      <td>0.000000</td>\n",
              "      <td>2.538324</td>\n",
              "      <td>2.200000</td>\n",
              "      <td>*1/*3</td>\n",
              "      <td>A/A</td>\n",
              "    </tr>\n",
              "    <tr>\n",
              "      <th>2979</th>\n",
              "      <td>male</td>\n",
              "      <td>Korean</td>\n",
              "      <td>20 - 29</td>\n",
              "      <td>178.000000</td>\n",
              "      <td>82.00</td>\n",
              "      <td>0.000000</td>\n",
              "      <td>0.000000</td>\n",
              "      <td>0.000000</td>\n",
              "      <td>2.538324</td>\n",
              "      <td>2.470000</td>\n",
              "      <td>*1/*1</td>\n",
              "      <td>A/A</td>\n",
              "    </tr>\n",
              "    <tr>\n",
              "      <th>4743</th>\n",
              "      <td>female</td>\n",
              "      <td>Malay</td>\n",
              "      <td>60 - 69</td>\n",
              "      <td>168.047778</td>\n",
              "      <td>72.00</td>\n",
              "      <td>0.187024</td>\n",
              "      <td>0.146335</td>\n",
              "      <td>0.066236</td>\n",
              "      <td>2.538324</td>\n",
              "      <td>2.120000</td>\n",
              "      <td>*1/*1</td>\n",
              "      <td>A/A</td>\n",
              "    </tr>\n",
              "    <tr>\n",
              "      <th>2668</th>\n",
              "      <td>male</td>\n",
              "      <td>White</td>\n",
              "      <td>70 - 79</td>\n",
              "      <td>175.260000</td>\n",
              "      <td>85.30</td>\n",
              "      <td>0.000000</td>\n",
              "      <td>0.000000</td>\n",
              "      <td>0.000000</td>\n",
              "      <td>2.538324</td>\n",
              "      <td>2.500000</td>\n",
              "      <td>*1/*3</td>\n",
              "      <td>A/A</td>\n",
              "    </tr>\n",
              "    <tr>\n",
              "      <th>3264</th>\n",
              "      <td>male</td>\n",
              "      <td>Caucasian</td>\n",
              "      <td>80 - 89</td>\n",
              "      <td>168.047778</td>\n",
              "      <td>59.00</td>\n",
              "      <td>0.000000</td>\n",
              "      <td>0.146335</td>\n",
              "      <td>0.000000</td>\n",
              "      <td>2.538324</td>\n",
              "      <td>2.364438</td>\n",
              "      <td>*1/*2</td>\n",
              "      <td>G/G</td>\n",
              "    </tr>\n",
              "  </tbody>\n",
              "</table>\n",
              "</div>\n",
              "      <button class=\"colab-df-convert\" onclick=\"convertToInteractive('df-c7e883b4-f08d-45d6-afce-2ef135f1e759')\"\n",
              "              title=\"Convert this dataframe to an interactive table.\"\n",
              "              style=\"display:none;\">\n",
              "        \n",
              "  <svg xmlns=\"http://www.w3.org/2000/svg\" height=\"24px\"viewBox=\"0 0 24 24\"\n",
              "       width=\"24px\">\n",
              "    <path d=\"M0 0h24v24H0V0z\" fill=\"none\"/>\n",
              "    <path d=\"M18.56 5.44l.94 2.06.94-2.06 2.06-.94-2.06-.94-.94-2.06-.94 2.06-2.06.94zm-11 1L8.5 8.5l.94-2.06 2.06-.94-2.06-.94L8.5 2.5l-.94 2.06-2.06.94zm10 10l.94 2.06.94-2.06 2.06-.94-2.06-.94-.94-2.06-.94 2.06-2.06.94z\"/><path d=\"M17.41 7.96l-1.37-1.37c-.4-.4-.92-.59-1.43-.59-.52 0-1.04.2-1.43.59L10.3 9.45l-7.72 7.72c-.78.78-.78 2.05 0 2.83L4 21.41c.39.39.9.59 1.41.59.51 0 1.02-.2 1.41-.59l7.78-7.78 2.81-2.81c.8-.78.8-2.07 0-2.86zM5.41 20L4 18.59l7.72-7.72 1.47 1.35L5.41 20z\"/>\n",
              "  </svg>\n",
              "      </button>\n",
              "      \n",
              "  <style>\n",
              "    .colab-df-container {\n",
              "      display:flex;\n",
              "      flex-wrap:wrap;\n",
              "      gap: 12px;\n",
              "    }\n",
              "\n",
              "    .colab-df-convert {\n",
              "      background-color: #E8F0FE;\n",
              "      border: none;\n",
              "      border-radius: 50%;\n",
              "      cursor: pointer;\n",
              "      display: none;\n",
              "      fill: #1967D2;\n",
              "      height: 32px;\n",
              "      padding: 0 0 0 0;\n",
              "      width: 32px;\n",
              "    }\n",
              "\n",
              "    .colab-df-convert:hover {\n",
              "      background-color: #E2EBFA;\n",
              "      box-shadow: 0px 1px 2px rgba(60, 64, 67, 0.3), 0px 1px 3px 1px rgba(60, 64, 67, 0.15);\n",
              "      fill: #174EA6;\n",
              "    }\n",
              "\n",
              "    [theme=dark] .colab-df-convert {\n",
              "      background-color: #3B4455;\n",
              "      fill: #D2E3FC;\n",
              "    }\n",
              "\n",
              "    [theme=dark] .colab-df-convert:hover {\n",
              "      background-color: #434B5C;\n",
              "      box-shadow: 0px 1px 3px 1px rgba(0, 0, 0, 0.15);\n",
              "      filter: drop-shadow(0px 1px 2px rgba(0, 0, 0, 0.3));\n",
              "      fill: #FFFFFF;\n",
              "    }\n",
              "  </style>\n",
              "\n",
              "      <script>\n",
              "        const buttonEl =\n",
              "          document.querySelector('#df-c7e883b4-f08d-45d6-afce-2ef135f1e759 button.colab-df-convert');\n",
              "        buttonEl.style.display =\n",
              "          google.colab.kernel.accessAllowed ? 'block' : 'none';\n",
              "\n",
              "        async function convertToInteractive(key) {\n",
              "          const element = document.querySelector('#df-c7e883b4-f08d-45d6-afce-2ef135f1e759');\n",
              "          const dataTable =\n",
              "            await google.colab.kernel.invokeFunction('convertToInteractive',\n",
              "                                                     [key], {});\n",
              "          if (!dataTable) return;\n",
              "\n",
              "          const docLinkHtml = 'Like what you see? Visit the ' +\n",
              "            '<a target=\"_blank\" href=https://colab.research.google.com/notebooks/data_table.ipynb>data table notebook</a>'\n",
              "            + ' to learn more about interactive tables.';\n",
              "          element.innerHTML = '';\n",
              "          dataTable['output_type'] = 'display_data';\n",
              "          await google.colab.output.renderOutput(dataTable, element);\n",
              "          const docLink = document.createElement('div');\n",
              "          docLink.innerHTML = docLinkHtml;\n",
              "          element.appendChild(docLink);\n",
              "        }\n",
              "      </script>\n",
              "    </div>\n",
              "  </div>\n",
              "  "
            ]
          },
          "metadata": {},
          "execution_count": 20
        }
      ],
      "source": [
        "X_train.head(5)"
      ]
    },
    {
      "cell_type": "code",
      "execution_count": 21,
      "id": "129154e0-07e9-409c-bdd5-d8e5a42157c4",
      "metadata": {
        "colab": {
          "base_uri": "https://localhost:8080/",
          "height": 206
        },
        "id": "129154e0-07e9-409c-bdd5-d8e5a42157c4",
        "outputId": "697a29fe-cb9a-429d-bb48-a6a6302d09fb"
      },
      "outputs": [
        {
          "output_type": "execute_result",
          "data": {
            "text/plain": [
              "      Therapeutic Dose of Warfarin\n",
              "1477                         17.50\n",
              "5514                         37.52\n",
              "3243                         13.72\n",
              "5183                         21.00\n",
              "5107                         14.00"
            ],
            "text/html": [
              "\n",
              "  <div id=\"df-00afcf91-a6b4-4a0e-981d-85b630014296\">\n",
              "    <div class=\"colab-df-container\">\n",
              "      <div>\n",
              "<style scoped>\n",
              "    .dataframe tbody tr th:only-of-type {\n",
              "        vertical-align: middle;\n",
              "    }\n",
              "\n",
              "    .dataframe tbody tr th {\n",
              "        vertical-align: top;\n",
              "    }\n",
              "\n",
              "    .dataframe thead th {\n",
              "        text-align: right;\n",
              "    }\n",
              "</style>\n",
              "<table border=\"1\" class=\"dataframe\">\n",
              "  <thead>\n",
              "    <tr style=\"text-align: right;\">\n",
              "      <th></th>\n",
              "      <th>Therapeutic Dose of Warfarin</th>\n",
              "    </tr>\n",
              "  </thead>\n",
              "  <tbody>\n",
              "    <tr>\n",
              "      <th>1477</th>\n",
              "      <td>17.50</td>\n",
              "    </tr>\n",
              "    <tr>\n",
              "      <th>5514</th>\n",
              "      <td>37.52</td>\n",
              "    </tr>\n",
              "    <tr>\n",
              "      <th>3243</th>\n",
              "      <td>13.72</td>\n",
              "    </tr>\n",
              "    <tr>\n",
              "      <th>5183</th>\n",
              "      <td>21.00</td>\n",
              "    </tr>\n",
              "    <tr>\n",
              "      <th>5107</th>\n",
              "      <td>14.00</td>\n",
              "    </tr>\n",
              "  </tbody>\n",
              "</table>\n",
              "</div>\n",
              "      <button class=\"colab-df-convert\" onclick=\"convertToInteractive('df-00afcf91-a6b4-4a0e-981d-85b630014296')\"\n",
              "              title=\"Convert this dataframe to an interactive table.\"\n",
              "              style=\"display:none;\">\n",
              "        \n",
              "  <svg xmlns=\"http://www.w3.org/2000/svg\" height=\"24px\"viewBox=\"0 0 24 24\"\n",
              "       width=\"24px\">\n",
              "    <path d=\"M0 0h24v24H0V0z\" fill=\"none\"/>\n",
              "    <path d=\"M18.56 5.44l.94 2.06.94-2.06 2.06-.94-2.06-.94-.94-2.06-.94 2.06-2.06.94zm-11 1L8.5 8.5l.94-2.06 2.06-.94-2.06-.94L8.5 2.5l-.94 2.06-2.06.94zm10 10l.94 2.06.94-2.06 2.06-.94-2.06-.94-.94-2.06-.94 2.06-2.06.94z\"/><path d=\"M17.41 7.96l-1.37-1.37c-.4-.4-.92-.59-1.43-.59-.52 0-1.04.2-1.43.59L10.3 9.45l-7.72 7.72c-.78.78-.78 2.05 0 2.83L4 21.41c.39.39.9.59 1.41.59.51 0 1.02-.2 1.41-.59l7.78-7.78 2.81-2.81c.8-.78.8-2.07 0-2.86zM5.41 20L4 18.59l7.72-7.72 1.47 1.35L5.41 20z\"/>\n",
              "  </svg>\n",
              "      </button>\n",
              "      \n",
              "  <style>\n",
              "    .colab-df-container {\n",
              "      display:flex;\n",
              "      flex-wrap:wrap;\n",
              "      gap: 12px;\n",
              "    }\n",
              "\n",
              "    .colab-df-convert {\n",
              "      background-color: #E8F0FE;\n",
              "      border: none;\n",
              "      border-radius: 50%;\n",
              "      cursor: pointer;\n",
              "      display: none;\n",
              "      fill: #1967D2;\n",
              "      height: 32px;\n",
              "      padding: 0 0 0 0;\n",
              "      width: 32px;\n",
              "    }\n",
              "\n",
              "    .colab-df-convert:hover {\n",
              "      background-color: #E2EBFA;\n",
              "      box-shadow: 0px 1px 2px rgba(60, 64, 67, 0.3), 0px 1px 3px 1px rgba(60, 64, 67, 0.15);\n",
              "      fill: #174EA6;\n",
              "    }\n",
              "\n",
              "    [theme=dark] .colab-df-convert {\n",
              "      background-color: #3B4455;\n",
              "      fill: #D2E3FC;\n",
              "    }\n",
              "\n",
              "    [theme=dark] .colab-df-convert:hover {\n",
              "      background-color: #434B5C;\n",
              "      box-shadow: 0px 1px 3px 1px rgba(0, 0, 0, 0.15);\n",
              "      filter: drop-shadow(0px 1px 2px rgba(0, 0, 0, 0.3));\n",
              "      fill: #FFFFFF;\n",
              "    }\n",
              "  </style>\n",
              "\n",
              "      <script>\n",
              "        const buttonEl =\n",
              "          document.querySelector('#df-00afcf91-a6b4-4a0e-981d-85b630014296 button.colab-df-convert');\n",
              "        buttonEl.style.display =\n",
              "          google.colab.kernel.accessAllowed ? 'block' : 'none';\n",
              "\n",
              "        async function convertToInteractive(key) {\n",
              "          const element = document.querySelector('#df-00afcf91-a6b4-4a0e-981d-85b630014296');\n",
              "          const dataTable =\n",
              "            await google.colab.kernel.invokeFunction('convertToInteractive',\n",
              "                                                     [key], {});\n",
              "          if (!dataTable) return;\n",
              "\n",
              "          const docLinkHtml = 'Like what you see? Visit the ' +\n",
              "            '<a target=\"_blank\" href=https://colab.research.google.com/notebooks/data_table.ipynb>data table notebook</a>'\n",
              "            + ' to learn more about interactive tables.';\n",
              "          element.innerHTML = '';\n",
              "          dataTable['output_type'] = 'display_data';\n",
              "          await google.colab.output.renderOutput(dataTable, element);\n",
              "          const docLink = document.createElement('div');\n",
              "          docLink.innerHTML = docLinkHtml;\n",
              "          element.appendChild(docLink);\n",
              "        }\n",
              "      </script>\n",
              "    </div>\n",
              "  </div>\n",
              "  "
            ]
          },
          "metadata": {},
          "execution_count": 21
        }
      ],
      "source": [
        "y_test.head(5)"
      ]
    },
    {
      "cell_type": "code",
      "execution_count": 22,
      "id": "b7076bae-86db-4285-97d6-7bd22d610f35",
      "metadata": {
        "id": "b7076bae-86db-4285-97d6-7bd22d610f35"
      },
      "outputs": [],
      "source": [
        "# Transformation of categorical values to binary of train set\n",
        "from sklearn import preprocessing\n",
        "le = preprocessing.LabelEncoder()\n",
        "X_train['Race (Reported)'] = le.fit_transform(X_train['Race (Reported)'])\n",
        "X_train['Gender'] = le.fit_transform(X_train['Gender'])\n",
        "X_train['Age'] = le.fit_transform(X_train['Age'])\n",
        "X_train['Cyp2C9 genotypes'] = le.fit_transform(X_train['Cyp2C9 genotypes'])\n",
        "X_train['VKORC1 genotype: -1639 G>A (3673); chr16:31015190; rs9923231; C/T'] = le.fit_transform(X_train['VKORC1 genotype: -1639 G>A (3673); chr16:31015190; rs9923231; C/T'])"
      ]
    },
    {
      "cell_type": "code",
      "execution_count": 24,
      "id": "22664ce3-2fa7-4f18-ab01-7a9051c4e5eb",
      "metadata": {
        "colab": {
          "base_uri": "https://localhost:8080/",
          "height": 423
        },
        "id": "22664ce3-2fa7-4f18-ab01-7a9051c4e5eb",
        "outputId": "a98f7224-5fb4-434f-8ef2-fb60f8934663"
      },
      "outputs": [
        {
          "output_type": "execute_result",
          "data": {
            "text/plain": [
              "       0     1      2         3         4         5         6         7   \\\n",
              "0     0.0  0.95  0.750  0.455032  0.148820  0.000000  0.000000  0.000000   \n",
              "1     1.0  0.65  0.125  0.688441  0.250361  0.000000  0.000000  0.000000   \n",
              "2     0.0  0.70  0.625  0.559245  0.202215  0.187024  0.146335  0.066236   \n",
              "3     1.0  0.95  0.750  0.652872  0.266249  0.000000  0.000000  0.000000   \n",
              "4     1.0  0.30  0.875  0.559245  0.139624  0.000000  0.146335  0.000000   \n",
              "...   ...   ...    ...       ...       ...       ...       ...       ...   \n",
              "4555  1.0  0.60  0.375  0.596817  0.235917  0.187024  0.146335  0.066236   \n",
              "4556  0.0  0.10  0.625  0.586925  0.474723  1.000000  1.000000  0.000000   \n",
              "4557  0.0  0.60  0.625  0.375896  0.144439  0.187024  0.146335  0.066236   \n",
              "4558  0.0  0.95  0.375  0.455032  0.144439  0.000000  0.000000  0.000000   \n",
              "4559  0.0  0.60  0.625  0.428653  0.144439  0.187024  0.146335  0.066236   \n",
              "\n",
              "            8         9    10   11  \n",
              "0     0.450471  0.264151  0.5  0.0  \n",
              "1     0.450471  0.315094  0.0  0.0  \n",
              "2     0.450471  0.249057  0.0  0.0  \n",
              "3     0.450471  0.320755  0.5  0.0  \n",
              "4     0.450471  0.295177  0.4  1.0  \n",
              "...        ...       ...  ...  ...  \n",
              "4555  0.450471  0.295177  0.0  0.0  \n",
              "4556  0.428571  0.358491  0.0  1.0  \n",
              "4557  0.450471  0.107547  0.0  0.0  \n",
              "4558  0.450471  0.377358  0.5  1.0  \n",
              "4559  0.450471  0.413208  0.0  0.0  \n",
              "\n",
              "[4560 rows x 12 columns]"
            ],
            "text/html": [
              "\n",
              "  <div id=\"df-279ce3c1-2e81-4a17-862e-60048fbeca10\">\n",
              "    <div class=\"colab-df-container\">\n",
              "      <div>\n",
              "<style scoped>\n",
              "    .dataframe tbody tr th:only-of-type {\n",
              "        vertical-align: middle;\n",
              "    }\n",
              "\n",
              "    .dataframe tbody tr th {\n",
              "        vertical-align: top;\n",
              "    }\n",
              "\n",
              "    .dataframe thead th {\n",
              "        text-align: right;\n",
              "    }\n",
              "</style>\n",
              "<table border=\"1\" class=\"dataframe\">\n",
              "  <thead>\n",
              "    <tr style=\"text-align: right;\">\n",
              "      <th></th>\n",
              "      <th>0</th>\n",
              "      <th>1</th>\n",
              "      <th>2</th>\n",
              "      <th>3</th>\n",
              "      <th>4</th>\n",
              "      <th>5</th>\n",
              "      <th>6</th>\n",
              "      <th>7</th>\n",
              "      <th>8</th>\n",
              "      <th>9</th>\n",
              "      <th>10</th>\n",
              "      <th>11</th>\n",
              "    </tr>\n",
              "  </thead>\n",
              "  <tbody>\n",
              "    <tr>\n",
              "      <th>0</th>\n",
              "      <td>0.0</td>\n",
              "      <td>0.95</td>\n",
              "      <td>0.750</td>\n",
              "      <td>0.455032</td>\n",
              "      <td>0.148820</td>\n",
              "      <td>0.000000</td>\n",
              "      <td>0.000000</td>\n",
              "      <td>0.000000</td>\n",
              "      <td>0.450471</td>\n",
              "      <td>0.264151</td>\n",
              "      <td>0.5</td>\n",
              "      <td>0.0</td>\n",
              "    </tr>\n",
              "    <tr>\n",
              "      <th>1</th>\n",
              "      <td>1.0</td>\n",
              "      <td>0.65</td>\n",
              "      <td>0.125</td>\n",
              "      <td>0.688441</td>\n",
              "      <td>0.250361</td>\n",
              "      <td>0.000000</td>\n",
              "      <td>0.000000</td>\n",
              "      <td>0.000000</td>\n",
              "      <td>0.450471</td>\n",
              "      <td>0.315094</td>\n",
              "      <td>0.0</td>\n",
              "      <td>0.0</td>\n",
              "    </tr>\n",
              "    <tr>\n",
              "      <th>2</th>\n",
              "      <td>0.0</td>\n",
              "      <td>0.70</td>\n",
              "      <td>0.625</td>\n",
              "      <td>0.559245</td>\n",
              "      <td>0.202215</td>\n",
              "      <td>0.187024</td>\n",
              "      <td>0.146335</td>\n",
              "      <td>0.066236</td>\n",
              "      <td>0.450471</td>\n",
              "      <td>0.249057</td>\n",
              "      <td>0.0</td>\n",
              "      <td>0.0</td>\n",
              "    </tr>\n",
              "    <tr>\n",
              "      <th>3</th>\n",
              "      <td>1.0</td>\n",
              "      <td>0.95</td>\n",
              "      <td>0.750</td>\n",
              "      <td>0.652872</td>\n",
              "      <td>0.266249</td>\n",
              "      <td>0.000000</td>\n",
              "      <td>0.000000</td>\n",
              "      <td>0.000000</td>\n",
              "      <td>0.450471</td>\n",
              "      <td>0.320755</td>\n",
              "      <td>0.5</td>\n",
              "      <td>0.0</td>\n",
              "    </tr>\n",
              "    <tr>\n",
              "      <th>4</th>\n",
              "      <td>1.0</td>\n",
              "      <td>0.30</td>\n",
              "      <td>0.875</td>\n",
              "      <td>0.559245</td>\n",
              "      <td>0.139624</td>\n",
              "      <td>0.000000</td>\n",
              "      <td>0.146335</td>\n",
              "      <td>0.000000</td>\n",
              "      <td>0.450471</td>\n",
              "      <td>0.295177</td>\n",
              "      <td>0.4</td>\n",
              "      <td>1.0</td>\n",
              "    </tr>\n",
              "    <tr>\n",
              "      <th>...</th>\n",
              "      <td>...</td>\n",
              "      <td>...</td>\n",
              "      <td>...</td>\n",
              "      <td>...</td>\n",
              "      <td>...</td>\n",
              "      <td>...</td>\n",
              "      <td>...</td>\n",
              "      <td>...</td>\n",
              "      <td>...</td>\n",
              "      <td>...</td>\n",
              "      <td>...</td>\n",
              "      <td>...</td>\n",
              "    </tr>\n",
              "    <tr>\n",
              "      <th>4555</th>\n",
              "      <td>1.0</td>\n",
              "      <td>0.60</td>\n",
              "      <td>0.375</td>\n",
              "      <td>0.596817</td>\n",
              "      <td>0.235917</td>\n",
              "      <td>0.187024</td>\n",
              "      <td>0.146335</td>\n",
              "      <td>0.066236</td>\n",
              "      <td>0.450471</td>\n",
              "      <td>0.295177</td>\n",
              "      <td>0.0</td>\n",
              "      <td>0.0</td>\n",
              "    </tr>\n",
              "    <tr>\n",
              "      <th>4556</th>\n",
              "      <td>0.0</td>\n",
              "      <td>0.10</td>\n",
              "      <td>0.625</td>\n",
              "      <td>0.586925</td>\n",
              "      <td>0.474723</td>\n",
              "      <td>1.000000</td>\n",
              "      <td>1.000000</td>\n",
              "      <td>0.000000</td>\n",
              "      <td>0.428571</td>\n",
              "      <td>0.358491</td>\n",
              "      <td>0.0</td>\n",
              "      <td>1.0</td>\n",
              "    </tr>\n",
              "    <tr>\n",
              "      <th>4557</th>\n",
              "      <td>0.0</td>\n",
              "      <td>0.60</td>\n",
              "      <td>0.625</td>\n",
              "      <td>0.375896</td>\n",
              "      <td>0.144439</td>\n",
              "      <td>0.187024</td>\n",
              "      <td>0.146335</td>\n",
              "      <td>0.066236</td>\n",
              "      <td>0.450471</td>\n",
              "      <td>0.107547</td>\n",
              "      <td>0.0</td>\n",
              "      <td>0.0</td>\n",
              "    </tr>\n",
              "    <tr>\n",
              "      <th>4558</th>\n",
              "      <td>0.0</td>\n",
              "      <td>0.95</td>\n",
              "      <td>0.375</td>\n",
              "      <td>0.455032</td>\n",
              "      <td>0.144439</td>\n",
              "      <td>0.000000</td>\n",
              "      <td>0.000000</td>\n",
              "      <td>0.000000</td>\n",
              "      <td>0.450471</td>\n",
              "      <td>0.377358</td>\n",
              "      <td>0.5</td>\n",
              "      <td>1.0</td>\n",
              "    </tr>\n",
              "    <tr>\n",
              "      <th>4559</th>\n",
              "      <td>0.0</td>\n",
              "      <td>0.60</td>\n",
              "      <td>0.625</td>\n",
              "      <td>0.428653</td>\n",
              "      <td>0.144439</td>\n",
              "      <td>0.187024</td>\n",
              "      <td>0.146335</td>\n",
              "      <td>0.066236</td>\n",
              "      <td>0.450471</td>\n",
              "      <td>0.413208</td>\n",
              "      <td>0.0</td>\n",
              "      <td>0.0</td>\n",
              "    </tr>\n",
              "  </tbody>\n",
              "</table>\n",
              "<p>4560 rows × 12 columns</p>\n",
              "</div>\n",
              "      <button class=\"colab-df-convert\" onclick=\"convertToInteractive('df-279ce3c1-2e81-4a17-862e-60048fbeca10')\"\n",
              "              title=\"Convert this dataframe to an interactive table.\"\n",
              "              style=\"display:none;\">\n",
              "        \n",
              "  <svg xmlns=\"http://www.w3.org/2000/svg\" height=\"24px\"viewBox=\"0 0 24 24\"\n",
              "       width=\"24px\">\n",
              "    <path d=\"M0 0h24v24H0V0z\" fill=\"none\"/>\n",
              "    <path d=\"M18.56 5.44l.94 2.06.94-2.06 2.06-.94-2.06-.94-.94-2.06-.94 2.06-2.06.94zm-11 1L8.5 8.5l.94-2.06 2.06-.94-2.06-.94L8.5 2.5l-.94 2.06-2.06.94zm10 10l.94 2.06.94-2.06 2.06-.94-2.06-.94-.94-2.06-.94 2.06-2.06.94z\"/><path d=\"M17.41 7.96l-1.37-1.37c-.4-.4-.92-.59-1.43-.59-.52 0-1.04.2-1.43.59L10.3 9.45l-7.72 7.72c-.78.78-.78 2.05 0 2.83L4 21.41c.39.39.9.59 1.41.59.51 0 1.02-.2 1.41-.59l7.78-7.78 2.81-2.81c.8-.78.8-2.07 0-2.86zM5.41 20L4 18.59l7.72-7.72 1.47 1.35L5.41 20z\"/>\n",
              "  </svg>\n",
              "      </button>\n",
              "      \n",
              "  <style>\n",
              "    .colab-df-container {\n",
              "      display:flex;\n",
              "      flex-wrap:wrap;\n",
              "      gap: 12px;\n",
              "    }\n",
              "\n",
              "    .colab-df-convert {\n",
              "      background-color: #E8F0FE;\n",
              "      border: none;\n",
              "      border-radius: 50%;\n",
              "      cursor: pointer;\n",
              "      display: none;\n",
              "      fill: #1967D2;\n",
              "      height: 32px;\n",
              "      padding: 0 0 0 0;\n",
              "      width: 32px;\n",
              "    }\n",
              "\n",
              "    .colab-df-convert:hover {\n",
              "      background-color: #E2EBFA;\n",
              "      box-shadow: 0px 1px 2px rgba(60, 64, 67, 0.3), 0px 1px 3px 1px rgba(60, 64, 67, 0.15);\n",
              "      fill: #174EA6;\n",
              "    }\n",
              "\n",
              "    [theme=dark] .colab-df-convert {\n",
              "      background-color: #3B4455;\n",
              "      fill: #D2E3FC;\n",
              "    }\n",
              "\n",
              "    [theme=dark] .colab-df-convert:hover {\n",
              "      background-color: #434B5C;\n",
              "      box-shadow: 0px 1px 3px 1px rgba(0, 0, 0, 0.15);\n",
              "      filter: drop-shadow(0px 1px 2px rgba(0, 0, 0, 0.3));\n",
              "      fill: #FFFFFF;\n",
              "    }\n",
              "  </style>\n",
              "\n",
              "      <script>\n",
              "        const buttonEl =\n",
              "          document.querySelector('#df-279ce3c1-2e81-4a17-862e-60048fbeca10 button.colab-df-convert');\n",
              "        buttonEl.style.display =\n",
              "          google.colab.kernel.accessAllowed ? 'block' : 'none';\n",
              "\n",
              "        async function convertToInteractive(key) {\n",
              "          const element = document.querySelector('#df-279ce3c1-2e81-4a17-862e-60048fbeca10');\n",
              "          const dataTable =\n",
              "            await google.colab.kernel.invokeFunction('convertToInteractive',\n",
              "                                                     [key], {});\n",
              "          if (!dataTable) return;\n",
              "\n",
              "          const docLinkHtml = 'Like what you see? Visit the ' +\n",
              "            '<a target=\"_blank\" href=https://colab.research.google.com/notebooks/data_table.ipynb>data table notebook</a>'\n",
              "            + ' to learn more about interactive tables.';\n",
              "          element.innerHTML = '';\n",
              "          dataTable['output_type'] = 'display_data';\n",
              "          await google.colab.output.renderOutput(dataTable, element);\n",
              "          const docLink = document.createElement('div');\n",
              "          docLink.innerHTML = docLinkHtml;\n",
              "          element.appendChild(docLink);\n",
              "        }\n",
              "      </script>\n",
              "    </div>\n",
              "  </div>\n",
              "  "
            ]
          },
          "metadata": {},
          "execution_count": 24
        }
      ],
      "source": [
        "# MinMax normilization of train set\n",
        "from sklearn.preprocessing import MinMaxScaler\n",
        "scaler = MinMaxScaler() ## define the transformer\n",
        "scaler.fit(X_train) ## call .fit() method to calculate the min and max value for each column in dataset\n",
        "x_train_normalized = scaler.transform(X_train)\n",
        "x_train_normalized=pd.DataFrame(x_train_normalized)\n",
        "x_train_normalized"
      ]
    },
    {
      "cell_type": "code",
      "execution_count": 25,
      "id": "2baed25d-886b-4535-bda6-148cc0b75719",
      "metadata": {
        "id": "2baed25d-886b-4535-bda6-148cc0b75719"
      },
      "outputs": [],
      "source": [
        "# Transformation of categorical values to binary of test set\n",
        "from sklearn import preprocessing\n",
        "le = preprocessing.LabelEncoder()\n",
        "X_test['Race (Reported)'] = le.fit_transform(X_test['Race (Reported)'])\n",
        "X_test['Gender'] = le.fit_transform(X_test['Gender'])\n",
        "X_test['Age'] = le.fit_transform(X_test['Age'])\n",
        "X_test['Cyp2C9 genotypes'] = le.fit_transform(X_test['Cyp2C9 genotypes'])\n",
        "X_test['VKORC1 genotype: -1639 G>A (3673); chr16:31015190; rs9923231; C/T'] = le.fit_transform(X_test['VKORC1 genotype: -1639 G>A (3673); chr16:31015190; rs9923231; C/T'])"
      ]
    },
    {
      "cell_type": "code",
      "execution_count": 134,
      "id": "b45d53af-f042-428b-ac91-1b7d366f1795",
      "metadata": {
        "colab": {
          "base_uri": "https://localhost:8080/",
          "height": 423
        },
        "id": "b45d53af-f042-428b-ac91-1b7d366f1795",
        "outputId": "4657dd29-83f8-491e-ff35-f497a1c222f2"
      },
      "outputs": [
        {
          "output_type": "execute_result",
          "data": {
            "text/plain": [
              "       0       1         2         3         4         5         6         7   \\\n",
              "0     0.0  0.4375  0.142857  0.332917  0.241880  0.000000  0.000000  0.000000   \n",
              "1     1.0  0.2500  0.714286  0.833333  0.339254  0.000000  0.000000  0.000000   \n",
              "2     0.0  0.3125  0.571429  0.465023  0.297167  0.000000  0.146335  1.000000   \n",
              "3     1.0  1.0000  0.285714  0.546250  0.290256  0.000000  0.000000  1.000000   \n",
              "4     0.0  1.0000  0.857143  0.300000  0.345543  0.000000  0.000000  0.000000   \n",
              "...   ...     ...       ...       ...       ...       ...       ...       ...   \n",
              "1135  1.0  0.6875  0.285714  0.366667  0.172771  0.187024  0.146335  0.066236   \n",
              "1136  1.0  0.3125  0.142857  0.465023  0.200415  0.000000  0.146335  0.000000   \n",
              "1137  1.0  1.0000  0.285714  0.637500  0.373186  0.000000  1.000000  0.000000   \n",
              "1138  1.0  0.6875  0.571429  0.445833  0.124395  0.187024  0.146335  0.066236   \n",
              "1139  1.0  0.6875  0.571429  0.662500  0.262612  0.187024  0.146335  0.066236   \n",
              "\n",
              "            8         9         10   11  \n",
              "0     0.562875  0.590164  0.428571  0.0  \n",
              "1     0.562875  0.419672  0.000000  0.0  \n",
              "2     0.562875  0.473586  1.000000  0.0  \n",
              "3     0.562875  0.419672  0.285714  0.5  \n",
              "4     0.562875  0.354098  0.285714  0.5  \n",
              "...        ...       ...       ...  ...  \n",
              "1135  0.562875  0.127869  0.000000  0.0  \n",
              "1136  0.562875  0.473586  0.000000  0.0  \n",
              "1137  0.545455  0.508197  0.000000  0.0  \n",
              "1138  0.562875  0.331148  0.428571  0.0  \n",
              "1139  0.562875  0.068852  0.000000  0.0  \n",
              "\n",
              "[1140 rows x 12 columns]"
            ],
            "text/html": [
              "\n",
              "  <div id=\"df-1c9e7ff3-b0f7-423c-b074-a8db7054d11d\">\n",
              "    <div class=\"colab-df-container\">\n",
              "      <div>\n",
              "<style scoped>\n",
              "    .dataframe tbody tr th:only-of-type {\n",
              "        vertical-align: middle;\n",
              "    }\n",
              "\n",
              "    .dataframe tbody tr th {\n",
              "        vertical-align: top;\n",
              "    }\n",
              "\n",
              "    .dataframe thead th {\n",
              "        text-align: right;\n",
              "    }\n",
              "</style>\n",
              "<table border=\"1\" class=\"dataframe\">\n",
              "  <thead>\n",
              "    <tr style=\"text-align: right;\">\n",
              "      <th></th>\n",
              "      <th>0</th>\n",
              "      <th>1</th>\n",
              "      <th>2</th>\n",
              "      <th>3</th>\n",
              "      <th>4</th>\n",
              "      <th>5</th>\n",
              "      <th>6</th>\n",
              "      <th>7</th>\n",
              "      <th>8</th>\n",
              "      <th>9</th>\n",
              "      <th>10</th>\n",
              "      <th>11</th>\n",
              "    </tr>\n",
              "  </thead>\n",
              "  <tbody>\n",
              "    <tr>\n",
              "      <th>0</th>\n",
              "      <td>0.0</td>\n",
              "      <td>0.4375</td>\n",
              "      <td>0.142857</td>\n",
              "      <td>0.332917</td>\n",
              "      <td>0.241880</td>\n",
              "      <td>0.000000</td>\n",
              "      <td>0.000000</td>\n",
              "      <td>0.000000</td>\n",
              "      <td>0.562875</td>\n",
              "      <td>0.590164</td>\n",
              "      <td>0.428571</td>\n",
              "      <td>0.0</td>\n",
              "    </tr>\n",
              "    <tr>\n",
              "      <th>1</th>\n",
              "      <td>1.0</td>\n",
              "      <td>0.2500</td>\n",
              "      <td>0.714286</td>\n",
              "      <td>0.833333</td>\n",
              "      <td>0.339254</td>\n",
              "      <td>0.000000</td>\n",
              "      <td>0.000000</td>\n",
              "      <td>0.000000</td>\n",
              "      <td>0.562875</td>\n",
              "      <td>0.419672</td>\n",
              "      <td>0.000000</td>\n",
              "      <td>0.0</td>\n",
              "    </tr>\n",
              "    <tr>\n",
              "      <th>2</th>\n",
              "      <td>0.0</td>\n",
              "      <td>0.3125</td>\n",
              "      <td>0.571429</td>\n",
              "      <td>0.465023</td>\n",
              "      <td>0.297167</td>\n",
              "      <td>0.000000</td>\n",
              "      <td>0.146335</td>\n",
              "      <td>1.000000</td>\n",
              "      <td>0.562875</td>\n",
              "      <td>0.473586</td>\n",
              "      <td>1.000000</td>\n",
              "      <td>0.0</td>\n",
              "    </tr>\n",
              "    <tr>\n",
              "      <th>3</th>\n",
              "      <td>1.0</td>\n",
              "      <td>1.0000</td>\n",
              "      <td>0.285714</td>\n",
              "      <td>0.546250</td>\n",
              "      <td>0.290256</td>\n",
              "      <td>0.000000</td>\n",
              "      <td>0.000000</td>\n",
              "      <td>1.000000</td>\n",
              "      <td>0.562875</td>\n",
              "      <td>0.419672</td>\n",
              "      <td>0.285714</td>\n",
              "      <td>0.5</td>\n",
              "    </tr>\n",
              "    <tr>\n",
              "      <th>4</th>\n",
              "      <td>0.0</td>\n",
              "      <td>1.0000</td>\n",
              "      <td>0.857143</td>\n",
              "      <td>0.300000</td>\n",
              "      <td>0.345543</td>\n",
              "      <td>0.000000</td>\n",
              "      <td>0.000000</td>\n",
              "      <td>0.000000</td>\n",
              "      <td>0.562875</td>\n",
              "      <td>0.354098</td>\n",
              "      <td>0.285714</td>\n",
              "      <td>0.5</td>\n",
              "    </tr>\n",
              "    <tr>\n",
              "      <th>...</th>\n",
              "      <td>...</td>\n",
              "      <td>...</td>\n",
              "      <td>...</td>\n",
              "      <td>...</td>\n",
              "      <td>...</td>\n",
              "      <td>...</td>\n",
              "      <td>...</td>\n",
              "      <td>...</td>\n",
              "      <td>...</td>\n",
              "      <td>...</td>\n",
              "      <td>...</td>\n",
              "      <td>...</td>\n",
              "    </tr>\n",
              "    <tr>\n",
              "      <th>1135</th>\n",
              "      <td>1.0</td>\n",
              "      <td>0.6875</td>\n",
              "      <td>0.285714</td>\n",
              "      <td>0.366667</td>\n",
              "      <td>0.172771</td>\n",
              "      <td>0.187024</td>\n",
              "      <td>0.146335</td>\n",
              "      <td>0.066236</td>\n",
              "      <td>0.562875</td>\n",
              "      <td>0.127869</td>\n",
              "      <td>0.000000</td>\n",
              "      <td>0.0</td>\n",
              "    </tr>\n",
              "    <tr>\n",
              "      <th>1136</th>\n",
              "      <td>1.0</td>\n",
              "      <td>0.3125</td>\n",
              "      <td>0.142857</td>\n",
              "      <td>0.465023</td>\n",
              "      <td>0.200415</td>\n",
              "      <td>0.000000</td>\n",
              "      <td>0.146335</td>\n",
              "      <td>0.000000</td>\n",
              "      <td>0.562875</td>\n",
              "      <td>0.473586</td>\n",
              "      <td>0.000000</td>\n",
              "      <td>0.0</td>\n",
              "    </tr>\n",
              "    <tr>\n",
              "      <th>1137</th>\n",
              "      <td>1.0</td>\n",
              "      <td>1.0000</td>\n",
              "      <td>0.285714</td>\n",
              "      <td>0.637500</td>\n",
              "      <td>0.373186</td>\n",
              "      <td>0.000000</td>\n",
              "      <td>1.000000</td>\n",
              "      <td>0.000000</td>\n",
              "      <td>0.545455</td>\n",
              "      <td>0.508197</td>\n",
              "      <td>0.000000</td>\n",
              "      <td>0.0</td>\n",
              "    </tr>\n",
              "    <tr>\n",
              "      <th>1138</th>\n",
              "      <td>1.0</td>\n",
              "      <td>0.6875</td>\n",
              "      <td>0.571429</td>\n",
              "      <td>0.445833</td>\n",
              "      <td>0.124395</td>\n",
              "      <td>0.187024</td>\n",
              "      <td>0.146335</td>\n",
              "      <td>0.066236</td>\n",
              "      <td>0.562875</td>\n",
              "      <td>0.331148</td>\n",
              "      <td>0.428571</td>\n",
              "      <td>0.0</td>\n",
              "    </tr>\n",
              "    <tr>\n",
              "      <th>1139</th>\n",
              "      <td>1.0</td>\n",
              "      <td>0.6875</td>\n",
              "      <td>0.571429</td>\n",
              "      <td>0.662500</td>\n",
              "      <td>0.262612</td>\n",
              "      <td>0.187024</td>\n",
              "      <td>0.146335</td>\n",
              "      <td>0.066236</td>\n",
              "      <td>0.562875</td>\n",
              "      <td>0.068852</td>\n",
              "      <td>0.000000</td>\n",
              "      <td>0.0</td>\n",
              "    </tr>\n",
              "  </tbody>\n",
              "</table>\n",
              "<p>1140 rows × 12 columns</p>\n",
              "</div>\n",
              "      <button class=\"colab-df-convert\" onclick=\"convertToInteractive('df-1c9e7ff3-b0f7-423c-b074-a8db7054d11d')\"\n",
              "              title=\"Convert this dataframe to an interactive table.\"\n",
              "              style=\"display:none;\">\n",
              "        \n",
              "  <svg xmlns=\"http://www.w3.org/2000/svg\" height=\"24px\"viewBox=\"0 0 24 24\"\n",
              "       width=\"24px\">\n",
              "    <path d=\"M0 0h24v24H0V0z\" fill=\"none\"/>\n",
              "    <path d=\"M18.56 5.44l.94 2.06.94-2.06 2.06-.94-2.06-.94-.94-2.06-.94 2.06-2.06.94zm-11 1L8.5 8.5l.94-2.06 2.06-.94-2.06-.94L8.5 2.5l-.94 2.06-2.06.94zm10 10l.94 2.06.94-2.06 2.06-.94-2.06-.94-.94-2.06-.94 2.06-2.06.94z\"/><path d=\"M17.41 7.96l-1.37-1.37c-.4-.4-.92-.59-1.43-.59-.52 0-1.04.2-1.43.59L10.3 9.45l-7.72 7.72c-.78.78-.78 2.05 0 2.83L4 21.41c.39.39.9.59 1.41.59.51 0 1.02-.2 1.41-.59l7.78-7.78 2.81-2.81c.8-.78.8-2.07 0-2.86zM5.41 20L4 18.59l7.72-7.72 1.47 1.35L5.41 20z\"/>\n",
              "  </svg>\n",
              "      </button>\n",
              "      \n",
              "  <style>\n",
              "    .colab-df-container {\n",
              "      display:flex;\n",
              "      flex-wrap:wrap;\n",
              "      gap: 12px;\n",
              "    }\n",
              "\n",
              "    .colab-df-convert {\n",
              "      background-color: #E8F0FE;\n",
              "      border: none;\n",
              "      border-radius: 50%;\n",
              "      cursor: pointer;\n",
              "      display: none;\n",
              "      fill: #1967D2;\n",
              "      height: 32px;\n",
              "      padding: 0 0 0 0;\n",
              "      width: 32px;\n",
              "    }\n",
              "\n",
              "    .colab-df-convert:hover {\n",
              "      background-color: #E2EBFA;\n",
              "      box-shadow: 0px 1px 2px rgba(60, 64, 67, 0.3), 0px 1px 3px 1px rgba(60, 64, 67, 0.15);\n",
              "      fill: #174EA6;\n",
              "    }\n",
              "\n",
              "    [theme=dark] .colab-df-convert {\n",
              "      background-color: #3B4455;\n",
              "      fill: #D2E3FC;\n",
              "    }\n",
              "\n",
              "    [theme=dark] .colab-df-convert:hover {\n",
              "      background-color: #434B5C;\n",
              "      box-shadow: 0px 1px 3px 1px rgba(0, 0, 0, 0.15);\n",
              "      filter: drop-shadow(0px 1px 2px rgba(0, 0, 0, 0.3));\n",
              "      fill: #FFFFFF;\n",
              "    }\n",
              "  </style>\n",
              "\n",
              "      <script>\n",
              "        const buttonEl =\n",
              "          document.querySelector('#df-1c9e7ff3-b0f7-423c-b074-a8db7054d11d button.colab-df-convert');\n",
              "        buttonEl.style.display =\n",
              "          google.colab.kernel.accessAllowed ? 'block' : 'none';\n",
              "\n",
              "        async function convertToInteractive(key) {\n",
              "          const element = document.querySelector('#df-1c9e7ff3-b0f7-423c-b074-a8db7054d11d');\n",
              "          const dataTable =\n",
              "            await google.colab.kernel.invokeFunction('convertToInteractive',\n",
              "                                                     [key], {});\n",
              "          if (!dataTable) return;\n",
              "\n",
              "          const docLinkHtml = 'Like what you see? Visit the ' +\n",
              "            '<a target=\"_blank\" href=https://colab.research.google.com/notebooks/data_table.ipynb>data table notebook</a>'\n",
              "            + ' to learn more about interactive tables.';\n",
              "          element.innerHTML = '';\n",
              "          dataTable['output_type'] = 'display_data';\n",
              "          await google.colab.output.renderOutput(dataTable, element);\n",
              "          const docLink = document.createElement('div');\n",
              "          docLink.innerHTML = docLinkHtml;\n",
              "          element.appendChild(docLink);\n",
              "        }\n",
              "      </script>\n",
              "    </div>\n",
              "  </div>\n",
              "  "
            ]
          },
          "metadata": {},
          "execution_count": 134
        }
      ],
      "source": [
        "# MinMax normilization of train setfrom sklearn.preprocessing import MinMaxScaler\n",
        "\n",
        "scaler = MinMaxScaler() ## define the transformer\n",
        "scaler.fit(X_test) ## call .fit() method to calculate the min and max value for each column in dataset\n",
        "x_test_normalized = scaler.transform(X_test)\n",
        "x_test_normalized=pd.DataFrame(x_test_normalized)\n",
        "x_test_normalized"
      ]
    },
    {
      "cell_type": "code",
      "execution_count": 27,
      "id": "e2343cca-c7f7-4c41-83c8-784318cb0f45",
      "metadata": {
        "id": "e2343cca-c7f7-4c41-83c8-784318cb0f45"
      },
      "outputs": [],
      "source": [
        "# Binary classification dataset by cutting the target values into two categories (<=30, >30)\n",
        "y_train[y_train<=30] = 0\n",
        "y_train[y_train>30] = 1"
      ]
    },
    {
      "cell_type": "code",
      "execution_count": 28,
      "id": "3d40ced0-41d9-401c-9899-b10e6eb3f2e1",
      "metadata": {
        "colab": {
          "base_uri": "https://localhost:8080/",
          "height": 423
        },
        "id": "3d40ced0-41d9-401c-9899-b10e6eb3f2e1",
        "outputId": "dc61d10e-3c8e-4d7f-ddcc-7bc72229cb4c"
      },
      "outputs": [
        {
          "output_type": "execute_result",
          "data": {
            "text/plain": [
              "      Therapeutic Dose of Warfarin\n",
              "5437                           0.0\n",
              "2979                           1.0\n",
              "4743                           0.0\n",
              "2668                           0.0\n",
              "3264                           1.0\n",
              "...                            ...\n",
              "1180                           0.0\n",
              "3441                           1.0\n",
              "1344                           0.0\n",
              "4623                           0.0\n",
              "1289                           0.0\n",
              "\n",
              "[4560 rows x 1 columns]"
            ],
            "text/html": [
              "\n",
              "  <div id=\"df-cfd3f70a-de4c-49dc-a629-f929c07ba60d\">\n",
              "    <div class=\"colab-df-container\">\n",
              "      <div>\n",
              "<style scoped>\n",
              "    .dataframe tbody tr th:only-of-type {\n",
              "        vertical-align: middle;\n",
              "    }\n",
              "\n",
              "    .dataframe tbody tr th {\n",
              "        vertical-align: top;\n",
              "    }\n",
              "\n",
              "    .dataframe thead th {\n",
              "        text-align: right;\n",
              "    }\n",
              "</style>\n",
              "<table border=\"1\" class=\"dataframe\">\n",
              "  <thead>\n",
              "    <tr style=\"text-align: right;\">\n",
              "      <th></th>\n",
              "      <th>Therapeutic Dose of Warfarin</th>\n",
              "    </tr>\n",
              "  </thead>\n",
              "  <tbody>\n",
              "    <tr>\n",
              "      <th>5437</th>\n",
              "      <td>0.0</td>\n",
              "    </tr>\n",
              "    <tr>\n",
              "      <th>2979</th>\n",
              "      <td>1.0</td>\n",
              "    </tr>\n",
              "    <tr>\n",
              "      <th>4743</th>\n",
              "      <td>0.0</td>\n",
              "    </tr>\n",
              "    <tr>\n",
              "      <th>2668</th>\n",
              "      <td>0.0</td>\n",
              "    </tr>\n",
              "    <tr>\n",
              "      <th>3264</th>\n",
              "      <td>1.0</td>\n",
              "    </tr>\n",
              "    <tr>\n",
              "      <th>...</th>\n",
              "      <td>...</td>\n",
              "    </tr>\n",
              "    <tr>\n",
              "      <th>1180</th>\n",
              "      <td>0.0</td>\n",
              "    </tr>\n",
              "    <tr>\n",
              "      <th>3441</th>\n",
              "      <td>1.0</td>\n",
              "    </tr>\n",
              "    <tr>\n",
              "      <th>1344</th>\n",
              "      <td>0.0</td>\n",
              "    </tr>\n",
              "    <tr>\n",
              "      <th>4623</th>\n",
              "      <td>0.0</td>\n",
              "    </tr>\n",
              "    <tr>\n",
              "      <th>1289</th>\n",
              "      <td>0.0</td>\n",
              "    </tr>\n",
              "  </tbody>\n",
              "</table>\n",
              "<p>4560 rows × 1 columns</p>\n",
              "</div>\n",
              "      <button class=\"colab-df-convert\" onclick=\"convertToInteractive('df-cfd3f70a-de4c-49dc-a629-f929c07ba60d')\"\n",
              "              title=\"Convert this dataframe to an interactive table.\"\n",
              "              style=\"display:none;\">\n",
              "        \n",
              "  <svg xmlns=\"http://www.w3.org/2000/svg\" height=\"24px\"viewBox=\"0 0 24 24\"\n",
              "       width=\"24px\">\n",
              "    <path d=\"M0 0h24v24H0V0z\" fill=\"none\"/>\n",
              "    <path d=\"M18.56 5.44l.94 2.06.94-2.06 2.06-.94-2.06-.94-.94-2.06-.94 2.06-2.06.94zm-11 1L8.5 8.5l.94-2.06 2.06-.94-2.06-.94L8.5 2.5l-.94 2.06-2.06.94zm10 10l.94 2.06.94-2.06 2.06-.94-2.06-.94-.94-2.06-.94 2.06-2.06.94z\"/><path d=\"M17.41 7.96l-1.37-1.37c-.4-.4-.92-.59-1.43-.59-.52 0-1.04.2-1.43.59L10.3 9.45l-7.72 7.72c-.78.78-.78 2.05 0 2.83L4 21.41c.39.39.9.59 1.41.59.51 0 1.02-.2 1.41-.59l7.78-7.78 2.81-2.81c.8-.78.8-2.07 0-2.86zM5.41 20L4 18.59l7.72-7.72 1.47 1.35L5.41 20z\"/>\n",
              "  </svg>\n",
              "      </button>\n",
              "      \n",
              "  <style>\n",
              "    .colab-df-container {\n",
              "      display:flex;\n",
              "      flex-wrap:wrap;\n",
              "      gap: 12px;\n",
              "    }\n",
              "\n",
              "    .colab-df-convert {\n",
              "      background-color: #E8F0FE;\n",
              "      border: none;\n",
              "      border-radius: 50%;\n",
              "      cursor: pointer;\n",
              "      display: none;\n",
              "      fill: #1967D2;\n",
              "      height: 32px;\n",
              "      padding: 0 0 0 0;\n",
              "      width: 32px;\n",
              "    }\n",
              "\n",
              "    .colab-df-convert:hover {\n",
              "      background-color: #E2EBFA;\n",
              "      box-shadow: 0px 1px 2px rgba(60, 64, 67, 0.3), 0px 1px 3px 1px rgba(60, 64, 67, 0.15);\n",
              "      fill: #174EA6;\n",
              "    }\n",
              "\n",
              "    [theme=dark] .colab-df-convert {\n",
              "      background-color: #3B4455;\n",
              "      fill: #D2E3FC;\n",
              "    }\n",
              "\n",
              "    [theme=dark] .colab-df-convert:hover {\n",
              "      background-color: #434B5C;\n",
              "      box-shadow: 0px 1px 3px 1px rgba(0, 0, 0, 0.15);\n",
              "      filter: drop-shadow(0px 1px 2px rgba(0, 0, 0, 0.3));\n",
              "      fill: #FFFFFF;\n",
              "    }\n",
              "  </style>\n",
              "\n",
              "      <script>\n",
              "        const buttonEl =\n",
              "          document.querySelector('#df-cfd3f70a-de4c-49dc-a629-f929c07ba60d button.colab-df-convert');\n",
              "        buttonEl.style.display =\n",
              "          google.colab.kernel.accessAllowed ? 'block' : 'none';\n",
              "\n",
              "        async function convertToInteractive(key) {\n",
              "          const element = document.querySelector('#df-cfd3f70a-de4c-49dc-a629-f929c07ba60d');\n",
              "          const dataTable =\n",
              "            await google.colab.kernel.invokeFunction('convertToInteractive',\n",
              "                                                     [key], {});\n",
              "          if (!dataTable) return;\n",
              "\n",
              "          const docLinkHtml = 'Like what you see? Visit the ' +\n",
              "            '<a target=\"_blank\" href=https://colab.research.google.com/notebooks/data_table.ipynb>data table notebook</a>'\n",
              "            + ' to learn more about interactive tables.';\n",
              "          element.innerHTML = '';\n",
              "          dataTable['output_type'] = 'display_data';\n",
              "          await google.colab.output.renderOutput(dataTable, element);\n",
              "          const docLink = document.createElement('div');\n",
              "          docLink.innerHTML = docLinkHtml;\n",
              "          element.appendChild(docLink);\n",
              "        }\n",
              "      </script>\n",
              "    </div>\n",
              "  </div>\n",
              "  "
            ]
          },
          "metadata": {},
          "execution_count": 28
        }
      ],
      "source": [
        "y_train"
      ]
    },
    {
      "cell_type": "code",
      "execution_count": 29,
      "id": "dedd091e-0d81-4fcf-95aa-86ce6e131d72",
      "metadata": {
        "colab": {
          "base_uri": "https://localhost:8080/"
        },
        "id": "dedd091e-0d81-4fcf-95aa-86ce6e131d72",
        "outputId": "1d551ff1-f8b9-4c8c-ce43-085976c806dc"
      },
      "outputs": [
        {
          "output_type": "stream",
          "name": "stdout",
          "text": [
            "[0. 1.]\n"
          ]
        }
      ],
      "source": [
        "print(y_train[\"Therapeutic Dose of Warfarin\"].unique())"
      ]
    },
    {
      "cell_type": "code",
      "execution_count": 30,
      "id": "162409d3-fc1b-468f-adc1-6dd660896b05",
      "metadata": {
        "id": "162409d3-fc1b-468f-adc1-6dd660896b05"
      },
      "outputs": [],
      "source": [
        "y_test[y_test<=30] = 0\n",
        "y_test[y_test>30] = 1"
      ]
    },
    {
      "cell_type": "code",
      "execution_count": 31,
      "id": "9db0577d-bfde-490b-9784-870b546010c1",
      "metadata": {
        "colab": {
          "base_uri": "https://localhost:8080/",
          "height": 423
        },
        "id": "9db0577d-bfde-490b-9784-870b546010c1",
        "outputId": "19be709c-b6ff-4230-9dbb-34e37760a723"
      },
      "outputs": [
        {
          "output_type": "execute_result",
          "data": {
            "text/plain": [
              "      Therapeutic Dose of Warfarin\n",
              "1477                           0.0\n",
              "5514                           1.0\n",
              "3243                           0.0\n",
              "5183                           0.0\n",
              "5107                           0.0\n",
              "...                            ...\n",
              "924                            0.0\n",
              "3317                           0.0\n",
              "1846                           0.0\n",
              "1316                           0.0\n",
              "1064                           0.0\n",
              "\n",
              "[1140 rows x 1 columns]"
            ],
            "text/html": [
              "\n",
              "  <div id=\"df-f383dcdf-b8d7-4a0f-a6f7-bcd4bb615236\">\n",
              "    <div class=\"colab-df-container\">\n",
              "      <div>\n",
              "<style scoped>\n",
              "    .dataframe tbody tr th:only-of-type {\n",
              "        vertical-align: middle;\n",
              "    }\n",
              "\n",
              "    .dataframe tbody tr th {\n",
              "        vertical-align: top;\n",
              "    }\n",
              "\n",
              "    .dataframe thead th {\n",
              "        text-align: right;\n",
              "    }\n",
              "</style>\n",
              "<table border=\"1\" class=\"dataframe\">\n",
              "  <thead>\n",
              "    <tr style=\"text-align: right;\">\n",
              "      <th></th>\n",
              "      <th>Therapeutic Dose of Warfarin</th>\n",
              "    </tr>\n",
              "  </thead>\n",
              "  <tbody>\n",
              "    <tr>\n",
              "      <th>1477</th>\n",
              "      <td>0.0</td>\n",
              "    </tr>\n",
              "    <tr>\n",
              "      <th>5514</th>\n",
              "      <td>1.0</td>\n",
              "    </tr>\n",
              "    <tr>\n",
              "      <th>3243</th>\n",
              "      <td>0.0</td>\n",
              "    </tr>\n",
              "    <tr>\n",
              "      <th>5183</th>\n",
              "      <td>0.0</td>\n",
              "    </tr>\n",
              "    <tr>\n",
              "      <th>5107</th>\n",
              "      <td>0.0</td>\n",
              "    </tr>\n",
              "    <tr>\n",
              "      <th>...</th>\n",
              "      <td>...</td>\n",
              "    </tr>\n",
              "    <tr>\n",
              "      <th>924</th>\n",
              "      <td>0.0</td>\n",
              "    </tr>\n",
              "    <tr>\n",
              "      <th>3317</th>\n",
              "      <td>0.0</td>\n",
              "    </tr>\n",
              "    <tr>\n",
              "      <th>1846</th>\n",
              "      <td>0.0</td>\n",
              "    </tr>\n",
              "    <tr>\n",
              "      <th>1316</th>\n",
              "      <td>0.0</td>\n",
              "    </tr>\n",
              "    <tr>\n",
              "      <th>1064</th>\n",
              "      <td>0.0</td>\n",
              "    </tr>\n",
              "  </tbody>\n",
              "</table>\n",
              "<p>1140 rows × 1 columns</p>\n",
              "</div>\n",
              "      <button class=\"colab-df-convert\" onclick=\"convertToInteractive('df-f383dcdf-b8d7-4a0f-a6f7-bcd4bb615236')\"\n",
              "              title=\"Convert this dataframe to an interactive table.\"\n",
              "              style=\"display:none;\">\n",
              "        \n",
              "  <svg xmlns=\"http://www.w3.org/2000/svg\" height=\"24px\"viewBox=\"0 0 24 24\"\n",
              "       width=\"24px\">\n",
              "    <path d=\"M0 0h24v24H0V0z\" fill=\"none\"/>\n",
              "    <path d=\"M18.56 5.44l.94 2.06.94-2.06 2.06-.94-2.06-.94-.94-2.06-.94 2.06-2.06.94zm-11 1L8.5 8.5l.94-2.06 2.06-.94-2.06-.94L8.5 2.5l-.94 2.06-2.06.94zm10 10l.94 2.06.94-2.06 2.06-.94-2.06-.94-.94-2.06-.94 2.06-2.06.94z\"/><path d=\"M17.41 7.96l-1.37-1.37c-.4-.4-.92-.59-1.43-.59-.52 0-1.04.2-1.43.59L10.3 9.45l-7.72 7.72c-.78.78-.78 2.05 0 2.83L4 21.41c.39.39.9.59 1.41.59.51 0 1.02-.2 1.41-.59l7.78-7.78 2.81-2.81c.8-.78.8-2.07 0-2.86zM5.41 20L4 18.59l7.72-7.72 1.47 1.35L5.41 20z\"/>\n",
              "  </svg>\n",
              "      </button>\n",
              "      \n",
              "  <style>\n",
              "    .colab-df-container {\n",
              "      display:flex;\n",
              "      flex-wrap:wrap;\n",
              "      gap: 12px;\n",
              "    }\n",
              "\n",
              "    .colab-df-convert {\n",
              "      background-color: #E8F0FE;\n",
              "      border: none;\n",
              "      border-radius: 50%;\n",
              "      cursor: pointer;\n",
              "      display: none;\n",
              "      fill: #1967D2;\n",
              "      height: 32px;\n",
              "      padding: 0 0 0 0;\n",
              "      width: 32px;\n",
              "    }\n",
              "\n",
              "    .colab-df-convert:hover {\n",
              "      background-color: #E2EBFA;\n",
              "      box-shadow: 0px 1px 2px rgba(60, 64, 67, 0.3), 0px 1px 3px 1px rgba(60, 64, 67, 0.15);\n",
              "      fill: #174EA6;\n",
              "    }\n",
              "\n",
              "    [theme=dark] .colab-df-convert {\n",
              "      background-color: #3B4455;\n",
              "      fill: #D2E3FC;\n",
              "    }\n",
              "\n",
              "    [theme=dark] .colab-df-convert:hover {\n",
              "      background-color: #434B5C;\n",
              "      box-shadow: 0px 1px 3px 1px rgba(0, 0, 0, 0.15);\n",
              "      filter: drop-shadow(0px 1px 2px rgba(0, 0, 0, 0.3));\n",
              "      fill: #FFFFFF;\n",
              "    }\n",
              "  </style>\n",
              "\n",
              "      <script>\n",
              "        const buttonEl =\n",
              "          document.querySelector('#df-f383dcdf-b8d7-4a0f-a6f7-bcd4bb615236 button.colab-df-convert');\n",
              "        buttonEl.style.display =\n",
              "          google.colab.kernel.accessAllowed ? 'block' : 'none';\n",
              "\n",
              "        async function convertToInteractive(key) {\n",
              "          const element = document.querySelector('#df-f383dcdf-b8d7-4a0f-a6f7-bcd4bb615236');\n",
              "          const dataTable =\n",
              "            await google.colab.kernel.invokeFunction('convertToInteractive',\n",
              "                                                     [key], {});\n",
              "          if (!dataTable) return;\n",
              "\n",
              "          const docLinkHtml = 'Like what you see? Visit the ' +\n",
              "            '<a target=\"_blank\" href=https://colab.research.google.com/notebooks/data_table.ipynb>data table notebook</a>'\n",
              "            + ' to learn more about interactive tables.';\n",
              "          element.innerHTML = '';\n",
              "          dataTable['output_type'] = 'display_data';\n",
              "          await google.colab.output.renderOutput(dataTable, element);\n",
              "          const docLink = document.createElement('div');\n",
              "          docLink.innerHTML = docLinkHtml;\n",
              "          element.appendChild(docLink);\n",
              "        }\n",
              "      </script>\n",
              "    </div>\n",
              "  </div>\n",
              "  "
            ]
          },
          "metadata": {},
          "execution_count": 31
        }
      ],
      "source": [
        "y_test"
      ]
    },
    {
      "cell_type": "code",
      "execution_count": 32,
      "id": "6d76eebd-cef3-4d61-8ab5-372551812a04",
      "metadata": {
        "colab": {
          "base_uri": "https://localhost:8080/"
        },
        "id": "6d76eebd-cef3-4d61-8ab5-372551812a04",
        "outputId": "d39ea06d-bfa0-4c45-ff04-008a4a35a2ab"
      },
      "outputs": [
        {
          "output_type": "stream",
          "name": "stdout",
          "text": [
            "[0. 1.]\n"
          ]
        }
      ],
      "source": [
        "print(y_test[\"Therapeutic Dose of Warfarin\"].unique())"
      ]
    },
    {
      "cell_type": "markdown",
      "id": "4dabe947-9e20-4d38-9ba5-b57486f23ece",
      "metadata": {
        "id": "4dabe947-9e20-4d38-9ba5-b57486f23ece"
      },
      "source": [
        "# Model Training"
      ]
    },
    {
      "cell_type": "code",
      "execution_count": 33,
      "id": "8ebb4d88-ae13-4e4e-a268-c879d3561717",
      "metadata": {
        "colab": {
          "base_uri": "https://localhost:8080/"
        },
        "id": "8ebb4d88-ae13-4e4e-a268-c879d3561717",
        "outputId": "c2b5f46e-d5d3-4066-9bd2-3cbc40767391"
      },
      "outputs": [
        {
          "output_type": "execute_result",
          "data": {
            "text/plain": [
              "array([1., 1., 0., ..., 1., 0., 1.])"
            ]
          },
          "metadata": {},
          "execution_count": 33
        }
      ],
      "source": [
        "#Decision Tree\n",
        "from sklearn.tree import DecisionTreeClassifier\n",
        "decision_tree_model = DecisionTreeClassifier(max_depth = 3) # define tree model\n",
        "decision_tree_model.fit(x_train_normalized,y_train)\n",
        "decision_tree_model.predict(x_test_normalized)"
      ]
    },
    {
      "cell_type": "code",
      "execution_count": 34,
      "id": "1aa71e68-3d28-4771-9991-9a280890137b",
      "metadata": {
        "colab": {
          "base_uri": "https://localhost:8080/"
        },
        "id": "1aa71e68-3d28-4771-9991-9a280890137b",
        "outputId": "a0fa4c7c-fb40-4126-f3a4-dbd88ba4ce2d"
      },
      "outputs": [
        {
          "output_type": "execute_result",
          "data": {
            "text/plain": [
              "0.7032894736842106"
            ]
          },
          "metadata": {},
          "execution_count": 34
        }
      ],
      "source": [
        "# score\n",
        "decision_tree_model.score(x_train_normalized,y_train)"
      ]
    },
    {
      "cell_type": "code",
      "execution_count": 35,
      "id": "54bf808f-2094-4c23-8962-5d42364620e5",
      "metadata": {
        "colab": {
          "base_uri": "https://localhost:8080/"
        },
        "id": "54bf808f-2094-4c23-8962-5d42364620e5",
        "outputId": "a063bf7a-3866-41e0-cb11-2fc0b037e70d"
      },
      "outputs": [
        {
          "output_type": "stream",
          "name": "stdout",
          "text": [
            "0.637719298245614\n",
            "0.5602165087956699\n",
            "0.8247011952191236\n",
            "0.657648403252195\n",
            "0.6672038678485094\n"
          ]
        }
      ],
      "source": [
        "# Decision Tree - performance on the test data\n",
        "from sklearn.metrics import accuracy_score, precision_score, recall_score, roc_auc_score, f1_score\n",
        "decision_tree_model_pred = decision_tree_model.predict(x_test_normalized)\n",
        "decision_tree_model_acc = accuracy_score(y_test, decision_tree_model_pred )\n",
        "decision_tree_model_prec = precision_score(y_test, decision_tree_model_pred )\n",
        "decision_tree_model_recall = recall_score(y_test, decision_tree_model_pred )\n",
        "decision_tree_model_roc = roc_auc_score(y_test, decision_tree_model_pred )\n",
        "decision_tree_model_f1 = f1_score(y_test, decision_tree_model_pred )\n",
        "print(decision_tree_model_acc)\n",
        "print(decision_tree_model_prec)\n",
        "print(decision_tree_model_recall)\n",
        "print(decision_tree_model_roc)\n",
        "print(decision_tree_model_f1)"
      ]
    },
    {
      "cell_type": "code",
      "execution_count": 36,
      "id": "2b4fe751-1d4c-4bc2-820c-4f87ba6c42f6",
      "metadata": {
        "colab": {
          "base_uri": "https://localhost:8080/",
          "height": 391
        },
        "id": "2b4fe751-1d4c-4bc2-820c-4f87ba6c42f6",
        "outputId": "df6261d2-2bd5-4f31-b0df-09f8f56a7939"
      },
      "outputs": [
        {
          "output_type": "stream",
          "name": "stderr",
          "text": [
            "/usr/local/lib/python3.8/dist-packages/sklearn/utils/deprecation.py:87: FutureWarning: Function plot_roc_curve is deprecated; Function :func:`plot_roc_curve` is deprecated in 1.0 and will be removed in 1.2. Use one of the class methods: :meth:`sklearn.metric.RocCurveDisplay.from_predictions` or :meth:`sklearn.metric.RocCurveDisplay.from_estimator`.\n",
            "  warnings.warn(msg, category=FutureWarning)\n",
            "/usr/local/lib/python3.8/dist-packages/sklearn/base.py:443: UserWarning: X has feature names, but DecisionTreeClassifier was fitted without feature names\n",
            "  warnings.warn(\n"
          ]
        },
        {
          "output_type": "execute_result",
          "data": {
            "text/plain": [
              "[<matplotlib.lines.Line2D at 0x7f0965ef3b50>]"
            ]
          },
          "metadata": {},
          "execution_count": 36
        },
        {
          "output_type": "display_data",
          "data": {
            "text/plain": [
              "<Figure size 432x288 with 1 Axes>"
            ],
            "image/png": "[encoded data removed]"
          },
          "metadata": {
            "needs_background": "light"
          }
        }
      ],
      "source": [
        "#ROC Curve\n",
        "from sklearn import metrics\n",
        "import matplotlib.pyplot as plt\n",
        "metrics.plot_roc_curve(decision_tree_model, X_test, y_test) \n",
        "plt.plot([0, 1], [0, 1], 'k--')"
      ]
    },
    {
      "cell_type": "code",
      "execution_count": 37,
      "id": "a5f5e8b1-a05d-4107-99b5-4fb00683f6ac",
      "metadata": {
        "colab": {
          "base_uri": "https://localhost:8080/",
          "height": 852
        },
        "id": "a5f5e8b1-a05d-4107-99b5-4fb00683f6ac",
        "outputId": "1dac051f-72d0-4abd-8aeb-f72f4dfa0777"
      },
      "outputs": [
        {
          "output_type": "execute_result",
          "data": {
            "text/plain": [
              "[Text(0.5, 0.875, 'X[11] <= 0.75\\ngini = 0.496\\nsamples = 4560\\nvalue = [2486, 2074]'),\n",
              " Text(0.25, 0.625, 'X[4] <= 0.241\\ngini = 0.472\\nsamples = 3638\\nvalue = [2249, 1389]'),\n",
              " Text(0.125, 0.375, 'X[7] <= 0.033\\ngini = 0.406\\nsamples = 2368\\nvalue = [1697, 671]'),\n",
              " Text(0.0625, 0.125, 'gini = 0.465\\nsamples = 1309\\nvalue = [827, 482]'),\n",
              " Text(0.1875, 0.125, 'gini = 0.293\\nsamples = 1059\\nvalue = [870, 189]'),\n",
              " Text(0.375, 0.375, 'X[10] <= 0.45\\ngini = 0.491\\nsamples = 1270\\nvalue = [552, 718]'),\n",
              " Text(0.3125, 0.125, 'gini = 0.476\\nsamples = 1095\\nvalue = [428, 667]'),\n",
              " Text(0.4375, 0.125, 'gini = 0.413\\nsamples = 175\\nvalue = [124, 51]'),\n",
              " Text(0.75, 0.625, 'X[10] <= 0.45\\ngini = 0.382\\nsamples = 922\\nvalue = [237, 685]'),\n",
              " Text(0.625, 0.375, 'X[4] <= 0.205\\ngini = 0.333\\nsamples = 806\\nvalue = [170, 636]'),\n",
              " Text(0.5625, 0.125, 'gini = 0.457\\nsamples = 249\\nvalue = [88, 161]'),\n",
              " Text(0.6875, 0.125, 'gini = 0.251\\nsamples = 557\\nvalue = [82, 475]'),\n",
              " Text(0.875, 0.375, 'X[4] <= 0.26\\ngini = 0.488\\nsamples = 116\\nvalue = [67, 49]'),\n",
              " Text(0.8125, 0.125, 'gini = 0.4\\nsamples = 76\\nvalue = [55, 21]'),\n",
              " Text(0.9375, 0.125, 'gini = 0.42\\nsamples = 40\\nvalue = [12, 28]')]"
            ]
          },
          "metadata": {},
          "execution_count": 37
        },
        {
          "output_type": "display_data",
          "data": {
            "text/plain": [
              "<Figure size 1440x720 with 1 Axes>"
            ],
            "image/png": "[encoded data removed]"
          },
          "metadata": {
            "needs_background": "light"
          }
        }
      ],
      "source": [
        "# visualization of decision tree\n",
        "from sklearn import tree\n",
        "fig = plt.figure(figsize=(20,10))\n",
        "tree.plot_tree(decision_tree_model)"
      ]
    },
    {
      "cell_type": "code",
      "execution_count": 38,
      "id": "323201a3-f0d9-4b8a-abc5-4db310a00576",
      "metadata": {
        "colab": {
          "base_uri": "https://localhost:8080/"
        },
        "id": "323201a3-f0d9-4b8a-abc5-4db310a00576",
        "outputId": "268a4172-74de-4049-86de-8852e6db0587"
      },
      "outputs": [
        {
          "output_type": "stream",
          "name": "stderr",
          "text": [
            "/usr/local/lib/python3.8/dist-packages/sklearn/utils/validation.py:993: DataConversionWarning: A column-vector y was passed when a 1d array was expected. Please change the shape of y to (n_samples, ), for example using ravel().\n",
            "  y = column_or_1d(y, warn=True)\n"
          ]
        },
        {
          "output_type": "execute_result",
          "data": {
            "text/plain": [
              "array([0., 1., 0., ..., 1., 0., 0.])"
            ]
          },
          "metadata": {},
          "execution_count": 38
        }
      ],
      "source": [
        "# Logistic regression\n",
        "from sklearn.linear_model import LogisticRegression\n",
        "logistic_model = LogisticRegression(penalty = 'l2', C = 1, random_state = 0)\n",
        "logistic_model.fit(x_train_normalized,y_train)\n",
        "logistic_model.predict(x_test_normalized)"
      ]
    },
    {
      "cell_type": "code",
      "execution_count": 39,
      "id": "94449690-4969-4b70-96b2-7421c4aaf363",
      "metadata": {
        "colab": {
          "base_uri": "https://localhost:8080/"
        },
        "id": "94449690-4969-4b70-96b2-7421c4aaf363",
        "outputId": "12d38561-4618-4a94-da4d-f55cac229666"
      },
      "outputs": [
        {
          "output_type": "execute_result",
          "data": {
            "text/plain": [
              "0.725219298245614"
            ]
          },
          "metadata": {},
          "execution_count": 39
        }
      ],
      "source": [
        "logistic_model.score(x_train_normalized,y_train)"
      ]
    },
    {
      "cell_type": "code",
      "execution_count": 40,
      "id": "0cd5c985-dfb4-4fef-99a7-857ef03e762a",
      "metadata": {
        "colab": {
          "base_uri": "https://localhost:8080/"
        },
        "id": "0cd5c985-dfb4-4fef-99a7-857ef03e762a",
        "outputId": "f422357b-8a85-4835-86b3-a6e656812501"
      },
      "outputs": [
        {
          "output_type": "stream",
          "name": "stdout",
          "text": [
            "0.7043859649122807\n",
            "0.6248108925869894\n",
            "0.8227091633466136\n",
            "0.7169972149021469\n",
            "0.7102321582115219\n"
          ]
        }
      ],
      "source": [
        "from sklearn.metrics import accuracy_score, precision_score, recall_score, roc_auc_score, f1_score\n",
        "# Logistic regression - performance on the test data\n",
        "logistic_pred = logistic_model.predict(x_test_normalized)\n",
        "logistic_acc = accuracy_score(y_test, logistic_pred )\n",
        "logistic_prec = precision_score(y_test, logistic_pred )\n",
        "logistic_recall = recall_score(y_test, logistic_pred )\n",
        "logistic_roc = roc_auc_score(y_test, logistic_pred )\n",
        "logistic_f1 = f1_score(y_test, logistic_pred )\n",
        "print(logistic_acc)\n",
        "print(logistic_prec)\n",
        "print(logistic_recall)\n",
        "print(logistic_roc)\n",
        "print(logistic_f1)"
      ]
    },
    {
      "cell_type": "code",
      "source": [
        "#ROC Curve\n",
        "from sklearn import metrics\n",
        "import matplotlib.pyplot as plt\n",
        "metrics.plot_roc_curve(logistic_model, X_test, y_test) \n",
        "plt.plot([0, 1], [0, 1], 'k--')"
      ],
      "metadata": {
        "colab": {
          "base_uri": "https://localhost:8080/",
          "height": 391
        },
        "id": "fTonLi2Lwne0",
        "outputId": "6682b2ac-6f7e-42ea-aae6-0436294ba7e4"
      },
      "id": "fTonLi2Lwne0",
      "execution_count": 101,
      "outputs": [
        {
          "output_type": "stream",
          "name": "stderr",
          "text": [
            "/usr/local/lib/python3.8/dist-packages/sklearn/utils/deprecation.py:87: FutureWarning: Function plot_roc_curve is deprecated; Function :func:`plot_roc_curve` is deprecated in 1.0 and will be removed in 1.2. Use one of the class methods: :meth:`sklearn.metric.RocCurveDisplay.from_predictions` or :meth:`sklearn.metric.RocCurveDisplay.from_estimator`.\n",
            "  warnings.warn(msg, category=FutureWarning)\n",
            "/usr/local/lib/python3.8/dist-packages/sklearn/base.py:443: UserWarning: X has feature names, but LogisticRegression was fitted without feature names\n",
            "  warnings.warn(\n"
          ]
        },
        {
          "output_type": "execute_result",
          "data": {
            "text/plain": [
              "[<matplotlib.lines.Line2D at 0x7f094fc92370>]"
            ]
          },
          "metadata": {},
          "execution_count": 101
        },
        {
          "output_type": "display_data",
          "data": {
            "text/plain": [
              "<Figure size 432x288 with 1 Axes>"
            ],
            "image/png": "[encoded data removed]"
          },
          "metadata": {
            "needs_background": "light"
          }
        }
      ]
    },
    {
      "cell_type": "code",
      "execution_count": 41,
      "id": "b8e036fb-0284-4644-bc7e-43d367ddeb68",
      "metadata": {
        "colab": {
          "base_uri": "https://localhost:8080/"
        },
        "id": "b8e036fb-0284-4644-bc7e-43d367ddeb68",
        "outputId": "33fbba82-c638-4787-f337-61b0ef2cd6a8"
      },
      "outputs": [
        {
          "output_type": "stream",
          "name": "stderr",
          "text": [
            "/usr/local/lib/python3.8/dist-packages/sklearn/utils/validation.py:993: DataConversionWarning: A column-vector y was passed when a 1d array was expected. Please change the shape of y to (n_samples, ), for example using ravel().\n",
            "  y = column_or_1d(y, warn=True)\n"
          ]
        },
        {
          "output_type": "execute_result",
          "data": {
            "text/plain": [
              "0.7449561403508772"
            ]
          },
          "metadata": {},
          "execution_count": 41
        }
      ],
      "source": [
        "# Support Vector Machine\n",
        "from sklearn.svm import SVC\n",
        "svm_model = SVC(C = 1 ) \n",
        "svm_model.fit(x_train_normalized,y_train)\n",
        "svm_model.predict(x_test_normalized)\n",
        "svm_model.score(x_train_normalized,y_train)"
      ]
    },
    {
      "cell_type": "code",
      "execution_count": 42,
      "id": "8e538f68-fe52-4855-8209-11a452d6c2b2",
      "metadata": {
        "colab": {
          "base_uri": "https://localhost:8080/"
        },
        "id": "8e538f68-fe52-4855-8209-11a452d6c2b2",
        "outputId": "a4fad1f5-5b3c-46f9-b4ea-f69caffb009a"
      },
      "outputs": [
        {
          "output_type": "stream",
          "name": "stderr",
          "text": [
            "/usr/local/lib/python3.8/dist-packages/sklearn/utils/validation.py:993: DataConversionWarning: A column-vector y was passed when a 1d array was expected. Please change the shape of y to (n_samples, ), for example using ravel().\n",
            "  y = column_or_1d(y, warn=True)\n"
          ]
        },
        {
          "output_type": "execute_result",
          "data": {
            "text/plain": [
              "0.7243421052631579"
            ]
          },
          "metadata": {},
          "execution_count": 42
        }
      ],
      "source": [
        "# linear kernel\n",
        "svm_model_linear = SVC(kernel = \"linear\", degree = 3, C = 5 ) \n",
        "svm_model_linear.fit(x_train_normalized,y_train)\n",
        "svm_model_linear.predict(x_test_normalized)\n",
        "svm_model_linear.score(x_train_normalized,y_train)"
      ]
    },
    {
      "cell_type": "code",
      "execution_count": 43,
      "id": "f3cc2bc2-bbdd-4d25-827d-2263aa23e1b4",
      "metadata": {
        "colab": {
          "base_uri": "https://localhost:8080/"
        },
        "id": "f3cc2bc2-bbdd-4d25-827d-2263aa23e1b4",
        "outputId": "446b932d-cc95-46f0-cb6c-ea2de8d37981"
      },
      "outputs": [
        {
          "output_type": "stream",
          "name": "stderr",
          "text": [
            "/usr/local/lib/python3.8/dist-packages/sklearn/utils/validation.py:993: DataConversionWarning: A column-vector y was passed when a 1d array was expected. Please change the shape of y to (n_samples, ), for example using ravel().\n",
            "  y = column_or_1d(y, warn=True)\n"
          ]
        },
        {
          "output_type": "execute_result",
          "data": {
            "text/plain": [
              "0.756578947368421"
            ]
          },
          "metadata": {},
          "execution_count": 43
        }
      ],
      "source": [
        "# RBF kernel\n",
        "svm_model_rbf = SVC(kernel = \"rbf\", degree = 3, C = 5 ) \n",
        "svm_model_rbf.fit(x_train_normalized,y_train)\n",
        "svm_model_rbf.predict(x_test_normalized)\n",
        "svm_model_rbf.score(x_train_normalized,y_train)"
      ]
    },
    {
      "cell_type": "code",
      "execution_count": 44,
      "id": "f0be4f89-71ba-4986-9e5a-324d950b91a8",
      "metadata": {
        "colab": {
          "base_uri": "https://localhost:8080/"
        },
        "id": "f0be4f89-71ba-4986-9e5a-324d950b91a8",
        "outputId": "c544a6d7-bf5d-444c-f749-9c2037ff3a7c"
      },
      "outputs": [
        {
          "output_type": "stream",
          "name": "stderr",
          "text": [
            "/usr/local/lib/python3.8/dist-packages/sklearn/utils/validation.py:993: DataConversionWarning: A column-vector y was passed when a 1d array was expected. Please change the shape of y to (n_samples, ), for example using ravel().\n",
            "  y = column_or_1d(y, warn=True)\n"
          ]
        },
        {
          "output_type": "execute_result",
          "data": {
            "text/plain": [
              "0.493859649122807"
            ]
          },
          "metadata": {},
          "execution_count": 44
        }
      ],
      "source": [
        "# Sigmoid kernel\n",
        "svm_model_sigmoid = SVC(kernel = \"sigmoid\", degree = 3, C = 5 ) \n",
        "svm_model_sigmoid.fit(x_train_normalized,y_train)\n",
        "svm_model_sigmoid.predict(x_test_normalized)\n",
        "svm_model_sigmoid.score(x_train_normalized,y_train)"
      ]
    },
    {
      "cell_type": "code",
      "execution_count": 45,
      "id": "42d1e21d-6791-416f-a073-d4739ed23cad",
      "metadata": {
        "colab": {
          "base_uri": "https://localhost:8080/"
        },
        "id": "42d1e21d-6791-416f-a073-d4739ed23cad",
        "outputId": "520a14cb-f8bb-4107-d5ac-b2176031d553"
      },
      "outputs": [
        {
          "output_type": "stream",
          "name": "stderr",
          "text": [
            "/usr/local/lib/python3.8/dist-packages/sklearn/utils/validation.py:993: DataConversionWarning: A column-vector y was passed when a 1d array was expected. Please change the shape of y to (n_samples, ), for example using ravel().\n",
            "  y = column_or_1d(y, warn=True)\n"
          ]
        },
        {
          "output_type": "execute_result",
          "data": {
            "text/plain": [
              "0.7526315789473684"
            ]
          },
          "metadata": {},
          "execution_count": 45
        }
      ],
      "source": [
        "# Polynomial kernel\n",
        "svm_model_polynomial = SVC(kernel = \"poly\", degree = 3, C = 5 ) \n",
        "svm_model_polynomial.fit(x_train_normalized,y_train)\n",
        "svm_model_polynomial.predict(x_test_normalized)\n",
        "svm_model_polynomial.score(x_train_normalized,y_train)"
      ]
    },
    {
      "cell_type": "code",
      "execution_count": 46,
      "id": "454063fd-f601-4386-aa77-16b7e98f85f0",
      "metadata": {
        "colab": {
          "base_uri": "https://localhost:8080/"
        },
        "id": "454063fd-f601-4386-aa77-16b7e98f85f0",
        "outputId": "959e3869-9c1a-4dbc-a3ee-0aab1424ec25"
      },
      "outputs": [
        {
          "output_type": "stream",
          "name": "stdout",
          "text": [
            "0.718421052631579\n",
            "0.661319073083779\n",
            "0.7390438247011952\n",
            "0.7206190910339833\n",
            "0.698024459078081\n"
          ]
        }
      ],
      "source": [
        "svm_pred = svm_model_polynomial.predict(x_test_normalized)\n",
        "svm_acc = accuracy_score(y_test, svm_pred )\n",
        "svm_prec = precision_score(y_test, svm_pred )\n",
        "svm_recall = recall_score(y_test, svm_pred )\n",
        "svm_roc = roc_auc_score(y_test, svm_pred )\n",
        "svm_f1 = f1_score(y_test, svm_pred )\n",
        "print(svm_acc)\n",
        "print(svm_prec)\n",
        "print(svm_recall)\n",
        "print(svm_roc)\n",
        "print(svm_f1)"
      ]
    },
    {
      "cell_type": "code",
      "execution_count": 47,
      "id": "00645228-d620-4c05-ba38-cebcd77c6ea3",
      "metadata": {
        "colab": {
          "base_uri": "https://localhost:8080/",
          "height": 391
        },
        "id": "00645228-d620-4c05-ba38-cebcd77c6ea3",
        "outputId": "b2d867bf-ad3f-4bf2-a690-57369e5b8e4e"
      },
      "outputs": [
        {
          "output_type": "stream",
          "name": "stderr",
          "text": [
            "/usr/local/lib/python3.8/dist-packages/sklearn/utils/deprecation.py:87: FutureWarning: Function plot_roc_curve is deprecated; Function :func:`plot_roc_curve` is deprecated in 1.0 and will be removed in 1.2. Use one of the class methods: :meth:`sklearn.metric.RocCurveDisplay.from_predictions` or :meth:`sklearn.metric.RocCurveDisplay.from_estimator`.\n",
            "  warnings.warn(msg, category=FutureWarning)\n",
            "/usr/local/lib/python3.8/dist-packages/sklearn/base.py:443: UserWarning: X has feature names, but SVC was fitted without feature names\n",
            "  warnings.warn(\n"
          ]
        },
        {
          "output_type": "execute_result",
          "data": {
            "text/plain": [
              "[<matplotlib.lines.Line2D at 0x7f0961e215b0>]"
            ]
          },
          "metadata": {},
          "execution_count": 47
        },
        {
          "output_type": "display_data",
          "data": {
            "text/plain": [
              "<Figure size 432x288 with 1 Axes>"
            ],
            "image/png": "[encoded data removed]"
          },
          "metadata": {
            "needs_background": "light"
          }
        }
      ],
      "source": [
        "#ROC Curve\n",
        "from sklearn import metrics\n",
        "import matplotlib.pyplot as plt\n",
        "metrics.plot_roc_curve(svm_model_polynomial, X_test, y_test) \n",
        "plt.plot([0, 1], [0, 1], 'k--')"
      ]
    },
    {
      "cell_type": "code",
      "execution_count": 48,
      "id": "aeeee669-a0ac-4485-a9d6-04e1138e1f82",
      "metadata": {
        "colab": {
          "base_uri": "https://localhost:8080/"
        },
        "id": "aeeee669-a0ac-4485-a9d6-04e1138e1f82",
        "outputId": "5bc36313-a1c7-476a-f473-c810623c4ccf"
      },
      "outputs": [
        {
          "output_type": "stream",
          "name": "stderr",
          "text": [
            "/usr/local/lib/python3.8/dist-packages/sklearn/neighbors/_classification.py:198: DataConversionWarning: A column-vector y was passed when a 1d array was expected. Please change the shape of y to (n_samples,), for example using ravel().\n",
            "  return self._fit(X, y)\n"
          ]
        },
        {
          "output_type": "execute_result",
          "data": {
            "text/plain": [
              "0.7916666666666666"
            ]
          },
          "metadata": {},
          "execution_count": 48
        }
      ],
      "source": [
        "# K Nearest-neighbors\n",
        "from sklearn.neighbors import KNeighborsClassifier\n",
        "knn_model = KNeighborsClassifier(n_neighbors = 5, metric = \"minkowski\")\n",
        "knn_model.fit(x_train_normalized,y_train)\n",
        "knn_model.predict(x_test_normalized)\n",
        "knn_model.score(x_train_normalized,y_train)"
      ]
    },
    {
      "cell_type": "code",
      "execution_count": 49,
      "id": "b16c6db3-b205-4dcc-9253-1342f1fd43e5",
      "metadata": {
        "colab": {
          "base_uri": "https://localhost:8080/"
        },
        "id": "b16c6db3-b205-4dcc-9253-1342f1fd43e5",
        "outputId": "b98e5471-a7f9-4753-aeeb-27a711d8e771"
      },
      "outputs": [
        {
          "output_type": "stream",
          "name": "stdout",
          "text": [
            "0.7149122807017544\n",
            "0.6654205607476635\n",
            "0.7091633466135459\n",
            "0.714299541645331\n",
            "0.686595949855352\n"
          ]
        }
      ],
      "source": [
        "# KNN - performance on the test data\n",
        "from sklearn.metrics import accuracy_score, precision_score, recall_score, roc_auc_score, f1_score\n",
        "knn_model_pred = knn_model.predict(x_test_normalized)\n",
        "knn_model_acc = accuracy_score(y_test, knn_model_pred )\n",
        "knn_model_prec = precision_score(y_test, knn_model_pred )\n",
        "knn_model_recall = recall_score(y_test, knn_model_pred )\n",
        "knn_model_roc = roc_auc_score(y_test, knn_model_pred )\n",
        "knn_model_f1 = f1_score(y_test, knn_model_pred )\n",
        "print(knn_model_acc)\n",
        "print(knn_model_prec)\n",
        "print(knn_model_recall)\n",
        "print(knn_model_roc)\n",
        "print(knn_model_f1)"
      ]
    },
    {
      "cell_type": "code",
      "execution_count": 50,
      "id": "61273110-067e-4799-a208-2ce6b4f91bf1",
      "metadata": {
        "colab": {
          "base_uri": "https://localhost:8080/",
          "height": 391
        },
        "id": "61273110-067e-4799-a208-2ce6b4f91bf1",
        "outputId": "bf754fe9-0636-42ce-ae52-628743d9d09f"
      },
      "outputs": [
        {
          "output_type": "stream",
          "name": "stderr",
          "text": [
            "/usr/local/lib/python3.8/dist-packages/sklearn/utils/deprecation.py:87: FutureWarning: Function plot_roc_curve is deprecated; Function :func:`plot_roc_curve` is deprecated in 1.0 and will be removed in 1.2. Use one of the class methods: :meth:`sklearn.metric.RocCurveDisplay.from_predictions` or :meth:`sklearn.metric.RocCurveDisplay.from_estimator`.\n",
            "  warnings.warn(msg, category=FutureWarning)\n",
            "/usr/local/lib/python3.8/dist-packages/sklearn/base.py:443: UserWarning: X has feature names, but KNeighborsClassifier was fitted without feature names\n",
            "  warnings.warn(\n"
          ]
        },
        {
          "output_type": "execute_result",
          "data": {
            "text/plain": [
              "[<matplotlib.lines.Line2D at 0x7f0961d93640>]"
            ]
          },
          "metadata": {},
          "execution_count": 50
        },
        {
          "output_type": "display_data",
          "data": {
            "text/plain": [
              "<Figure size 432x288 with 1 Axes>"
            ],
            "image/png": "[encoded data removed]"
          },
          "metadata": {
            "needs_background": "light"
          }
        }
      ],
      "source": [
        "#ROC Curve\n",
        "from sklearn import metrics\n",
        "import matplotlib.pyplot as plt\n",
        "metrics.plot_roc_curve(knn_model, X_test, y_test) \n",
        "plt.plot([0, 1], [0, 1], 'k--')"
      ]
    },
    {
      "cell_type": "code",
      "execution_count": 51,
      "id": "878ef38a-129d-4fa8-8755-13ae1cdb7739",
      "metadata": {
        "colab": {
          "base_uri": "https://localhost:8080/"
        },
        "id": "878ef38a-129d-4fa8-8755-13ae1cdb7739",
        "outputId": "c12f05ff-5ba3-423a-e386-c8f8ac8f4d68"
      },
      "outputs": [
        {
          "output_type": "stream",
          "name": "stderr",
          "text": [
            "<ipython-input-51-15a15f0089aa>:4: DataConversionWarning: A column-vector y was passed when a 1d array was expected. Please change the shape of y to (n_samples,), for example using ravel().\n",
            "  random_forest_model.fit(x_train_normalized,y_train)\n"
          ]
        },
        {
          "output_type": "execute_result",
          "data": {
            "text/plain": [
              "0.7489035087719298"
            ]
          },
          "metadata": {},
          "execution_count": 51
        }
      ],
      "source": [
        "# Random Forest\n",
        "from sklearn.ensemble import RandomForestClassifier\n",
        "random_forest_model = RandomForestClassifier(n_estimators = 100, max_leaf_nodes = 18)\n",
        "random_forest_model.fit(x_train_normalized,y_train)\n",
        "random_forest_model.predict(x_test_normalized)\n",
        "random_forest_model.score(x_train_normalized,y_train)"
      ]
    },
    {
      "cell_type": "code",
      "execution_count": 52,
      "id": "81163d66-ba7f-496e-8b39-96dcdf3fe93d",
      "metadata": {
        "colab": {
          "base_uri": "https://localhost:8080/"
        },
        "id": "81163d66-ba7f-496e-8b39-96dcdf3fe93d",
        "outputId": "444baf07-e4ba-4d75-8c84-13e3ada9137f"
      },
      "outputs": [
        {
          "output_type": "stream",
          "name": "stdout",
          "text": [
            "0.7236842105263158\n",
            "0.664323374340949\n",
            "0.7529880478087649\n",
            "0.7268075035282069\n",
            "0.7058823529411764\n"
          ]
        }
      ],
      "source": [
        "# Random Forest - performance on the test data\n",
        "from sklearn.metrics import accuracy_score, precision_score, recall_score, roc_auc_score, f1_score\n",
        "random_forest_model_pred = random_forest_model.predict(x_test_normalized)\n",
        "random_forest_model_acc = accuracy_score(y_test, random_forest_model_pred )\n",
        "random_forest_model_prec = precision_score(y_test, random_forest_model_pred )\n",
        "random_forest_model_recall = recall_score(y_test, random_forest_model_pred )\n",
        "random_forest_model_roc = roc_auc_score(y_test, random_forest_model_pred )\n",
        "random_forest_model_f1 = f1_score(y_test, random_forest_model_pred )\n",
        "print(random_forest_model_acc)\n",
        "print(random_forest_model_prec)\n",
        "print(random_forest_model_recall)\n",
        "print(random_forest_model_roc)\n",
        "print(random_forest_model_f1)"
      ]
    },
    {
      "cell_type": "code",
      "execution_count": 53,
      "id": "eac63046-786d-4e79-b174-d6057daef928",
      "metadata": {
        "colab": {
          "base_uri": "https://localhost:8080/",
          "height": 391
        },
        "id": "eac63046-786d-4e79-b174-d6057daef928",
        "outputId": "51733f26-0f00-4e99-e739-45b5b85c253b"
      },
      "outputs": [
        {
          "output_type": "stream",
          "name": "stderr",
          "text": [
            "/usr/local/lib/python3.8/dist-packages/sklearn/utils/deprecation.py:87: FutureWarning: Function plot_roc_curve is deprecated; Function :func:`plot_roc_curve` is deprecated in 1.0 and will be removed in 1.2. Use one of the class methods: :meth:`sklearn.metric.RocCurveDisplay.from_predictions` or :meth:`sklearn.metric.RocCurveDisplay.from_estimator`.\n",
            "  warnings.warn(msg, category=FutureWarning)\n",
            "/usr/local/lib/python3.8/dist-packages/sklearn/base.py:443: UserWarning: X has feature names, but RandomForestClassifier was fitted without feature names\n",
            "  warnings.warn(\n"
          ]
        },
        {
          "output_type": "execute_result",
          "data": {
            "text/plain": [
              "[<matplotlib.lines.Line2D at 0x7f0961a60fd0>]"
            ]
          },
          "metadata": {},
          "execution_count": 53
        },
        {
          "output_type": "display_data",
          "data": {
            "text/plain": [
              "<Figure size 432x288 with 1 Axes>"
            ],
            "image/png": "[encoded data removed]"
          },
          "metadata": {
            "needs_background": "light"
          }
        }
      ],
      "source": [
        "#ROC Curve\n",
        "from sklearn import metrics\n",
        "import matplotlib.pyplot as plt\n",
        "metrics.plot_roc_curve(random_forest_model, X_test, y_test) \n",
        "plt.plot([0, 1], [0, 1], 'k--')"
      ]
    },
    {
      "cell_type": "code",
      "source": [
        "# Softmax Regression classifier\n",
        "from sklearn.linear_model import LogisticRegression\n",
        "softmax_regression = LogisticRegression(multi_class='multinomial', solver='lbfgs')\n",
        "softmax_regression.fit(x_train_normalized,y_train)\n",
        "# get the predicted labels for training instances\n",
        "y_prediction_labels = softmax_regression.predict(x_train_normalized)"
      ],
      "metadata": {
        "colab": {
          "base_uri": "https://localhost:8080/"
        },
        "id": "esD2BRz6EBBg",
        "outputId": "ef968798-4bf0-4008-de47-1bd6481bbfa4"
      },
      "id": "esD2BRz6EBBg",
      "execution_count": 171,
      "outputs": [
        {
          "output_type": "stream",
          "name": "stderr",
          "text": [
            "/usr/local/lib/python3.8/dist-packages/sklearn/utils/validation.py:993: DataConversionWarning: A column-vector y was passed when a 1d array was expected. Please change the shape of y to (n_samples, ), for example using ravel().\n",
            "  y = column_or_1d(y, warn=True)\n"
          ]
        }
      ]
    },
    {
      "cell_type": "code",
      "source": [
        "y_prediction_labels"
      ],
      "metadata": {
        "colab": {
          "base_uri": "https://localhost:8080/"
        },
        "id": "YfjQ369REPAs",
        "outputId": "da0acc50-2fd5-4f25-e56c-2d03bd8bf6c5"
      },
      "id": "YfjQ369REPAs",
      "execution_count": 162,
      "outputs": [
        {
          "output_type": "execute_result",
          "data": {
            "text/plain": [
              "array([0., 1., 0., ..., 0., 1., 0.])"
            ]
          },
          "metadata": {},
          "execution_count": 162
        }
      ]
    },
    {
      "cell_type": "code",
      "source": [
        "# get the predicted probabilities of both classes for training instances\n",
        "y_prediction_probs = softmax_regression.predict_proba(x_train_normalized)\n",
        "y_prediction_probs"
      ],
      "metadata": {
        "colab": {
          "base_uri": "https://localhost:8080/"
        },
        "id": "IhK2KtzHERta",
        "outputId": "66825248-3962-4943-880a-2577a673bc43"
      },
      "id": "IhK2KtzHERta",
      "execution_count": 165,
      "outputs": [
        {
          "output_type": "execute_result",
          "data": {
            "text/plain": [
              "array([[0.91572161, 0.08427839],\n",
              "       [0.25956357, 0.74043643],\n",
              "       [0.63915929, 0.36084071],\n",
              "       ...,\n",
              "       [0.84768592, 0.15231408],\n",
              "       [0.40126403, 0.59873597],\n",
              "       [0.71330492, 0.28669508]])"
            ]
          },
          "metadata": {},
          "execution_count": 165
        }
      ]
    },
    {
      "cell_type": "code",
      "source": [
        "# Accuracy\n",
        "import sklearn\n",
        "sklearn.metrics.accuracy_score(y_train,y_prediction_labels) "
      ],
      "metadata": {
        "colab": {
          "base_uri": "https://localhost:8080/"
        },
        "id": "igazqNfuEbj5",
        "outputId": "1645f864-401f-4dfa-ad95-1b7e05886f44"
      },
      "id": "igazqNfuEbj5",
      "execution_count": 199,
      "outputs": [
        {
          "output_type": "execute_result",
          "data": {
            "text/plain": [
              "0.7267543859649123"
            ]
          },
          "metadata": {},
          "execution_count": 199
        }
      ]
    },
    {
      "cell_type": "code",
      "source": [
        "# Build multi-layer neural network for binary classification\n",
        "# practice 2.1: Load training data\n",
        "import pandas as pd\n",
        "from sklearn.utils import shuffle\n",
        "train_data = X_train\n",
        "train_data.columns = ['Label']+[ 'F'+str(i) for i in range(1,12)]\n",
        "train_data = shuffle(train_data) # shuffle data\n",
        "train_data"
      ],
      "metadata": {
        "colab": {
          "base_uri": "https://localhost:8080/",
          "height": 423
        },
        "id": "xmGlcwpCT3Ot",
        "outputId": "06c30cf5-c38a-43c2-d2d9-e07fea0cd17c"
      },
      "id": "xmGlcwpCT3Ot",
      "execution_count": 200,
      "outputs": [
        {
          "output_type": "execute_result",
          "data": {
            "text/plain": [
              "      Label  F1  F2          F3     F4        F5        F6        F7  \\\n",
              "3219      1   6   4  168.047778   85.0  0.000000  0.146335  0.000000   \n",
              "5102      0  19   2  164.998400   57.0  0.000000  0.000000  0.000000   \n",
              "3456      0   2   5  165.100000   77.3  0.000000  0.000000  0.000000   \n",
              "1118      1  12   3  166.116000   72.0  0.187024  0.146335  0.066236   \n",
              "3146      0  19   4  168.047778   68.2  0.187024  0.146335  0.000000   \n",
              "...     ...  ..  ..         ...    ...       ...       ...       ...   \n",
              "3297      1   6   4  168.047778  117.0  0.000000  0.146335  0.000000   \n",
              "2365      0  19   7  162.560000   64.9  1.000000  0.000000  0.000000   \n",
              "1311      0  12   7  150.114000   30.0  0.187024  0.146335  0.066236   \n",
              "3023      1  19   6  168.047778   81.0  0.187024  0.146335  0.000000   \n",
              "2360      0  19   6  168.910000   79.8  0.000000  0.000000  0.000000   \n",
              "\n",
              "            F8        F9  F10  F11  \n",
              "3219  2.538324  2.364438    9    2  \n",
              "5102  2.538324  2.364438    0    1  \n",
              "3456  2.500000  2.330000    0    2  \n",
              "1118  2.538324  1.570000    0    1  \n",
              "3146  2.538324  1.700000    4    0  \n",
              "...        ...       ...  ...  ...  \n",
              "3297  2.538324  2.364438    5    1  \n",
              "2365  2.538324  2.500000    4    0  \n",
              "1311  2.538324  1.150000    0    0  \n",
              "3023  2.538324  2.100000    4    0  \n",
              "2360  2.538324  2.500000    4    0  \n",
              "\n",
              "[4560 rows x 12 columns]"
            ],
            "text/html": [
              "\n",
              "  <div id=\"df-3c7d0858-ba77-44cc-b5d7-f6f0335b1a48\">\n",
              "    <div class=\"colab-df-container\">\n",
              "      <div>\n",
              "<style scoped>\n",
              "    .dataframe tbody tr th:only-of-type {\n",
              "        vertical-align: middle;\n",
              "    }\n",
              "\n",
              "    .dataframe tbody tr th {\n",
              "        vertical-align: top;\n",
              "    }\n",
              "\n",
              "    .dataframe thead th {\n",
              "        text-align: right;\n",
              "    }\n",
              "</style>\n",
              "<table border=\"1\" class=\"dataframe\">\n",
              "  <thead>\n",
              "    <tr style=\"text-align: right;\">\n",
              "      <th></th>\n",
              "      <th>Label</th>\n",
              "      <th>F1</th>\n",
              "      <th>F2</th>\n",
              "      <th>F3</th>\n",
              "      <th>F4</th>\n",
              "      <th>F5</th>\n",
              "      <th>F6</th>\n",
              "      <th>F7</th>\n",
              "      <th>F8</th>\n",
              "      <th>F9</th>\n",
              "      <th>F10</th>\n",
              "      <th>F11</th>\n",
              "    </tr>\n",
              "  </thead>\n",
              "  <tbody>\n",
              "    <tr>\n",
              "      <th>3219</th>\n",
              "      <td>1</td>\n",
              "      <td>6</td>\n",
              "      <td>4</td>\n",
              "      <td>168.047778</td>\n",
              "      <td>85.0</td>\n",
              "      <td>0.000000</td>\n",
              "      <td>0.146335</td>\n",
              "      <td>0.000000</td>\n",
              "      <td>2.538324</td>\n",
              "      <td>2.364438</td>\n",
              "      <td>9</td>\n",
              "      <td>2</td>\n",
              "    </tr>\n",
              "    <tr>\n",
              "      <th>5102</th>\n",
              "      <td>0</td>\n",
              "      <td>19</td>\n",
              "      <td>2</td>\n",
              "      <td>164.998400</td>\n",
              "      <td>57.0</td>\n",
              "      <td>0.000000</td>\n",
              "      <td>0.000000</td>\n",
              "      <td>0.000000</td>\n",
              "      <td>2.538324</td>\n",
              "      <td>2.364438</td>\n",
              "      <td>0</td>\n",
              "      <td>1</td>\n",
              "    </tr>\n",
              "    <tr>\n",
              "      <th>3456</th>\n",
              "      <td>0</td>\n",
              "      <td>2</td>\n",
              "      <td>5</td>\n",
              "      <td>165.100000</td>\n",
              "      <td>77.3</td>\n",
              "      <td>0.000000</td>\n",
              "      <td>0.000000</td>\n",
              "      <td>0.000000</td>\n",
              "      <td>2.500000</td>\n",
              "      <td>2.330000</td>\n",
              "      <td>0</td>\n",
              "      <td>2</td>\n",
              "    </tr>\n",
              "    <tr>\n",
              "      <th>1118</th>\n",
              "      <td>1</td>\n",
              "      <td>12</td>\n",
              "      <td>3</td>\n",
              "      <td>166.116000</td>\n",
              "      <td>72.0</td>\n",
              "      <td>0.187024</td>\n",
              "      <td>0.146335</td>\n",
              "      <td>0.066236</td>\n",
              "      <td>2.538324</td>\n",
              "      <td>1.570000</td>\n",
              "      <td>0</td>\n",
              "      <td>1</td>\n",
              "    </tr>\n",
              "    <tr>\n",
              "      <th>3146</th>\n",
              "      <td>0</td>\n",
              "      <td>19</td>\n",
              "      <td>4</td>\n",
              "      <td>168.047778</td>\n",
              "      <td>68.2</td>\n",
              "      <td>0.187024</td>\n",
              "      <td>0.146335</td>\n",
              "      <td>0.000000</td>\n",
              "      <td>2.538324</td>\n",
              "      <td>1.700000</td>\n",
              "      <td>4</td>\n",
              "      <td>0</td>\n",
              "    </tr>\n",
              "    <tr>\n",
              "      <th>...</th>\n",
              "      <td>...</td>\n",
              "      <td>...</td>\n",
              "      <td>...</td>\n",
              "      <td>...</td>\n",
              "      <td>...</td>\n",
              "      <td>...</td>\n",
              "      <td>...</td>\n",
              "      <td>...</td>\n",
              "      <td>...</td>\n",
              "      <td>...</td>\n",
              "      <td>...</td>\n",
              "      <td>...</td>\n",
              "    </tr>\n",
              "    <tr>\n",
              "      <th>3297</th>\n",
              "      <td>1</td>\n",
              "      <td>6</td>\n",
              "      <td>4</td>\n",
              "      <td>168.047778</td>\n",
              "      <td>117.0</td>\n",
              "      <td>0.000000</td>\n",
              "      <td>0.146335</td>\n",
              "      <td>0.000000</td>\n",
              "      <td>2.538324</td>\n",
              "      <td>2.364438</td>\n",
              "      <td>5</td>\n",
              "      <td>1</td>\n",
              "    </tr>\n",
              "    <tr>\n",
              "      <th>2365</th>\n",
              "      <td>0</td>\n",
              "      <td>19</td>\n",
              "      <td>7</td>\n",
              "      <td>162.560000</td>\n",
              "      <td>64.9</td>\n",
              "      <td>1.000000</td>\n",
              "      <td>0.000000</td>\n",
              "      <td>0.000000</td>\n",
              "      <td>2.538324</td>\n",
              "      <td>2.500000</td>\n",
              "      <td>4</td>\n",
              "      <td>0</td>\n",
              "    </tr>\n",
              "    <tr>\n",
              "      <th>1311</th>\n",
              "      <td>0</td>\n",
              "      <td>12</td>\n",
              "      <td>7</td>\n",
              "      <td>150.114000</td>\n",
              "      <td>30.0</td>\n",
              "      <td>0.187024</td>\n",
              "      <td>0.146335</td>\n",
              "      <td>0.066236</td>\n",
              "      <td>2.538324</td>\n",
              "      <td>1.150000</td>\n",
              "      <td>0</td>\n",
              "      <td>0</td>\n",
              "    </tr>\n",
              "    <tr>\n",
              "      <th>3023</th>\n",
              "      <td>1</td>\n",
              "      <td>19</td>\n",
              "      <td>6</td>\n",
              "      <td>168.047778</td>\n",
              "      <td>81.0</td>\n",
              "      <td>0.187024</td>\n",
              "      <td>0.146335</td>\n",
              "      <td>0.000000</td>\n",
              "      <td>2.538324</td>\n",
              "      <td>2.100000</td>\n",
              "      <td>4</td>\n",
              "      <td>0</td>\n",
              "    </tr>\n",
              "    <tr>\n",
              "      <th>2360</th>\n",
              "      <td>0</td>\n",
              "      <td>19</td>\n",
              "      <td>6</td>\n",
              "      <td>168.910000</td>\n",
              "      <td>79.8</td>\n",
              "      <td>0.000000</td>\n",
              "      <td>0.000000</td>\n",
              "      <td>0.000000</td>\n",
              "      <td>2.538324</td>\n",
              "      <td>2.500000</td>\n",
              "      <td>4</td>\n",
              "      <td>0</td>\n",
              "    </tr>\n",
              "  </tbody>\n",
              "</table>\n",
              "<p>4560 rows × 12 columns</p>\n",
              "</div>\n",
              "      <button class=\"colab-df-convert\" onclick=\"convertToInteractive('df-3c7d0858-ba77-44cc-b5d7-f6f0335b1a48')\"\n",
              "              title=\"Convert this dataframe to an interactive table.\"\n",
              "              style=\"display:none;\">\n",
              "        \n",
              "  <svg xmlns=\"http://www.w3.org/2000/svg\" height=\"24px\"viewBox=\"0 0 24 24\"\n",
              "       width=\"24px\">\n",
              "    <path d=\"M0 0h24v24H0V0z\" fill=\"none\"/>\n",
              "    <path d=\"M18.56 5.44l.94 2.06.94-2.06 2.06-.94-2.06-.94-.94-2.06-.94 2.06-2.06.94zm-11 1L8.5 8.5l.94-2.06 2.06-.94-2.06-.94L8.5 2.5l-.94 2.06-2.06.94zm10 10l.94 2.06.94-2.06 2.06-.94-2.06-.94-.94-2.06-.94 2.06-2.06.94z\"/><path d=\"M17.41 7.96l-1.37-1.37c-.4-.4-.92-.59-1.43-.59-.52 0-1.04.2-1.43.59L10.3 9.45l-7.72 7.72c-.78.78-.78 2.05 0 2.83L4 21.41c.39.39.9.59 1.41.59.51 0 1.02-.2 1.41-.59l7.78-7.78 2.81-2.81c.8-.78.8-2.07 0-2.86zM5.41 20L4 18.59l7.72-7.72 1.47 1.35L5.41 20z\"/>\n",
              "  </svg>\n",
              "      </button>\n",
              "      \n",
              "  <style>\n",
              "    .colab-df-container {\n",
              "      display:flex;\n",
              "      flex-wrap:wrap;\n",
              "      gap: 12px;\n",
              "    }\n",
              "\n",
              "    .colab-df-convert {\n",
              "      background-color: #E8F0FE;\n",
              "      border: none;\n",
              "      border-radius: 50%;\n",
              "      cursor: pointer;\n",
              "      display: none;\n",
              "      fill: #1967D2;\n",
              "      height: 32px;\n",
              "      padding: 0 0 0 0;\n",
              "      width: 32px;\n",
              "    }\n",
              "\n",
              "    .colab-df-convert:hover {\n",
              "      background-color: #E2EBFA;\n",
              "      box-shadow: 0px 1px 2px rgba(60, 64, 67, 0.3), 0px 1px 3px 1px rgba(60, 64, 67, 0.15);\n",
              "      fill: #174EA6;\n",
              "    }\n",
              "\n",
              "    [theme=dark] .colab-df-convert {\n",
              "      background-color: #3B4455;\n",
              "      fill: #D2E3FC;\n",
              "    }\n",
              "\n",
              "    [theme=dark] .colab-df-convert:hover {\n",
              "      background-color: #434B5C;\n",
              "      box-shadow: 0px 1px 3px 1px rgba(0, 0, 0, 0.15);\n",
              "      filter: drop-shadow(0px 1px 2px rgba(0, 0, 0, 0.3));\n",
              "      fill: #FFFFFF;\n",
              "    }\n",
              "  </style>\n",
              "\n",
              "      <script>\n",
              "        const buttonEl =\n",
              "          document.querySelector('#df-3c7d0858-ba77-44cc-b5d7-f6f0335b1a48 button.colab-df-convert');\n",
              "        buttonEl.style.display =\n",
              "          google.colab.kernel.accessAllowed ? 'block' : 'none';\n",
              "\n",
              "        async function convertToInteractive(key) {\n",
              "          const element = document.querySelector('#df-3c7d0858-ba77-44cc-b5d7-f6f0335b1a48');\n",
              "          const dataTable =\n",
              "            await google.colab.kernel.invokeFunction('convertToInteractive',\n",
              "                                                     [key], {});\n",
              "          if (!dataTable) return;\n",
              "\n",
              "          const docLinkHtml = 'Like what you see? Visit the ' +\n",
              "            '<a target=\"_blank\" href=https://colab.research.google.com/notebooks/data_table.ipynb>data table notebook</a>'\n",
              "            + ' to learn more about interactive tables.';\n",
              "          element.innerHTML = '';\n",
              "          dataTable['output_type'] = 'display_data';\n",
              "          await google.colab.output.renderOutput(dataTable, element);\n",
              "          const docLink = document.createElement('div');\n",
              "          docLink.innerHTML = docLinkHtml;\n",
              "          element.appendChild(docLink);\n",
              "        }\n",
              "      </script>\n",
              "    </div>\n",
              "  </div>\n",
              "  "
            ]
          },
          "metadata": {},
          "execution_count": 200
        }
      ]
    },
    {
      "cell_type": "code",
      "source": [
        "import pandas as pd\n",
        "test_data = x_test_normalized\n",
        "test_data.columns = ['Label']+[ 'F'+str(i) for i in range(1,12)]\n",
        "test_data"
      ],
      "metadata": {
        "colab": {
          "base_uri": "https://localhost:8080/",
          "height": 423
        },
        "id": "Hy7AIniJVjyh",
        "outputId": "90a580ea-bc77-40dc-98b4-4b978923e9c8"
      },
      "id": "Hy7AIniJVjyh",
      "execution_count": 214,
      "outputs": [
        {
          "output_type": "execute_result",
          "data": {
            "text/plain": [
              "      Label      F1        F2        F3        F4        F5        F6  \\\n",
              "0       0.0  0.4375  0.142857  0.332917  0.241880  0.000000  0.000000   \n",
              "1       1.0  0.2500  0.714286  0.833333  0.339254  0.000000  0.000000   \n",
              "2       0.0  0.3125  0.571429  0.465023  0.297167  0.000000  0.146335   \n",
              "3       1.0  1.0000  0.285714  0.546250  0.290256  0.000000  0.000000   \n",
              "4       0.0  1.0000  0.857143  0.300000  0.345543  0.000000  0.000000   \n",
              "...     ...     ...       ...       ...       ...       ...       ...   \n",
              "1135    1.0  0.6875  0.285714  0.366667  0.172771  0.187024  0.146335   \n",
              "1136    1.0  0.3125  0.142857  0.465023  0.200415  0.000000  0.146335   \n",
              "1137    1.0  1.0000  0.285714  0.637500  0.373186  0.000000  1.000000   \n",
              "1138    1.0  0.6875  0.571429  0.445833  0.124395  0.187024  0.146335   \n",
              "1139    1.0  0.6875  0.571429  0.662500  0.262612  0.187024  0.146335   \n",
              "\n",
              "            F7        F8        F9       F10  F11  \n",
              "0     0.000000  0.562875  0.590164  0.428571  0.0  \n",
              "1     0.000000  0.562875  0.419672  0.000000  0.0  \n",
              "2     1.000000  0.562875  0.473586  1.000000  0.0  \n",
              "3     1.000000  0.562875  0.419672  0.285714  0.5  \n",
              "4     0.000000  0.562875  0.354098  0.285714  0.5  \n",
              "...        ...       ...       ...       ...  ...  \n",
              "1135  0.066236  0.562875  0.127869  0.000000  0.0  \n",
              "1136  0.000000  0.562875  0.473586  0.000000  0.0  \n",
              "1137  0.000000  0.545455  0.508197  0.000000  0.0  \n",
              "1138  0.066236  0.562875  0.331148  0.428571  0.0  \n",
              "1139  0.066236  0.562875  0.068852  0.000000  0.0  \n",
              "\n",
              "[1140 rows x 12 columns]"
            ],
            "text/html": [
              "\n",
              "  <div id=\"df-863d383a-4df2-4739-9d52-9753b31bc5e4\">\n",
              "    <div class=\"colab-df-container\">\n",
              "      <div>\n",
              "<style scoped>\n",
              "    .dataframe tbody tr th:only-of-type {\n",
              "        vertical-align: middle;\n",
              "    }\n",
              "\n",
              "    .dataframe tbody tr th {\n",
              "        vertical-align: top;\n",
              "    }\n",
              "\n",
              "    .dataframe thead th {\n",
              "        text-align: right;\n",
              "    }\n",
              "</style>\n",
              "<table border=\"1\" class=\"dataframe\">\n",
              "  <thead>\n",
              "    <tr style=\"text-align: right;\">\n",
              "      <th></th>\n",
              "      <th>Label</th>\n",
              "      <th>F1</th>\n",
              "      <th>F2</th>\n",
              "      <th>F3</th>\n",
              "      <th>F4</th>\n",
              "      <th>F5</th>\n",
              "      <th>F6</th>\n",
              "      <th>F7</th>\n",
              "      <th>F8</th>\n",
              "      <th>F9</th>\n",
              "      <th>F10</th>\n",
              "      <th>F11</th>\n",
              "    </tr>\n",
              "  </thead>\n",
              "  <tbody>\n",
              "    <tr>\n",
              "      <th>0</th>\n",
              "      <td>0.0</td>\n",
              "      <td>0.4375</td>\n",
              "      <td>0.142857</td>\n",
              "      <td>0.332917</td>\n",
              "      <td>0.241880</td>\n",
              "      <td>0.000000</td>\n",
              "      <td>0.000000</td>\n",
              "      <td>0.000000</td>\n",
              "      <td>0.562875</td>\n",
              "      <td>0.590164</td>\n",
              "      <td>0.428571</td>\n",
              "      <td>0.0</td>\n",
              "    </tr>\n",
              "    <tr>\n",
              "      <th>1</th>\n",
              "      <td>1.0</td>\n",
              "      <td>0.2500</td>\n",
              "      <td>0.714286</td>\n",
              "      <td>0.833333</td>\n",
              "      <td>0.339254</td>\n",
              "      <td>0.000000</td>\n",
              "      <td>0.000000</td>\n",
              "      <td>0.000000</td>\n",
              "      <td>0.562875</td>\n",
              "      <td>0.419672</td>\n",
              "      <td>0.000000</td>\n",
              "      <td>0.0</td>\n",
              "    </tr>\n",
              "    <tr>\n",
              "      <th>2</th>\n",
              "      <td>0.0</td>\n",
              "      <td>0.3125</td>\n",
              "      <td>0.571429</td>\n",
              "      <td>0.465023</td>\n",
              "      <td>0.297167</td>\n",
              "      <td>0.000000</td>\n",
              "      <td>0.146335</td>\n",
              "      <td>1.000000</td>\n",
              "      <td>0.562875</td>\n",
              "      <td>0.473586</td>\n",
              "      <td>1.000000</td>\n",
              "      <td>0.0</td>\n",
              "    </tr>\n",
              "    <tr>\n",
              "      <th>3</th>\n",
              "      <td>1.0</td>\n",
              "      <td>1.0000</td>\n",
              "      <td>0.285714</td>\n",
              "      <td>0.546250</td>\n",
              "      <td>0.290256</td>\n",
              "      <td>0.000000</td>\n",
              "      <td>0.000000</td>\n",
              "      <td>1.000000</td>\n",
              "      <td>0.562875</td>\n",
              "      <td>0.419672</td>\n",
              "      <td>0.285714</td>\n",
              "      <td>0.5</td>\n",
              "    </tr>\n",
              "    <tr>\n",
              "      <th>4</th>\n",
              "      <td>0.0</td>\n",
              "      <td>1.0000</td>\n",
              "      <td>0.857143</td>\n",
              "      <td>0.300000</td>\n",
              "      <td>0.345543</td>\n",
              "      <td>0.000000</td>\n",
              "      <td>0.000000</td>\n",
              "      <td>0.000000</td>\n",
              "      <td>0.562875</td>\n",
              "      <td>0.354098</td>\n",
              "      <td>0.285714</td>\n",
              "      <td>0.5</td>\n",
              "    </tr>\n",
              "    <tr>\n",
              "      <th>...</th>\n",
              "      <td>...</td>\n",
              "      <td>...</td>\n",
              "      <td>...</td>\n",
              "      <td>...</td>\n",
              "      <td>...</td>\n",
              "      <td>...</td>\n",
              "      <td>...</td>\n",
              "      <td>...</td>\n",
              "      <td>...</td>\n",
              "      <td>...</td>\n",
              "      <td>...</td>\n",
              "      <td>...</td>\n",
              "    </tr>\n",
              "    <tr>\n",
              "      <th>1135</th>\n",
              "      <td>1.0</td>\n",
              "      <td>0.6875</td>\n",
              "      <td>0.285714</td>\n",
              "      <td>0.366667</td>\n",
              "      <td>0.172771</td>\n",
              "      <td>0.187024</td>\n",
              "      <td>0.146335</td>\n",
              "      <td>0.066236</td>\n",
              "      <td>0.562875</td>\n",
              "      <td>0.127869</td>\n",
              "      <td>0.000000</td>\n",
              "      <td>0.0</td>\n",
              "    </tr>\n",
              "    <tr>\n",
              "      <th>1136</th>\n",
              "      <td>1.0</td>\n",
              "      <td>0.3125</td>\n",
              "      <td>0.142857</td>\n",
              "      <td>0.465023</td>\n",
              "      <td>0.200415</td>\n",
              "      <td>0.000000</td>\n",
              "      <td>0.146335</td>\n",
              "      <td>0.000000</td>\n",
              "      <td>0.562875</td>\n",
              "      <td>0.473586</td>\n",
              "      <td>0.000000</td>\n",
              "      <td>0.0</td>\n",
              "    </tr>\n",
              "    <tr>\n",
              "      <th>1137</th>\n",
              "      <td>1.0</td>\n",
              "      <td>1.0000</td>\n",
              "      <td>0.285714</td>\n",
              "      <td>0.637500</td>\n",
              "      <td>0.373186</td>\n",
              "      <td>0.000000</td>\n",
              "      <td>1.000000</td>\n",
              "      <td>0.000000</td>\n",
              "      <td>0.545455</td>\n",
              "      <td>0.508197</td>\n",
              "      <td>0.000000</td>\n",
              "      <td>0.0</td>\n",
              "    </tr>\n",
              "    <tr>\n",
              "      <th>1138</th>\n",
              "      <td>1.0</td>\n",
              "      <td>0.6875</td>\n",
              "      <td>0.571429</td>\n",
              "      <td>0.445833</td>\n",
              "      <td>0.124395</td>\n",
              "      <td>0.187024</td>\n",
              "      <td>0.146335</td>\n",
              "      <td>0.066236</td>\n",
              "      <td>0.562875</td>\n",
              "      <td>0.331148</td>\n",
              "      <td>0.428571</td>\n",
              "      <td>0.0</td>\n",
              "    </tr>\n",
              "    <tr>\n",
              "      <th>1139</th>\n",
              "      <td>1.0</td>\n",
              "      <td>0.6875</td>\n",
              "      <td>0.571429</td>\n",
              "      <td>0.662500</td>\n",
              "      <td>0.262612</td>\n",
              "      <td>0.187024</td>\n",
              "      <td>0.146335</td>\n",
              "      <td>0.066236</td>\n",
              "      <td>0.562875</td>\n",
              "      <td>0.068852</td>\n",
              "      <td>0.000000</td>\n",
              "      <td>0.0</td>\n",
              "    </tr>\n",
              "  </tbody>\n",
              "</table>\n",
              "<p>1140 rows × 12 columns</p>\n",
              "</div>\n",
              "      <button class=\"colab-df-convert\" onclick=\"convertToInteractive('df-863d383a-4df2-4739-9d52-9753b31bc5e4')\"\n",
              "              title=\"Convert this dataframe to an interactive table.\"\n",
              "              style=\"display:none;\">\n",
              "        \n",
              "  <svg xmlns=\"http://www.w3.org/2000/svg\" height=\"24px\"viewBox=\"0 0 24 24\"\n",
              "       width=\"24px\">\n",
              "    <path d=\"M0 0h24v24H0V0z\" fill=\"none\"/>\n",
              "    <path d=\"M18.56 5.44l.94 2.06.94-2.06 2.06-.94-2.06-.94-.94-2.06-.94 2.06-2.06.94zm-11 1L8.5 8.5l.94-2.06 2.06-.94-2.06-.94L8.5 2.5l-.94 2.06-2.06.94zm10 10l.94 2.06.94-2.06 2.06-.94-2.06-.94-.94-2.06-.94 2.06-2.06.94z\"/><path d=\"M17.41 7.96l-1.37-1.37c-.4-.4-.92-.59-1.43-.59-.52 0-1.04.2-1.43.59L10.3 9.45l-7.72 7.72c-.78.78-.78 2.05 0 2.83L4 21.41c.39.39.9.59 1.41.59.51 0 1.02-.2 1.41-.59l7.78-7.78 2.81-2.81c.8-.78.8-2.07 0-2.86zM5.41 20L4 18.59l7.72-7.72 1.47 1.35L5.41 20z\"/>\n",
              "  </svg>\n",
              "      </button>\n",
              "      \n",
              "  <style>\n",
              "    .colab-df-container {\n",
              "      display:flex;\n",
              "      flex-wrap:wrap;\n",
              "      gap: 12px;\n",
              "    }\n",
              "\n",
              "    .colab-df-convert {\n",
              "      background-color: #E8F0FE;\n",
              "      border: none;\n",
              "      border-radius: 50%;\n",
              "      cursor: pointer;\n",
              "      display: none;\n",
              "      fill: #1967D2;\n",
              "      height: 32px;\n",
              "      padding: 0 0 0 0;\n",
              "      width: 32px;\n",
              "    }\n",
              "\n",
              "    .colab-df-convert:hover {\n",
              "      background-color: #E2EBFA;\n",
              "      box-shadow: 0px 1px 2px rgba(60, 64, 67, 0.3), 0px 1px 3px 1px rgba(60, 64, 67, 0.15);\n",
              "      fill: #174EA6;\n",
              "    }\n",
              "\n",
              "    [theme=dark] .colab-df-convert {\n",
              "      background-color: #3B4455;\n",
              "      fill: #D2E3FC;\n",
              "    }\n",
              "\n",
              "    [theme=dark] .colab-df-convert:hover {\n",
              "      background-color: #434B5C;\n",
              "      box-shadow: 0px 1px 3px 1px rgba(0, 0, 0, 0.15);\n",
              "      filter: drop-shadow(0px 1px 2px rgba(0, 0, 0, 0.3));\n",
              "      fill: #FFFFFF;\n",
              "    }\n",
              "  </style>\n",
              "\n",
              "      <script>\n",
              "        const buttonEl =\n",
              "          document.querySelector('#df-863d383a-4df2-4739-9d52-9753b31bc5e4 button.colab-df-convert');\n",
              "        buttonEl.style.display =\n",
              "          google.colab.kernel.accessAllowed ? 'block' : 'none';\n",
              "\n",
              "        async function convertToInteractive(key) {\n",
              "          const element = document.querySelector('#df-863d383a-4df2-4739-9d52-9753b31bc5e4');\n",
              "          const dataTable =\n",
              "            await google.colab.kernel.invokeFunction('convertToInteractive',\n",
              "                                                     [key], {});\n",
              "          if (!dataTable) return;\n",
              "\n",
              "          const docLinkHtml = 'Like what you see? Visit the ' +\n",
              "            '<a target=\"_blank\" href=https://colab.research.google.com/notebooks/data_table.ipynb>data table notebook</a>'\n",
              "            + ' to learn more about interactive tables.';\n",
              "          element.innerHTML = '';\n",
              "          dataTable['output_type'] = 'display_data';\n",
              "          await google.colab.output.renderOutput(dataTable, element);\n",
              "          const docLink = document.createElement('div');\n",
              "          docLink.innerHTML = docLinkHtml;\n",
              "          element.appendChild(docLink);\n",
              "        }\n",
              "      </script>\n",
              "    </div>\n",
              "  </div>\n",
              "  "
            ]
          },
          "metadata": {},
          "execution_count": 214
        }
      ]
    },
    {
      "cell_type": "code",
      "source": [
        "from tensorflow.keras.models import Sequential\n",
        "from tensorflow.keras.layers import Dense\n",
        "model = Sequential()\n",
        "model.add(Dense(100,input_shape=(22,),activation='relu'))\n",
        "from keras.models import Sequential\n",
        "from keras.layers import Dense\n",
        "model = Sequential() \n",
        "model.add(Dense(100, input_shape=(22,),activation='relu')) \n",
        "model.summary()"
      ],
      "metadata": {
        "colab": {
          "base_uri": "https://localhost:8080/"
        },
        "id": "iIeaRbW2Vssr",
        "outputId": "ab647089-330d-4262-b36d-dda2571c8023"
      },
      "id": "iIeaRbW2Vssr",
      "execution_count": 215,
      "outputs": [
        {
          "output_type": "stream",
          "name": "stdout",
          "text": [
            "Model: \"sequential_7\"\n",
            "_________________________________________________________________\n",
            " Layer (type)                Output Shape              Param #   \n",
            "=================================================================\n",
            " dense_13 (Dense)            (None, 100)               2300      \n",
            "                                                                 \n",
            "=================================================================\n",
            "Total params: 2,300\n",
            "Trainable params: 2,300\n",
            "Non-trainable params: 0\n",
            "_________________________________________________________________\n"
          ]
        }
      ]
    },
    {
      "cell_type": "code",
      "source": [
        "from keras.models import Sequential\n",
        "from keras.layers import Dense\n",
        "\n",
        "model = Sequential() # initialize Sequential model\n",
        "model.add(Dense(100, input_shape=(22,), activation='relu')) # input layer -> hidden layer 1\n",
        "model.add(Dense(100, activation='relu')) # hidden layer 1 -> hidden layer 2\n",
        "model.add(Dense(1, activation='sigmoid')) # hidden layer 2 -> output layer\n",
        "model.summary()"
      ],
      "metadata": {
        "colab": {
          "base_uri": "https://localhost:8080/"
        },
        "id": "iQrm1duLWpVA",
        "outputId": "8002e8ea-a5a1-434e-c548-ffb21cd3d314"
      },
      "id": "iQrm1duLWpVA",
      "execution_count": 216,
      "outputs": [
        {
          "output_type": "stream",
          "name": "stdout",
          "text": [
            "Model: \"sequential_8\"\n",
            "_________________________________________________________________\n",
            " Layer (type)                Output Shape              Param #   \n",
            "=================================================================\n",
            " dense_14 (Dense)            (None, 100)               2300      \n",
            "                                                                 \n",
            " dense_15 (Dense)            (None, 100)               10100     \n",
            "                                                                 \n",
            " dense_16 (Dense)            (None, 1)                 101       \n",
            "                                                                 \n",
            "=================================================================\n",
            "Total params: 12,501\n",
            "Trainable params: 12,501\n",
            "Non-trainable params: 0\n",
            "_________________________________________________________________\n"
          ]
        }
      ]
    },
    {
      "cell_type": "code",
      "source": [
        "## Practice 5.1: Compile the model for backpropagation, and start training model on data\n",
        "from keras.models import Sequential\n",
        "from keras.layers import Dense\n",
        "\n",
        "model = Sequential() # initialize Sequential model\n",
        "model.add(Dense(100, input_shape=(12,), activation='relu')) # input layer -> hidden layer 1\n",
        "model.add(Dense(100, activation='relu')) # hidden layer 1 -> hidden layer 2\n",
        "model.add(Dense(1, activation='sigmoid')) # hidden layer 2 -> output layer\n",
        "\n",
        "# Compile model, use binary crossentropy, and stochastic gradient descent for optimization\n",
        "model.compile(loss='binary_crossentropy', optimizer='SGD', metrics=['accuracy'])\n",
        "\n",
        "model.summary()"
      ],
      "metadata": {
        "colab": {
          "base_uri": "https://localhost:8080/"
        },
        "id": "zt2U_W8TWvOu",
        "outputId": "10bf3748-d648-4244-c546-be720fb39ede"
      },
      "id": "zt2U_W8TWvOu",
      "execution_count": 217,
      "outputs": [
        {
          "output_type": "stream",
          "name": "stdout",
          "text": [
            "Model: \"sequential_9\"\n",
            "_________________________________________________________________\n",
            " Layer (type)                Output Shape              Param #   \n",
            "=================================================================\n",
            " dense_17 (Dense)            (None, 100)               1300      \n",
            "                                                                 \n",
            " dense_18 (Dense)            (None, 100)               10100     \n",
            "                                                                 \n",
            " dense_19 (Dense)            (None, 1)                 101       \n",
            "                                                                 \n",
            "=================================================================\n",
            "Total params: 11,501\n",
            "Trainable params: 11,501\n",
            "Non-trainable params: 0\n",
            "_________________________________________________________________\n"
          ]
        }
      ]
    },
    {
      "cell_type": "code",
      "source": [
        "model.fit(X_train, y_train, epochs = 50)"
      ],
      "metadata": {
        "colab": {
          "base_uri": "https://localhost:8080/"
        },
        "id": "Q6fx_PlEWywi",
        "outputId": "4ba23655-c261-43a9-935e-0fb2b1be24ed"
      },
      "id": "Q6fx_PlEWywi",
      "execution_count": 218,
      "outputs": [
        {
          "output_type": "stream",
          "name": "stdout",
          "text": [
            "Epoch 1/50\n",
            "143/143 [==============================] - 1s 2ms/step - loss: 1.6040 - accuracy: 0.6219\n",
            "Epoch 2/50\n",
            "143/143 [==============================] - 0s 2ms/step - loss: 0.6422 - accuracy: 0.6408\n",
            "Epoch 3/50\n",
            "143/143 [==============================] - 0s 2ms/step - loss: 0.6384 - accuracy: 0.6397\n",
            "Epoch 4/50\n",
            "143/143 [==============================] - 0s 2ms/step - loss: 0.6336 - accuracy: 0.6471\n",
            "Epoch 5/50\n",
            "143/143 [==============================] - 0s 2ms/step - loss: 0.6337 - accuracy: 0.6439\n",
            "Epoch 6/50\n",
            "143/143 [==============================] - 0s 2ms/step - loss: 0.6332 - accuracy: 0.6388\n",
            "Epoch 7/50\n",
            "143/143 [==============================] - 0s 2ms/step - loss: 0.6336 - accuracy: 0.6430\n",
            "Epoch 8/50\n",
            "143/143 [==============================] - 1s 5ms/step - loss: 0.6327 - accuracy: 0.6482\n",
            "Epoch 9/50\n",
            "143/143 [==============================] - 1s 5ms/step - loss: 0.6320 - accuracy: 0.6452\n",
            "Epoch 10/50\n",
            "143/143 [==============================] - 1s 5ms/step - loss: 0.6274 - accuracy: 0.6474\n",
            "Epoch 11/50\n",
            "143/143 [==============================] - 1s 5ms/step - loss: 0.6275 - accuracy: 0.6526\n",
            "Epoch 12/50\n",
            "143/143 [==============================] - 1s 6ms/step - loss: 0.6282 - accuracy: 0.6542\n",
            "Epoch 13/50\n",
            "143/143 [==============================] - 1s 7ms/step - loss: 0.6293 - accuracy: 0.6447\n",
            "Epoch 14/50\n",
            "143/143 [==============================] - 1s 6ms/step - loss: 0.6270 - accuracy: 0.6568\n",
            "Epoch 15/50\n",
            "143/143 [==============================] - 1s 5ms/step - loss: 0.6317 - accuracy: 0.6496\n",
            "Epoch 16/50\n",
            "143/143 [==============================] - 0s 3ms/step - loss: 0.6249 - accuracy: 0.6487\n",
            "Epoch 17/50\n",
            "143/143 [==============================] - 0s 2ms/step - loss: 0.6246 - accuracy: 0.6498\n",
            "Epoch 18/50\n",
            "143/143 [==============================] - 0s 2ms/step - loss: 0.6218 - accuracy: 0.6548\n",
            "Epoch 19/50\n",
            "143/143 [==============================] - 0s 2ms/step - loss: 0.6179 - accuracy: 0.6623\n",
            "Epoch 20/50\n",
            "143/143 [==============================] - 0s 2ms/step - loss: 0.6231 - accuracy: 0.6428\n",
            "Epoch 21/50\n",
            "143/143 [==============================] - 0s 2ms/step - loss: 0.6160 - accuracy: 0.6623\n",
            "Epoch 22/50\n",
            "143/143 [==============================] - 0s 2ms/step - loss: 0.6180 - accuracy: 0.6599\n",
            "Epoch 23/50\n",
            "143/143 [==============================] - 0s 2ms/step - loss: 0.6187 - accuracy: 0.6568\n",
            "Epoch 24/50\n",
            "143/143 [==============================] - 0s 2ms/step - loss: 0.6185 - accuracy: 0.6616\n",
            "Epoch 25/50\n",
            "143/143 [==============================] - 0s 2ms/step - loss: 0.6215 - accuracy: 0.6605\n",
            "Epoch 26/50\n",
            "143/143 [==============================] - 0s 2ms/step - loss: 0.6152 - accuracy: 0.6590\n",
            "Epoch 27/50\n",
            "143/143 [==============================] - 0s 2ms/step - loss: 0.6157 - accuracy: 0.6590\n",
            "Epoch 28/50\n",
            "143/143 [==============================] - 0s 2ms/step - loss: 0.6225 - accuracy: 0.6572\n",
            "Epoch 29/50\n",
            "143/143 [==============================] - 0s 2ms/step - loss: 0.6182 - accuracy: 0.6656\n",
            "Epoch 30/50\n",
            "143/143 [==============================] - 0s 2ms/step - loss: 0.6139 - accuracy: 0.6586\n",
            "Epoch 31/50\n",
            "143/143 [==============================] - 0s 2ms/step - loss: 0.6125 - accuracy: 0.6689\n",
            "Epoch 32/50\n",
            "143/143 [==============================] - 0s 2ms/step - loss: 0.6096 - accuracy: 0.6669\n",
            "Epoch 33/50\n",
            "143/143 [==============================] - 0s 2ms/step - loss: 0.6162 - accuracy: 0.6636\n",
            "Epoch 34/50\n",
            "143/143 [==============================] - 0s 2ms/step - loss: 0.6087 - accuracy: 0.6658\n",
            "Epoch 35/50\n",
            "143/143 [==============================] - 0s 2ms/step - loss: 0.6115 - accuracy: 0.6719\n",
            "Epoch 36/50\n",
            "143/143 [==============================] - 0s 2ms/step - loss: 0.6175 - accuracy: 0.6658\n",
            "Epoch 37/50\n",
            "143/143 [==============================] - 0s 2ms/step - loss: 0.6121 - accuracy: 0.6691\n",
            "Epoch 38/50\n",
            "143/143 [==============================] - 0s 2ms/step - loss: 0.6108 - accuracy: 0.6634\n",
            "Epoch 39/50\n",
            "143/143 [==============================] - 0s 2ms/step - loss: 0.6156 - accuracy: 0.6695\n",
            "Epoch 40/50\n",
            "143/143 [==============================] - 0s 2ms/step - loss: 0.6095 - accuracy: 0.6691\n",
            "Epoch 41/50\n",
            "143/143 [==============================] - 0s 2ms/step - loss: 0.6037 - accuracy: 0.6743\n",
            "Epoch 42/50\n",
            "143/143 [==============================] - 0s 2ms/step - loss: 0.6069 - accuracy: 0.6721\n",
            "Epoch 43/50\n",
            "143/143 [==============================] - 0s 2ms/step - loss: 0.6107 - accuracy: 0.6634\n",
            "Epoch 44/50\n",
            "143/143 [==============================] - 0s 2ms/step - loss: 0.6065 - accuracy: 0.6689\n",
            "Epoch 45/50\n",
            "143/143 [==============================] - 0s 2ms/step - loss: 0.6089 - accuracy: 0.6702\n",
            "Epoch 46/50\n",
            "143/143 [==============================] - 0s 2ms/step - loss: 0.6010 - accuracy: 0.6772\n",
            "Epoch 47/50\n",
            "143/143 [==============================] - 0s 2ms/step - loss: 0.6046 - accuracy: 0.6735\n",
            "Epoch 48/50\n",
            "143/143 [==============================] - 0s 2ms/step - loss: 0.6036 - accuracy: 0.6735\n",
            "Epoch 49/50\n",
            "143/143 [==============================] - 0s 2ms/step - loss: 0.6094 - accuracy: 0.6693\n",
            "Epoch 50/50\n",
            "143/143 [==============================] - 0s 2ms/step - loss: 0.6074 - accuracy: 0.6693\n"
          ]
        },
        {
          "output_type": "execute_result",
          "data": {
            "text/plain": [
              "<keras.callbacks.History at 0x7f08ebddf520>"
            ]
          },
          "metadata": {},
          "execution_count": 218
        }
      ]
    },
    {
      "cell_type": "code",
      "source": [
        "from tensorflow.keras.models import load_model\n",
        "model.save(\"SPECT.h5\")\n",
        "model_loaded = load_model(\"SPECT.h5\")"
      ],
      "metadata": {
        "id": "g2MynT8uXECY"
      },
      "id": "g2MynT8uXECY",
      "execution_count": 211,
      "outputs": []
    },
    {
      "cell_type": "code",
      "source": [
        "model_loaded.evaluate(X_train, y_train)"
      ],
      "metadata": {
        "colab": {
          "base_uri": "https://localhost:8080/"
        },
        "id": "7xvgsnX_XG9p",
        "outputId": "3c09d029-ec10-4480-dd6d-32293a599205"
      },
      "id": "7xvgsnX_XG9p",
      "execution_count": 225,
      "outputs": [
        {
          "output_type": "stream",
          "name": "stdout",
          "text": [
            "143/143 [==============================] - 0s 2ms/step - loss: 0.6459 - accuracy: 0.6399\n"
          ]
        },
        {
          "output_type": "execute_result",
          "data": {
            "text/plain": [
              "[0.6459139585494995, 0.6399123072624207]"
            ]
          },
          "metadata": {},
          "execution_count": 225
        }
      ]
    },
    {
      "cell_type": "code",
      "source": [
        "train_predictions = model_loaded.predict(X_train)\n",
        "test_predictions = model_loaded.predict(X_test)\n",
        "print(\"train_predictions: \",X_train)"
      ],
      "metadata": {
        "colab": {
          "base_uri": "https://localhost:8080/"
        },
        "id": "Vesue78IXgix",
        "outputId": "af217ad7-2f15-4d89-865e-68022cedf58b"
      },
      "id": "Vesue78IXgix",
      "execution_count": 226,
      "outputs": [
        {
          "output_type": "stream",
          "name": "stdout",
          "text": [
            "143/143 [==============================] - 0s 2ms/step\n",
            "36/36 [==============================] - 0s 1ms/step\n",
            "train_predictions:        Label  F1  F2          F3      F4        F5        F6        F7  \\\n",
            "5437      0  19   6  160.020000   60.91  0.000000  0.000000  0.000000   \n",
            "2979      1  13   1  178.000000   82.00  0.000000  0.000000  0.000000   \n",
            "4743      0  14   5  168.047778   72.00  0.187024  0.146335  0.066236   \n",
            "2668      1  19   6  175.260000   85.30  0.000000  0.000000  0.000000   \n",
            "3264      1   6   7  168.047778   59.00  0.000000  0.146335  0.000000   \n",
            "...     ...  ..  ..         ...     ...       ...       ...       ...   \n",
            "1180      1  12   3  170.942000   79.00  0.187024  0.146335  0.066236   \n",
            "3441      0   2   5  170.180000  128.60  1.000000  1.000000  0.000000   \n",
            "1344      0  12   5  153.924000   60.00  0.187024  0.146335  0.066236   \n",
            "4623      0  19   3  160.020000   60.00  0.000000  0.000000  0.000000   \n",
            "1289      0  12   5  157.988000   60.00  0.187024  0.146335  0.066236   \n",
            "\n",
            "            F8        F9  F10  F11  \n",
            "5437  2.538324  2.200000    5    0  \n",
            "2979  2.538324  2.470000    0    0  \n",
            "4743  2.538324  2.120000    0    0  \n",
            "2668  2.538324  2.500000    5    0  \n",
            "3264  2.538324  2.364438    4    2  \n",
            "...        ...       ...  ...  ...  \n",
            "1180  2.538324  2.364438    0    0  \n",
            "3441  2.500000  2.700000    0    2  \n",
            "1344  2.538324  1.370000    0    0  \n",
            "4623  2.538324  2.800000    5    2  \n",
            "1289  2.538324  2.990000    0    0  \n",
            "\n",
            "[4560 rows x 12 columns]\n"
          ]
        }
      ]
    },
    {
      "cell_type": "code",
      "source": [
        "import numpy as np\n",
        "train_prediction_labels = (train_predictions > 0.5).astype(int)\n",
        "test_prediction_labels = (test_predictions > 0.5).astype(int)"
      ],
      "metadata": {
        "id": "t8nymHEapDRA"
      },
      "id": "t8nymHEapDRA",
      "execution_count": 223,
      "outputs": []
    },
    {
      "cell_type": "code",
      "source": [
        "from sklearn.metrics import accuracy_score\n",
        "print(\"Training accuracy: \", accuracy_score(y_train, train_prediction_labels))\n",
        "print(\"Test accuracy: \", accuracy_score(y_test, test_prediction_labels))"
      ],
      "metadata": {
        "colab": {
          "base_uri": "https://localhost:8080/"
        },
        "id": "Sj9mAHlcpEPg",
        "outputId": "bfecb11c-ffa7-4df5-c1ec-ac8048742581"
      },
      "id": "Sj9mAHlcpEPg",
      "execution_count": 228,
      "outputs": [
        {
          "output_type": "stream",
          "name": "stdout",
          "text": [
            "Training accuracy:  0.6399122807017544\n",
            "Test accuracy:  0.6631578947368421\n"
          ]
        }
      ]
    },
    {
      "cell_type": "code",
      "source": [
        "# feature selection algorithms\n",
        "\n",
        "from sklearn.decomposition import PCA\n",
        "pca = PCA(n_components = 2)\n",
        "pca.fit(X_train)\n",
        "X_reduced = pca.transform(X_train)"
      ],
      "metadata": {
        "id": "HL8mIxx8X5jh"
      },
      "id": "HL8mIxx8X5jh",
      "execution_count": 73,
      "outputs": []
    },
    {
      "cell_type": "code",
      "source": [
        "# Inital Shape\n",
        "X_train.shape"
      ],
      "metadata": {
        "colab": {
          "base_uri": "https://localhost:8080/"
        },
        "id": "C8z0fww_YWEv",
        "outputId": "5de755ba-bc12-40e8-8adf-f1648fba4960"
      },
      "id": "C8z0fww_YWEv",
      "execution_count": 78,
      "outputs": [
        {
          "output_type": "execute_result",
          "data": {
            "text/plain": [
              "(4560, 12)"
            ]
          },
          "metadata": {},
          "execution_count": 78
        }
      ]
    },
    {
      "cell_type": "code",
      "source": [
        "# Reduced Shape\n",
        "X_reduced.shape"
      ],
      "metadata": {
        "colab": {
          "base_uri": "https://localhost:8080/"
        },
        "id": "9JfvL8u1Ya4d",
        "outputId": "12d7abf7-25b9-4748-f3b7-16986fd3c2cb"
      },
      "id": "9JfvL8u1Ya4d",
      "execution_count": 79,
      "outputs": [
        {
          "output_type": "execute_result",
          "data": {
            "text/plain": [
              "(4560, 2)"
            ]
          },
          "metadata": {},
          "execution_count": 79
        }
      ]
    },
    {
      "cell_type": "code",
      "source": [
        "# Training it with LDA\n",
        "import numpy as np\n",
        "from sklearn.discriminant_analysis import LinearDiscriminantAnalysis\n",
        "lda = LinearDiscriminantAnalysis()\n",
        "lda.fit(X_reduced, y_train)"
      ],
      "metadata": {
        "colab": {
          "base_uri": "https://localhost:8080/"
        },
        "id": "c29GQMaVYc9W",
        "outputId": "56ec36b4-9c25-41c1-abda-dccd4c09f590"
      },
      "id": "c29GQMaVYc9W",
      "execution_count": 84,
      "outputs": [
        {
          "output_type": "stream",
          "name": "stderr",
          "text": [
            "/usr/local/lib/python3.8/dist-packages/sklearn/utils/validation.py:993: DataConversionWarning: A column-vector y was passed when a 1d array was expected. Please change the shape of y to (n_samples, ), for example using ravel().\n",
            "  y = column_or_1d(y, warn=True)\n"
          ]
        },
        {
          "output_type": "execute_result",
          "data": {
            "text/plain": [
              "LinearDiscriminantAnalysis()"
            ]
          },
          "metadata": {},
          "execution_count": 84
        }
      ]
    },
    {
      "cell_type": "code",
      "source": [
        "# Score\n",
        "lda.score(X_reduced, y_train)"
      ],
      "metadata": {
        "colab": {
          "base_uri": "https://localhost:8080/"
        },
        "id": "lXXH_aLYYgV-",
        "outputId": "4953431c-1826-428b-e82f-3749d70ba1d3"
      },
      "id": "lXXH_aLYYgV-",
      "execution_count": 85,
      "outputs": [
        {
          "output_type": "execute_result",
          "data": {
            "text/plain": [
              "0.6515350877192982"
            ]
          },
          "metadata": {},
          "execution_count": 85
        }
      ]
    },
    {
      "cell_type": "code",
      "execution_count": 89,
      "id": "4296197d-98d5-4c71-b789-262d02841094",
      "metadata": {
        "id": "4296197d-98d5-4c71-b789-262d02841094"
      },
      "outputs": [],
      "source": [
        "# Evalution Metrics\n",
        "TablarData = {'Methods': ['Decision Tree','SVM','KNN','Random Forest', 'Logistic regression'],\n",
        "        'Accuracy': [decision_tree_model_acc, svm_acc, knn_model_acc, random_forest_model_acc, logistic_acc ],\n",
        "        'Precision':[decision_tree_model_prec,svm_prec,knn_model_prec, random_forest_model_prec, logistic_prec],\n",
        "        'Recall':[decision_tree_model_recall,svm_recall,knn_model_recall, random_forest_model_recall, logistic_recall],\n",
        "        'F1-score':[decision_tree_model_f1,svm_f1,knn_model_f1, random_forest_model_f1, logistic_f1 ],\n",
        "        'AUC score':[decision_tree_model_roc,svm_roc,knn_model_roc, random_forest_model_roc, logistic_roc]}\n",
        "\n",
        "evaluation_metrics=pd.DataFrame(TablarData)"
      ]
    },
    {
      "cell_type": "code",
      "execution_count": 55,
      "id": "e8c6fa05-02ba-4a8e-ab2f-1b4b9d4fa87e",
      "metadata": {
        "colab": {
          "base_uri": "https://localhost:8080/",
          "height": 206
        },
        "id": "e8c6fa05-02ba-4a8e-ab2f-1b4b9d4fa87e",
        "outputId": "9d8c1fa6-dd3c-45ca-f4a0-d155b554858e"
      },
      "outputs": [
        {
          "output_type": "execute_result",
          "data": {
            "text/plain": [
              "               Methods  Accuracy  Precision    Recall  F1-score  AUC score\n",
              "0        Decision Tree  0.637719   0.560217  0.824701  0.667204   0.657648\n",
              "1                  SVM  0.718421   0.661319  0.739044  0.698024   0.720619\n",
              "2                  KNN  0.714912   0.665421  0.709163  0.686596   0.714300\n",
              "3        Random Forest  0.723684   0.664323  0.752988  0.705882   0.726808\n",
              "4  Logistic regression  0.704386   0.624811  0.822709  0.710232   0.716997"
            ],
            "text/html": [
              "\n",
              "  <div id=\"df-58daf092-8cc6-49e3-adf3-6655e320d796\">\n",
              "    <div class=\"colab-df-container\">\n",
              "      <div>\n",
              "<style scoped>\n",
              "    .dataframe tbody tr th:only-of-type {\n",
              "        vertical-align: middle;\n",
              "    }\n",
              "\n",
              "    .dataframe tbody tr th {\n",
              "        vertical-align: top;\n",
              "    }\n",
              "\n",
              "    .dataframe thead th {\n",
              "        text-align: right;\n",
              "    }\n",
              "</style>\n",
              "<table border=\"1\" class=\"dataframe\">\n",
              "  <thead>\n",
              "    <tr style=\"text-align: right;\">\n",
              "      <th></th>\n",
              "      <th>Methods</th>\n",
              "      <th>Accuracy</th>\n",
              "      <th>Precision</th>\n",
              "      <th>Recall</th>\n",
              "      <th>F1-score</th>\n",
              "      <th>AUC score</th>\n",
              "    </tr>\n",
              "  </thead>\n",
              "  <tbody>\n",
              "    <tr>\n",
              "      <th>0</th>\n",
              "      <td>Decision Tree</td>\n",
              "      <td>0.637719</td>\n",
              "      <td>0.560217</td>\n",
              "      <td>0.824701</td>\n",
              "      <td>0.667204</td>\n",
              "      <td>0.657648</td>\n",
              "    </tr>\n",
              "    <tr>\n",
              "      <th>1</th>\n",
              "      <td>SVM</td>\n",
              "      <td>0.718421</td>\n",
              "      <td>0.661319</td>\n",
              "      <td>0.739044</td>\n",
              "      <td>0.698024</td>\n",
              "      <td>0.720619</td>\n",
              "    </tr>\n",
              "    <tr>\n",
              "      <th>2</th>\n",
              "      <td>KNN</td>\n",
              "      <td>0.714912</td>\n",
              "      <td>0.665421</td>\n",
              "      <td>0.709163</td>\n",
              "      <td>0.686596</td>\n",
              "      <td>0.714300</td>\n",
              "    </tr>\n",
              "    <tr>\n",
              "      <th>3</th>\n",
              "      <td>Random Forest</td>\n",
              "      <td>0.723684</td>\n",
              "      <td>0.664323</td>\n",
              "      <td>0.752988</td>\n",
              "      <td>0.705882</td>\n",
              "      <td>0.726808</td>\n",
              "    </tr>\n",
              "    <tr>\n",
              "      <th>4</th>\n",
              "      <td>Logistic regression</td>\n",
              "      <td>0.704386</td>\n",
              "      <td>0.624811</td>\n",
              "      <td>0.822709</td>\n",
              "      <td>0.710232</td>\n",
              "      <td>0.716997</td>\n",
              "    </tr>\n",
              "  </tbody>\n",
              "</table>\n",
              "</div>\n",
              "      <button class=\"colab-df-convert\" onclick=\"convertToInteractive('df-58daf092-8cc6-49e3-adf3-6655e320d796')\"\n",
              "              title=\"Convert this dataframe to an interactive table.\"\n",
              "              style=\"display:none;\">\n",
              "        \n",
              "  <svg xmlns=\"http://www.w3.org/2000/svg\" height=\"24px\"viewBox=\"0 0 24 24\"\n",
              "       width=\"24px\">\n",
              "    <path d=\"M0 0h24v24H0V0z\" fill=\"none\"/>\n",
              "    <path d=\"M18.56 5.44l.94 2.06.94-2.06 2.06-.94-2.06-.94-.94-2.06-.94 2.06-2.06.94zm-11 1L8.5 8.5l.94-2.06 2.06-.94-2.06-.94L8.5 2.5l-.94 2.06-2.06.94zm10 10l.94 2.06.94-2.06 2.06-.94-2.06-.94-.94-2.06-.94 2.06-2.06.94z\"/><path d=\"M17.41 7.96l-1.37-1.37c-.4-.4-.92-.59-1.43-.59-.52 0-1.04.2-1.43.59L10.3 9.45l-7.72 7.72c-.78.78-.78 2.05 0 2.83L4 21.41c.39.39.9.59 1.41.59.51 0 1.02-.2 1.41-.59l7.78-7.78 2.81-2.81c.8-.78.8-2.07 0-2.86zM5.41 20L4 18.59l7.72-7.72 1.47 1.35L5.41 20z\"/>\n",
              "  </svg>\n",
              "      </button>\n",
              "      \n",
              "  <style>\n",
              "    .colab-df-container {\n",
              "      display:flex;\n",
              "      flex-wrap:wrap;\n",
              "      gap: 12px;\n",
              "    }\n",
              "\n",
              "    .colab-df-convert {\n",
              "      background-color: #E8F0FE;\n",
              "      border: none;\n",
              "      border-radius: 50%;\n",
              "      cursor: pointer;\n",
              "      display: none;\n",
              "      fill: #1967D2;\n",
              "      height: 32px;\n",
              "      padding: 0 0 0 0;\n",
              "      width: 32px;\n",
              "    }\n",
              "\n",
              "    .colab-df-convert:hover {\n",
              "      background-color: #E2EBFA;\n",
              "      box-shadow: 0px 1px 2px rgba(60, 64, 67, 0.3), 0px 1px 3px 1px rgba(60, 64, 67, 0.15);\n",
              "      fill: #174EA6;\n",
              "    }\n",
              "\n",
              "    [theme=dark] .colab-df-convert {\n",
              "      background-color: #3B4455;\n",
              "      fill: #D2E3FC;\n",
              "    }\n",
              "\n",
              "    [theme=dark] .colab-df-convert:hover {\n",
              "      background-color: #434B5C;\n",
              "      box-shadow: 0px 1px 3px 1px rgba(0, 0, 0, 0.15);\n",
              "      filter: drop-shadow(0px 1px 2px rgba(0, 0, 0, 0.3));\n",
              "      fill: #FFFFFF;\n",
              "    }\n",
              "  </style>\n",
              "\n",
              "      <script>\n",
              "        const buttonEl =\n",
              "          document.querySelector('#df-58daf092-8cc6-49e3-adf3-6655e320d796 button.colab-df-convert');\n",
              "        buttonEl.style.display =\n",
              "          google.colab.kernel.accessAllowed ? 'block' : 'none';\n",
              "\n",
              "        async function convertToInteractive(key) {\n",
              "          const element = document.querySelector('#df-58daf092-8cc6-49e3-adf3-6655e320d796');\n",
              "          const dataTable =\n",
              "            await google.colab.kernel.invokeFunction('convertToInteractive',\n",
              "                                                     [key], {});\n",
              "          if (!dataTable) return;\n",
              "\n",
              "          const docLinkHtml = 'Like what you see? Visit the ' +\n",
              "            '<a target=\"_blank\" href=https://colab.research.google.com/notebooks/data_table.ipynb>data table notebook</a>'\n",
              "            + ' to learn more about interactive tables.';\n",
              "          element.innerHTML = '';\n",
              "          dataTable['output_type'] = 'display_data';\n",
              "          await google.colab.output.renderOutput(dataTable, element);\n",
              "          const docLink = document.createElement('div');\n",
              "          docLink.innerHTML = docLinkHtml;\n",
              "          element.appendChild(docLink);\n",
              "        }\n",
              "      </script>\n",
              "    </div>\n",
              "  </div>\n",
              "  "
            ]
          },
          "metadata": {},
          "execution_count": 55
        }
      ],
      "source": [
        "evaluation_metrics"
      ]
    },
    {
      "cell_type": "code",
      "execution_count": 135,
      "id": "f2b3e939-bf4c-4941-9732-84876d1b0553",
      "metadata": {
        "colab": {
          "base_uri": "https://localhost:8080/"
        },
        "id": "f2b3e939-bf4c-4941-9732-84876d1b0553",
        "outputId": "d7ad955b-7e1c-4c37-a039-b627c6f3bc59"
      },
      "outputs": [
        {
          "output_type": "stream",
          "name": "stdout",
          "text": [
            "CV_scores:  [0.67763158 0.67763158 0.67105263 0.65131579 0.68421053 0.75657895\n",
            " 0.72368421 0.63157895 0.65131579 0.80921053 0.73684211 0.69736842\n",
            " 0.67763158 0.71710526 0.72368421 0.65789474 0.68421053 0.625\n",
            " 0.79605263 0.68421053 0.73026316 0.69078947 0.66447368 0.73026316\n",
            " 0.65789474 0.72368421 0.69736842 0.63815789 0.71710526 0.69736842]\n"
          ]
        }
      ],
      "source": [
        "# Cross Validation for Decision Tree\n",
        "from sklearn.tree import DecisionTreeClassifier\n",
        "from sklearn.model_selection import cross_val_score\n",
        "CV_scores_decision_tree_model = cross_val_score(estimator = decision_tree_model, X = x_train_normalized, y = y_train, cv = 30, scoring = 'accuracy')\n",
        "print(\"CV_scores: \", CV_scores_decision_tree_model)"
      ]
    },
    {
      "cell_type": "code",
      "execution_count": 191,
      "id": "e0099792-8571-4329-93da-77fb1c087ffe",
      "metadata": {
        "colab": {
          "base_uri": "https://localhost:8080/"
        },
        "id": "e0099792-8571-4329-93da-77fb1c087ffe",
        "outputId": "11b50234-046f-43f9-e6a4-25d82ebe9a06"
      },
      "outputs": [
        {
          "output_type": "stream",
          "name": "stdout",
          "text": [
            "Accuracy:  0.637719298245614\n",
            "Precision: 0.8247011952191236\n",
            "recall_score: 0.5602165087956699\n",
            "f1_score: 0.6703825686122988\n",
            "ROC Curve: 0.6672038678485094\n"
          ]
        }
      ],
      "source": [
        "y_test_pred_dt = decision_tree_model.predict(x_test_normalized)\n",
        "from sklearn import metrics\n",
        "from sklearn.metrics import accuracy_score\n",
        "from sklearn.metrics import precision_score,recall_score,f1_score\n",
        "decision_tree_acc_cv = metrics.accuracy_score(y_test_pred_dt,y_test)\n",
        "decision_tree_prec_cv = precision_score(y_test_pred_dt, y_test)\n",
        "decision_tree_recall_cv = recall_score(y_test_pred_dt, y_test)\n",
        "decision_tree_f1_cv = f1_score(y_test_pred_dt, y_test)\n",
        "decision_tree_roc_cv = roc_auc_score(y_test_pred_dt, y_test)\n",
        "print(\"Accuracy: \", decision_tree_acc_cv)\n",
        "print(\"Precision:\",decision_tree_prec_cv)\n",
        "print(\"recall_score:\",decision_tree_recall_cv)\n",
        "print(\"f1_score:\",decision_tree_roc_cv)\n",
        "print(\"ROC Curve:\",decision_tree_f1_cv)"
      ]
    },
    {
      "cell_type": "code",
      "execution_count": 192,
      "id": "11cc356d-ee7e-401c-88b1-2abeedc7f13d",
      "metadata": {
        "colab": {
          "base_uri": "https://localhost:8080/",
          "height": 313
        },
        "id": "11cc356d-ee7e-401c-88b1-2abeedc7f13d",
        "outputId": "71b26fd0-2256-4637-9102-c04630efbb1f"
      },
      "outputs": [
        {
          "output_type": "execute_result",
          "data": {
            "text/plain": [
              "Text(0, 0.5, 'Accuracy')"
            ]
          },
          "metadata": {},
          "execution_count": 192
        },
        {
          "output_type": "display_data",
          "data": {
            "text/plain": [
              "<Figure size 432x288 with 1 Axes>"
            ],
            "image/png": "[encoded data removed]"
          },
          "metadata": {
            "needs_background": "light"
          }
        }
      ],
      "source": [
        "plt.boxplot(CV_scores_decision_tree_model)\n",
        "plt.title(\"10-fold cross validation accuracy\")\n",
        "plt.xlabel(\"Decision Tree\")\n",
        "plt.ylabel(\"Accuracy\")"
      ]
    },
    {
      "cell_type": "code",
      "execution_count": 140,
      "id": "4df77dd4-e4f1-4b17-8ba0-92a95d16a344",
      "metadata": {
        "colab": {
          "base_uri": "https://localhost:8080/"
        },
        "id": "4df77dd4-e4f1-4b17-8ba0-92a95d16a344",
        "outputId": "674ed582-05eb-4bdf-9927-bb1543d2b0ce"
      },
      "outputs": [
        {
          "output_type": "stream",
          "name": "stderr",
          "text": [
            "/usr/local/lib/python3.8/dist-packages/sklearn/utils/validation.py:993: DataConversionWarning: A column-vector y was passed when a 1d array was expected. Please change the shape of y to (n_samples, ), for example using ravel().\n",
            "  y = column_or_1d(y, warn=True)\n",
            "/usr/local/lib/python3.8/dist-packages/sklearn/linear_model/_logistic.py:814: ConvergenceWarning: lbfgs failed to converge (status=1):\n",
            "STOP: TOTAL NO. of ITERATIONS REACHED LIMIT.\n",
            "\n",
            "Increase the number of iterations (max_iter) or scale the data as shown in:\n",
            "    https://scikit-learn.org/stable/modules/preprocessing.html\n",
            "Please also refer to the documentation for alternative solver options:\n",
            "    https://scikit-learn.org/stable/modules/linear_model.html#logistic-regression\n",
            "  n_iter_i = _check_optimize_result(\n",
            "/usr/local/lib/python3.8/dist-packages/sklearn/utils/validation.py:993: DataConversionWarning: A column-vector y was passed when a 1d array was expected. Please change the shape of y to (n_samples, ), for example using ravel().\n",
            "  y = column_or_1d(y, warn=True)\n",
            "/usr/local/lib/python3.8/dist-packages/sklearn/linear_model/_logistic.py:814: ConvergenceWarning: lbfgs failed to converge (status=1):\n",
            "STOP: TOTAL NO. of ITERATIONS REACHED LIMIT.\n",
            "\n",
            "Increase the number of iterations (max_iter) or scale the data as shown in:\n",
            "    https://scikit-learn.org/stable/modules/preprocessing.html\n",
            "Please also refer to the documentation for alternative solver options:\n",
            "    https://scikit-learn.org/stable/modules/linear_model.html#logistic-regression\n",
            "  n_iter_i = _check_optimize_result(\n",
            "/usr/local/lib/python3.8/dist-packages/sklearn/utils/validation.py:993: DataConversionWarning: A column-vector y was passed when a 1d array was expected. Please change the shape of y to (n_samples, ), for example using ravel().\n",
            "  y = column_or_1d(y, warn=True)\n",
            "/usr/local/lib/python3.8/dist-packages/sklearn/linear_model/_logistic.py:814: ConvergenceWarning: lbfgs failed to converge (status=1):\n",
            "STOP: TOTAL NO. of ITERATIONS REACHED LIMIT.\n",
            "\n",
            "Increase the number of iterations (max_iter) or scale the data as shown in:\n",
            "    https://scikit-learn.org/stable/modules/preprocessing.html\n",
            "Please also refer to the documentation for alternative solver options:\n",
            "    https://scikit-learn.org/stable/modules/linear_model.html#logistic-regression\n",
            "  n_iter_i = _check_optimize_result(\n",
            "/usr/local/lib/python3.8/dist-packages/sklearn/utils/validation.py:993: DataConversionWarning: A column-vector y was passed when a 1d array was expected. Please change the shape of y to (n_samples, ), for example using ravel().\n",
            "  y = column_or_1d(y, warn=True)\n",
            "/usr/local/lib/python3.8/dist-packages/sklearn/linear_model/_logistic.py:814: ConvergenceWarning: lbfgs failed to converge (status=1):\n",
            "STOP: TOTAL NO. of ITERATIONS REACHED LIMIT.\n",
            "\n",
            "Increase the number of iterations (max_iter) or scale the data as shown in:\n",
            "    https://scikit-learn.org/stable/modules/preprocessing.html\n",
            "Please also refer to the documentation for alternative solver options:\n",
            "    https://scikit-learn.org/stable/modules/linear_model.html#logistic-regression\n",
            "  n_iter_i = _check_optimize_result(\n",
            "/usr/local/lib/python3.8/dist-packages/sklearn/utils/validation.py:993: DataConversionWarning: A column-vector y was passed when a 1d array was expected. Please change the shape of y to (n_samples, ), for example using ravel().\n",
            "  y = column_or_1d(y, warn=True)\n",
            "/usr/local/lib/python3.8/dist-packages/sklearn/linear_model/_logistic.py:814: ConvergenceWarning: lbfgs failed to converge (status=1):\n",
            "STOP: TOTAL NO. of ITERATIONS REACHED LIMIT.\n",
            "\n",
            "Increase the number of iterations (max_iter) or scale the data as shown in:\n",
            "    https://scikit-learn.org/stable/modules/preprocessing.html\n",
            "Please also refer to the documentation for alternative solver options:\n",
            "    https://scikit-learn.org/stable/modules/linear_model.html#logistic-regression\n",
            "  n_iter_i = _check_optimize_result(\n",
            "/usr/local/lib/python3.8/dist-packages/sklearn/utils/validation.py:993: DataConversionWarning: A column-vector y was passed when a 1d array was expected. Please change the shape of y to (n_samples, ), for example using ravel().\n",
            "  y = column_or_1d(y, warn=True)\n",
            "/usr/local/lib/python3.8/dist-packages/sklearn/linear_model/_logistic.py:814: ConvergenceWarning: lbfgs failed to converge (status=1):\n",
            "STOP: TOTAL NO. of ITERATIONS REACHED LIMIT.\n",
            "\n",
            "Increase the number of iterations (max_iter) or scale the data as shown in:\n",
            "    https://scikit-learn.org/stable/modules/preprocessing.html\n",
            "Please also refer to the documentation for alternative solver options:\n",
            "    https://scikit-learn.org/stable/modules/linear_model.html#logistic-regression\n",
            "  n_iter_i = _check_optimize_result(\n",
            "/usr/local/lib/python3.8/dist-packages/sklearn/utils/validation.py:993: DataConversionWarning: A column-vector y was passed when a 1d array was expected. Please change the shape of y to (n_samples, ), for example using ravel().\n",
            "  y = column_or_1d(y, warn=True)\n",
            "/usr/local/lib/python3.8/dist-packages/sklearn/linear_model/_logistic.py:814: ConvergenceWarning: lbfgs failed to converge (status=1):\n",
            "STOP: TOTAL NO. of ITERATIONS REACHED LIMIT.\n",
            "\n",
            "Increase the number of iterations (max_iter) or scale the data as shown in:\n",
            "    https://scikit-learn.org/stable/modules/preprocessing.html\n",
            "Please also refer to the documentation for alternative solver options:\n",
            "    https://scikit-learn.org/stable/modules/linear_model.html#logistic-regression\n",
            "  n_iter_i = _check_optimize_result(\n",
            "/usr/local/lib/python3.8/dist-packages/sklearn/utils/validation.py:993: DataConversionWarning: A column-vector y was passed when a 1d array was expected. Please change the shape of y to (n_samples, ), for example using ravel().\n",
            "  y = column_or_1d(y, warn=True)\n",
            "/usr/local/lib/python3.8/dist-packages/sklearn/linear_model/_logistic.py:814: ConvergenceWarning: lbfgs failed to converge (status=1):\n",
            "STOP: TOTAL NO. of ITERATIONS REACHED LIMIT.\n",
            "\n",
            "Increase the number of iterations (max_iter) or scale the data as shown in:\n",
            "    https://scikit-learn.org/stable/modules/preprocessing.html\n",
            "Please also refer to the documentation for alternative solver options:\n",
            "    https://scikit-learn.org/stable/modules/linear_model.html#logistic-regression\n",
            "  n_iter_i = _check_optimize_result(\n",
            "/usr/local/lib/python3.8/dist-packages/sklearn/utils/validation.py:993: DataConversionWarning: A column-vector y was passed when a 1d array was expected. Please change the shape of y to (n_samples, ), for example using ravel().\n",
            "  y = column_or_1d(y, warn=True)\n"
          ]
        },
        {
          "output_type": "stream",
          "name": "stdout",
          "text": [
            "CV_scores:  [0.73245614 0.73464912 0.68859649 0.75       0.73464912 0.73245614\n",
            " 0.74122807 0.73026316 0.70175439 0.70614035]\n"
          ]
        },
        {
          "output_type": "stream",
          "name": "stderr",
          "text": [
            "/usr/local/lib/python3.8/dist-packages/sklearn/linear_model/_logistic.py:814: ConvergenceWarning: lbfgs failed to converge (status=1):\n",
            "STOP: TOTAL NO. of ITERATIONS REACHED LIMIT.\n",
            "\n",
            "Increase the number of iterations (max_iter) or scale the data as shown in:\n",
            "    https://scikit-learn.org/stable/modules/preprocessing.html\n",
            "Please also refer to the documentation for alternative solver options:\n",
            "    https://scikit-learn.org/stable/modules/linear_model.html#logistic-regression\n",
            "  n_iter_i = _check_optimize_result(\n",
            "/usr/local/lib/python3.8/dist-packages/sklearn/utils/validation.py:993: DataConversionWarning: A column-vector y was passed when a 1d array was expected. Please change the shape of y to (n_samples, ), for example using ravel().\n",
            "  y = column_or_1d(y, warn=True)\n",
            "/usr/local/lib/python3.8/dist-packages/sklearn/linear_model/_logistic.py:814: ConvergenceWarning: lbfgs failed to converge (status=1):\n",
            "STOP: TOTAL NO. of ITERATIONS REACHED LIMIT.\n",
            "\n",
            "Increase the number of iterations (max_iter) or scale the data as shown in:\n",
            "    https://scikit-learn.org/stable/modules/preprocessing.html\n",
            "Please also refer to the documentation for alternative solver options:\n",
            "    https://scikit-learn.org/stable/modules/linear_model.html#logistic-regression\n",
            "  n_iter_i = _check_optimize_result(\n"
          ]
        }
      ],
      "source": [
        "# Cross validation for Logictic regression\n",
        "from sklearn.model_selection import cross_val_score\n",
        "from sklearn.linear_model import LogisticRegression\n",
        "CV_scores_lr = cross_val_score(estimator = logistic_model, X = X_train, y = y_train, cv = 10, scoring = 'accuracy')\n",
        "print(\"CV_scores: \", CV_scores_lr)"
      ]
    },
    {
      "cell_type": "code",
      "source": [
        "# Accuracy, Precision, Recall and F1-score\n",
        "y_test_pred3= random_forest_model.predict(x_test_normalized)\n",
        "print(\"Accuracy: \", metrics.accuracy_score(y_test_pred3,y_test))\n",
        "print(\"Precision:\",precision_score(y_test_pred3.astype(int), y_test.astype(int)))\n",
        "print(\"recall_score:\",recall_score(y_test_pred3.astype(int), y_test.astype(int)))\n",
        "print(\"f1_score:\",f1_score(y_test_pred3.astype(int), y_test.astype(int)))"
      ],
      "metadata": {
        "colab": {
          "base_uri": "https://localhost:8080/"
        },
        "id": "acQJmZMo8SIy",
        "outputId": "f0503f99-ea5d-4328-be35-0cc61bd2523d"
      },
      "id": "acQJmZMo8SIy",
      "execution_count": 138,
      "outputs": [
        {
          "output_type": "stream",
          "name": "stdout",
          "text": [
            "Accuracy:  0.7236842105263158\n",
            "Precision: 0.7529880478087649\n",
            "recall_score: 0.664323374340949\n",
            "f1_score: 0.7058823529411764\n"
          ]
        }
      ]
    },
    {
      "cell_type": "code",
      "execution_count": 144,
      "id": "0ce89851-776a-4286-9980-c23d8ec44775",
      "metadata": {
        "colab": {
          "base_uri": "https://localhost:8080/"
        },
        "id": "0ce89851-776a-4286-9980-c23d8ec44775",
        "outputId": "94fde59a-70d0-40b2-a684-3ea45969e527"
      },
      "outputs": [
        {
          "output_type": "stream",
          "name": "stdout",
          "text": [
            "Accuracy:  0.4842105263157895\n",
            "Precision: 0.9183266932270916\n",
            "recall_score: 0.4573412698412698\n",
            "f1_score: 0.5733676046176047\n",
            "ROC Curve: 0.6105960264900662\n"
          ]
        },
        {
          "output_type": "stream",
          "name": "stderr",
          "text": [
            "/usr/local/lib/python3.8/dist-packages/sklearn/base.py:443: UserWarning: X has feature names, but RandomForestClassifier was fitted without feature names\n",
            "  warnings.warn(\n"
          ]
        }
      ],
      "source": [
        "y_test_pred_lr = random_forest_model.predict(X_test)\n",
        "from sklearn import metrics\n",
        "from sklearn.metrics import accuracy_score\n",
        "from sklearn.metrics import precision_score,recall_score,f1_score\n",
        "logistic_model_acc_cv = metrics.accuracy_score(y_test_pred_lr,y_test)\n",
        "logistic_model_prec_cv = precision_score(y_test_pred_lr, y_test)\n",
        "logistic_model_recall_cv = recall_score(y_test_pred_lr, y_test)\n",
        "logistic_model_f1_cv = f1_score(y_test_pred_lr, y_test)\n",
        "logistic_model_roc_cv = roc_auc_score(y_test_pred_lr, y_test)\n",
        "print(\"Accuracy: \", logistic_model_acc_cv)\n",
        "print(\"Precision:\",logistic_model_prec_cv)\n",
        "print(\"recall_score:\",logistic_model_recall_cv)\n",
        "print(\"f1_score:\",logistic_model_roc_cv)\n",
        "print(\"ROC Curve:\",logistic_model_f1_cv)"
      ]
    },
    {
      "cell_type": "code",
      "execution_count": 61,
      "id": "b9a2c68d-9ca6-4618-ae75-eb077e011a48",
      "metadata": {
        "colab": {
          "base_uri": "https://localhost:8080/",
          "height": 313
        },
        "id": "b9a2c68d-9ca6-4618-ae75-eb077e011a48",
        "outputId": "6d212d91-68bc-4b99-d739-c4ae3bd8cf33"
      },
      "outputs": [
        {
          "output_type": "execute_result",
          "data": {
            "text/plain": [
              "Text(0, 0.5, 'Accuracy')"
            ]
          },
          "metadata": {},
          "execution_count": 61
        },
        {
          "output_type": "display_data",
          "data": {
            "text/plain": [
              "<Figure size 432x288 with 1 Axes>"
            ],
            "image/png": "[encoded data removed]"
          },
          "metadata": {
            "needs_background": "light"
          }
        }
      ],
      "source": [
        "plt.boxplot(CV_scores_lr)\n",
        "plt.title(\"10-fold cross validation accuracy\")\n",
        "plt.xlabel(\"Logistic Regression\")\n",
        "plt.ylabel(\"Accuracy\")"
      ]
    },
    {
      "cell_type": "code",
      "execution_count": 107,
      "id": "e91e9ea2-c411-4e39-9a4b-abe51daf98e2",
      "metadata": {
        "colab": {
          "base_uri": "https://localhost:8080/"
        },
        "id": "e91e9ea2-c411-4e39-9a4b-abe51daf98e2",
        "outputId": "68b0cc00-d6ab-45af-dae1-8269f4b553c4"
      },
      "outputs": [
        {
          "output_type": "stream",
          "name": "stderr",
          "text": [
            "/usr/local/lib/python3.8/dist-packages/sklearn/model_selection/_validation.py:680: DataConversionWarning: A column-vector y was passed when a 1d array was expected. Please change the shape of y to (n_samples,), for example using ravel().\n",
            "  estimator.fit(X_train, y_train, **fit_params)\n",
            "/usr/local/lib/python3.8/dist-packages/sklearn/model_selection/_validation.py:680: DataConversionWarning: A column-vector y was passed when a 1d array was expected. Please change the shape of y to (n_samples,), for example using ravel().\n",
            "  estimator.fit(X_train, y_train, **fit_params)\n",
            "/usr/local/lib/python3.8/dist-packages/sklearn/model_selection/_validation.py:680: DataConversionWarning: A column-vector y was passed when a 1d array was expected. Please change the shape of y to (n_samples,), for example using ravel().\n",
            "  estimator.fit(X_train, y_train, **fit_params)\n",
            "/usr/local/lib/python3.8/dist-packages/sklearn/model_selection/_validation.py:680: DataConversionWarning: A column-vector y was passed when a 1d array was expected. Please change the shape of y to (n_samples,), for example using ravel().\n",
            "  estimator.fit(X_train, y_train, **fit_params)\n",
            "/usr/local/lib/python3.8/dist-packages/sklearn/model_selection/_validation.py:680: DataConversionWarning: A column-vector y was passed when a 1d array was expected. Please change the shape of y to (n_samples,), for example using ravel().\n",
            "  estimator.fit(X_train, y_train, **fit_params)\n"
          ]
        },
        {
          "output_type": "stream",
          "name": "stdout",
          "text": [
            "CV_scores:  [0.72039474 0.73026316 0.73026316 0.72807018 0.72587719]\n"
          ]
        }
      ],
      "source": [
        "# Cross validation for Random Forest\n",
        "from sklearn.ensemble import RandomForestClassifier\n",
        "from sklearn.model_selection import cross_val_score\n",
        "model1 = random_forest_model\n",
        "CV_scores_random_forest_model = cross_val_score(estimator = model1, X = X_train, y = y_train, cv = 5, scoring = 'accuracy')\n",
        "print(\"CV_scores: \", CV_scores_random_forest_model)"
      ]
    },
    {
      "cell_type": "code",
      "execution_count": 160,
      "id": "76228fa9-a696-490f-8041-c7069ae462ca",
      "metadata": {
        "colab": {
          "base_uri": "https://localhost:8080/"
        },
        "id": "76228fa9-a696-490f-8041-c7069ae462ca",
        "outputId": "f73bd101-d5c4-4142-a23d-6c76044e2652"
      },
      "outputs": [
        {
          "output_type": "stream",
          "name": "stdout",
          "text": [
            "Accuracy:  0.4842105263157895\n",
            "Precision: 0.9183266932270916\n",
            "recall_score: 0.4573412698412698\n",
            "f1_score: 0.5733676046176047\n",
            "ROC Curve: 0.6105960264900662\n"
          ]
        },
        {
          "output_type": "stream",
          "name": "stderr",
          "text": [
            "/usr/local/lib/python3.8/dist-packages/sklearn/base.py:443: UserWarning: X has feature names, but RandomForestClassifier was fitted without feature names\n",
            "  warnings.warn(\n"
          ]
        }
      ],
      "source": [
        "y_test_pred_rf = random_forest_model.predict(X_test)\n",
        "from sklearn import metrics\n",
        "from sklearn.metrics import accuracy_score\n",
        "from sklearn.metrics import precision_score,recall_score,f1_score\n",
        "random_forest_acc_cv = metrics.accuracy_score(y_test_pred_rf,y_test)\n",
        "random_forest_prec_cv = precision_score(y_test_pred_rf, y_test)\n",
        "random_forest_recall_cv = recall_score(y_test_pred_rf, y_test)\n",
        "random_forest_f1_cv = f1_score(y_test_pred_rf, y_test)\n",
        "random_forest_roc_cv = roc_auc_score(y_test_pred_rf, y_test)\n",
        "print(\"Accuracy: \", random_forest_acc_cv)\n",
        "print(\"Precision:\",random_forest_prec_cv)\n",
        "print(\"recall_score:\",random_forest_recall_cv)\n",
        "print(\"f1_score:\",random_forest_roc_cv)\n",
        "print(\"ROC Curve:\",random_forest_f1_cv)"
      ]
    },
    {
      "cell_type": "code",
      "execution_count": 66,
      "id": "237e5a46-c339-49b6-80cb-38911a9d9c8e",
      "metadata": {
        "colab": {
          "base_uri": "https://localhost:8080/",
          "height": 313
        },
        "id": "237e5a46-c339-49b6-80cb-38911a9d9c8e",
        "outputId": "a7f819b6-abed-487a-b34e-88f56d110ced"
      },
      "outputs": [
        {
          "output_type": "execute_result",
          "data": {
            "text/plain": [
              "Text(0, 0.5, 'Accuracy')"
            ]
          },
          "metadata": {},
          "execution_count": 66
        },
        {
          "output_type": "display_data",
          "data": {
            "text/plain": [
              "<Figure size 432x288 with 1 Axes>"
            ],
            "image/png": "[encoded data removed]"
          },
          "metadata": {
            "needs_background": "light"
          }
        }
      ],
      "source": [
        "plt.boxplot(CV_scores_random_forest_model)\n",
        "plt.title(\"10-fold cross validation accuracy\")\n",
        "plt.xlabel(\"Random Forest\")\n",
        "plt.ylabel(\"Accuracy\")"
      ]
    },
    {
      "cell_type": "code",
      "execution_count": 67,
      "id": "4a372176-bfc9-4d5f-82dc-338afdcfd742",
      "metadata": {
        "id": "4a372176-bfc9-4d5f-82dc-338afdcfd742"
      },
      "outputs": [],
      "source": [
        "# Evalution Metrics\n",
        "TablarData_cv = {'Methods': ['Decision Tree','Random Forest','Logistic Model'],\n",
        "        'Accuracy': [decision_tree_acc_cv, random_forest_acc_cv, logistic_model_acc_cv ],\n",
        "        'Precision':[decision_tree_prec_cv, random_forest_prec_cv, logistic_model_prec_cv],\n",
        "        'Recall':[decision_tree_recall_cv, random_forest_recall_cv, logistic_model_recall_cv],\n",
        "        'F1-score':[decision_tree_f1_cv, random_forest_f1_cv, logistic_model_f1_cv],\n",
        "        'AUC score':[decision_tree_roc_cv, random_forest_roc_cv, logistic_model_roc_cv]}\n",
        "\n",
        "evaluation_metrics_cv =pd.DataFrame(TablarData_cv)"
      ]
    },
    {
      "cell_type": "code",
      "source": [
        "pip install gradio"
      ],
      "metadata": {
        "colab": {
          "base_uri": "https://localhost:8080/"
        },
        "id": "ToNx2yzypmfQ",
        "outputId": "06d15dde-d8bd-462a-8b88-79af0ea0a35e"
      },
      "id": "ToNx2yzypmfQ",
      "execution_count": 72,
      "outputs": [
        {
          "output_type": "stream",
          "name": "stdout",
          "text": [
            "Looking in indexes: https://pypi.org/simple, https://us-python.pkg.dev/colab-wheels/public/simple/\n",
            "Collecting gradio\n",
            "  Downloading gradio-3.14.0-py3-none-any.whl (13.8 MB)\n",
            "\u001b[K     |████████████████████████████████| 13.8 MB 4.3 MB/s \n",
            "\u001b[?25hRequirement already satisfied: pyyaml in /usr/local/lib/python3.8/dist-packages (from gradio) (6.0)\n",
            "Collecting uvicorn\n",
            "  Downloading uvicorn-0.20.0-py3-none-any.whl (56 kB)\n",
            "\u001b[K     |████████████████████████████████| 56 kB 4.9 MB/s \n",
            "\u001b[?25hRequirement already satisfied: aiohttp in /usr/local/lib/python3.8/dist-packages (from gradio) (3.8.3)\n",
            "Collecting websockets>=10.0\n",
            "  Downloading websockets-10.4-cp38-cp38-manylinux_2_5_x86_64.manylinux1_x86_64.manylinux_2_17_x86_64.manylinux2014_x86_64.whl (106 kB)\n",
            "\u001b[K     |████████████████████████████████| 106 kB 49.8 MB/s \n",
            "\u001b[?25hCollecting python-multipart\n",
            "  Downloading python-multipart-0.0.5.tar.gz (32 kB)\n",
            "Requirement already satisfied: fsspec in /usr/local/lib/python3.8/dist-packages (from gradio) (2022.11.0)\n",
            "Requirement already satisfied: requests in /usr/local/lib/python3.8/dist-packages (from gradio) (2.23.0)\n",
            "Collecting pydub\n",
            "  Downloading pydub-0.25.1-py2.py3-none-any.whl (32 kB)\n",
            "Requirement already satisfied: jinja2 in /usr/local/lib/python3.8/dist-packages (from gradio) (2.11.3)\n",
            "Requirement already satisfied: matplotlib in /usr/local/lib/python3.8/dist-packages (from gradio) (3.2.2)\n",
            "Collecting markdown-it-py[linkify,plugins]\n",
            "  Downloading markdown_it_py-2.1.0-py3-none-any.whl (84 kB)\n",
            "\u001b[K     |████████████████████████████████| 84 kB 3.7 MB/s \n",
            "\u001b[?25hCollecting orjson\n",
            "  Downloading orjson-3.8.3-cp38-cp38-manylinux_2_17_x86_64.manylinux2014_x86_64.whl (278 kB)\n",
            "\u001b[K     |████████████████████████████████| 278 kB 42.0 MB/s \n",
            "\u001b[?25hRequirement already satisfied: pillow in /usr/local/lib/python3.8/dist-packages (from gradio) (7.1.2)\n",
            "Collecting ffmpy\n",
            "  Downloading ffmpy-0.3.0.tar.gz (4.8 kB)\n",
            "Collecting fastapi\n",
            "  Downloading fastapi-0.88.0-py3-none-any.whl (55 kB)\n",
            "\u001b[K     |████████████████████████████████| 55 kB 3.8 MB/s \n",
            "\u001b[?25hRequirement already satisfied: markupsafe in /usr/local/lib/python3.8/dist-packages (from gradio) (2.0.1)\n",
            "Requirement already satisfied: altair in /usr/local/lib/python3.8/dist-packages (from gradio) (4.2.0)\n",
            "Requirement already satisfied: pydantic in /usr/local/lib/python3.8/dist-packages (from gradio) (1.10.2)\n",
            "Requirement already satisfied: numpy in /usr/local/lib/python3.8/dist-packages (from gradio) (1.21.6)\n",
            "Requirement already satisfied: pandas in /usr/local/lib/python3.8/dist-packages (from gradio) (1.3.5)\n",
            "Collecting pycryptodome\n",
            "  Downloading pycryptodome-3.16.0-cp35-abi3-manylinux_2_5_x86_64.manylinux1_x86_64.manylinux_2_12_x86_64.manylinux2010_x86_64.whl (2.3 MB)\n",
            "\u001b[K     |████████████████████████████████| 2.3 MB 59.0 MB/s \n",
            "\u001b[?25hCollecting httpx\n",
            "  Downloading httpx-0.23.1-py3-none-any.whl (84 kB)\n",
            "\u001b[K     |████████████████████████████████| 84 kB 4.0 MB/s \n",
            "\u001b[?25hRequirement already satisfied: yarl<2.0,>=1.0 in /usr/local/lib/python3.8/dist-packages (from aiohttp->gradio) (1.8.2)\n",
            "Requirement already satisfied: async-timeout<5.0,>=4.0.0a3 in /usr/local/lib/python3.8/dist-packages (from aiohttp->gradio) (4.0.2)\n",
            "Requirement already satisfied: charset-normalizer<3.0,>=2.0 in /usr/local/lib/python3.8/dist-packages (from aiohttp->gradio) (2.1.1)\n",
            "Requirement already satisfied: frozenlist>=1.1.1 in /usr/local/lib/python3.8/dist-packages (from aiohttp->gradio) (1.3.3)\n",
            "Requirement already satisfied: aiosignal>=1.1.2 in /usr/local/lib/python3.8/dist-packages (from aiohttp->gradio) (1.3.1)\n",
            "Requirement already satisfied: attrs>=17.3.0 in /usr/local/lib/python3.8/dist-packages (from aiohttp->gradio) (22.1.0)\n",
            "Requirement already satisfied: multidict<7.0,>=4.5 in /usr/local/lib/python3.8/dist-packages (from aiohttp->gradio) (6.0.3)\n",
            "Requirement already satisfied: idna>=2.0 in /usr/local/lib/python3.8/dist-packages (from yarl<2.0,>=1.0->aiohttp->gradio) (2.10)\n",
            "Requirement already satisfied: toolz in /usr/local/lib/python3.8/dist-packages (from altair->gradio) (0.12.0)\n",
            "Requirement already satisfied: entrypoints in /usr/local/lib/python3.8/dist-packages (from altair->gradio) (0.4)\n",
            "Requirement already satisfied: jsonschema>=3.0 in /usr/local/lib/python3.8/dist-packages (from altair->gradio) (4.3.3)\n",
            "Requirement already satisfied: importlib-resources>=1.4.0 in /usr/local/lib/python3.8/dist-packages (from jsonschema>=3.0->altair->gradio) (5.10.1)\n",
            "Requirement already satisfied: pyrsistent!=0.17.0,!=0.17.1,!=0.17.2,>=0.14.0 in /usr/local/lib/python3.8/dist-packages (from jsonschema>=3.0->altair->gradio) (0.19.2)\n",
            "Requirement already satisfied: zipp>=3.1.0 in /usr/local/lib/python3.8/dist-packages (from importlib-resources>=1.4.0->jsonschema>=3.0->altair->gradio) (3.11.0)\n",
            "Requirement already satisfied: python-dateutil>=2.7.3 in /usr/local/lib/python3.8/dist-packages (from pandas->gradio) (2.8.2)\n",
            "Requirement already satisfied: pytz>=2017.3 in /usr/local/lib/python3.8/dist-packages (from pandas->gradio) (2022.6)\n",
            "Requirement already satisfied: six>=1.5 in /usr/local/lib/python3.8/dist-packages (from python-dateutil>=2.7.3->pandas->gradio) (1.15.0)\n",
            "Collecting starlette==0.22.0\n",
            "  Downloading starlette-0.22.0-py3-none-any.whl (64 kB)\n",
            "\u001b[K     |████████████████████████████████| 64 kB 3.0 MB/s \n",
            "\u001b[?25hCollecting anyio<5,>=3.4.0\n",
            "  Downloading anyio-3.6.2-py3-none-any.whl (80 kB)\n",
            "\u001b[K     |████████████████████████████████| 80 kB 8.4 MB/s \n",
            "\u001b[?25hRequirement already satisfied: typing-extensions>=3.10.0 in /usr/local/lib/python3.8/dist-packages (from starlette==0.22.0->fastapi->gradio) (4.4.0)\n",
            "Collecting sniffio>=1.1\n",
            "  Downloading sniffio-1.3.0-py3-none-any.whl (10 kB)\n",
            "Collecting httpcore<0.17.0,>=0.15.0\n",
            "  Downloading httpcore-0.16.2-py3-none-any.whl (68 kB)\n",
            "\u001b[K     |████████████████████████████████| 68 kB 7.6 MB/s \n",
            "\u001b[?25hCollecting rfc3986[idna2008]<2,>=1.3\n",
            "  Downloading rfc3986-1.5.0-py2.py3-none-any.whl (31 kB)\n",
            "Requirement already satisfied: certifi in /usr/local/lib/python3.8/dist-packages (from httpx->gradio) (2022.12.7)\n",
            "Collecting h11<0.15,>=0.13\n",
            "  Downloading h11-0.14.0-py3-none-any.whl (58 kB)\n",
            "\u001b[K     |████████████████████████████████| 58 kB 6.8 MB/s \n",
            "\u001b[?25hCollecting mdurl~=0.1\n",
            "  Downloading mdurl-0.1.2-py3-none-any.whl (10.0 kB)\n",
            "Collecting linkify-it-py~=1.0\n",
            "  Downloading linkify_it_py-1.0.3-py3-none-any.whl (19 kB)\n",
            "Collecting mdit-py-plugins\n",
            "  Downloading mdit_py_plugins-0.3.3-py3-none-any.whl (50 kB)\n",
            "\u001b[K     |████████████████████████████████| 50 kB 6.7 MB/s \n",
            "\u001b[?25hCollecting uc-micro-py\n",
            "  Downloading uc_micro_py-1.0.1-py3-none-any.whl (6.2 kB)\n",
            "Requirement already satisfied: cycler>=0.10 in /usr/local/lib/python3.8/dist-packages (from matplotlib->gradio) (0.11.0)\n",
            "Requirement already satisfied: kiwisolver>=1.0.1 in /usr/local/lib/python3.8/dist-packages (from matplotlib->gradio) (1.4.4)\n",
            "Requirement already satisfied: pyparsing!=2.0.4,!=2.1.2,!=2.1.6,>=2.0.1 in /usr/local/lib/python3.8/dist-packages (from matplotlib->gradio) (3.0.9)\n",
            "Requirement already satisfied: chardet<4,>=3.0.2 in /usr/local/lib/python3.8/dist-packages (from requests->gradio) (3.0.4)\n",
            "Requirement already satisfied: urllib3!=1.25.0,!=1.25.1,<1.26,>=1.21.1 in /usr/local/lib/python3.8/dist-packages (from requests->gradio) (1.24.3)\n",
            "Requirement already satisfied: click>=7.0 in /usr/local/lib/python3.8/dist-packages (from uvicorn->gradio) (7.1.2)\n",
            "Building wheels for collected packages: ffmpy, python-multipart\n",
            "  Building wheel for ffmpy (setup.py) ... \u001b[?25l\u001b[?25hdone\n",
            "  Created wheel for ffmpy: filename=ffmpy-0.3.0-py3-none-any.whl size=4711 sha256=22c33e77450b5e9647b72427a782900ba3756a30b09709a8f03b9a7f5137dbbc\n",
            "  Stored in directory: /root/.cache/pip/wheels/ff/5b/59/913b443e7369dc04b61f607a746b6f7d83fb65e2e19fcc958d\n",
            "  Building wheel for python-multipart (setup.py) ... \u001b[?25l\u001b[?25hdone\n",
            "  Created wheel for python-multipart: filename=python_multipart-0.0.5-py3-none-any.whl size=31678 sha256=dca498b4df73c30b869a48c2d8464da4c8bfdf23ad7bdbc5ce26cba4a33d1e92\n",
            "  Stored in directory: /root/.cache/pip/wheels/9e/fc/1c/cf980e6413d3ee8e70cd8f39e2366b0f487e3e221aeb452eb0\n",
            "Successfully built ffmpy python-multipart\n",
            "Installing collected packages: sniffio, mdurl, uc-micro-py, rfc3986, markdown-it-py, h11, anyio, starlette, mdit-py-plugins, linkify-it-py, httpcore, websockets, uvicorn, python-multipart, pydub, pycryptodome, orjson, httpx, ffmpy, fastapi, gradio\n",
            "Successfully installed anyio-3.6.2 fastapi-0.88.0 ffmpy-0.3.0 gradio-3.14.0 h11-0.14.0 httpcore-0.16.2 httpx-0.23.1 linkify-it-py-1.0.3 markdown-it-py-2.1.0 mdit-py-plugins-0.3.3 mdurl-0.1.2 orjson-3.8.3 pycryptodome-3.16.0 pydub-0.25.1 python-multipart-0.0.5 rfc3986-1.5.0 sniffio-1.3.0 starlette-0.22.0 uc-micro-py-1.0.1 uvicorn-0.20.0 websockets-10.4\n"
          ]
        }
      ]
    },
    {
      "cell_type": "code",
      "execution_count": 221,
      "id": "5b3f57c0-2b0d-4123-92ed-77ca4ee5c50f",
      "metadata": {
        "colab": {
          "base_uri": "https://localhost:8080/",
          "height": 751
        },
        "id": "5b3f57c0-2b0d-4123-92ed-77ca4ee5c50f",
        "outputId": "c6615d99-5a7f-4d13-b653-1bafc1e92240"
      },
      "outputs": [
        {
          "output_type": "stream",
          "name": "stderr",
          "text": [
            "/usr/local/lib/python3.8/dist-packages/gradio/inputs.py:58: UserWarning: Usage of gradio.inputs is deprecated, and will not be supported in the future, please import your component from gradio.components\n",
            "  warnings.warn(\n",
            "/usr/local/lib/python3.8/dist-packages/gradio/deprecation.py:40: UserWarning: `optional` parameter is deprecated, and it has no effect\n",
            "  warnings.warn(value)\n",
            "/usr/local/lib/python3.8/dist-packages/gradio/inputs.py:216: UserWarning: Usage of gradio.inputs is deprecated, and will not be supported in the future, please import your component from gradio.components\n",
            "  warnings.warn(\n"
          ]
        },
        {
          "output_type": "stream",
          "name": "stdout",
          "text": [
            "Colab notebook detected. To show errors in colab notebook, set `debug=True` in `launch()`\n",
            "Note: opening Chrome Inspector may crash demo inside Colab notebooks.\n",
            "\n",
            "To create a public link, set `share=True` in `launch()`.\n"
          ]
        },
        {
          "output_type": "display_data",
          "data": {
            "text/plain": [
              "<IPython.core.display.Javascript object>"
            ],
            "application/javascript": [
              "(async (port, path, width, height, cache, element) => {\n",
              "                        if (!google.colab.kernel.accessAllowed && !cache) {\n",
              "                            return;\n",
              "                        }\n",
              "                        element.appendChild(document.createTextNode(''));\n",
              "                        const url = await google.colab.kernel.proxyPort(port, {cache});\n",
              "\n",
              "                        const external_link = document.createElement('div');\n",
              "                        external_link.innerHTML = `\n",
              "                            <div style=\"font-family: monospace; margin-bottom: 0.5rem\">\n",
              "                                Running on <a href=${new URL(path, url).toString()} target=\"_blank\">\n",
              "                                    https://localhost:${port}${path}\n",
              "                                </a>\n",
              "                            </div>\n",
              "                        `;\n",
              "                        element.appendChild(external_link);\n",
              "\n",
              "                        const iframe = document.createElement('iframe');\n",
              "                        iframe.src = new URL(path, url).toString();\n",
              "                        iframe.height = height;\n",
              "                        iframe.allow = \"autoplay; camera; microphone; clipboard-read; clipboard-write;\"\n",
              "                        iframe.width = width;\n",
              "                        iframe.style.border = 0;\n",
              "                        element.appendChild(iframe);\n",
              "                    })(7874, \"/\", \"100%\", 500, false, window.element)"
            ]
          },
          "metadata": {}
        },
        {
          "output_type": "execute_result",
          "data": {
            "text/plain": []
          },
          "metadata": {},
          "execution_count": 221
        }
      ],
      "source": [
        "import gradio as gr\n",
        "from gradio.outputs import Label\n",
        "from sklearn import preprocessing\n",
        "\n",
        "\n",
        "def multi_inputs(input_2, input_3, input_1, input_5, input_4, input_6, input_7, input_8, input_9, input_10, input_11, input_12, input_13):\n",
        "    output = gr.outputs.Textbox(label = \"Therapeutic Dose of Warfarin\")\n",
        "\n",
        "    intputdata = ['Gender','Race (Reported)','Age','Height (cm)','Weight (kg)','Diabetes','Simvastatin (Zocor)','Amiodarone (Cordarone)','Target INR','INR on Reported Therapeutic Dose of Warfarin','Cyp2C9 genotypes','VKORC1 genotype: -1639 G>A (3673); chr16:31015190; rs9923231; C/T']\n",
        "    \n",
        "    \n",
        "    inputs = [input_2, input_3, input_1, input_5, input_4, input_6, input_7, input_8, input_9, input_10, input_11, input_12]\n",
        "\n",
        "    df1 = pd.DataFrame(data= [inputs],columns= [intputdata])\n",
        "    input_13 = 'Logistic Regression'\n",
        "    \n",
        "    if input_13 == ' Logistic Regression ':\n",
        "        output = logistic_model.predict(df1)\n",
        "        \n",
        "    if output == 0:\n",
        "        output = \"Low dose required\"\n",
        "    else: \n",
        "        output = \"High Dose\"\n",
        "    return output\n",
        "\n",
        "    input_13 = 'Decision Tree'\n",
        "    \n",
        "    if input_13 == ' Decision Tree ':\n",
        "        output = logistic_model.predict(df1)\n",
        "        \n",
        "    if output == 0:\n",
        "        output = \"Low dose required\"\n",
        "    else: \n",
        "        output = \"High Dose\"\n",
        "    return output\n",
        "\n",
        "    input_13 = 'Random Forest'\n",
        "    \n",
        "    if input_13 == ' Random Forest ':\n",
        "        output = logistic_model.predict(df1)\n",
        "        \n",
        "    if output == 0:\n",
        "        output = \"Low dose required\"\n",
        "    else: \n",
        "        output = \"High Dose\"\n",
        "    return output\n",
        "    \n",
        "input_1 = gr.inputs.Number(label = \"Age\")\n",
        "input_2 = gr.inputs.Dropdown(choices=[\"0\", \"1\"], label = \"Gender\")\n",
        "input_3 = gr.inputs.Dropdown(choices=[\"0\", \"1\", \"2\", \"3\", \"4\", \"5\"], label = \"Race\")\n",
        "input_4 = gr.inputs.Number(label = \"Weight\")\n",
        "input_5 = gr.inputs.Number(label = \"Height\")\n",
        "input_6 = gr.inputs.Dropdown(choices=[\"1\", \"0\"], label = \"Diabetes\")\n",
        "input_7 = gr.inputs.Dropdown(choices=[\"1\", \"0\"], label = \"Simvastatin (Zocor)\")\n",
        "input_8 = gr.inputs.Dropdown(choices=[\"1\", \"0\"], label = \"Amiodarone (Cordarone)\")\n",
        "input_9 = gr.inputs.Number(label = \"Target INR\")\n",
        "input_10 = gr.inputs.Number(label = \"INR on Reported Therapeutic Dose of Warfarin\")\n",
        "input_11 = gr.inputs.Dropdown(choices=[\"1\", \"2\", \"3\", \"4\", \"5\", \"6\", \"7\", \"8\", \"9\", \"10\", \"11\", \"12\", \"13\"], label = \"Cyp2C9 genotypes\")\n",
        "input_12 = gr.inputs.Dropdown(choices=[\"0\", \"2\", \"1\"], label = \"VKORC1 genotype: -1639 G>A (3673); chr16:31015190; rs9923231; C/T\")\n",
        "input_13 = gr.inputs.Dropdown(choices=[\"Decision Tree\", \"Logistic Regression\", \"Random Forest\"], label = \"Model\")\n",
        "\n",
        "\n",
        "gr.Interface(fn= multi_inputs, inputs=[input_1, input_2, input_3, input_4, input_5, input_6, input_7, input_8, input_9, input_10, input_11, input_12, input_13], \n",
        "             outputs=[output]\n",
        "            ).launch()"
      ]
    }
  ],
  "metadata": {
    "kernelspec": {
      "display_name": "Python 3 (ipykernel)",
      "language": "python",
      "name": "python3"
    },
    "language_info": {
      "codemirror_mode": {
        "name": "ipython",
        "version": 3
      },
      "file_extension": ".py",
      "mimetype": "text/x-python",
      "name": "python",
      "nbconvert_exporter": "python",
      "pygments_lexer": "ipython3",
      "version": "3.9.12"
    },
    "colab": {
      "provenance": []
    }
  },
  "nbformat": 4,
  "nbformat_minor": 5
}