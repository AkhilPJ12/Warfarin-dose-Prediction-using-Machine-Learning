{
 "cells": [
  {
   "cell_type": "code",
   "execution_count": 1091,
   "id": "e75ef297",
   "metadata": {},
   "outputs": [],
   "source": [
    "# Reading excel file\n",
    "import pandas as pd\n",
    "import numpy as np\n",
    "df = pd.read_excel('FinalData.xls')"
   ]
  },
  {
   "cell_type": "code",
   "execution_count": 1092,
   "id": "1d76b7de",
   "metadata": {},
   "outputs": [
    {
     "data": {
      "text/html": [
       "<div>\n",
       "<style scoped>\n",
       "    .dataframe tbody tr th:only-of-type {\n",
       "        vertical-align: middle;\n",
       "    }\n",
       "\n",
       "    .dataframe tbody tr th {\n",
       "        vertical-align: top;\n",
       "    }\n",
       "\n",
       "    .dataframe thead th {\n",
       "        text-align: right;\n",
       "    }\n",
       "</style>\n",
       "<table border=\"1\" class=\"dataframe\">\n",
       "  <thead>\n",
       "    <tr style=\"text-align: right;\">\n",
       "      <th></th>\n",
       "      <th>Gender</th>\n",
       "      <th>Race (Reported)</th>\n",
       "      <th>Age</th>\n",
       "      <th>Height (cm)</th>\n",
       "      <th>Weight (kg)</th>\n",
       "      <th>Diabetes</th>\n",
       "      <th>Simvastatin (Zocor)</th>\n",
       "      <th>Amiodarone (Cordarone)</th>\n",
       "      <th>Target INR</th>\n",
       "      <th>INR on Reported Therapeutic Dose of Warfarin</th>\n",
       "      <th>Cyp2C9 genotypes</th>\n",
       "      <th>VKORC1 genotype: -1639 G&gt;A (3673); chr16:31015190; rs9923231; C/T</th>\n",
       "      <th>Therapeutic Dose of Warfarin</th>\n",
       "    </tr>\n",
       "  </thead>\n",
       "  <tbody>\n",
       "    <tr>\n",
       "      <th>0</th>\n",
       "      <td>male</td>\n",
       "      <td>White</td>\n",
       "      <td>60 - 69</td>\n",
       "      <td>193.040</td>\n",
       "      <td>115.7</td>\n",
       "      <td>NaN</td>\n",
       "      <td>0.0</td>\n",
       "      <td>0.0</td>\n",
       "      <td>2.5</td>\n",
       "      <td>2.60</td>\n",
       "      <td>*1/*1</td>\n",
       "      <td>A/G</td>\n",
       "      <td>49.0</td>\n",
       "    </tr>\n",
       "    <tr>\n",
       "      <th>1</th>\n",
       "      <td>female</td>\n",
       "      <td>White</td>\n",
       "      <td>50 - 59</td>\n",
       "      <td>176.530</td>\n",
       "      <td>144.2</td>\n",
       "      <td>NaN</td>\n",
       "      <td>0.0</td>\n",
       "      <td>0.0</td>\n",
       "      <td>2.5</td>\n",
       "      <td>2.15</td>\n",
       "      <td>*1/*1</td>\n",
       "      <td>A/A</td>\n",
       "      <td>42.0</td>\n",
       "    </tr>\n",
       "    <tr>\n",
       "      <th>2</th>\n",
       "      <td>female</td>\n",
       "      <td>White</td>\n",
       "      <td>40 - 49</td>\n",
       "      <td>162.560</td>\n",
       "      <td>77.1</td>\n",
       "      <td>NaN</td>\n",
       "      <td>0.0</td>\n",
       "      <td>0.0</td>\n",
       "      <td>2.5</td>\n",
       "      <td>1.90</td>\n",
       "      <td>*1/*1</td>\n",
       "      <td>G/G</td>\n",
       "      <td>53.0</td>\n",
       "    </tr>\n",
       "    <tr>\n",
       "      <th>3</th>\n",
       "      <td>male</td>\n",
       "      <td>White</td>\n",
       "      <td>60 - 69</td>\n",
       "      <td>182.245</td>\n",
       "      <td>90.7</td>\n",
       "      <td>NaN</td>\n",
       "      <td>0.0</td>\n",
       "      <td>0.0</td>\n",
       "      <td>2.5</td>\n",
       "      <td>2.40</td>\n",
       "      <td>*1/*1</td>\n",
       "      <td>A/G</td>\n",
       "      <td>28.0</td>\n",
       "    </tr>\n",
       "    <tr>\n",
       "      <th>4</th>\n",
       "      <td>male</td>\n",
       "      <td>White</td>\n",
       "      <td>50 - 59</td>\n",
       "      <td>167.640</td>\n",
       "      <td>72.6</td>\n",
       "      <td>NaN</td>\n",
       "      <td>0.0</td>\n",
       "      <td>0.0</td>\n",
       "      <td>2.5</td>\n",
       "      <td>1.90</td>\n",
       "      <td>*1/*3</td>\n",
       "      <td>A/G</td>\n",
       "      <td>42.0</td>\n",
       "    </tr>\n",
       "  </tbody>\n",
       "</table>\n",
       "</div>"
      ],
      "text/plain": [
       "   Gender Race (Reported)      Age  Height (cm)  Weight (kg)  Diabetes  \\\n",
       "0    male           White  60 - 69      193.040        115.7       NaN   \n",
       "1  female           White  50 - 59      176.530        144.2       NaN   \n",
       "2  female           White  40 - 49      162.560         77.1       NaN   \n",
       "3    male           White  60 - 69      182.245         90.7       NaN   \n",
       "4    male           White  50 - 59      167.640         72.6       NaN   \n",
       "\n",
       "   Simvastatin (Zocor)  Amiodarone (Cordarone)  Target INR  \\\n",
       "0                  0.0                     0.0         2.5   \n",
       "1                  0.0                     0.0         2.5   \n",
       "2                  0.0                     0.0         2.5   \n",
       "3                  0.0                     0.0         2.5   \n",
       "4                  0.0                     0.0         2.5   \n",
       "\n",
       "   INR on Reported Therapeutic Dose of Warfarin Cyp2C9 genotypes  \\\n",
       "0                                          2.60            *1/*1   \n",
       "1                                          2.15            *1/*1   \n",
       "2                                          1.90            *1/*1   \n",
       "3                                          2.40            *1/*1   \n",
       "4                                          1.90            *1/*3   \n",
       "\n",
       "  VKORC1 genotype: -1639 G>A (3673); chr16:31015190; rs9923231; C/T  \\\n",
       "0                                                A/G                  \n",
       "1                                                A/A                  \n",
       "2                                                G/G                  \n",
       "3                                                A/G                  \n",
       "4                                                A/G                  \n",
       "\n",
       "   Therapeutic Dose of Warfarin  \n",
       "0                          49.0  \n",
       "1                          42.0  \n",
       "2                          53.0  \n",
       "3                          28.0  \n",
       "4                          42.0  "
      ]
     },
     "execution_count": 1092,
     "metadata": {},
     "output_type": "execute_result"
    }
   ],
   "source": [
    "# Check first 5 rows of the dataset\n",
    "df.head()"
   ]
  },
  {
   "cell_type": "code",
   "execution_count": 1093,
   "id": "264293ca",
   "metadata": {},
   "outputs": [
    {
     "data": {
      "text/plain": [
       "Index(['Gender', 'Race (Reported)', 'Age', 'Height (cm)', 'Weight (kg)',\n",
       "       'Diabetes', 'Simvastatin (Zocor)', 'Amiodarone (Cordarone)',\n",
       "       'Target INR', 'INR on Reported Therapeutic Dose of Warfarin',\n",
       "       'Cyp2C9 genotypes',\n",
       "       'VKORC1 genotype: -1639 G>A (3673); chr16:31015190; rs9923231; C/T',\n",
       "       'Therapeutic Dose of Warfarin'],\n",
       "      dtype='object')"
      ]
     },
     "execution_count": 1093,
     "metadata": {},
     "output_type": "execute_result"
    }
   ],
   "source": [
    "# Check columns of the dataset\n",
    "df.columns"
   ]
  },
  {
   "cell_type": "code",
   "execution_count": 1094,
   "id": "22de0101",
   "metadata": {},
   "outputs": [
    {
     "name": "stdout",
     "output_type": "stream",
     "text": [
      "<class 'pandas.core.frame.DataFrame'>\n",
      "RangeIndex: 5700 entries, 0 to 5699\n",
      "Data columns (total 13 columns):\n",
      " #   Column                                                             Non-Null Count  Dtype  \n",
      "---  ------                                                             --------------  -----  \n",
      " 0   Gender                                                             5696 non-null   object \n",
      " 1   Race (Reported)                                                    5194 non-null   object \n",
      " 2   Age                                                                5658 non-null   object \n",
      " 3   Height (cm)                                                        4554 non-null   float64\n",
      " 4   Weight (kg)                                                        5413 non-null   float64\n",
      " 5   Diabetes                                                           3283 non-null   float64\n",
      " 6   Simvastatin (Zocor)                                                3861 non-null   float64\n",
      " 7   Amiodarone (Cordarone)                                             4182 non-null   float64\n",
      " 8   Target INR                                                         1259 non-null   float64\n",
      " 9   INR on Reported Therapeutic Dose of Warfarin                       4968 non-null   float64\n",
      " 10  Cyp2C9 genotypes                                                   5567 non-null   object \n",
      " 11  VKORC1 genotype: -1639 G>A (3673); chr16:31015190; rs9923231; C/T  4046 non-null   object \n",
      " 12  Therapeutic Dose of Warfarin                                       5528 non-null   float64\n",
      "dtypes: float64(8), object(5)\n",
      "memory usage: 579.0+ KB\n"
     ]
    }
   ],
   "source": [
    "# Check missing values in the dataset\n",
    "df.info()"
   ]
  },
  {
   "cell_type": "code",
   "execution_count": 1095,
   "id": "c94a3e9c",
   "metadata": {},
   "outputs": [
    {
     "data": {
      "text/html": [
       "<div>\n",
       "<style scoped>\n",
       "    .dataframe tbody tr th:only-of-type {\n",
       "        vertical-align: middle;\n",
       "    }\n",
       "\n",
       "    .dataframe tbody tr th {\n",
       "        vertical-align: top;\n",
       "    }\n",
       "\n",
       "    .dataframe thead th {\n",
       "        text-align: right;\n",
       "    }\n",
       "</style>\n",
       "<table border=\"1\" class=\"dataframe\">\n",
       "  <thead>\n",
       "    <tr style=\"text-align: right;\">\n",
       "      <th></th>\n",
       "      <th>Height (cm)</th>\n",
       "      <th>Weight (kg)</th>\n",
       "      <th>Diabetes</th>\n",
       "      <th>Simvastatin (Zocor)</th>\n",
       "      <th>Amiodarone (Cordarone)</th>\n",
       "      <th>Target INR</th>\n",
       "      <th>INR on Reported Therapeutic Dose of Warfarin</th>\n",
       "      <th>Therapeutic Dose of Warfarin</th>\n",
       "    </tr>\n",
       "  </thead>\n",
       "  <tbody>\n",
       "    <tr>\n",
       "      <th>count</th>\n",
       "      <td>4554.000000</td>\n",
       "      <td>5413.000000</td>\n",
       "      <td>3283.000000</td>\n",
       "      <td>3861.000000</td>\n",
       "      <td>4182.000000</td>\n",
       "      <td>1259.000000</td>\n",
       "      <td>4968.000000</td>\n",
       "      <td>5528.000000</td>\n",
       "    </tr>\n",
       "    <tr>\n",
       "      <th>mean</th>\n",
       "      <td>168.047778</td>\n",
       "      <td>77.852569</td>\n",
       "      <td>0.187024</td>\n",
       "      <td>0.146335</td>\n",
       "      <td>0.066236</td>\n",
       "      <td>2.538324</td>\n",
       "      <td>2.364438</td>\n",
       "      <td>30.977887</td>\n",
       "    </tr>\n",
       "    <tr>\n",
       "      <th>std</th>\n",
       "      <td>10.845992</td>\n",
       "      <td>21.859764</td>\n",
       "      <td>0.389990</td>\n",
       "      <td>0.353488</td>\n",
       "      <td>0.248724</td>\n",
       "      <td>0.198140</td>\n",
       "      <td>0.464644</td>\n",
       "      <td>16.801048</td>\n",
       "    </tr>\n",
       "    <tr>\n",
       "      <th>min</th>\n",
       "      <td>124.968000</td>\n",
       "      <td>30.000000</td>\n",
       "      <td>0.000000</td>\n",
       "      <td>0.000000</td>\n",
       "      <td>0.000000</td>\n",
       "      <td>1.300000</td>\n",
       "      <td>0.800000</td>\n",
       "      <td>2.100000</td>\n",
       "    </tr>\n",
       "    <tr>\n",
       "      <th>25%</th>\n",
       "      <td>160.020000</td>\n",
       "      <td>62.000000</td>\n",
       "      <td>0.000000</td>\n",
       "      <td>0.000000</td>\n",
       "      <td>0.000000</td>\n",
       "      <td>2.500000</td>\n",
       "      <td>2.100000</td>\n",
       "      <td>19.530000</td>\n",
       "    </tr>\n",
       "    <tr>\n",
       "      <th>50%</th>\n",
       "      <td>167.894000</td>\n",
       "      <td>75.000000</td>\n",
       "      <td>0.000000</td>\n",
       "      <td>0.000000</td>\n",
       "      <td>0.000000</td>\n",
       "      <td>2.500000</td>\n",
       "      <td>2.400000</td>\n",
       "      <td>28.000000</td>\n",
       "    </tr>\n",
       "    <tr>\n",
       "      <th>75%</th>\n",
       "      <td>176.022000</td>\n",
       "      <td>90.000000</td>\n",
       "      <td>0.000000</td>\n",
       "      <td>0.000000</td>\n",
       "      <td>0.000000</td>\n",
       "      <td>2.500000</td>\n",
       "      <td>2.610000</td>\n",
       "      <td>38.500000</td>\n",
       "    </tr>\n",
       "    <tr>\n",
       "      <th>max</th>\n",
       "      <td>202.000000</td>\n",
       "      <td>237.700000</td>\n",
       "      <td>1.000000</td>\n",
       "      <td>1.000000</td>\n",
       "      <td>1.000000</td>\n",
       "      <td>3.500000</td>\n",
       "      <td>6.100000</td>\n",
       "      <td>315.000000</td>\n",
       "    </tr>\n",
       "  </tbody>\n",
       "</table>\n",
       "</div>"
      ],
      "text/plain": [
       "       Height (cm)  Weight (kg)     Diabetes  Simvastatin (Zocor)  \\\n",
       "count  4554.000000  5413.000000  3283.000000          3861.000000   \n",
       "mean    168.047778    77.852569     0.187024             0.146335   \n",
       "std      10.845992    21.859764     0.389990             0.353488   \n",
       "min     124.968000    30.000000     0.000000             0.000000   \n",
       "25%     160.020000    62.000000     0.000000             0.000000   \n",
       "50%     167.894000    75.000000     0.000000             0.000000   \n",
       "75%     176.022000    90.000000     0.000000             0.000000   \n",
       "max     202.000000   237.700000     1.000000             1.000000   \n",
       "\n",
       "       Amiodarone (Cordarone)   Target INR  \\\n",
       "count             4182.000000  1259.000000   \n",
       "mean                 0.066236     2.538324   \n",
       "std                  0.248724     0.198140   \n",
       "min                  0.000000     1.300000   \n",
       "25%                  0.000000     2.500000   \n",
       "50%                  0.000000     2.500000   \n",
       "75%                  0.000000     2.500000   \n",
       "max                  1.000000     3.500000   \n",
       "\n",
       "       INR on Reported Therapeutic Dose of Warfarin  \\\n",
       "count                                   4968.000000   \n",
       "mean                                       2.364438   \n",
       "std                                        0.464644   \n",
       "min                                        0.800000   \n",
       "25%                                        2.100000   \n",
       "50%                                        2.400000   \n",
       "75%                                        2.610000   \n",
       "max                                        6.100000   \n",
       "\n",
       "       Therapeutic Dose of Warfarin  \n",
       "count                   5528.000000  \n",
       "mean                      30.977887  \n",
       "std                       16.801048  \n",
       "min                        2.100000  \n",
       "25%                       19.530000  \n",
       "50%                       28.000000  \n",
       "75%                       38.500000  \n",
       "max                      315.000000  "
      ]
     },
     "execution_count": 1095,
     "metadata": {},
     "output_type": "execute_result"
    }
   ],
   "source": [
    "# Describing the dataset\n",
    "df.describe()"
   ]
  },
  {
   "cell_type": "code",
   "execution_count": 1096,
   "id": "9372c587",
   "metadata": {},
   "outputs": [
    {
     "data": {
      "text/html": [
       "<div>\n",
       "<style scoped>\n",
       "    .dataframe tbody tr th:only-of-type {\n",
       "        vertical-align: middle;\n",
       "    }\n",
       "\n",
       "    .dataframe tbody tr th {\n",
       "        vertical-align: top;\n",
       "    }\n",
       "\n",
       "    .dataframe thead th {\n",
       "        text-align: right;\n",
       "    }\n",
       "</style>\n",
       "<table border=\"1\" class=\"dataframe\">\n",
       "  <thead>\n",
       "    <tr style=\"text-align: right;\">\n",
       "      <th></th>\n",
       "      <th>Gender</th>\n",
       "      <th>Race (Reported)</th>\n",
       "      <th>Age</th>\n",
       "      <th>Height (cm)</th>\n",
       "      <th>Weight (kg)</th>\n",
       "      <th>Diabetes</th>\n",
       "      <th>Simvastatin (Zocor)</th>\n",
       "      <th>Amiodarone (Cordarone)</th>\n",
       "      <th>Target INR</th>\n",
       "      <th>INR on Reported Therapeutic Dose of Warfarin</th>\n",
       "      <th>Cyp2C9 genotypes</th>\n",
       "      <th>VKORC1 genotype: -1639 G&gt;A (3673); chr16:31015190; rs9923231; C/T</th>\n",
       "      <th>Therapeutic Dose of Warfarin</th>\n",
       "    </tr>\n",
       "  </thead>\n",
       "  <tbody>\n",
       "    <tr>\n",
       "      <th>0</th>\n",
       "      <td>False</td>\n",
       "      <td>False</td>\n",
       "      <td>False</td>\n",
       "      <td>False</td>\n",
       "      <td>False</td>\n",
       "      <td>True</td>\n",
       "      <td>False</td>\n",
       "      <td>False</td>\n",
       "      <td>False</td>\n",
       "      <td>False</td>\n",
       "      <td>False</td>\n",
       "      <td>False</td>\n",
       "      <td>False</td>\n",
       "    </tr>\n",
       "    <tr>\n",
       "      <th>1</th>\n",
       "      <td>False</td>\n",
       "      <td>False</td>\n",
       "      <td>False</td>\n",
       "      <td>False</td>\n",
       "      <td>False</td>\n",
       "      <td>True</td>\n",
       "      <td>False</td>\n",
       "      <td>False</td>\n",
       "      <td>False</td>\n",
       "      <td>False</td>\n",
       "      <td>False</td>\n",
       "      <td>False</td>\n",
       "      <td>False</td>\n",
       "    </tr>\n",
       "    <tr>\n",
       "      <th>2</th>\n",
       "      <td>False</td>\n",
       "      <td>False</td>\n",
       "      <td>False</td>\n",
       "      <td>False</td>\n",
       "      <td>False</td>\n",
       "      <td>True</td>\n",
       "      <td>False</td>\n",
       "      <td>False</td>\n",
       "      <td>False</td>\n",
       "      <td>False</td>\n",
       "      <td>False</td>\n",
       "      <td>False</td>\n",
       "      <td>False</td>\n",
       "    </tr>\n",
       "    <tr>\n",
       "      <th>3</th>\n",
       "      <td>False</td>\n",
       "      <td>False</td>\n",
       "      <td>False</td>\n",
       "      <td>False</td>\n",
       "      <td>False</td>\n",
       "      <td>True</td>\n",
       "      <td>False</td>\n",
       "      <td>False</td>\n",
       "      <td>False</td>\n",
       "      <td>False</td>\n",
       "      <td>False</td>\n",
       "      <td>False</td>\n",
       "      <td>False</td>\n",
       "    </tr>\n",
       "    <tr>\n",
       "      <th>4</th>\n",
       "      <td>False</td>\n",
       "      <td>False</td>\n",
       "      <td>False</td>\n",
       "      <td>False</td>\n",
       "      <td>False</td>\n",
       "      <td>True</td>\n",
       "      <td>False</td>\n",
       "      <td>False</td>\n",
       "      <td>False</td>\n",
       "      <td>False</td>\n",
       "      <td>False</td>\n",
       "      <td>False</td>\n",
       "      <td>False</td>\n",
       "    </tr>\n",
       "    <tr>\n",
       "      <th>...</th>\n",
       "      <td>...</td>\n",
       "      <td>...</td>\n",
       "      <td>...</td>\n",
       "      <td>...</td>\n",
       "      <td>...</td>\n",
       "      <td>...</td>\n",
       "      <td>...</td>\n",
       "      <td>...</td>\n",
       "      <td>...</td>\n",
       "      <td>...</td>\n",
       "      <td>...</td>\n",
       "      <td>...</td>\n",
       "      <td>...</td>\n",
       "    </tr>\n",
       "    <tr>\n",
       "      <th>5695</th>\n",
       "      <td>False</td>\n",
       "      <td>False</td>\n",
       "      <td>False</td>\n",
       "      <td>False</td>\n",
       "      <td>False</td>\n",
       "      <td>False</td>\n",
       "      <td>False</td>\n",
       "      <td>False</td>\n",
       "      <td>True</td>\n",
       "      <td>False</td>\n",
       "      <td>False</td>\n",
       "      <td>True</td>\n",
       "      <td>False</td>\n",
       "    </tr>\n",
       "    <tr>\n",
       "      <th>5696</th>\n",
       "      <td>False</td>\n",
       "      <td>False</td>\n",
       "      <td>False</td>\n",
       "      <td>False</td>\n",
       "      <td>False</td>\n",
       "      <td>False</td>\n",
       "      <td>False</td>\n",
       "      <td>False</td>\n",
       "      <td>True</td>\n",
       "      <td>False</td>\n",
       "      <td>False</td>\n",
       "      <td>True</td>\n",
       "      <td>False</td>\n",
       "    </tr>\n",
       "    <tr>\n",
       "      <th>5697</th>\n",
       "      <td>False</td>\n",
       "      <td>False</td>\n",
       "      <td>False</td>\n",
       "      <td>False</td>\n",
       "      <td>False</td>\n",
       "      <td>False</td>\n",
       "      <td>False</td>\n",
       "      <td>False</td>\n",
       "      <td>True</td>\n",
       "      <td>False</td>\n",
       "      <td>False</td>\n",
       "      <td>True</td>\n",
       "      <td>False</td>\n",
       "    </tr>\n",
       "    <tr>\n",
       "      <th>5698</th>\n",
       "      <td>False</td>\n",
       "      <td>False</td>\n",
       "      <td>False</td>\n",
       "      <td>False</td>\n",
       "      <td>False</td>\n",
       "      <td>False</td>\n",
       "      <td>False</td>\n",
       "      <td>False</td>\n",
       "      <td>True</td>\n",
       "      <td>False</td>\n",
       "      <td>True</td>\n",
       "      <td>True</td>\n",
       "      <td>False</td>\n",
       "    </tr>\n",
       "    <tr>\n",
       "      <th>5699</th>\n",
       "      <td>False</td>\n",
       "      <td>False</td>\n",
       "      <td>False</td>\n",
       "      <td>False</td>\n",
       "      <td>False</td>\n",
       "      <td>False</td>\n",
       "      <td>False</td>\n",
       "      <td>False</td>\n",
       "      <td>True</td>\n",
       "      <td>False</td>\n",
       "      <td>True</td>\n",
       "      <td>True</td>\n",
       "      <td>False</td>\n",
       "    </tr>\n",
       "  </tbody>\n",
       "</table>\n",
       "<p>5700 rows × 13 columns</p>\n",
       "</div>"
      ],
      "text/plain": [
       "      Gender  Race (Reported)    Age  Height (cm)  Weight (kg)  Diabetes  \\\n",
       "0      False            False  False        False        False      True   \n",
       "1      False            False  False        False        False      True   \n",
       "2      False            False  False        False        False      True   \n",
       "3      False            False  False        False        False      True   \n",
       "4      False            False  False        False        False      True   \n",
       "...      ...              ...    ...          ...          ...       ...   \n",
       "5695   False            False  False        False        False     False   \n",
       "5696   False            False  False        False        False     False   \n",
       "5697   False            False  False        False        False     False   \n",
       "5698   False            False  False        False        False     False   \n",
       "5699   False            False  False        False        False     False   \n",
       "\n",
       "      Simvastatin (Zocor)  Amiodarone (Cordarone)  Target INR  \\\n",
       "0                   False                   False       False   \n",
       "1                   False                   False       False   \n",
       "2                   False                   False       False   \n",
       "3                   False                   False       False   \n",
       "4                   False                   False       False   \n",
       "...                   ...                     ...         ...   \n",
       "5695                False                   False        True   \n",
       "5696                False                   False        True   \n",
       "5697                False                   False        True   \n",
       "5698                False                   False        True   \n",
       "5699                False                   False        True   \n",
       "\n",
       "      INR on Reported Therapeutic Dose of Warfarin  Cyp2C9 genotypes  \\\n",
       "0                                            False             False   \n",
       "1                                            False             False   \n",
       "2                                            False             False   \n",
       "3                                            False             False   \n",
       "4                                            False             False   \n",
       "...                                            ...               ...   \n",
       "5695                                         False             False   \n",
       "5696                                         False             False   \n",
       "5697                                         False             False   \n",
       "5698                                         False              True   \n",
       "5699                                         False              True   \n",
       "\n",
       "      VKORC1 genotype: -1639 G>A (3673); chr16:31015190; rs9923231; C/T  \\\n",
       "0                                                 False                   \n",
       "1                                                 False                   \n",
       "2                                                 False                   \n",
       "3                                                 False                   \n",
       "4                                                 False                   \n",
       "...                                                 ...                   \n",
       "5695                                               True                   \n",
       "5696                                               True                   \n",
       "5697                                               True                   \n",
       "5698                                               True                   \n",
       "5699                                               True                   \n",
       "\n",
       "      Therapeutic Dose of Warfarin  \n",
       "0                            False  \n",
       "1                            False  \n",
       "2                            False  \n",
       "3                            False  \n",
       "4                            False  \n",
       "...                            ...  \n",
       "5695                         False  \n",
       "5696                         False  \n",
       "5697                         False  \n",
       "5698                         False  \n",
       "5699                         False  \n",
       "\n",
       "[5700 rows x 13 columns]"
      ]
     },
     "execution_count": 1096,
     "metadata": {},
     "output_type": "execute_result"
    }
   ],
   "source": [
    "# Checking for NA Values in the dataset\n",
    "df.isna()"
   ]
  },
  {
   "cell_type": "code",
   "execution_count": 1097,
   "id": "0c887932",
   "metadata": {},
   "outputs": [
    {
     "data": {
      "text/plain": [
       "Gender                                                                  4\n",
       "Race (Reported)                                                       506\n",
       "Age                                                                    42\n",
       "Height (cm)                                                          1146\n",
       "Weight (kg)                                                           287\n",
       "Diabetes                                                             2417\n",
       "Simvastatin (Zocor)                                                  1839\n",
       "Amiodarone (Cordarone)                                               1518\n",
       "Target INR                                                           4441\n",
       "INR on Reported Therapeutic Dose of Warfarin                          732\n",
       "Cyp2C9 genotypes                                                      133\n",
       "VKORC1 genotype: -1639 G>A (3673); chr16:31015190; rs9923231; C/T    1654\n",
       "Therapeutic Dose of Warfarin                                          172\n",
       "dtype: int64"
      ]
     },
     "execution_count": 1097,
     "metadata": {},
     "output_type": "execute_result"
    }
   ],
   "source": [
    "# Finding Total Missing Values\n",
    "df.isna().sum()"
   ]
  },
  {
   "cell_type": "code",
   "execution_count": 1098,
   "id": "aeabff61",
   "metadata": {},
   "outputs": [
    {
     "data": {
      "text/plain": [
       "14891"
      ]
     },
     "execution_count": 1098,
     "metadata": {},
     "output_type": "execute_result"
    }
   ],
   "source": [
    "# Total sum of missing values\n",
    "df.isna().sum().sum()"
   ]
  },
  {
   "cell_type": "code",
   "execution_count": 1099,
   "id": "b742892a",
   "metadata": {},
   "outputs": [],
   "source": [
    "# Replacing missing values with mode\n",
    "df['Gender'] = df['Gender'].fillna(df['Gender'].mode()[0])\n",
    "df['Race (Reported)'] = df['Race (Reported)'].fillna(df['Race (Reported)'].mode()[0])\n",
    "df['Age'] = df['Age'].fillna(df['Age'].mode()[0])\n",
    "df['Cyp2C9 genotypes'] = df['Cyp2C9 genotypes'].fillna(df['Cyp2C9 genotypes'].mode()[0])\n",
    "df['VKORC1 genotype: -1639 G>A (3673); chr16:31015190; rs9923231; C/T'] = df['VKORC1 genotype: -1639 G>A (3673); chr16:31015190; rs9923231; C/T'].fillna(df['VKORC1 genotype: -1639 G>A (3673); chr16:31015190; rs9923231; C/T'].mode()[0])"
   ]
  },
  {
   "cell_type": "code",
   "execution_count": 1100,
   "id": "74fd3e23-5ba4-4d62-87ce-2668afe78da9",
   "metadata": {},
   "outputs": [],
   "source": [
    "# Replacing missing values with mean\n",
    "df['Height (cm)'] = df['Height (cm)'].fillna(df['Height (cm)'].mean())\n",
    "df['Weight (kg)'] = df['Weight (kg)'].fillna(df['Weight (kg)'].mean())\n",
    "df['Diabetes'] = df['Diabetes'].fillna(df['Diabetes'].mean())\n",
    "df['Simvastatin (Zocor)'] = df['Simvastatin (Zocor)'].fillna(df['Simvastatin (Zocor)'].mean())\n",
    "df['Amiodarone (Cordarone)'] = df['Amiodarone (Cordarone)'].fillna(df['Amiodarone (Cordarone)'].mean())\n",
    "df['Target INR'] = df['Target INR'].fillna(df['Target INR'].mean())\n",
    "df['INR on Reported Therapeutic Dose of Warfarin'] = df['INR on Reported Therapeutic Dose of Warfarin'].fillna(df['INR on Reported Therapeutic Dose of Warfarin'].mean())\n",
    "df['Therapeutic Dose of Warfarin'] = df['Therapeutic Dose of Warfarin'].fillna(df['Therapeutic Dose of Warfarin'].mean())"
   ]
  },
  {
   "cell_type": "code",
   "execution_count": 1101,
   "id": "3c63d1c6-50f8-4611-b2bd-e549e93a9ab4",
   "metadata": {},
   "outputs": [
    {
     "data": {
      "text/html": [
       "<div>\n",
       "<style scoped>\n",
       "    .dataframe tbody tr th:only-of-type {\n",
       "        vertical-align: middle;\n",
       "    }\n",
       "\n",
       "    .dataframe tbody tr th {\n",
       "        vertical-align: top;\n",
       "    }\n",
       "\n",
       "    .dataframe thead th {\n",
       "        text-align: right;\n",
       "    }\n",
       "</style>\n",
       "<table border=\"1\" class=\"dataframe\">\n",
       "  <thead>\n",
       "    <tr style=\"text-align: right;\">\n",
       "      <th></th>\n",
       "      <th>Gender</th>\n",
       "      <th>Race (Reported)</th>\n",
       "      <th>Age</th>\n",
       "      <th>Height (cm)</th>\n",
       "      <th>Weight (kg)</th>\n",
       "      <th>Diabetes</th>\n",
       "      <th>Simvastatin (Zocor)</th>\n",
       "      <th>Amiodarone (Cordarone)</th>\n",
       "      <th>Target INR</th>\n",
       "      <th>INR on Reported Therapeutic Dose of Warfarin</th>\n",
       "      <th>Cyp2C9 genotypes</th>\n",
       "      <th>VKORC1 genotype: -1639 G&gt;A (3673); chr16:31015190; rs9923231; C/T</th>\n",
       "      <th>Therapeutic Dose of Warfarin</th>\n",
       "    </tr>\n",
       "  </thead>\n",
       "  <tbody>\n",
       "    <tr>\n",
       "      <th>0</th>\n",
       "      <td>False</td>\n",
       "      <td>False</td>\n",
       "      <td>False</td>\n",
       "      <td>False</td>\n",
       "      <td>False</td>\n",
       "      <td>False</td>\n",
       "      <td>False</td>\n",
       "      <td>False</td>\n",
       "      <td>False</td>\n",
       "      <td>False</td>\n",
       "      <td>False</td>\n",
       "      <td>False</td>\n",
       "      <td>False</td>\n",
       "    </tr>\n",
       "    <tr>\n",
       "      <th>1</th>\n",
       "      <td>False</td>\n",
       "      <td>False</td>\n",
       "      <td>False</td>\n",
       "      <td>False</td>\n",
       "      <td>False</td>\n",
       "      <td>False</td>\n",
       "      <td>False</td>\n",
       "      <td>False</td>\n",
       "      <td>False</td>\n",
       "      <td>False</td>\n",
       "      <td>False</td>\n",
       "      <td>False</td>\n",
       "      <td>False</td>\n",
       "    </tr>\n",
       "    <tr>\n",
       "      <th>2</th>\n",
       "      <td>False</td>\n",
       "      <td>False</td>\n",
       "      <td>False</td>\n",
       "      <td>False</td>\n",
       "      <td>False</td>\n",
       "      <td>False</td>\n",
       "      <td>False</td>\n",
       "      <td>False</td>\n",
       "      <td>False</td>\n",
       "      <td>False</td>\n",
       "      <td>False</td>\n",
       "      <td>False</td>\n",
       "      <td>False</td>\n",
       "    </tr>\n",
       "    <tr>\n",
       "      <th>3</th>\n",
       "      <td>False</td>\n",
       "      <td>False</td>\n",
       "      <td>False</td>\n",
       "      <td>False</td>\n",
       "      <td>False</td>\n",
       "      <td>False</td>\n",
       "      <td>False</td>\n",
       "      <td>False</td>\n",
       "      <td>False</td>\n",
       "      <td>False</td>\n",
       "      <td>False</td>\n",
       "      <td>False</td>\n",
       "      <td>False</td>\n",
       "    </tr>\n",
       "    <tr>\n",
       "      <th>4</th>\n",
       "      <td>False</td>\n",
       "      <td>False</td>\n",
       "      <td>False</td>\n",
       "      <td>False</td>\n",
       "      <td>False</td>\n",
       "      <td>False</td>\n",
       "      <td>False</td>\n",
       "      <td>False</td>\n",
       "      <td>False</td>\n",
       "      <td>False</td>\n",
       "      <td>False</td>\n",
       "      <td>False</td>\n",
       "      <td>False</td>\n",
       "    </tr>\n",
       "    <tr>\n",
       "      <th>...</th>\n",
       "      <td>...</td>\n",
       "      <td>...</td>\n",
       "      <td>...</td>\n",
       "      <td>...</td>\n",
       "      <td>...</td>\n",
       "      <td>...</td>\n",
       "      <td>...</td>\n",
       "      <td>...</td>\n",
       "      <td>...</td>\n",
       "      <td>...</td>\n",
       "      <td>...</td>\n",
       "      <td>...</td>\n",
       "      <td>...</td>\n",
       "    </tr>\n",
       "    <tr>\n",
       "      <th>5695</th>\n",
       "      <td>False</td>\n",
       "      <td>False</td>\n",
       "      <td>False</td>\n",
       "      <td>False</td>\n",
       "      <td>False</td>\n",
       "      <td>False</td>\n",
       "      <td>False</td>\n",
       "      <td>False</td>\n",
       "      <td>False</td>\n",
       "      <td>False</td>\n",
       "      <td>False</td>\n",
       "      <td>False</td>\n",
       "      <td>False</td>\n",
       "    </tr>\n",
       "    <tr>\n",
       "      <th>5696</th>\n",
       "      <td>False</td>\n",
       "      <td>False</td>\n",
       "      <td>False</td>\n",
       "      <td>False</td>\n",
       "      <td>False</td>\n",
       "      <td>False</td>\n",
       "      <td>False</td>\n",
       "      <td>False</td>\n",
       "      <td>False</td>\n",
       "      <td>False</td>\n",
       "      <td>False</td>\n",
       "      <td>False</td>\n",
       "      <td>False</td>\n",
       "    </tr>\n",
       "    <tr>\n",
       "      <th>5697</th>\n",
       "      <td>False</td>\n",
       "      <td>False</td>\n",
       "      <td>False</td>\n",
       "      <td>False</td>\n",
       "      <td>False</td>\n",
       "      <td>False</td>\n",
       "      <td>False</td>\n",
       "      <td>False</td>\n",
       "      <td>False</td>\n",
       "      <td>False</td>\n",
       "      <td>False</td>\n",
       "      <td>False</td>\n",
       "      <td>False</td>\n",
       "    </tr>\n",
       "    <tr>\n",
       "      <th>5698</th>\n",
       "      <td>False</td>\n",
       "      <td>False</td>\n",
       "      <td>False</td>\n",
       "      <td>False</td>\n",
       "      <td>False</td>\n",
       "      <td>False</td>\n",
       "      <td>False</td>\n",
       "      <td>False</td>\n",
       "      <td>False</td>\n",
       "      <td>False</td>\n",
       "      <td>False</td>\n",
       "      <td>False</td>\n",
       "      <td>False</td>\n",
       "    </tr>\n",
       "    <tr>\n",
       "      <th>5699</th>\n",
       "      <td>False</td>\n",
       "      <td>False</td>\n",
       "      <td>False</td>\n",
       "      <td>False</td>\n",
       "      <td>False</td>\n",
       "      <td>False</td>\n",
       "      <td>False</td>\n",
       "      <td>False</td>\n",
       "      <td>False</td>\n",
       "      <td>False</td>\n",
       "      <td>False</td>\n",
       "      <td>False</td>\n",
       "      <td>False</td>\n",
       "    </tr>\n",
       "  </tbody>\n",
       "</table>\n",
       "<p>5700 rows × 13 columns</p>\n",
       "</div>"
      ],
      "text/plain": [
       "      Gender  Race (Reported)    Age  Height (cm)  Weight (kg)  Diabetes  \\\n",
       "0      False            False  False        False        False     False   \n",
       "1      False            False  False        False        False     False   \n",
       "2      False            False  False        False        False     False   \n",
       "3      False            False  False        False        False     False   \n",
       "4      False            False  False        False        False     False   \n",
       "...      ...              ...    ...          ...          ...       ...   \n",
       "5695   False            False  False        False        False     False   \n",
       "5696   False            False  False        False        False     False   \n",
       "5697   False            False  False        False        False     False   \n",
       "5698   False            False  False        False        False     False   \n",
       "5699   False            False  False        False        False     False   \n",
       "\n",
       "      Simvastatin (Zocor)  Amiodarone (Cordarone)  Target INR  \\\n",
       "0                   False                   False       False   \n",
       "1                   False                   False       False   \n",
       "2                   False                   False       False   \n",
       "3                   False                   False       False   \n",
       "4                   False                   False       False   \n",
       "...                   ...                     ...         ...   \n",
       "5695                False                   False       False   \n",
       "5696                False                   False       False   \n",
       "5697                False                   False       False   \n",
       "5698                False                   False       False   \n",
       "5699                False                   False       False   \n",
       "\n",
       "      INR on Reported Therapeutic Dose of Warfarin  Cyp2C9 genotypes  \\\n",
       "0                                            False             False   \n",
       "1                                            False             False   \n",
       "2                                            False             False   \n",
       "3                                            False             False   \n",
       "4                                            False             False   \n",
       "...                                            ...               ...   \n",
       "5695                                         False             False   \n",
       "5696                                         False             False   \n",
       "5697                                         False             False   \n",
       "5698                                         False             False   \n",
       "5699                                         False             False   \n",
       "\n",
       "      VKORC1 genotype: -1639 G>A (3673); chr16:31015190; rs9923231; C/T  \\\n",
       "0                                                 False                   \n",
       "1                                                 False                   \n",
       "2                                                 False                   \n",
       "3                                                 False                   \n",
       "4                                                 False                   \n",
       "...                                                 ...                   \n",
       "5695                                              False                   \n",
       "5696                                              False                   \n",
       "5697                                              False                   \n",
       "5698                                              False                   \n",
       "5699                                              False                   \n",
       "\n",
       "      Therapeutic Dose of Warfarin  \n",
       "0                            False  \n",
       "1                            False  \n",
       "2                            False  \n",
       "3                            False  \n",
       "4                            False  \n",
       "...                            ...  \n",
       "5695                         False  \n",
       "5696                         False  \n",
       "5697                         False  \n",
       "5698                         False  \n",
       "5699                         False  \n",
       "\n",
       "[5700 rows x 13 columns]"
      ]
     },
     "execution_count": 1101,
     "metadata": {},
     "output_type": "execute_result"
    }
   ],
   "source": [
    "# checking for missing values\n",
    "df.isna()"
   ]
  },
  {
   "cell_type": "code",
   "execution_count": 1102,
   "id": "558ff36a-70c8-4136-af9c-90e250f3727a",
   "metadata": {},
   "outputs": [
    {
     "data": {
      "text/plain": [
       "Gender                                                               0\n",
       "Race (Reported)                                                      0\n",
       "Age                                                                  0\n",
       "Height (cm)                                                          0\n",
       "Weight (kg)                                                          0\n",
       "Diabetes                                                             0\n",
       "Simvastatin (Zocor)                                                  0\n",
       "Amiodarone (Cordarone)                                               0\n",
       "Target INR                                                           0\n",
       "INR on Reported Therapeutic Dose of Warfarin                         0\n",
       "Cyp2C9 genotypes                                                     0\n",
       "VKORC1 genotype: -1639 G>A (3673); chr16:31015190; rs9923231; C/T    0\n",
       "Therapeutic Dose of Warfarin                                         0\n",
       "dtype: int64"
      ]
     },
     "execution_count": 1102,
     "metadata": {},
     "output_type": "execute_result"
    }
   ],
   "source": [
    "df.isna().sum()"
   ]
  },
  {
   "cell_type": "code",
   "execution_count": 1103,
   "id": "e2914f7b-4fac-4bae-8163-246ad1dd9f18",
   "metadata": {},
   "outputs": [
    {
     "data": {
      "text/plain": [
       "array([[<AxesSubplot:title={'center':'Height (cm)'}>,\n",
       "        <AxesSubplot:title={'center':'Weight (kg)'}>,\n",
       "        <AxesSubplot:title={'center':'Diabetes'}>],\n",
       "       [<AxesSubplot:title={'center':'Simvastatin (Zocor)'}>,\n",
       "        <AxesSubplot:title={'center':'Amiodarone (Cordarone)'}>,\n",
       "        <AxesSubplot:title={'center':'Target INR'}>],\n",
       "       [<AxesSubplot:title={'center':'INR on Reported Therapeutic Dose of Warfarin'}>,\n",
       "        <AxesSubplot:title={'center':'Therapeutic Dose of Warfarin'}>,\n",
       "        <AxesSubplot:>]], dtype=object)"
      ]
     },
     "execution_count": 1103,
     "metadata": {},
     "output_type": "execute_result"
    },
    {
     "data": {
      "image/png": "[encoded data removed]",
      "text/plain": [
       "<Figure size 1440x1080 with 9 Axes>"
      ]
     },
     "metadata": {
      "needs_background": "light"
     },
     "output_type": "display_data"
    }
   ],
   "source": [
    "# visualization of dataset\n",
    "df.hist(bins=50, figsize=(20,15))"
   ]
  },
  {
   "cell_type": "code",
   "execution_count": 1104,
   "id": "996e69ec-5419-43eb-bf89-8c278385a2b3",
   "metadata": {},
   "outputs": [],
   "source": [
    "# Creating lables for model\n",
    "df_target = df[['Therapeutic Dose of Warfarin']]\n",
    "df_features = df.drop(columns=['Therapeutic Dose of Warfarin'])"
   ]
  },
  {
   "cell_type": "code",
   "execution_count": 1105,
   "id": "2b789a34-a4e8-48dd-8431-9d2325d384cf",
   "metadata": {},
   "outputs": [
    {
     "data": {
      "text/plain": [
       "Index(['Gender', 'Race (Reported)', 'Age', 'Height (cm)', 'Weight (kg)',\n",
       "       'Diabetes', 'Simvastatin (Zocor)', 'Amiodarone (Cordarone)',\n",
       "       'Target INR', 'INR on Reported Therapeutic Dose of Warfarin',\n",
       "       'Cyp2C9 genotypes',\n",
       "       'VKORC1 genotype: -1639 G>A (3673); chr16:31015190; rs9923231; C/T'],\n",
       "      dtype='object')"
      ]
     },
     "execution_count": 1105,
     "metadata": {},
     "output_type": "execute_result"
    }
   ],
   "source": [
    "# Features without Target column\n",
    "df_features.columns"
   ]
  },
  {
   "cell_type": "code",
   "execution_count": 1106,
   "id": "194c68ca-96e7-417a-9c38-f296d975ab5a",
   "metadata": {},
   "outputs": [
    {
     "data": {
      "text/plain": [
       "Index(['Therapeutic Dose of Warfarin'], dtype='object')"
      ]
     },
     "execution_count": 1106,
     "metadata": {},
     "output_type": "execute_result"
    }
   ],
   "source": [
    "# Target column\n",
    "df_target.columns"
   ]
  },
  {
   "cell_type": "code",
   "execution_count": 1107,
   "id": "2675f20d-119a-4138-9b6d-efa6bfac1ab2",
   "metadata": {},
   "outputs": [],
   "source": [
    "# Spliting the data into train and test\n",
    "from sklearn.model_selection import train_test_split\n",
    "X_train, X_test, y_train, y_test = train_test_split(df_features, df_target, test_size = 0.2, random_state = 10)"
   ]
  },
  {
   "cell_type": "code",
   "execution_count": 1108,
   "id": "30387014-b552-4234-a9f7-3f32255dc3d6",
   "metadata": {},
   "outputs": [
    {
     "data": {
      "text/html": [
       "<div>\n",
       "<style scoped>\n",
       "    .dataframe tbody tr th:only-of-type {\n",
       "        vertical-align: middle;\n",
       "    }\n",
       "\n",
       "    .dataframe tbody tr th {\n",
       "        vertical-align: top;\n",
       "    }\n",
       "\n",
       "    .dataframe thead th {\n",
       "        text-align: right;\n",
       "    }\n",
       "</style>\n",
       "<table border=\"1\" class=\"dataframe\">\n",
       "  <thead>\n",
       "    <tr style=\"text-align: right;\">\n",
       "      <th></th>\n",
       "      <th>Gender</th>\n",
       "      <th>Race (Reported)</th>\n",
       "      <th>Age</th>\n",
       "      <th>Height (cm)</th>\n",
       "      <th>Weight (kg)</th>\n",
       "      <th>Diabetes</th>\n",
       "      <th>Simvastatin (Zocor)</th>\n",
       "      <th>Amiodarone (Cordarone)</th>\n",
       "      <th>Target INR</th>\n",
       "      <th>INR on Reported Therapeutic Dose of Warfarin</th>\n",
       "      <th>Cyp2C9 genotypes</th>\n",
       "      <th>VKORC1 genotype: -1639 G&gt;A (3673); chr16:31015190; rs9923231; C/T</th>\n",
       "    </tr>\n",
       "  </thead>\n",
       "  <tbody>\n",
       "    <tr>\n",
       "      <th>5437</th>\n",
       "      <td>female</td>\n",
       "      <td>White</td>\n",
       "      <td>70 - 79</td>\n",
       "      <td>160.020000</td>\n",
       "      <td>60.91</td>\n",
       "      <td>0.000000</td>\n",
       "      <td>0.000000</td>\n",
       "      <td>0.000000</td>\n",
       "      <td>2.538324</td>\n",
       "      <td>2.200000</td>\n",
       "      <td>*1/*3</td>\n",
       "      <td>A/A</td>\n",
       "    </tr>\n",
       "    <tr>\n",
       "      <th>2979</th>\n",
       "      <td>male</td>\n",
       "      <td>Korean</td>\n",
       "      <td>20 - 29</td>\n",
       "      <td>178.000000</td>\n",
       "      <td>82.00</td>\n",
       "      <td>0.000000</td>\n",
       "      <td>0.000000</td>\n",
       "      <td>0.000000</td>\n",
       "      <td>2.538324</td>\n",
       "      <td>2.470000</td>\n",
       "      <td>*1/*1</td>\n",
       "      <td>A/A</td>\n",
       "    </tr>\n",
       "    <tr>\n",
       "      <th>4743</th>\n",
       "      <td>female</td>\n",
       "      <td>Malay</td>\n",
       "      <td>60 - 69</td>\n",
       "      <td>168.047778</td>\n",
       "      <td>72.00</td>\n",
       "      <td>0.187024</td>\n",
       "      <td>0.146335</td>\n",
       "      <td>0.066236</td>\n",
       "      <td>2.538324</td>\n",
       "      <td>2.120000</td>\n",
       "      <td>*1/*1</td>\n",
       "      <td>A/A</td>\n",
       "    </tr>\n",
       "    <tr>\n",
       "      <th>2668</th>\n",
       "      <td>male</td>\n",
       "      <td>White</td>\n",
       "      <td>70 - 79</td>\n",
       "      <td>175.260000</td>\n",
       "      <td>85.30</td>\n",
       "      <td>0.000000</td>\n",
       "      <td>0.000000</td>\n",
       "      <td>0.000000</td>\n",
       "      <td>2.538324</td>\n",
       "      <td>2.500000</td>\n",
       "      <td>*1/*3</td>\n",
       "      <td>A/A</td>\n",
       "    </tr>\n",
       "    <tr>\n",
       "      <th>3264</th>\n",
       "      <td>male</td>\n",
       "      <td>Caucasian</td>\n",
       "      <td>80 - 89</td>\n",
       "      <td>168.047778</td>\n",
       "      <td>59.00</td>\n",
       "      <td>0.000000</td>\n",
       "      <td>0.146335</td>\n",
       "      <td>0.000000</td>\n",
       "      <td>2.538324</td>\n",
       "      <td>2.364438</td>\n",
       "      <td>*1/*2</td>\n",
       "      <td>G/G</td>\n",
       "    </tr>\n",
       "  </tbody>\n",
       "</table>\n",
       "</div>"
      ],
      "text/plain": [
       "      Gender Race (Reported)      Age  Height (cm)  Weight (kg)  Diabetes  \\\n",
       "5437  female           White  70 - 79   160.020000        60.91  0.000000   \n",
       "2979    male          Korean  20 - 29   178.000000        82.00  0.000000   \n",
       "4743  female           Malay  60 - 69   168.047778        72.00  0.187024   \n",
       "2668    male           White  70 - 79   175.260000        85.30  0.000000   \n",
       "3264    male       Caucasian  80 - 89   168.047778        59.00  0.000000   \n",
       "\n",
       "      Simvastatin (Zocor)  Amiodarone (Cordarone)  Target INR  \\\n",
       "5437             0.000000                0.000000    2.538324   \n",
       "2979             0.000000                0.000000    2.538324   \n",
       "4743             0.146335                0.066236    2.538324   \n",
       "2668             0.000000                0.000000    2.538324   \n",
       "3264             0.146335                0.000000    2.538324   \n",
       "\n",
       "      INR on Reported Therapeutic Dose of Warfarin Cyp2C9 genotypes  \\\n",
       "5437                                      2.200000            *1/*3   \n",
       "2979                                      2.470000            *1/*1   \n",
       "4743                                      2.120000            *1/*1   \n",
       "2668                                      2.500000            *1/*3   \n",
       "3264                                      2.364438            *1/*2   \n",
       "\n",
       "     VKORC1 genotype: -1639 G>A (3673); chr16:31015190; rs9923231; C/T  \n",
       "5437                                                A/A                 \n",
       "2979                                                A/A                 \n",
       "4743                                                A/A                 \n",
       "2668                                                A/A                 \n",
       "3264                                                G/G                 "
      ]
     },
     "execution_count": 1108,
     "metadata": {},
     "output_type": "execute_result"
    }
   ],
   "source": [
    "X_train.head(5)"
   ]
  },
  {
   "cell_type": "code",
   "execution_count": 1109,
   "id": "129154e0-07e9-409c-bdd5-d8e5a42157c4",
   "metadata": {},
   "outputs": [
    {
     "data": {
      "text/html": [
       "<div>\n",
       "<style scoped>\n",
       "    .dataframe tbody tr th:only-of-type {\n",
       "        vertical-align: middle;\n",
       "    }\n",
       "\n",
       "    .dataframe tbody tr th {\n",
       "        vertical-align: top;\n",
       "    }\n",
       "\n",
       "    .dataframe thead th {\n",
       "        text-align: right;\n",
       "    }\n",
       "</style>\n",
       "<table border=\"1\" class=\"dataframe\">\n",
       "  <thead>\n",
       "    <tr style=\"text-align: right;\">\n",
       "      <th></th>\n",
       "      <th>Therapeutic Dose of Warfarin</th>\n",
       "    </tr>\n",
       "  </thead>\n",
       "  <tbody>\n",
       "    <tr>\n",
       "      <th>1477</th>\n",
       "      <td>17.50</td>\n",
       "    </tr>\n",
       "    <tr>\n",
       "      <th>5514</th>\n",
       "      <td>37.52</td>\n",
       "    </tr>\n",
       "    <tr>\n",
       "      <th>3243</th>\n",
       "      <td>13.72</td>\n",
       "    </tr>\n",
       "    <tr>\n",
       "      <th>5183</th>\n",
       "      <td>21.00</td>\n",
       "    </tr>\n",
       "    <tr>\n",
       "      <th>5107</th>\n",
       "      <td>14.00</td>\n",
       "    </tr>\n",
       "  </tbody>\n",
       "</table>\n",
       "</div>"
      ],
      "text/plain": [
       "      Therapeutic Dose of Warfarin\n",
       "1477                         17.50\n",
       "5514                         37.52\n",
       "3243                         13.72\n",
       "5183                         21.00\n",
       "5107                         14.00"
      ]
     },
     "execution_count": 1109,
     "metadata": {},
     "output_type": "execute_result"
    }
   ],
   "source": [
    "y_test.head(5)"
   ]
  },
  {
   "cell_type": "code",
   "execution_count": 1110,
   "id": "b7076bae-86db-4285-97d6-7bd22d610f35",
   "metadata": {},
   "outputs": [],
   "source": [
    "# Transformation of categorical values to binary of train set\n",
    "from sklearn import preprocessing\n",
    "le = preprocessing.LabelEncoder()\n",
    "X_train['Race (Reported)'] = le.fit_transform(X_train['Race (Reported)'])\n",
    "X_train['Gender'] = le.fit_transform(X_train['Gender'])\n",
    "X_train['Age'] = le.fit_transform(X_train['Age'])\n",
    "X_train['Cyp2C9 genotypes'] = le.fit_transform(X_train['Cyp2C9 genotypes'])\n",
    "X_train['VKORC1 genotype: -1639 G>A (3673); chr16:31015190; rs9923231; C/T'] = le.fit_transform(X_train['VKORC1 genotype: -1639 G>A (3673); chr16:31015190; rs9923231; C/T'])"
   ]
  },
  {
   "cell_type": "code",
   "execution_count": 1111,
   "id": "2ce6d90d-ac5d-4ecc-8c36-9690f0999d3b",
   "metadata": {},
   "outputs": [
    {
     "data": {
      "text/html": [
       "<div>\n",
       "<style scoped>\n",
       "    .dataframe tbody tr th:only-of-type {\n",
       "        vertical-align: middle;\n",
       "    }\n",
       "\n",
       "    .dataframe tbody tr th {\n",
       "        vertical-align: top;\n",
       "    }\n",
       "\n",
       "    .dataframe thead th {\n",
       "        text-align: right;\n",
       "    }\n",
       "</style>\n",
       "<table border=\"1\" class=\"dataframe\">\n",
       "  <thead>\n",
       "    <tr style=\"text-align: right;\">\n",
       "      <th></th>\n",
       "      <th>Gender</th>\n",
       "      <th>Race (Reported)</th>\n",
       "      <th>Age</th>\n",
       "      <th>Height (cm)</th>\n",
       "      <th>Weight (kg)</th>\n",
       "      <th>Diabetes</th>\n",
       "      <th>Simvastatin (Zocor)</th>\n",
       "      <th>Amiodarone (Cordarone)</th>\n",
       "      <th>Target INR</th>\n",
       "      <th>INR on Reported Therapeutic Dose of Warfarin</th>\n",
       "      <th>Cyp2C9 genotypes</th>\n",
       "      <th>VKORC1 genotype: -1639 G&gt;A (3673); chr16:31015190; rs9923231; C/T</th>\n",
       "    </tr>\n",
       "  </thead>\n",
       "  <tbody>\n",
       "    <tr>\n",
       "      <th>5437</th>\n",
       "      <td>0</td>\n",
       "      <td>19</td>\n",
       "      <td>6</td>\n",
       "      <td>160.020000</td>\n",
       "      <td>60.91</td>\n",
       "      <td>0.000000</td>\n",
       "      <td>0.000000</td>\n",
       "      <td>0.000000</td>\n",
       "      <td>2.538324</td>\n",
       "      <td>2.200000</td>\n",
       "      <td>5</td>\n",
       "      <td>0</td>\n",
       "    </tr>\n",
       "    <tr>\n",
       "      <th>2979</th>\n",
       "      <td>1</td>\n",
       "      <td>13</td>\n",
       "      <td>1</td>\n",
       "      <td>178.000000</td>\n",
       "      <td>82.00</td>\n",
       "      <td>0.000000</td>\n",
       "      <td>0.000000</td>\n",
       "      <td>0.000000</td>\n",
       "      <td>2.538324</td>\n",
       "      <td>2.470000</td>\n",
       "      <td>0</td>\n",
       "      <td>0</td>\n",
       "    </tr>\n",
       "    <tr>\n",
       "      <th>4743</th>\n",
       "      <td>0</td>\n",
       "      <td>14</td>\n",
       "      <td>5</td>\n",
       "      <td>168.047778</td>\n",
       "      <td>72.00</td>\n",
       "      <td>0.187024</td>\n",
       "      <td>0.146335</td>\n",
       "      <td>0.066236</td>\n",
       "      <td>2.538324</td>\n",
       "      <td>2.120000</td>\n",
       "      <td>0</td>\n",
       "      <td>0</td>\n",
       "    </tr>\n",
       "    <tr>\n",
       "      <th>2668</th>\n",
       "      <td>1</td>\n",
       "      <td>19</td>\n",
       "      <td>6</td>\n",
       "      <td>175.260000</td>\n",
       "      <td>85.30</td>\n",
       "      <td>0.000000</td>\n",
       "      <td>0.000000</td>\n",
       "      <td>0.000000</td>\n",
       "      <td>2.538324</td>\n",
       "      <td>2.500000</td>\n",
       "      <td>5</td>\n",
       "      <td>0</td>\n",
       "    </tr>\n",
       "    <tr>\n",
       "      <th>3264</th>\n",
       "      <td>1</td>\n",
       "      <td>6</td>\n",
       "      <td>7</td>\n",
       "      <td>168.047778</td>\n",
       "      <td>59.00</td>\n",
       "      <td>0.000000</td>\n",
       "      <td>0.146335</td>\n",
       "      <td>0.000000</td>\n",
       "      <td>2.538324</td>\n",
       "      <td>2.364438</td>\n",
       "      <td>4</td>\n",
       "      <td>2</td>\n",
       "    </tr>\n",
       "    <tr>\n",
       "      <th>...</th>\n",
       "      <td>...</td>\n",
       "      <td>...</td>\n",
       "      <td>...</td>\n",
       "      <td>...</td>\n",
       "      <td>...</td>\n",
       "      <td>...</td>\n",
       "      <td>...</td>\n",
       "      <td>...</td>\n",
       "      <td>...</td>\n",
       "      <td>...</td>\n",
       "      <td>...</td>\n",
       "      <td>...</td>\n",
       "    </tr>\n",
       "    <tr>\n",
       "      <th>1180</th>\n",
       "      <td>1</td>\n",
       "      <td>12</td>\n",
       "      <td>3</td>\n",
       "      <td>170.942000</td>\n",
       "      <td>79.00</td>\n",
       "      <td>0.187024</td>\n",
       "      <td>0.146335</td>\n",
       "      <td>0.066236</td>\n",
       "      <td>2.538324</td>\n",
       "      <td>2.364438</td>\n",
       "      <td>0</td>\n",
       "      <td>0</td>\n",
       "    </tr>\n",
       "    <tr>\n",
       "      <th>3441</th>\n",
       "      <td>0</td>\n",
       "      <td>2</td>\n",
       "      <td>5</td>\n",
       "      <td>170.180000</td>\n",
       "      <td>128.60</td>\n",
       "      <td>1.000000</td>\n",
       "      <td>1.000000</td>\n",
       "      <td>0.000000</td>\n",
       "      <td>2.500000</td>\n",
       "      <td>2.700000</td>\n",
       "      <td>0</td>\n",
       "      <td>2</td>\n",
       "    </tr>\n",
       "    <tr>\n",
       "      <th>1344</th>\n",
       "      <td>0</td>\n",
       "      <td>12</td>\n",
       "      <td>5</td>\n",
       "      <td>153.924000</td>\n",
       "      <td>60.00</td>\n",
       "      <td>0.187024</td>\n",
       "      <td>0.146335</td>\n",
       "      <td>0.066236</td>\n",
       "      <td>2.538324</td>\n",
       "      <td>1.370000</td>\n",
       "      <td>0</td>\n",
       "      <td>0</td>\n",
       "    </tr>\n",
       "    <tr>\n",
       "      <th>4623</th>\n",
       "      <td>0</td>\n",
       "      <td>19</td>\n",
       "      <td>3</td>\n",
       "      <td>160.020000</td>\n",
       "      <td>60.00</td>\n",
       "      <td>0.000000</td>\n",
       "      <td>0.000000</td>\n",
       "      <td>0.000000</td>\n",
       "      <td>2.538324</td>\n",
       "      <td>2.800000</td>\n",
       "      <td>5</td>\n",
       "      <td>2</td>\n",
       "    </tr>\n",
       "    <tr>\n",
       "      <th>1289</th>\n",
       "      <td>0</td>\n",
       "      <td>12</td>\n",
       "      <td>5</td>\n",
       "      <td>157.988000</td>\n",
       "      <td>60.00</td>\n",
       "      <td>0.187024</td>\n",
       "      <td>0.146335</td>\n",
       "      <td>0.066236</td>\n",
       "      <td>2.538324</td>\n",
       "      <td>2.990000</td>\n",
       "      <td>0</td>\n",
       "      <td>0</td>\n",
       "    </tr>\n",
       "  </tbody>\n",
       "</table>\n",
       "<p>4560 rows × 12 columns</p>\n",
       "</div>"
      ],
      "text/plain": [
       "      Gender  Race (Reported)  Age  Height (cm)  Weight (kg)  Diabetes  \\\n",
       "5437       0               19    6   160.020000        60.91  0.000000   \n",
       "2979       1               13    1   178.000000        82.00  0.000000   \n",
       "4743       0               14    5   168.047778        72.00  0.187024   \n",
       "2668       1               19    6   175.260000        85.30  0.000000   \n",
       "3264       1                6    7   168.047778        59.00  0.000000   \n",
       "...      ...              ...  ...          ...          ...       ...   \n",
       "1180       1               12    3   170.942000        79.00  0.187024   \n",
       "3441       0                2    5   170.180000       128.60  1.000000   \n",
       "1344       0               12    5   153.924000        60.00  0.187024   \n",
       "4623       0               19    3   160.020000        60.00  0.000000   \n",
       "1289       0               12    5   157.988000        60.00  0.187024   \n",
       "\n",
       "      Simvastatin (Zocor)  Amiodarone (Cordarone)  Target INR  \\\n",
       "5437             0.000000                0.000000    2.538324   \n",
       "2979             0.000000                0.000000    2.538324   \n",
       "4743             0.146335                0.066236    2.538324   \n",
       "2668             0.000000                0.000000    2.538324   \n",
       "3264             0.146335                0.000000    2.538324   \n",
       "...                   ...                     ...         ...   \n",
       "1180             0.146335                0.066236    2.538324   \n",
       "3441             1.000000                0.000000    2.500000   \n",
       "1344             0.146335                0.066236    2.538324   \n",
       "4623             0.000000                0.000000    2.538324   \n",
       "1289             0.146335                0.066236    2.538324   \n",
       "\n",
       "      INR on Reported Therapeutic Dose of Warfarin  Cyp2C9 genotypes  \\\n",
       "5437                                      2.200000                 5   \n",
       "2979                                      2.470000                 0   \n",
       "4743                                      2.120000                 0   \n",
       "2668                                      2.500000                 5   \n",
       "3264                                      2.364438                 4   \n",
       "...                                            ...               ...   \n",
       "1180                                      2.364438                 0   \n",
       "3441                                      2.700000                 0   \n",
       "1344                                      1.370000                 0   \n",
       "4623                                      2.800000                 5   \n",
       "1289                                      2.990000                 0   \n",
       "\n",
       "      VKORC1 genotype: -1639 G>A (3673); chr16:31015190; rs9923231; C/T  \n",
       "5437                                                  0                  \n",
       "2979                                                  0                  \n",
       "4743                                                  0                  \n",
       "2668                                                  0                  \n",
       "3264                                                  2                  \n",
       "...                                                 ...                  \n",
       "1180                                                  0                  \n",
       "3441                                                  2                  \n",
       "1344                                                  0                  \n",
       "4623                                                  2                  \n",
       "1289                                                  0                  \n",
       "\n",
       "[4560 rows x 12 columns]"
      ]
     },
     "execution_count": 1111,
     "metadata": {},
     "output_type": "execute_result"
    }
   ],
   "source": [
    "X_train"
   ]
  },
  {
   "cell_type": "code",
   "execution_count": 1112,
   "id": "22664ce3-2fa7-4f18-ab01-7a9051c4e5eb",
   "metadata": {},
   "outputs": [
    {
     "data": {
      "text/html": [
       "<div>\n",
       "<style scoped>\n",
       "    .dataframe tbody tr th:only-of-type {\n",
       "        vertical-align: middle;\n",
       "    }\n",
       "\n",
       "    .dataframe tbody tr th {\n",
       "        vertical-align: top;\n",
       "    }\n",
       "\n",
       "    .dataframe thead th {\n",
       "        text-align: right;\n",
       "    }\n",
       "</style>\n",
       "<table border=\"1\" class=\"dataframe\">\n",
       "  <thead>\n",
       "    <tr style=\"text-align: right;\">\n",
       "      <th></th>\n",
       "      <th>0</th>\n",
       "      <th>1</th>\n",
       "      <th>2</th>\n",
       "      <th>3</th>\n",
       "      <th>4</th>\n",
       "      <th>5</th>\n",
       "      <th>6</th>\n",
       "      <th>7</th>\n",
       "      <th>8</th>\n",
       "      <th>9</th>\n",
       "      <th>10</th>\n",
       "      <th>11</th>\n",
       "    </tr>\n",
       "  </thead>\n",
       "  <tbody>\n",
       "    <tr>\n",
       "      <th>0</th>\n",
       "      <td>0.0</td>\n",
       "      <td>0.95</td>\n",
       "      <td>0.750</td>\n",
       "      <td>0.455032</td>\n",
       "      <td>0.148820</td>\n",
       "      <td>0.000000</td>\n",
       "      <td>0.000000</td>\n",
       "      <td>0.000000</td>\n",
       "      <td>0.450471</td>\n",
       "      <td>0.264151</td>\n",
       "      <td>0.5</td>\n",
       "      <td>0.0</td>\n",
       "    </tr>\n",
       "    <tr>\n",
       "      <th>1</th>\n",
       "      <td>1.0</td>\n",
       "      <td>0.65</td>\n",
       "      <td>0.125</td>\n",
       "      <td>0.688441</td>\n",
       "      <td>0.250361</td>\n",
       "      <td>0.000000</td>\n",
       "      <td>0.000000</td>\n",
       "      <td>0.000000</td>\n",
       "      <td>0.450471</td>\n",
       "      <td>0.315094</td>\n",
       "      <td>0.0</td>\n",
       "      <td>0.0</td>\n",
       "    </tr>\n",
       "    <tr>\n",
       "      <th>2</th>\n",
       "      <td>0.0</td>\n",
       "      <td>0.70</td>\n",
       "      <td>0.625</td>\n",
       "      <td>0.559245</td>\n",
       "      <td>0.202215</td>\n",
       "      <td>0.187024</td>\n",
       "      <td>0.146335</td>\n",
       "      <td>0.066236</td>\n",
       "      <td>0.450471</td>\n",
       "      <td>0.249057</td>\n",
       "      <td>0.0</td>\n",
       "      <td>0.0</td>\n",
       "    </tr>\n",
       "    <tr>\n",
       "      <th>3</th>\n",
       "      <td>1.0</td>\n",
       "      <td>0.95</td>\n",
       "      <td>0.750</td>\n",
       "      <td>0.652872</td>\n",
       "      <td>0.266249</td>\n",
       "      <td>0.000000</td>\n",
       "      <td>0.000000</td>\n",
       "      <td>0.000000</td>\n",
       "      <td>0.450471</td>\n",
       "      <td>0.320755</td>\n",
       "      <td>0.5</td>\n",
       "      <td>0.0</td>\n",
       "    </tr>\n",
       "    <tr>\n",
       "      <th>4</th>\n",
       "      <td>1.0</td>\n",
       "      <td>0.30</td>\n",
       "      <td>0.875</td>\n",
       "      <td>0.559245</td>\n",
       "      <td>0.139624</td>\n",
       "      <td>0.000000</td>\n",
       "      <td>0.146335</td>\n",
       "      <td>0.000000</td>\n",
       "      <td>0.450471</td>\n",
       "      <td>0.295177</td>\n",
       "      <td>0.4</td>\n",
       "      <td>1.0</td>\n",
       "    </tr>\n",
       "    <tr>\n",
       "      <th>...</th>\n",
       "      <td>...</td>\n",
       "      <td>...</td>\n",
       "      <td>...</td>\n",
       "      <td>...</td>\n",
       "      <td>...</td>\n",
       "      <td>...</td>\n",
       "      <td>...</td>\n",
       "      <td>...</td>\n",
       "      <td>...</td>\n",
       "      <td>...</td>\n",
       "      <td>...</td>\n",
       "      <td>...</td>\n",
       "    </tr>\n",
       "    <tr>\n",
       "      <th>4555</th>\n",
       "      <td>1.0</td>\n",
       "      <td>0.60</td>\n",
       "      <td>0.375</td>\n",
       "      <td>0.596817</td>\n",
       "      <td>0.235917</td>\n",
       "      <td>0.187024</td>\n",
       "      <td>0.146335</td>\n",
       "      <td>0.066236</td>\n",
       "      <td>0.450471</td>\n",
       "      <td>0.295177</td>\n",
       "      <td>0.0</td>\n",
       "      <td>0.0</td>\n",
       "    </tr>\n",
       "    <tr>\n",
       "      <th>4556</th>\n",
       "      <td>0.0</td>\n",
       "      <td>0.10</td>\n",
       "      <td>0.625</td>\n",
       "      <td>0.586925</td>\n",
       "      <td>0.474723</td>\n",
       "      <td>1.000000</td>\n",
       "      <td>1.000000</td>\n",
       "      <td>0.000000</td>\n",
       "      <td>0.428571</td>\n",
       "      <td>0.358491</td>\n",
       "      <td>0.0</td>\n",
       "      <td>1.0</td>\n",
       "    </tr>\n",
       "    <tr>\n",
       "      <th>4557</th>\n",
       "      <td>0.0</td>\n",
       "      <td>0.60</td>\n",
       "      <td>0.625</td>\n",
       "      <td>0.375896</td>\n",
       "      <td>0.144439</td>\n",
       "      <td>0.187024</td>\n",
       "      <td>0.146335</td>\n",
       "      <td>0.066236</td>\n",
       "      <td>0.450471</td>\n",
       "      <td>0.107547</td>\n",
       "      <td>0.0</td>\n",
       "      <td>0.0</td>\n",
       "    </tr>\n",
       "    <tr>\n",
       "      <th>4558</th>\n",
       "      <td>0.0</td>\n",
       "      <td>0.95</td>\n",
       "      <td>0.375</td>\n",
       "      <td>0.455032</td>\n",
       "      <td>0.144439</td>\n",
       "      <td>0.000000</td>\n",
       "      <td>0.000000</td>\n",
       "      <td>0.000000</td>\n",
       "      <td>0.450471</td>\n",
       "      <td>0.377358</td>\n",
       "      <td>0.5</td>\n",
       "      <td>1.0</td>\n",
       "    </tr>\n",
       "    <tr>\n",
       "      <th>4559</th>\n",
       "      <td>0.0</td>\n",
       "      <td>0.60</td>\n",
       "      <td>0.625</td>\n",
       "      <td>0.428653</td>\n",
       "      <td>0.144439</td>\n",
       "      <td>0.187024</td>\n",
       "      <td>0.146335</td>\n",
       "      <td>0.066236</td>\n",
       "      <td>0.450471</td>\n",
       "      <td>0.413208</td>\n",
       "      <td>0.0</td>\n",
       "      <td>0.0</td>\n",
       "    </tr>\n",
       "  </tbody>\n",
       "</table>\n",
       "<p>4560 rows × 12 columns</p>\n",
       "</div>"
      ],
      "text/plain": [
       "       0     1      2         3         4         5         6         7   \\\n",
       "0     0.0  0.95  0.750  0.455032  0.148820  0.000000  0.000000  0.000000   \n",
       "1     1.0  0.65  0.125  0.688441  0.250361  0.000000  0.000000  0.000000   \n",
       "2     0.0  0.70  0.625  0.559245  0.202215  0.187024  0.146335  0.066236   \n",
       "3     1.0  0.95  0.750  0.652872  0.266249  0.000000  0.000000  0.000000   \n",
       "4     1.0  0.30  0.875  0.559245  0.139624  0.000000  0.146335  0.000000   \n",
       "...   ...   ...    ...       ...       ...       ...       ...       ...   \n",
       "4555  1.0  0.60  0.375  0.596817  0.235917  0.187024  0.146335  0.066236   \n",
       "4556  0.0  0.10  0.625  0.586925  0.474723  1.000000  1.000000  0.000000   \n",
       "4557  0.0  0.60  0.625  0.375896  0.144439  0.187024  0.146335  0.066236   \n",
       "4558  0.0  0.95  0.375  0.455032  0.144439  0.000000  0.000000  0.000000   \n",
       "4559  0.0  0.60  0.625  0.428653  0.144439  0.187024  0.146335  0.066236   \n",
       "\n",
       "            8         9    10   11  \n",
       "0     0.450471  0.264151  0.5  0.0  \n",
       "1     0.450471  0.315094  0.0  0.0  \n",
       "2     0.450471  0.249057  0.0  0.0  \n",
       "3     0.450471  0.320755  0.5  0.0  \n",
       "4     0.450471  0.295177  0.4  1.0  \n",
       "...        ...       ...  ...  ...  \n",
       "4555  0.450471  0.295177  0.0  0.0  \n",
       "4556  0.428571  0.358491  0.0  1.0  \n",
       "4557  0.450471  0.107547  0.0  0.0  \n",
       "4558  0.450471  0.377358  0.5  1.0  \n",
       "4559  0.450471  0.413208  0.0  0.0  \n",
       "\n",
       "[4560 rows x 12 columns]"
      ]
     },
     "execution_count": 1112,
     "metadata": {},
     "output_type": "execute_result"
    }
   ],
   "source": [
    "# MinMax normilization of train set\n",
    "from sklearn.preprocessing import MinMaxScaler\n",
    "scaler = MinMaxScaler() ## define the transformer\n",
    "scaler.fit(X_train) ## call .fit() method to calculate the min and max value for each column in dataset\n",
    "x_train_normalized = scaler.transform(X_train)\n",
    "x_train_normalized=pd.DataFrame(x_train_normalized)\n",
    "x_train_normalized"
   ]
  },
  {
   "cell_type": "code",
   "execution_count": 1113,
   "id": "2baed25d-886b-4535-bda6-148cc0b75719",
   "metadata": {},
   "outputs": [],
   "source": [
    "# Transformation of categorical values to binary of test set\n",
    "from sklearn import preprocessing\n",
    "le = preprocessing.LabelEncoder()\n",
    "X_test['Race (Reported)'] = le.fit_transform(X_test['Race (Reported)'])\n",
    "X_test['Gender'] = le.fit_transform(X_test['Gender'])\n",
    "X_test['Age'] = le.fit_transform(X_test['Age'])\n",
    "X_test['Cyp2C9 genotypes'] = le.fit_transform(X_test['Cyp2C9 genotypes'])\n",
    "X_test['VKORC1 genotype: -1639 G>A (3673); chr16:31015190; rs9923231; C/T'] = le.fit_transform(X_test['VKORC1 genotype: -1639 G>A (3673); chr16:31015190; rs9923231; C/T'])"
   ]
  },
  {
   "cell_type": "code",
   "execution_count": 1114,
   "id": "b45d53af-f042-428b-ac91-1b7d366f1795",
   "metadata": {},
   "outputs": [
    {
     "data": {
      "text/html": [
       "<div>\n",
       "<style scoped>\n",
       "    .dataframe tbody tr th:only-of-type {\n",
       "        vertical-align: middle;\n",
       "    }\n",
       "\n",
       "    .dataframe tbody tr th {\n",
       "        vertical-align: top;\n",
       "    }\n",
       "\n",
       "    .dataframe thead th {\n",
       "        text-align: right;\n",
       "    }\n",
       "</style>\n",
       "<table border=\"1\" class=\"dataframe\">\n",
       "  <thead>\n",
       "    <tr style=\"text-align: right;\">\n",
       "      <th></th>\n",
       "      <th>0</th>\n",
       "      <th>1</th>\n",
       "      <th>2</th>\n",
       "      <th>3</th>\n",
       "      <th>4</th>\n",
       "      <th>5</th>\n",
       "      <th>6</th>\n",
       "      <th>7</th>\n",
       "      <th>8</th>\n",
       "      <th>9</th>\n",
       "      <th>10</th>\n",
       "      <th>11</th>\n",
       "    </tr>\n",
       "  </thead>\n",
       "  <tbody>\n",
       "    <tr>\n",
       "      <th>0</th>\n",
       "      <td>0.0</td>\n",
       "      <td>0.4375</td>\n",
       "      <td>0.142857</td>\n",
       "      <td>0.332917</td>\n",
       "      <td>0.241880</td>\n",
       "      <td>0.000000</td>\n",
       "      <td>0.000000</td>\n",
       "      <td>0.000000</td>\n",
       "      <td>0.562875</td>\n",
       "      <td>0.590164</td>\n",
       "      <td>0.428571</td>\n",
       "      <td>0.0</td>\n",
       "    </tr>\n",
       "    <tr>\n",
       "      <th>1</th>\n",
       "      <td>1.0</td>\n",
       "      <td>0.2500</td>\n",
       "      <td>0.714286</td>\n",
       "      <td>0.833333</td>\n",
       "      <td>0.339254</td>\n",
       "      <td>0.000000</td>\n",
       "      <td>0.000000</td>\n",
       "      <td>0.000000</td>\n",
       "      <td>0.562875</td>\n",
       "      <td>0.419672</td>\n",
       "      <td>0.000000</td>\n",
       "      <td>0.0</td>\n",
       "    </tr>\n",
       "    <tr>\n",
       "      <th>2</th>\n",
       "      <td>0.0</td>\n",
       "      <td>0.3125</td>\n",
       "      <td>0.571429</td>\n",
       "      <td>0.465023</td>\n",
       "      <td>0.297167</td>\n",
       "      <td>0.000000</td>\n",
       "      <td>0.146335</td>\n",
       "      <td>1.000000</td>\n",
       "      <td>0.562875</td>\n",
       "      <td>0.473586</td>\n",
       "      <td>1.000000</td>\n",
       "      <td>0.0</td>\n",
       "    </tr>\n",
       "    <tr>\n",
       "      <th>3</th>\n",
       "      <td>1.0</td>\n",
       "      <td>1.0000</td>\n",
       "      <td>0.285714</td>\n",
       "      <td>0.546250</td>\n",
       "      <td>0.290256</td>\n",
       "      <td>0.000000</td>\n",
       "      <td>0.000000</td>\n",
       "      <td>1.000000</td>\n",
       "      <td>0.562875</td>\n",
       "      <td>0.419672</td>\n",
       "      <td>0.285714</td>\n",
       "      <td>0.5</td>\n",
       "    </tr>\n",
       "    <tr>\n",
       "      <th>4</th>\n",
       "      <td>0.0</td>\n",
       "      <td>1.0000</td>\n",
       "      <td>0.857143</td>\n",
       "      <td>0.300000</td>\n",
       "      <td>0.345543</td>\n",
       "      <td>0.000000</td>\n",
       "      <td>0.000000</td>\n",
       "      <td>0.000000</td>\n",
       "      <td>0.562875</td>\n",
       "      <td>0.354098</td>\n",
       "      <td>0.285714</td>\n",
       "      <td>0.5</td>\n",
       "    </tr>\n",
       "    <tr>\n",
       "      <th>...</th>\n",
       "      <td>...</td>\n",
       "      <td>...</td>\n",
       "      <td>...</td>\n",
       "      <td>...</td>\n",
       "      <td>...</td>\n",
       "      <td>...</td>\n",
       "      <td>...</td>\n",
       "      <td>...</td>\n",
       "      <td>...</td>\n",
       "      <td>...</td>\n",
       "      <td>...</td>\n",
       "      <td>...</td>\n",
       "    </tr>\n",
       "    <tr>\n",
       "      <th>1135</th>\n",
       "      <td>1.0</td>\n",
       "      <td>0.6875</td>\n",
       "      <td>0.285714</td>\n",
       "      <td>0.366667</td>\n",
       "      <td>0.172771</td>\n",
       "      <td>0.187024</td>\n",
       "      <td>0.146335</td>\n",
       "      <td>0.066236</td>\n",
       "      <td>0.562875</td>\n",
       "      <td>0.127869</td>\n",
       "      <td>0.000000</td>\n",
       "      <td>0.0</td>\n",
       "    </tr>\n",
       "    <tr>\n",
       "      <th>1136</th>\n",
       "      <td>1.0</td>\n",
       "      <td>0.3125</td>\n",
       "      <td>0.142857</td>\n",
       "      <td>0.465023</td>\n",
       "      <td>0.200415</td>\n",
       "      <td>0.000000</td>\n",
       "      <td>0.146335</td>\n",
       "      <td>0.000000</td>\n",
       "      <td>0.562875</td>\n",
       "      <td>0.473586</td>\n",
       "      <td>0.000000</td>\n",
       "      <td>0.0</td>\n",
       "    </tr>\n",
       "    <tr>\n",
       "      <th>1137</th>\n",
       "      <td>1.0</td>\n",
       "      <td>1.0000</td>\n",
       "      <td>0.285714</td>\n",
       "      <td>0.637500</td>\n",
       "      <td>0.373186</td>\n",
       "      <td>0.000000</td>\n",
       "      <td>1.000000</td>\n",
       "      <td>0.000000</td>\n",
       "      <td>0.545455</td>\n",
       "      <td>0.508197</td>\n",
       "      <td>0.000000</td>\n",
       "      <td>0.0</td>\n",
       "    </tr>\n",
       "    <tr>\n",
       "      <th>1138</th>\n",
       "      <td>1.0</td>\n",
       "      <td>0.6875</td>\n",
       "      <td>0.571429</td>\n",
       "      <td>0.445833</td>\n",
       "      <td>0.124395</td>\n",
       "      <td>0.187024</td>\n",
       "      <td>0.146335</td>\n",
       "      <td>0.066236</td>\n",
       "      <td>0.562875</td>\n",
       "      <td>0.331148</td>\n",
       "      <td>0.428571</td>\n",
       "      <td>0.0</td>\n",
       "    </tr>\n",
       "    <tr>\n",
       "      <th>1139</th>\n",
       "      <td>1.0</td>\n",
       "      <td>0.6875</td>\n",
       "      <td>0.571429</td>\n",
       "      <td>0.662500</td>\n",
       "      <td>0.262612</td>\n",
       "      <td>0.187024</td>\n",
       "      <td>0.146335</td>\n",
       "      <td>0.066236</td>\n",
       "      <td>0.562875</td>\n",
       "      <td>0.068852</td>\n",
       "      <td>0.000000</td>\n",
       "      <td>0.0</td>\n",
       "    </tr>\n",
       "  </tbody>\n",
       "</table>\n",
       "<p>1140 rows × 12 columns</p>\n",
       "</div>"
      ],
      "text/plain": [
       "       0       1         2         3         4         5         6         7   \\\n",
       "0     0.0  0.4375  0.142857  0.332917  0.241880  0.000000  0.000000  0.000000   \n",
       "1     1.0  0.2500  0.714286  0.833333  0.339254  0.000000  0.000000  0.000000   \n",
       "2     0.0  0.3125  0.571429  0.465023  0.297167  0.000000  0.146335  1.000000   \n",
       "3     1.0  1.0000  0.285714  0.546250  0.290256  0.000000  0.000000  1.000000   \n",
       "4     0.0  1.0000  0.857143  0.300000  0.345543  0.000000  0.000000  0.000000   \n",
       "...   ...     ...       ...       ...       ...       ...       ...       ...   \n",
       "1135  1.0  0.6875  0.285714  0.366667  0.172771  0.187024  0.146335  0.066236   \n",
       "1136  1.0  0.3125  0.142857  0.465023  0.200415  0.000000  0.146335  0.000000   \n",
       "1137  1.0  1.0000  0.285714  0.637500  0.373186  0.000000  1.000000  0.000000   \n",
       "1138  1.0  0.6875  0.571429  0.445833  0.124395  0.187024  0.146335  0.066236   \n",
       "1139  1.0  0.6875  0.571429  0.662500  0.262612  0.187024  0.146335  0.066236   \n",
       "\n",
       "            8         9         10   11  \n",
       "0     0.562875  0.590164  0.428571  0.0  \n",
       "1     0.562875  0.419672  0.000000  0.0  \n",
       "2     0.562875  0.473586  1.000000  0.0  \n",
       "3     0.562875  0.419672  0.285714  0.5  \n",
       "4     0.562875  0.354098  0.285714  0.5  \n",
       "...        ...       ...       ...  ...  \n",
       "1135  0.562875  0.127869  0.000000  0.0  \n",
       "1136  0.562875  0.473586  0.000000  0.0  \n",
       "1137  0.545455  0.508197  0.000000  0.0  \n",
       "1138  0.562875  0.331148  0.428571  0.0  \n",
       "1139  0.562875  0.068852  0.000000  0.0  \n",
       "\n",
       "[1140 rows x 12 columns]"
      ]
     },
     "execution_count": 1114,
     "metadata": {},
     "output_type": "execute_result"
    }
   ],
   "source": [
    "# MinMax normilization of train setfrom sklearn.preprocessing import MinMaxScaler\n",
    "\n",
    "scaler = MinMaxScaler() ## define the transformer\n",
    "scaler.fit(X_test) ## call .fit() method to calculate the min and max value for each column in dataset\n",
    "x_test_normalized = scaler.transform(X_test)\n",
    "x_test_normalized=pd.DataFrame(x_test_normalized)\n",
    "x_test_normalized"
   ]
  },
  {
   "cell_type": "code",
   "execution_count": 1115,
   "id": "e2343cca-c7f7-4c41-83c8-784318cb0f45",
   "metadata": {},
   "outputs": [],
   "source": [
    "# Binary classification dataset by cutting the target values into two categories (<=30, >30)\n",
    "y_train[y_train<=30] = 0\n",
    "y_train[y_train>30] = 1"
   ]
  },
  {
   "cell_type": "code",
   "execution_count": 1116,
   "id": "3d40ced0-41d9-401c-9899-b10e6eb3f2e1",
   "metadata": {},
   "outputs": [
    {
     "data": {
      "text/html": [
       "<div>\n",
       "<style scoped>\n",
       "    .dataframe tbody tr th:only-of-type {\n",
       "        vertical-align: middle;\n",
       "    }\n",
       "\n",
       "    .dataframe tbody tr th {\n",
       "        vertical-align: top;\n",
       "    }\n",
       "\n",
       "    .dataframe thead th {\n",
       "        text-align: right;\n",
       "    }\n",
       "</style>\n",
       "<table border=\"1\" class=\"dataframe\">\n",
       "  <thead>\n",
       "    <tr style=\"text-align: right;\">\n",
       "      <th></th>\n",
       "      <th>Therapeutic Dose of Warfarin</th>\n",
       "    </tr>\n",
       "  </thead>\n",
       "  <tbody>\n",
       "    <tr>\n",
       "      <th>5437</th>\n",
       "      <td>0.0</td>\n",
       "    </tr>\n",
       "    <tr>\n",
       "      <th>2979</th>\n",
       "      <td>1.0</td>\n",
       "    </tr>\n",
       "    <tr>\n",
       "      <th>4743</th>\n",
       "      <td>0.0</td>\n",
       "    </tr>\n",
       "    <tr>\n",
       "      <th>2668</th>\n",
       "      <td>0.0</td>\n",
       "    </tr>\n",
       "    <tr>\n",
       "      <th>3264</th>\n",
       "      <td>1.0</td>\n",
       "    </tr>\n",
       "    <tr>\n",
       "      <th>...</th>\n",
       "      <td>...</td>\n",
       "    </tr>\n",
       "    <tr>\n",
       "      <th>1180</th>\n",
       "      <td>0.0</td>\n",
       "    </tr>\n",
       "    <tr>\n",
       "      <th>3441</th>\n",
       "      <td>1.0</td>\n",
       "    </tr>\n",
       "    <tr>\n",
       "      <th>1344</th>\n",
       "      <td>0.0</td>\n",
       "    </tr>\n",
       "    <tr>\n",
       "      <th>4623</th>\n",
       "      <td>0.0</td>\n",
       "    </tr>\n",
       "    <tr>\n",
       "      <th>1289</th>\n",
       "      <td>0.0</td>\n",
       "    </tr>\n",
       "  </tbody>\n",
       "</table>\n",
       "<p>4560 rows × 1 columns</p>\n",
       "</div>"
      ],
      "text/plain": [
       "      Therapeutic Dose of Warfarin\n",
       "5437                           0.0\n",
       "2979                           1.0\n",
       "4743                           0.0\n",
       "2668                           0.0\n",
       "3264                           1.0\n",
       "...                            ...\n",
       "1180                           0.0\n",
       "3441                           1.0\n",
       "1344                           0.0\n",
       "4623                           0.0\n",
       "1289                           0.0\n",
       "\n",
       "[4560 rows x 1 columns]"
      ]
     },
     "execution_count": 1116,
     "metadata": {},
     "output_type": "execute_result"
    }
   ],
   "source": [
    "y_train"
   ]
  },
  {
   "cell_type": "code",
   "execution_count": 1117,
   "id": "dedd091e-0d81-4fcf-95aa-86ce6e131d72",
   "metadata": {},
   "outputs": [
    {
     "name": "stdout",
     "output_type": "stream",
     "text": [
      "[0. 1.]\n"
     ]
    }
   ],
   "source": [
    "print(y_train[\"Therapeutic Dose of Warfarin\"].unique())"
   ]
  },
  {
   "cell_type": "code",
   "execution_count": 1118,
   "id": "162409d3-fc1b-468f-adc1-6dd660896b05",
   "metadata": {},
   "outputs": [],
   "source": [
    "y_test[y_test<=30] = 0\n",
    "y_test[y_test>30] = 1"
   ]
  },
  {
   "cell_type": "code",
   "execution_count": 1119,
   "id": "9db0577d-bfde-490b-9784-870b546010c1",
   "metadata": {},
   "outputs": [
    {
     "data": {
      "text/html": [
       "<div>\n",
       "<style scoped>\n",
       "    .dataframe tbody tr th:only-of-type {\n",
       "        vertical-align: middle;\n",
       "    }\n",
       "\n",
       "    .dataframe tbody tr th {\n",
       "        vertical-align: top;\n",
       "    }\n",
       "\n",
       "    .dataframe thead th {\n",
       "        text-align: right;\n",
       "    }\n",
       "</style>\n",
       "<table border=\"1\" class=\"dataframe\">\n",
       "  <thead>\n",
       "    <tr style=\"text-align: right;\">\n",
       "      <th></th>\n",
       "      <th>Therapeutic Dose of Warfarin</th>\n",
       "    </tr>\n",
       "  </thead>\n",
       "  <tbody>\n",
       "    <tr>\n",
       "      <th>1477</th>\n",
       "      <td>0.0</td>\n",
       "    </tr>\n",
       "    <tr>\n",
       "      <th>5514</th>\n",
       "      <td>1.0</td>\n",
       "    </tr>\n",
       "    <tr>\n",
       "      <th>3243</th>\n",
       "      <td>0.0</td>\n",
       "    </tr>\n",
       "    <tr>\n",
       "      <th>5183</th>\n",
       "      <td>0.0</td>\n",
       "    </tr>\n",
       "    <tr>\n",
       "      <th>5107</th>\n",
       "      <td>0.0</td>\n",
       "    </tr>\n",
       "    <tr>\n",
       "      <th>...</th>\n",
       "      <td>...</td>\n",
       "    </tr>\n",
       "    <tr>\n",
       "      <th>924</th>\n",
       "      <td>0.0</td>\n",
       "    </tr>\n",
       "    <tr>\n",
       "      <th>3317</th>\n",
       "      <td>0.0</td>\n",
       "    </tr>\n",
       "    <tr>\n",
       "      <th>1846</th>\n",
       "      <td>0.0</td>\n",
       "    </tr>\n",
       "    <tr>\n",
       "      <th>1316</th>\n",
       "      <td>0.0</td>\n",
       "    </tr>\n",
       "    <tr>\n",
       "      <th>1064</th>\n",
       "      <td>0.0</td>\n",
       "    </tr>\n",
       "  </tbody>\n",
       "</table>\n",
       "<p>1140 rows × 1 columns</p>\n",
       "</div>"
      ],
      "text/plain": [
       "      Therapeutic Dose of Warfarin\n",
       "1477                           0.0\n",
       "5514                           1.0\n",
       "3243                           0.0\n",
       "5183                           0.0\n",
       "5107                           0.0\n",
       "...                            ...\n",
       "924                            0.0\n",
       "3317                           0.0\n",
       "1846                           0.0\n",
       "1316                           0.0\n",
       "1064                           0.0\n",
       "\n",
       "[1140 rows x 1 columns]"
      ]
     },
     "execution_count": 1119,
     "metadata": {},
     "output_type": "execute_result"
    }
   ],
   "source": [
    "y_test"
   ]
  },
  {
   "cell_type": "code",
   "execution_count": 1120,
   "id": "6d76eebd-cef3-4d61-8ab5-372551812a04",
   "metadata": {},
   "outputs": [
    {
     "name": "stdout",
     "output_type": "stream",
     "text": [
      "[0. 1.]\n"
     ]
    }
   ],
   "source": [
    "print(y_test[\"Therapeutic Dose of Warfarin\"].unique())"
   ]
  },
  {
   "cell_type": "markdown",
   "id": "4dabe947-9e20-4d38-9ba5-b57486f23ece",
   "metadata": {},
   "source": [
    "# Model Training"
   ]
  },
  {
   "cell_type": "code",
   "execution_count": 1121,
   "id": "8ebb4d88-ae13-4e4e-a268-c879d3561717",
   "metadata": {},
   "outputs": [
    {
     "data": {
      "text/plain": [
       "array([1., 1., 0., ..., 1., 0., 1.])"
      ]
     },
     "execution_count": 1121,
     "metadata": {},
     "output_type": "execute_result"
    }
   ],
   "source": [
    "#Decision Tree\n",
    "from sklearn.tree import DecisionTreeClassifier\n",
    "decision_tree_model = DecisionTreeClassifier(max_depth = 3) # define tree model\n",
    "decision_tree_model.fit(x_train_normalized,y_train)\n",
    "decision_tree_model.predict(x_test_normalized)"
   ]
  },
  {
   "cell_type": "code",
   "execution_count": 1122,
   "id": "1aa71e68-3d28-4771-9991-9a280890137b",
   "metadata": {},
   "outputs": [
    {
     "data": {
      "text/plain": [
       "0.7032894736842106"
      ]
     },
     "execution_count": 1122,
     "metadata": {},
     "output_type": "execute_result"
    }
   ],
   "source": [
    "# score\n",
    "decision_tree_model.score(x_train_normalized,y_train)"
   ]
  },
  {
   "cell_type": "code",
   "execution_count": 1123,
   "id": "54bf808f-2094-4c23-8962-5d42364620e5",
   "metadata": {},
   "outputs": [
    {
     "name": "stdout",
     "output_type": "stream",
     "text": [
      "0.637719298245614\n",
      "0.5602165087956699\n",
      "0.8247011952191236\n",
      "0.657648403252195\n",
      "0.6672038678485094\n"
     ]
    }
   ],
   "source": [
    "# Decision Tree - performance on the test data\n",
    "from sklearn.metrics import accuracy_score, precision_score, recall_score, roc_auc_score, f1_score\n",
    "decision_tree_model_pred = decision_tree_model.predict(x_test_normalized)\n",
    "decision_tree_model_acc = accuracy_score(y_test, decision_tree_model_pred )\n",
    "decision_tree_model_prec = precision_score(y_test, decision_tree_model_pred )\n",
    "decision_tree_model_recall = recall_score(y_test, decision_tree_model_pred )\n",
    "decision_tree_model_roc = roc_auc_score(y_test, decision_tree_model_pred )\n",
    "decision_tree_model_f1 = f1_score(y_test, decision_tree_model_pred )\n",
    "print(decision_tree_model_acc)\n",
    "print(decision_tree_model_prec)\n",
    "print(decision_tree_model_recall)\n",
    "print(decision_tree_model_roc)\n",
    "print(decision_tree_model_f1)"
   ]
  },
  {
   "cell_type": "code",
   "execution_count": 1124,
   "id": "2b4fe751-1d4c-4bc2-820c-4f87ba6c42f6",
   "metadata": {},
   "outputs": [
    {
     "name": "stderr",
     "output_type": "stream",
     "text": [
      "/Users/akhil/opt/anaconda3/lib/python3.9/site-packages/sklearn/utils/deprecation.py:87: FutureWarning: Function plot_roc_curve is deprecated; Function :func:`plot_roc_curve` is deprecated in 1.0 and will be removed in 1.2. Use one of the class methods: :meth:`sklearn.metric.RocCurveDisplay.from_predictions` or :meth:`sklearn.metric.RocCurveDisplay.from_estimator`.\n",
      "  warnings.warn(msg, category=FutureWarning)\n",
      "/Users/akhil/opt/anaconda3/lib/python3.9/site-packages/sklearn/base.py:443: UserWarning: X has feature names, but DecisionTreeClassifier was fitted without feature names\n",
      "  warnings.warn(\n"
     ]
    },
    {
     "data": {
      "text/plain": [
       "[<matplotlib.lines.Line2D at 0x7fb3c6090490>]"
      ]
     },
     "execution_count": 1124,
     "metadata": {},
     "output_type": "execute_result"
    },
    {
     "data": {
      "image/png": "[encoded data removed]",
      "text/plain": [
       "<Figure size 432x288 with 1 Axes>"
      ]
     },
     "metadata": {
      "needs_background": "light"
     },
     "output_type": "display_data"
    }
   ],
   "source": [
    "#ROC Curve\n",
    "from sklearn import metrics\n",
    "import matplotlib.pyplot as plt\n",
    "metrics.plot_roc_curve(decision_tree_model, X_test, y_test) \n",
    "plt.plot([0, 1], [0, 1], 'k--')"
   ]
  },
  {
   "cell_type": "code",
   "execution_count": 1125,
   "id": "a5f5e8b1-a05d-4107-99b5-4fb00683f6ac",
   "metadata": {},
   "outputs": [
    {
     "data": {
      "text/plain": [
       "[Text(0.5, 0.875, 'X[11] <= 0.75\\ngini = 0.496\\nsamples = 4560\\nvalue = [2486, 2074]'),\n",
       " Text(0.25, 0.625, 'X[4] <= 0.241\\ngini = 0.472\\nsamples = 3638\\nvalue = [2249, 1389]'),\n",
       " Text(0.125, 0.375, 'X[7] <= 0.033\\ngini = 0.406\\nsamples = 2368\\nvalue = [1697, 671]'),\n",
       " Text(0.0625, 0.125, 'gini = 0.465\\nsamples = 1309\\nvalue = [827, 482]'),\n",
       " Text(0.1875, 0.125, 'gini = 0.293\\nsamples = 1059\\nvalue = [870, 189]'),\n",
       " Text(0.375, 0.375, 'X[10] <= 0.45\\ngini = 0.491\\nsamples = 1270\\nvalue = [552, 718]'),\n",
       " Text(0.3125, 0.125, 'gini = 0.476\\nsamples = 1095\\nvalue = [428, 667]'),\n",
       " Text(0.4375, 0.125, 'gini = 0.413\\nsamples = 175\\nvalue = [124, 51]'),\n",
       " Text(0.75, 0.625, 'X[10] <= 0.45\\ngini = 0.382\\nsamples = 922\\nvalue = [237, 685]'),\n",
       " Text(0.625, 0.375, 'X[4] <= 0.205\\ngini = 0.333\\nsamples = 806\\nvalue = [170, 636]'),\n",
       " Text(0.5625, 0.125, 'gini = 0.457\\nsamples = 249\\nvalue = [88, 161]'),\n",
       " Text(0.6875, 0.125, 'gini = 0.251\\nsamples = 557\\nvalue = [82, 475]'),\n",
       " Text(0.875, 0.375, 'X[4] <= 0.26\\ngini = 0.488\\nsamples = 116\\nvalue = [67, 49]'),\n",
       " Text(0.8125, 0.125, 'gini = 0.4\\nsamples = 76\\nvalue = [55, 21]'),\n",
       " Text(0.9375, 0.125, 'gini = 0.42\\nsamples = 40\\nvalue = [12, 28]')]"
      ]
     },
     "execution_count": 1125,
     "metadata": {},
     "output_type": "execute_result"
    },
    {
     "data": {
      "image/png": "[encoded data removed]",
      "text/plain": [
       "<Figure size 1440x720 with 1 Axes>"
      ]
     },
     "metadata": {
      "needs_background": "light"
     },
     "output_type": "display_data"
    }
   ],
   "source": [
    "# visualization of decision tree\n",
    "from sklearn import tree\n",
    "fig = plt.figure(figsize=(20,10))\n",
    "tree.plot_tree(decision_tree_model)"
   ]
  },
  {
   "cell_type": "code",
   "execution_count": 1126,
   "id": "323201a3-f0d9-4b8a-abc5-4db310a00576",
   "metadata": {},
   "outputs": [
    {
     "name": "stderr",
     "output_type": "stream",
     "text": [
      "/Users/akhil/opt/anaconda3/lib/python3.9/site-packages/sklearn/utils/validation.py:993: DataConversionWarning: A column-vector y was passed when a 1d array was expected. Please change the shape of y to (n_samples, ), for example using ravel().\n",
      "  y = column_or_1d(y, warn=True)\n"
     ]
    },
    {
     "data": {
      "text/plain": [
       "array([0., 1., 0., ..., 1., 0., 0.])"
      ]
     },
     "execution_count": 1126,
     "metadata": {},
     "output_type": "execute_result"
    }
   ],
   "source": [
    "# Logistic regression\n",
    "from sklearn.linear_model import LogisticRegression\n",
    "logistic_model = LogisticRegression(penalty = 'l2', C = 1, random_state = 0)\n",
    "logistic_model.fit(x_train_normalized,y_train)\n",
    "logistic_model.predict(x_test_normalized)"
   ]
  },
  {
   "cell_type": "code",
   "execution_count": 1127,
   "id": "94449690-4969-4b70-96b2-7421c4aaf363",
   "metadata": {},
   "outputs": [
    {
     "data": {
      "text/plain": [
       "0.725219298245614"
      ]
     },
     "execution_count": 1127,
     "metadata": {},
     "output_type": "execute_result"
    }
   ],
   "source": [
    "logistic_model.score(x_train_normalized,y_train)"
   ]
  },
  {
   "cell_type": "code",
   "execution_count": 1128,
   "id": "0cd5c985-dfb4-4fef-99a7-857ef03e762a",
   "metadata": {},
   "outputs": [
    {
     "name": "stdout",
     "output_type": "stream",
     "text": [
      "0.7043859649122807\n",
      "0.6248108925869894\n",
      "0.8227091633466136\n",
      "0.7169972149021469\n",
      "0.7102321582115219\n"
     ]
    }
   ],
   "source": [
    "from sklearn.metrics import accuracy_score, precision_score, recall_score, roc_auc_score, f1_score\n",
    "# Logistic regression - performance on the test data\n",
    "logistic_pred = logistic_model.predict(x_test_normalized)\n",
    "logistic_acc = accuracy_score(y_test, logistic_pred )\n",
    "logistic_prec = precision_score(y_test, logistic_pred )\n",
    "logistic_recall = recall_score(y_test, logistic_pred )\n",
    "logistic_roc = roc_auc_score(y_test, logistic_pred )\n",
    "logistic_f1 = f1_score(y_test, logistic_pred )\n",
    "print(logistic_acc)\n",
    "print(logistic_prec)\n",
    "print(logistic_recall)\n",
    "print(logistic_roc)\n",
    "print(logistic_f1)"
   ]
  },
  {
   "cell_type": "code",
   "execution_count": 1129,
   "id": "b8e036fb-0284-4644-bc7e-43d367ddeb68",
   "metadata": {},
   "outputs": [
    {
     "name": "stderr",
     "output_type": "stream",
     "text": [
      "/Users/akhil/opt/anaconda3/lib/python3.9/site-packages/sklearn/utils/validation.py:993: DataConversionWarning: A column-vector y was passed when a 1d array was expected. Please change the shape of y to (n_samples, ), for example using ravel().\n",
      "  y = column_or_1d(y, warn=True)\n"
     ]
    },
    {
     "data": {
      "text/plain": [
       "0.7449561403508772"
      ]
     },
     "execution_count": 1129,
     "metadata": {},
     "output_type": "execute_result"
    }
   ],
   "source": [
    "# Support Vector Machine\n",
    "from sklearn.svm import SVC\n",
    "svm_model = SVC(C = 1 ) \n",
    "svm_model.fit(x_train_normalized,y_train)\n",
    "svm_model.predict(x_test_normalized)\n",
    "svm_model.score(x_train_normalized,y_train)"
   ]
  },
  {
   "cell_type": "code",
   "execution_count": 1130,
   "id": "8e538f68-fe52-4855-8209-11a452d6c2b2",
   "metadata": {},
   "outputs": [
    {
     "name": "stderr",
     "output_type": "stream",
     "text": [
      "/Users/akhil/opt/anaconda3/lib/python3.9/site-packages/sklearn/utils/validation.py:993: DataConversionWarning: A column-vector y was passed when a 1d array was expected. Please change the shape of y to (n_samples, ), for example using ravel().\n",
      "  y = column_or_1d(y, warn=True)\n"
     ]
    },
    {
     "data": {
      "text/plain": [
       "0.7243421052631579"
      ]
     },
     "execution_count": 1130,
     "metadata": {},
     "output_type": "execute_result"
    }
   ],
   "source": [
    "# linear kernel\n",
    "svm_model_linear = SVC(kernel = \"linear\", degree = 3, C = 5 ) \n",
    "svm_model_linear.fit(x_train_normalized,y_train)\n",
    "svm_model_linear.predict(x_test_normalized)\n",
    "svm_model_linear.score(x_train_normalized,y_train)"
   ]
  },
  {
   "cell_type": "code",
   "execution_count": 1131,
   "id": "f3cc2bc2-bbdd-4d25-827d-2263aa23e1b4",
   "metadata": {},
   "outputs": [
    {
     "name": "stderr",
     "output_type": "stream",
     "text": [
      "/Users/akhil/opt/anaconda3/lib/python3.9/site-packages/sklearn/utils/validation.py:993: DataConversionWarning: A column-vector y was passed when a 1d array was expected. Please change the shape of y to (n_samples, ), for example using ravel().\n",
      "  y = column_or_1d(y, warn=True)\n"
     ]
    },
    {
     "data": {
      "text/plain": [
       "0.756578947368421"
      ]
     },
     "execution_count": 1131,
     "metadata": {},
     "output_type": "execute_result"
    }
   ],
   "source": [
    "# RBF kernel\n",
    "svm_model_rbf = SVC(kernel = \"rbf\", degree = 3, C = 5 ) \n",
    "svm_model_rbf.fit(x_train_normalized,y_train)\n",
    "svm_model_rbf.predict(x_test_normalized)\n",
    "svm_model_rbf.score(x_train_normalized,y_train)"
   ]
  },
  {
   "cell_type": "code",
   "execution_count": 1132,
   "id": "f0be4f89-71ba-4986-9e5a-324d950b91a8",
   "metadata": {},
   "outputs": [
    {
     "name": "stderr",
     "output_type": "stream",
     "text": [
      "/Users/akhil/opt/anaconda3/lib/python3.9/site-packages/sklearn/utils/validation.py:993: DataConversionWarning: A column-vector y was passed when a 1d array was expected. Please change the shape of y to (n_samples, ), for example using ravel().\n",
      "  y = column_or_1d(y, warn=True)\n"
     ]
    },
    {
     "data": {
      "text/plain": [
       "0.493859649122807"
      ]
     },
     "execution_count": 1132,
     "metadata": {},
     "output_type": "execute_result"
    }
   ],
   "source": [
    "# Sigmoid kernel\n",
    "svm_model_sigmoid = SVC(kernel = \"sigmoid\", degree = 3, C = 5 ) \n",
    "svm_model_sigmoid.fit(x_train_normalized,y_train)\n",
    "svm_model_sigmoid.predict(x_test_normalized)\n",
    "svm_model_sigmoid.score(x_train_normalized,y_train)"
   ]
  },
  {
   "cell_type": "code",
   "execution_count": 1133,
   "id": "42d1e21d-6791-416f-a073-d4739ed23cad",
   "metadata": {},
   "outputs": [
    {
     "name": "stderr",
     "output_type": "stream",
     "text": [
      "/Users/akhil/opt/anaconda3/lib/python3.9/site-packages/sklearn/utils/validation.py:993: DataConversionWarning: A column-vector y was passed when a 1d array was expected. Please change the shape of y to (n_samples, ), for example using ravel().\n",
      "  y = column_or_1d(y, warn=True)\n"
     ]
    },
    {
     "data": {
      "text/plain": [
       "0.7528508771929825"
      ]
     },
     "execution_count": 1133,
     "metadata": {},
     "output_type": "execute_result"
    }
   ],
   "source": [
    "# Polynomial kernel\n",
    "svm_model_polynomial = SVC(kernel = \"poly\", degree = 3, C = 5 ) \n",
    "svm_model_polynomial.fit(x_train_normalized,y_train)\n",
    "svm_model_polynomial.predict(x_test_normalized)\n",
    "svm_model_polynomial.score(x_train_normalized,y_train)"
   ]
  },
  {
   "cell_type": "code",
   "execution_count": 1134,
   "id": "454063fd-f601-4386-aa77-16b7e98f85f0",
   "metadata": {},
   "outputs": [
    {
     "name": "stdout",
     "output_type": "stream",
     "text": [
      "0.718421052631579\n",
      "0.661319073083779\n",
      "0.7390438247011952\n",
      "0.7206190910339833\n",
      "0.698024459078081\n"
     ]
    }
   ],
   "source": [
    "svm_pred = svm_model_polynomial.predict(x_test_normalized)\n",
    "svm_acc = accuracy_score(y_test, svm_pred )\n",
    "svm_prec = precision_score(y_test, svm_pred )\n",
    "svm_recall = recall_score(y_test, svm_pred )\n",
    "svm_roc = roc_auc_score(y_test, svm_pred )\n",
    "svm_f1 = f1_score(y_test, svm_pred )\n",
    "print(svm_acc)\n",
    "print(svm_prec)\n",
    "print(svm_recall)\n",
    "print(svm_roc)\n",
    "print(svm_f1)"
   ]
  },
  {
   "cell_type": "code",
   "execution_count": 1135,
   "id": "00645228-d620-4c05-ba38-cebcd77c6ea3",
   "metadata": {},
   "outputs": [
    {
     "name": "stderr",
     "output_type": "stream",
     "text": [
      "/Users/akhil/opt/anaconda3/lib/python3.9/site-packages/sklearn/utils/deprecation.py:87: FutureWarning: Function plot_roc_curve is deprecated; Function :func:`plot_roc_curve` is deprecated in 1.0 and will be removed in 1.2. Use one of the class methods: :meth:`sklearn.metric.RocCurveDisplay.from_predictions` or :meth:`sklearn.metric.RocCurveDisplay.from_estimator`.\n",
      "  warnings.warn(msg, category=FutureWarning)\n",
      "/Users/akhil/opt/anaconda3/lib/python3.9/site-packages/sklearn/base.py:443: UserWarning: X has feature names, but SVC was fitted without feature names\n",
      "  warnings.warn(\n"
     ]
    },
    {
     "data": {
      "text/plain": [
       "[<matplotlib.lines.Line2D at 0x7fb3c6be3970>]"
      ]
     },
     "execution_count": 1135,
     "metadata": {},
     "output_type": "execute_result"
    },
    {
     "data": {
      "image/png": "[encoded data removed]",
      "text/plain": [
       "<Figure size 432x288 with 1 Axes>"
      ]
     },
     "metadata": {
      "needs_background": "light"
     },
     "output_type": "display_data"
    }
   ],
   "source": [
    "#ROC Curve\n",
    "from sklearn import metrics\n",
    "import matplotlib.pyplot as plt\n",
    "metrics.plot_roc_curve(svm_model_polynomial, X_test, y_test) \n",
    "plt.plot([0, 1], [0, 1], 'k--')"
   ]
  },
  {
   "cell_type": "code",
   "execution_count": 1136,
   "id": "aeeee669-a0ac-4485-a9d6-04e1138e1f82",
   "metadata": {},
   "outputs": [
    {
     "name": "stderr",
     "output_type": "stream",
     "text": [
      "/Users/akhil/opt/anaconda3/lib/python3.9/site-packages/sklearn/neighbors/_classification.py:198: DataConversionWarning: A column-vector y was passed when a 1d array was expected. Please change the shape of y to (n_samples,), for example using ravel().\n",
      "  return self._fit(X, y)\n"
     ]
    },
    {
     "data": {
      "text/plain": [
       "0.7916666666666666"
      ]
     },
     "execution_count": 1136,
     "metadata": {},
     "output_type": "execute_result"
    }
   ],
   "source": [
    "# K Nearest-neighbors\n",
    "from sklearn.neighbors import KNeighborsClassifier\n",
    "knn_model = KNeighborsClassifier(n_neighbors = 5, metric = \"minkowski\")\n",
    "knn_model.fit(x_train_normalized,y_train)\n",
    "knn_model.predict(x_test_normalized)\n",
    "knn_model.score(x_train_normalized,y_train)"
   ]
  },
  {
   "cell_type": "code",
   "execution_count": 1137,
   "id": "b16c6db3-b205-4dcc-9253-1342f1fd43e5",
   "metadata": {},
   "outputs": [
    {
     "name": "stdout",
     "output_type": "stream",
     "text": [
      "0.7149122807017544\n",
      "0.6654205607476635\n",
      "0.7091633466135459\n",
      "0.714299541645331\n",
      "0.686595949855352\n"
     ]
    }
   ],
   "source": [
    "# KNN - performance on the test data\n",
    "from sklearn.metrics import accuracy_score, precision_score, recall_score, roc_auc_score, f1_score\n",
    "knn_model_pred = knn_model.predict(x_test_normalized)\n",
    "knn_model_acc = accuracy_score(y_test, knn_model_pred )\n",
    "knn_model_prec = precision_score(y_test, knn_model_pred )\n",
    "knn_model_recall = recall_score(y_test, knn_model_pred )\n",
    "knn_model_roc = roc_auc_score(y_test, knn_model_pred )\n",
    "knn_model_f1 = f1_score(y_test, knn_model_pred )\n",
    "print(knn_model_acc)\n",
    "print(knn_model_prec)\n",
    "print(knn_model_recall)\n",
    "print(knn_model_roc)\n",
    "print(knn_model_f1)"
   ]
  },
  {
   "cell_type": "code",
   "execution_count": 1138,
   "id": "61273110-067e-4799-a208-2ce6b4f91bf1",
   "metadata": {},
   "outputs": [
    {
     "name": "stderr",
     "output_type": "stream",
     "text": [
      "/Users/akhil/opt/anaconda3/lib/python3.9/site-packages/sklearn/utils/deprecation.py:87: FutureWarning: Function plot_roc_curve is deprecated; Function :func:`plot_roc_curve` is deprecated in 1.0 and will be removed in 1.2. Use one of the class methods: :meth:`sklearn.metric.RocCurveDisplay.from_predictions` or :meth:`sklearn.metric.RocCurveDisplay.from_estimator`.\n",
      "  warnings.warn(msg, category=FutureWarning)\n",
      "/Users/akhil/opt/anaconda3/lib/python3.9/site-packages/sklearn/base.py:443: UserWarning: X has feature names, but KNeighborsClassifier was fitted without feature names\n",
      "  warnings.warn(\n"
     ]
    },
    {
     "data": {
      "text/plain": [
       "[<matplotlib.lines.Line2D at 0x7fb3c6d7fc40>]"
      ]
     },
     "execution_count": 1138,
     "metadata": {},
     "output_type": "execute_result"
    },
    {
     "data": {
      "image/png": "[encoded data removed]",
      "text/plain": [
       "<Figure size 432x288 with 1 Axes>"
      ]
     },
     "metadata": {
      "needs_background": "light"
     },
     "output_type": "display_data"
    }
   ],
   "source": [
    "#ROC Curve\n",
    "from sklearn import metrics\n",
    "import matplotlib.pyplot as plt\n",
    "metrics.plot_roc_curve(knn_model, X_test, y_test) \n",
    "plt.plot([0, 1], [0, 1], 'k--')"
   ]
  },
  {
   "cell_type": "code",
   "execution_count": 1139,
   "id": "878ef38a-129d-4fa8-8755-13ae1cdb7739",
   "metadata": {},
   "outputs": [
    {
     "name": "stderr",
     "output_type": "stream",
     "text": [
      "/var/folders/wy/s_9prt051xdgf1_ncthmr6vc0000gn/T/ipykernel_11446/1981642322.py:4: DataConversionWarning: A column-vector y was passed when a 1d array was expected. Please change the shape of y to (n_samples,), for example using ravel().\n",
      "  random_forest_model.fit(x_train_normalized,y_train)\n"
     ]
    },
    {
     "data": {
      "text/plain": [
       "0.743421052631579"
      ]
     },
     "execution_count": 1139,
     "metadata": {},
     "output_type": "execute_result"
    }
   ],
   "source": [
    "# Random Forest\n",
    "from sklearn.ensemble import RandomForestClassifier\n",
    "random_forest_model = RandomForestClassifier(n_estimators = 100, max_leaf_nodes = 18)\n",
    "random_forest_model.fit(x_train_normalized,y_train)\n",
    "random_forest_model.predict(x_test_normalized)\n",
    "random_forest_model.score(x_train_normalized,y_train)"
   ]
  },
  {
   "cell_type": "code",
   "execution_count": 1140,
   "id": "81163d66-ba7f-496e-8b39-96dcdf3fe93d",
   "metadata": {},
   "outputs": [
    {
     "name": "stdout",
     "output_type": "stream",
     "text": [
      "0.7228070175438597\n",
      "0.6648936170212766\n",
      "0.7470119521912351\n",
      "0.7253868538385643\n",
      "0.7035647279549717\n"
     ]
    }
   ],
   "source": [
    "# Random Forest - performance on the test data\n",
    "from sklearn.metrics import accuracy_score, precision_score, recall_score, roc_auc_score, f1_score\n",
    "random_forest_model_pred = random_forest_model.predict(x_test_normalized)\n",
    "random_forest_model_acc = accuracy_score(y_test, random_forest_model_pred )\n",
    "random_forest_model_prec = precision_score(y_test, random_forest_model_pred )\n",
    "random_forest_model_recall = recall_score(y_test, random_forest_model_pred )\n",
    "random_forest_model_roc = roc_auc_score(y_test, random_forest_model_pred )\n",
    "random_forest_model_f1 = f1_score(y_test, random_forest_model_pred )\n",
    "print(random_forest_model_acc)\n",
    "print(random_forest_model_prec)\n",
    "print(random_forest_model_recall)\n",
    "print(random_forest_model_roc)\n",
    "print(random_forest_model_f1)"
   ]
  },
  {
   "cell_type": "code",
   "execution_count": 1141,
   "id": "eac63046-786d-4e79-b174-d6057daef928",
   "metadata": {},
   "outputs": [
    {
     "name": "stderr",
     "output_type": "stream",
     "text": [
      "/Users/akhil/opt/anaconda3/lib/python3.9/site-packages/sklearn/utils/deprecation.py:87: FutureWarning: Function plot_roc_curve is deprecated; Function :func:`plot_roc_curve` is deprecated in 1.0 and will be removed in 1.2. Use one of the class methods: :meth:`sklearn.metric.RocCurveDisplay.from_predictions` or :meth:`sklearn.metric.RocCurveDisplay.from_estimator`.\n",
      "  warnings.warn(msg, category=FutureWarning)\n",
      "/Users/akhil/opt/anaconda3/lib/python3.9/site-packages/sklearn/base.py:443: UserWarning: X has feature names, but RandomForestClassifier was fitted without feature names\n",
      "  warnings.warn(\n"
     ]
    },
    {
     "data": {
      "text/plain": [
       "[<matplotlib.lines.Line2D at 0x7fb3c5fd96a0>]"
      ]
     },
     "execution_count": 1141,
     "metadata": {},
     "output_type": "execute_result"
    },
    {
     "data": {
      "image/png": "[encoded data removed]",
      "text/plain": [
       "<Figure size 432x288 with 1 Axes>"
      ]
     },
     "metadata": {
      "needs_background": "light"
     },
     "output_type": "display_data"
    }
   ],
   "source": [
    "#ROC Curve\n",
    "from sklearn import metrics\n",
    "import matplotlib.pyplot as plt\n",
    "metrics.plot_roc_curve(random_forest_model, X_test, y_test) \n",
    "plt.plot([0, 1], [0, 1], 'k--')"
   ]
  },
  {
   "cell_type": "code",
   "execution_count": 1142,
   "id": "4296197d-98d5-4c71-b789-262d02841094",
   "metadata": {},
   "outputs": [],
   "source": [
    "# Evalution Metrics\n",
    "TablarData = {'Methods': ['Decision Tree','SVM','KNN','Random Forest', 'Logistic regression'],\n",
    "        'Accuracy': [decision_tree_model_acc, svm_acc, knn_model_acc, random_forest_model_acc, logistic_acc ],\n",
    "        'Precision':[decision_tree_model_prec,svm_prec,knn_model_prec, random_forest_model_prec, logistic_prec],\n",
    "        'Recall':[decision_tree_model_recall,svm_recall,knn_model_recall, random_forest_model_recall, logistic_recall],\n",
    "        'F1-score':[decision_tree_model_f1,svm_f1,knn_model_f1, random_forest_model_f1, logistic_f1 ],\n",
    "        'AUC score':[decision_tree_model_roc,svm_roc,knn_model_roc, random_forest_model_roc, logistic_roc]}\n",
    "\n",
    "evaluation_metrics=pd.DataFrame(TablarData)"
   ]
  },
  {
   "cell_type": "code",
   "execution_count": 1143,
   "id": "e8c6fa05-02ba-4a8e-ab2f-1b4b9d4fa87e",
   "metadata": {},
   "outputs": [
    {
     "data": {
      "text/html": [
       "<div>\n",
       "<style scoped>\n",
       "    .dataframe tbody tr th:only-of-type {\n",
       "        vertical-align: middle;\n",
       "    }\n",
       "\n",
       "    .dataframe tbody tr th {\n",
       "        vertical-align: top;\n",
       "    }\n",
       "\n",
       "    .dataframe thead th {\n",
       "        text-align: right;\n",
       "    }\n",
       "</style>\n",
       "<table border=\"1\" class=\"dataframe\">\n",
       "  <thead>\n",
       "    <tr style=\"text-align: right;\">\n",
       "      <th></th>\n",
       "      <th>Methods</th>\n",
       "      <th>Accuracy</th>\n",
       "      <th>Precision</th>\n",
       "      <th>Recall</th>\n",
       "      <th>F1-score</th>\n",
       "      <th>AUC score</th>\n",
       "    </tr>\n",
       "  </thead>\n",
       "  <tbody>\n",
       "    <tr>\n",
       "      <th>0</th>\n",
       "      <td>Decision Tree</td>\n",
       "      <td>0.637719</td>\n",
       "      <td>0.560217</td>\n",
       "      <td>0.824701</td>\n",
       "      <td>0.667204</td>\n",
       "      <td>0.657648</td>\n",
       "    </tr>\n",
       "    <tr>\n",
       "      <th>1</th>\n",
       "      <td>SVM</td>\n",
       "      <td>0.718421</td>\n",
       "      <td>0.661319</td>\n",
       "      <td>0.739044</td>\n",
       "      <td>0.698024</td>\n",
       "      <td>0.720619</td>\n",
       "    </tr>\n",
       "    <tr>\n",
       "      <th>2</th>\n",
       "      <td>KNN</td>\n",
       "      <td>0.714912</td>\n",
       "      <td>0.665421</td>\n",
       "      <td>0.709163</td>\n",
       "      <td>0.686596</td>\n",
       "      <td>0.714300</td>\n",
       "    </tr>\n",
       "    <tr>\n",
       "      <th>3</th>\n",
       "      <td>Random Forest</td>\n",
       "      <td>0.722807</td>\n",
       "      <td>0.664894</td>\n",
       "      <td>0.747012</td>\n",
       "      <td>0.703565</td>\n",
       "      <td>0.725387</td>\n",
       "    </tr>\n",
       "    <tr>\n",
       "      <th>4</th>\n",
       "      <td>Logistic regression</td>\n",
       "      <td>0.704386</td>\n",
       "      <td>0.624811</td>\n",
       "      <td>0.822709</td>\n",
       "      <td>0.710232</td>\n",
       "      <td>0.716997</td>\n",
       "    </tr>\n",
       "  </tbody>\n",
       "</table>\n",
       "</div>"
      ],
      "text/plain": [
       "               Methods  Accuracy  Precision    Recall  F1-score  AUC score\n",
       "0        Decision Tree  0.637719   0.560217  0.824701  0.667204   0.657648\n",
       "1                  SVM  0.718421   0.661319  0.739044  0.698024   0.720619\n",
       "2                  KNN  0.714912   0.665421  0.709163  0.686596   0.714300\n",
       "3        Random Forest  0.722807   0.664894  0.747012  0.703565   0.725387\n",
       "4  Logistic regression  0.704386   0.624811  0.822709  0.710232   0.716997"
      ]
     },
     "execution_count": 1143,
     "metadata": {},
     "output_type": "execute_result"
    }
   ],
   "source": [
    "evaluation_metrics"
   ]
  },
  {
   "cell_type": "raw",
   "id": "e0f03441-da0d-4122-9328-11603c5121bb",
   "metadata": {},
   "source": [
    "Cross validations"
   ]
  },
  {
   "cell_type": "code",
   "execution_count": 1144,
   "id": "f2b3e939-bf4c-4941-9732-84876d1b0553",
   "metadata": {},
   "outputs": [
    {
     "name": "stdout",
     "output_type": "stream",
     "text": [
      "CV_scores:  [0.66885965 0.6995614  0.66008772 0.74780702 0.70614035 0.65350877\n",
      " 0.73464912 0.70175439 0.67982456 0.67763158]\n"
     ]
    }
   ],
   "source": [
    "# Cross Validation for Decision Tree\n",
    "from sklearn.tree import DecisionTreeClassifier\n",
    "from sklearn.model_selection import cross_val_score\n",
    "CV_scores_decision_tree_model = cross_val_score(estimator = decision_tree_model, X = X_train, y = y_train, cv = 10, scoring = 'accuracy')\n",
    "print(\"CV_scores: \", CV_scores_decision_tree_model)"
   ]
  },
  {
   "cell_type": "code",
   "execution_count": 1160,
   "id": "e0099792-8571-4329-93da-77fb1c087ffe",
   "metadata": {},
   "outputs": [
    {
     "name": "stdout",
     "output_type": "stream",
     "text": [
      "Accuracy:  0.4842105263157895\n",
      "Precision: 0.9183266932270916\n",
      "recall_score: 0.4573412698412698\n",
      "f1_score: 0.5733676046176047\n",
      "ROC Curve: 0.6105960264900662\n"
     ]
    },
    {
     "name": "stderr",
     "output_type": "stream",
     "text": [
      "/Users/akhil/opt/anaconda3/lib/python3.9/site-packages/sklearn/base.py:443: UserWarning: X has feature names, but DecisionTreeClassifier was fitted without feature names\n",
      "  warnings.warn(\n"
     ]
    }
   ],
   "source": [
    "y_test_pred = decision_tree_model.predict(X_test)\n",
    "from sklearn import metrics\n",
    "from sklearn.metrics import accuracy_score\n",
    "from sklearn.metrics import precision_score,recall_score,f1_score\n",
    "decision_tree_acc_cv = metrics.accuracy_score(y_test_pred,y_test)\n",
    "decision_tree_prec_cv = precision_score(y_test_pred, y_test)\n",
    "decision_tree_recall_cv = recall_score(y_test_pred, y_test)\n",
    "decision_tree_f1_cv = f1_score(y_test_pred, y_test)\n",
    "decision_tree_roc_cv = roc_auc_score(y_test_pred, y_test)\n",
    "print(\"Accuracy: \", decision_tree_acc_cv)\n",
    "print(\"Precision:\",decision_tree_prec_cv)\n",
    "print(\"recall_score:\",decision_tree_recall_cv)\n",
    "print(\"f1_score:\",decision_tree_roc_cv)\n",
    "print(\"ROC Curve:\",decision_tree_f1_cv)"
   ]
  },
  {
   "cell_type": "code",
   "execution_count": 1146,
   "id": "11cc356d-ee7e-401c-88b1-2abeedc7f13d",
   "metadata": {},
   "outputs": [
    {
     "data": {
      "text/plain": [
       "Text(0, 0.5, 'Accuracy')"
      ]
     },
     "execution_count": 1146,
     "metadata": {},
     "output_type": "execute_result"
    },
    {
     "data": {
      "image/png": "[encoded data removed]",
      "text/plain": [
       "<Figure size 432x288 with 1 Axes>"
      ]
     },
     "metadata": {
      "needs_background": "light"
     },
     "output_type": "display_data"
    }
   ],
   "source": [
    "plt.boxplot(CV_scores_decision_tree_model)\n",
    "plt.title(\"10-fold cross validation accuracy\")\n",
    "plt.xlabel(\"Decision Tree\")\n",
    "plt.ylabel(\"Accuracy\")"
   ]
  },
  {
   "cell_type": "code",
   "execution_count": 1147,
   "id": "4df77dd4-e4f1-4b17-8ba0-92a95d16a344",
   "metadata": {},
   "outputs": [
    {
     "name": "stderr",
     "output_type": "stream",
     "text": [
      "/Users/akhil/opt/anaconda3/lib/python3.9/site-packages/sklearn/utils/validation.py:993: DataConversionWarning: A column-vector y was passed when a 1d array was expected. Please change the shape of y to (n_samples, ), for example using ravel().\n",
      "  y = column_or_1d(y, warn=True)\n",
      "/Users/akhil/opt/anaconda3/lib/python3.9/site-packages/sklearn/linear_model/_logistic.py:814: ConvergenceWarning: lbfgs failed to converge (status=1):\n",
      "STOP: TOTAL NO. of ITERATIONS REACHED LIMIT.\n",
      "\n",
      "Increase the number of iterations (max_iter) or scale the data as shown in:\n",
      "    https://scikit-learn.org/stable/modules/preprocessing.html\n",
      "Please also refer to the documentation for alternative solver options:\n",
      "    https://scikit-learn.org/stable/modules/linear_model.html#logistic-regression\n",
      "  n_iter_i = _check_optimize_result(\n",
      "/Users/akhil/opt/anaconda3/lib/python3.9/site-packages/sklearn/utils/validation.py:993: DataConversionWarning: A column-vector y was passed when a 1d array was expected. Please change the shape of y to (n_samples, ), for example using ravel().\n",
      "  y = column_or_1d(y, warn=True)\n",
      "/Users/akhil/opt/anaconda3/lib/python3.9/site-packages/sklearn/linear_model/_logistic.py:814: ConvergenceWarning: lbfgs failed to converge (status=1):\n",
      "STOP: TOTAL NO. of ITERATIONS REACHED LIMIT.\n",
      "\n",
      "Increase the number of iterations (max_iter) or scale the data as shown in:\n",
      "    https://scikit-learn.org/stable/modules/preprocessing.html\n",
      "Please also refer to the documentation for alternative solver options:\n",
      "    https://scikit-learn.org/stable/modules/linear_model.html#logistic-regression\n",
      "  n_iter_i = _check_optimize_result(\n",
      "/Users/akhil/opt/anaconda3/lib/python3.9/site-packages/sklearn/utils/validation.py:993: DataConversionWarning: A column-vector y was passed when a 1d array was expected. Please change the shape of y to (n_samples, ), for example using ravel().\n",
      "  y = column_or_1d(y, warn=True)\n",
      "/Users/akhil/opt/anaconda3/lib/python3.9/site-packages/sklearn/linear_model/_logistic.py:814: ConvergenceWarning: lbfgs failed to converge (status=1):\n",
      "STOP: TOTAL NO. of ITERATIONS REACHED LIMIT.\n",
      "\n",
      "Increase the number of iterations (max_iter) or scale the data as shown in:\n",
      "    https://scikit-learn.org/stable/modules/preprocessing.html\n",
      "Please also refer to the documentation for alternative solver options:\n",
      "    https://scikit-learn.org/stable/modules/linear_model.html#logistic-regression\n",
      "  n_iter_i = _check_optimize_result(\n",
      "/Users/akhil/opt/anaconda3/lib/python3.9/site-packages/sklearn/utils/validation.py:993: DataConversionWarning: A column-vector y was passed when a 1d array was expected. Please change the shape of y to (n_samples, ), for example using ravel().\n",
      "  y = column_or_1d(y, warn=True)\n",
      "/Users/akhil/opt/anaconda3/lib/python3.9/site-packages/sklearn/linear_model/_logistic.py:814: ConvergenceWarning: lbfgs failed to converge (status=1):\n",
      "STOP: TOTAL NO. of ITERATIONS REACHED LIMIT.\n",
      "\n",
      "Increase the number of iterations (max_iter) or scale the data as shown in:\n",
      "    https://scikit-learn.org/stable/modules/preprocessing.html\n",
      "Please also refer to the documentation for alternative solver options:\n",
      "    https://scikit-learn.org/stable/modules/linear_model.html#logistic-regression\n",
      "  n_iter_i = _check_optimize_result(\n",
      "/Users/akhil/opt/anaconda3/lib/python3.9/site-packages/sklearn/utils/validation.py:993: DataConversionWarning: A column-vector y was passed when a 1d array was expected. Please change the shape of y to (n_samples, ), for example using ravel().\n",
      "  y = column_or_1d(y, warn=True)\n",
      "/Users/akhil/opt/anaconda3/lib/python3.9/site-packages/sklearn/linear_model/_logistic.py:814: ConvergenceWarning: lbfgs failed to converge (status=1):\n",
      "STOP: TOTAL NO. of ITERATIONS REACHED LIMIT.\n",
      "\n",
      "Increase the number of iterations (max_iter) or scale the data as shown in:\n",
      "    https://scikit-learn.org/stable/modules/preprocessing.html\n",
      "Please also refer to the documentation for alternative solver options:\n",
      "    https://scikit-learn.org/stable/modules/linear_model.html#logistic-regression\n",
      "  n_iter_i = _check_optimize_result(\n",
      "/Users/akhil/opt/anaconda3/lib/python3.9/site-packages/sklearn/utils/validation.py:993: DataConversionWarning: A column-vector y was passed when a 1d array was expected. Please change the shape of y to (n_samples, ), for example using ravel().\n",
      "  y = column_or_1d(y, warn=True)\n",
      "/Users/akhil/opt/anaconda3/lib/python3.9/site-packages/sklearn/linear_model/_logistic.py:814: ConvergenceWarning: lbfgs failed to converge (status=1):\n",
      "STOP: TOTAL NO. of ITERATIONS REACHED LIMIT.\n",
      "\n",
      "Increase the number of iterations (max_iter) or scale the data as shown in:\n",
      "    https://scikit-learn.org/stable/modules/preprocessing.html\n",
      "Please also refer to the documentation for alternative solver options:\n",
      "    https://scikit-learn.org/stable/modules/linear_model.html#logistic-regression\n",
      "  n_iter_i = _check_optimize_result(\n",
      "/Users/akhil/opt/anaconda3/lib/python3.9/site-packages/sklearn/utils/validation.py:993: DataConversionWarning: A column-vector y was passed when a 1d array was expected. Please change the shape of y to (n_samples, ), for example using ravel().\n",
      "  y = column_or_1d(y, warn=True)\n",
      "/Users/akhil/opt/anaconda3/lib/python3.9/site-packages/sklearn/linear_model/_logistic.py:814: ConvergenceWarning: lbfgs failed to converge (status=1):\n",
      "STOP: TOTAL NO. of ITERATIONS REACHED LIMIT.\n",
      "\n",
      "Increase the number of iterations (max_iter) or scale the data as shown in:\n",
      "    https://scikit-learn.org/stable/modules/preprocessing.html\n",
      "Please also refer to the documentation for alternative solver options:\n",
      "    https://scikit-learn.org/stable/modules/linear_model.html#logistic-regression\n",
      "  n_iter_i = _check_optimize_result(\n",
      "/Users/akhil/opt/anaconda3/lib/python3.9/site-packages/sklearn/utils/validation.py:993: DataConversionWarning: A column-vector y was passed when a 1d array was expected. Please change the shape of y to (n_samples, ), for example using ravel().\n",
      "  y = column_or_1d(y, warn=True)\n"
     ]
    },
    {
     "name": "stdout",
     "output_type": "stream",
     "text": [
      "CV_scores:  [0.73245614 0.73464912 0.69298246 0.74122807 0.72587719 0.73245614\n",
      " 0.73903509 0.72149123 0.70175439 0.70614035]\n"
     ]
    },
    {
     "name": "stderr",
     "output_type": "stream",
     "text": [
      "/Users/akhil/opt/anaconda3/lib/python3.9/site-packages/sklearn/linear_model/_logistic.py:814: ConvergenceWarning: lbfgs failed to converge (status=1):\n",
      "STOP: TOTAL NO. of ITERATIONS REACHED LIMIT.\n",
      "\n",
      "Increase the number of iterations (max_iter) or scale the data as shown in:\n",
      "    https://scikit-learn.org/stable/modules/preprocessing.html\n",
      "Please also refer to the documentation for alternative solver options:\n",
      "    https://scikit-learn.org/stable/modules/linear_model.html#logistic-regression\n",
      "  n_iter_i = _check_optimize_result(\n",
      "/Users/akhil/opt/anaconda3/lib/python3.9/site-packages/sklearn/utils/validation.py:993: DataConversionWarning: A column-vector y was passed when a 1d array was expected. Please change the shape of y to (n_samples, ), for example using ravel().\n",
      "  y = column_or_1d(y, warn=True)\n",
      "/Users/akhil/opt/anaconda3/lib/python3.9/site-packages/sklearn/linear_model/_logistic.py:814: ConvergenceWarning: lbfgs failed to converge (status=1):\n",
      "STOP: TOTAL NO. of ITERATIONS REACHED LIMIT.\n",
      "\n",
      "Increase the number of iterations (max_iter) or scale the data as shown in:\n",
      "    https://scikit-learn.org/stable/modules/preprocessing.html\n",
      "Please also refer to the documentation for alternative solver options:\n",
      "    https://scikit-learn.org/stable/modules/linear_model.html#logistic-regression\n",
      "  n_iter_i = _check_optimize_result(\n",
      "/Users/akhil/opt/anaconda3/lib/python3.9/site-packages/sklearn/utils/validation.py:993: DataConversionWarning: A column-vector y was passed when a 1d array was expected. Please change the shape of y to (n_samples, ), for example using ravel().\n",
      "  y = column_or_1d(y, warn=True)\n",
      "/Users/akhil/opt/anaconda3/lib/python3.9/site-packages/sklearn/linear_model/_logistic.py:814: ConvergenceWarning: lbfgs failed to converge (status=1):\n",
      "STOP: TOTAL NO. of ITERATIONS REACHED LIMIT.\n",
      "\n",
      "Increase the number of iterations (max_iter) or scale the data as shown in:\n",
      "    https://scikit-learn.org/stable/modules/preprocessing.html\n",
      "Please also refer to the documentation for alternative solver options:\n",
      "    https://scikit-learn.org/stable/modules/linear_model.html#logistic-regression\n",
      "  n_iter_i = _check_optimize_result(\n"
     ]
    }
   ],
   "source": [
    "# Cross validation for Logictic regression\n",
    "from sklearn.model_selection import cross_val_score\n",
    "from sklearn.linear_model import LogisticRegression\n",
    "CV_scores_lr = cross_val_score(estimator = logistic_model, X = X_train, y = y_train, cv = 10, scoring = 'accuracy')\n",
    "print(\"CV_scores: \", CV_scores_lr)"
   ]
  },
  {
   "cell_type": "code",
   "execution_count": 1176,
   "id": "0ce89851-776a-4286-9980-c23d8ec44775",
   "metadata": {},
   "outputs": [
    {
     "name": "stdout",
     "output_type": "stream",
     "text": [
      "Accuracy:  0.4842105263157895\n",
      "Precision: 0.9183266932270916\n",
      "recall_score: 0.4573412698412698\n",
      "f1_score: 0.5733676046176047\n",
      "ROC Curve: 0.6105960264900662\n"
     ]
    },
    {
     "name": "stderr",
     "output_type": "stream",
     "text": [
      "/Users/akhil/opt/anaconda3/lib/python3.9/site-packages/sklearn/base.py:443: UserWarning: X has feature names, but RandomForestClassifier was fitted without feature names\n",
      "  warnings.warn(\n"
     ]
    }
   ],
   "source": [
    "y_test_pred_lr = random_forest_model.predict(X_test)\n",
    "from sklearn import metrics\n",
    "from sklearn.metrics import accuracy_score\n",
    "from sklearn.metrics import precision_score,recall_score,f1_score\n",
    "logistic_model_acc_cv = metrics.accuracy_score(y_test_pred_lr,y_test)\n",
    "logistic_model_prec_cv = precision_score(y_test_pred_lr, y_test)\n",
    "logistic_model_recall_cv = recall_score(y_test_pred_lr, y_test)\n",
    "logistic_model_f1_cv = f1_score(y_test_pred_lr, y_test)\n",
    "logistic_model_roc_cv = roc_auc_score(y_test_pred_lr, y_test)\n",
    "print(\"Accuracy: \", logistic_model_acc_cv)\n",
    "print(\"Precision:\",logistic_model_prec_cv)\n",
    "print(\"recall_score:\",logistic_model_recall_cv)\n",
    "print(\"f1_score:\",logistic_model_roc_cv)\n",
    "print(\"ROC Curve:\",logistic_model_f1_cv)"
   ]
  },
  {
   "cell_type": "code",
   "execution_count": 1158,
   "id": "b9a2c68d-9ca6-4618-ae75-eb077e011a48",
   "metadata": {},
   "outputs": [
    {
     "data": {
      "text/plain": [
       "Text(0, 0.5, 'Accuracy')"
      ]
     },
     "execution_count": 1158,
     "metadata": {},
     "output_type": "execute_result"
    },
    {
     "data": {
      "image/png": "[encoded data removed]",
      "text/plain": [
       "<Figure size 432x288 with 1 Axes>"
      ]
     },
     "metadata": {
      "needs_background": "light"
     },
     "output_type": "display_data"
    }
   ],
   "source": [
    "plt.boxplot(CV_scores_lr)\n",
    "plt.title(\"10-fold cross validation accuracy\")\n",
    "plt.xlabel(\"Logistic Regression\")\n",
    "plt.ylabel(\"Accuracy\")"
   ]
  },
  {
   "cell_type": "code",
   "execution_count": 1148,
   "id": "e91e9ea2-c411-4e39-9a4b-abe51daf98e2",
   "metadata": {},
   "outputs": [
    {
     "name": "stderr",
     "output_type": "stream",
     "text": [
      "/Users/akhil/opt/anaconda3/lib/python3.9/site-packages/sklearn/model_selection/_validation.py:680: DataConversionWarning: A column-vector y was passed when a 1d array was expected. Please change the shape of y to (n_samples,), for example using ravel().\n",
      "  estimator.fit(X_train, y_train, **fit_params)\n",
      "/Users/akhil/opt/anaconda3/lib/python3.9/site-packages/sklearn/model_selection/_validation.py:680: DataConversionWarning: A column-vector y was passed when a 1d array was expected. Please change the shape of y to (n_samples,), for example using ravel().\n",
      "  estimator.fit(X_train, y_train, **fit_params)\n",
      "/Users/akhil/opt/anaconda3/lib/python3.9/site-packages/sklearn/model_selection/_validation.py:680: DataConversionWarning: A column-vector y was passed when a 1d array was expected. Please change the shape of y to (n_samples,), for example using ravel().\n",
      "  estimator.fit(X_train, y_train, **fit_params)\n",
      "/Users/akhil/opt/anaconda3/lib/python3.9/site-packages/sklearn/model_selection/_validation.py:680: DataConversionWarning: A column-vector y was passed when a 1d array was expected. Please change the shape of y to (n_samples,), for example using ravel().\n",
      "  estimator.fit(X_train, y_train, **fit_params)\n",
      "/Users/akhil/opt/anaconda3/lib/python3.9/site-packages/sklearn/model_selection/_validation.py:680: DataConversionWarning: A column-vector y was passed when a 1d array was expected. Please change the shape of y to (n_samples,), for example using ravel().\n",
      "  estimator.fit(X_train, y_train, **fit_params)\n",
      "/Users/akhil/opt/anaconda3/lib/python3.9/site-packages/sklearn/model_selection/_validation.py:680: DataConversionWarning: A column-vector y was passed when a 1d array was expected. Please change the shape of y to (n_samples,), for example using ravel().\n",
      "  estimator.fit(X_train, y_train, **fit_params)\n",
      "/Users/akhil/opt/anaconda3/lib/python3.9/site-packages/sklearn/model_selection/_validation.py:680: DataConversionWarning: A column-vector y was passed when a 1d array was expected. Please change the shape of y to (n_samples,), for example using ravel().\n",
      "  estimator.fit(X_train, y_train, **fit_params)\n",
      "/Users/akhil/opt/anaconda3/lib/python3.9/site-packages/sklearn/model_selection/_validation.py:680: DataConversionWarning: A column-vector y was passed when a 1d array was expected. Please change the shape of y to (n_samples,), for example using ravel().\n",
      "  estimator.fit(X_train, y_train, **fit_params)\n",
      "/Users/akhil/opt/anaconda3/lib/python3.9/site-packages/sklearn/model_selection/_validation.py:680: DataConversionWarning: A column-vector y was passed when a 1d array was expected. Please change the shape of y to (n_samples,), for example using ravel().\n",
      "  estimator.fit(X_train, y_train, **fit_params)\n",
      "/Users/akhil/opt/anaconda3/lib/python3.9/site-packages/sklearn/model_selection/_validation.py:680: DataConversionWarning: A column-vector y was passed when a 1d array was expected. Please change the shape of y to (n_samples,), for example using ravel().\n",
      "  estimator.fit(X_train, y_train, **fit_params)\n"
     ]
    },
    {
     "name": "stdout",
     "output_type": "stream",
     "text": [
      "CV_scores:  [0.72149123 0.70394737 0.69517544 0.77631579 0.73026316 0.72368421\n",
      " 0.73684211 0.71929825 0.70614035 0.72807018]\n"
     ]
    }
   ],
   "source": [
    "# Cross validation for Random Forest\n",
    "from sklearn.ensemble import RandomForestClassifier\n",
    "from sklearn.model_selection import cross_val_score\n",
    "CV_scores_random_forest_model = cross_val_score(estimator = random_forest_model, X = X_train, y = y_train, cv = 10, scoring = 'accuracy')\n",
    "print(\"CV_scores: \", CV_scores_random_forest_model)"
   ]
  },
  {
   "cell_type": "code",
   "execution_count": 1175,
   "id": "76228fa9-a696-490f-8041-c7069ae462ca",
   "metadata": {},
   "outputs": [
    {
     "name": "stdout",
     "output_type": "stream",
     "text": [
      "Accuracy:  0.4842105263157895\n",
      "Precision: 0.9183266932270916\n",
      "recall_score: 0.4573412698412698\n",
      "f1_score: 0.5733676046176047\n",
      "ROC Curve: 0.6105960264900662\n"
     ]
    },
    {
     "name": "stderr",
     "output_type": "stream",
     "text": [
      "/Users/akhil/opt/anaconda3/lib/python3.9/site-packages/sklearn/base.py:443: UserWarning: X has feature names, but RandomForestClassifier was fitted without feature names\n",
      "  warnings.warn(\n"
     ]
    }
   ],
   "source": [
    "y_test_pred_rf = random_forest_model.predict(X_test)\n",
    "from sklearn import metrics\n",
    "from sklearn.metrics import accuracy_score\n",
    "from sklearn.metrics import precision_score,recall_score,f1_score\n",
    "random_forest_acc_cv = metrics.accuracy_score(y_test_pred_rf,y_test)\n",
    "random_forest_prec_cv = precision_score(y_test_pred_rf, y_test)\n",
    "random_forest_recall_cv = recall_score(y_test_pred_rf, y_test)\n",
    "random_forest_f1_cv = f1_score(y_test_pred_rf, y_test)\n",
    "random_forest_roc_cv = roc_auc_score(y_test_pred_rf, y_test)\n",
    "print(\"Accuracy: \", random_forest_acc_cv)\n",
    "print(\"Precision:\",random_forest_prec_cv)\n",
    "print(\"recall_score:\",random_forest_recall_cv)\n",
    "print(\"f1_score:\",random_forest_roc_cv)\n",
    "print(\"ROC Curve:\",random_forest_f1_cv)"
   ]
  },
  {
   "cell_type": "code",
   "execution_count": 1159,
   "id": "237e5a46-c339-49b6-80cb-38911a9d9c8e",
   "metadata": {},
   "outputs": [
    {
     "data": {
      "text/plain": [
       "Text(0, 0.5, 'Accuracy')"
      ]
     },
     "execution_count": 1159,
     "metadata": {},
     "output_type": "execute_result"
    },
    {
     "data": {
      "image/png": "[encoded data removed]",
      "text/plain": [
       "<Figure size 432x288 with 1 Axes>"
      ]
     },
     "metadata": {
      "needs_background": "light"
     },
     "output_type": "display_data"
    }
   ],
   "source": [
    "plt.boxplot(CV_scores_random_forest_model)\n",
    "plt.title(\"10-fold cross validation accuracy\")\n",
    "plt.xlabel(\"Random Forest\")\n",
    "plt.ylabel(\"Accuracy\")"
   ]
  },
  {
   "cell_type": "code",
   "execution_count": 1173,
   "id": "4a372176-bfc9-4d5f-82dc-338afdcfd742",
   "metadata": {},
   "outputs": [],
   "source": [
    "# Evalution Metrics\n",
    "TablarData_cv = {'Methods': ['Decision Tree','Random Forest','Logistic Model'],\n",
    "        'Accuracy': [decision_tree_acc_cv, random_forest_acc_cv, logistic_model_acc_cv ],\n",
    "        'Precision':[decision_tree_prec_cv, random_forest_prec_cv, logistic_model_prec_cv],\n",
    "        'Recall':[decision_tree_recall_cv, random_forest_recall_cv, logistic_model_recall_cv],\n",
    "        'F1-score':[decision_tree_f1_cv, random_forest_f1_cv, logistic_model_f1_cv],\n",
    "        'AUC score':[decision_tree_roc_cv, random_forest_roc_cv, logistic_model_roc_cv]}\n",
    "\n",
    "evaluation_metrics_cv =pd.DataFrame(TablarData_cv)"
   ]
  },
  {
   "cell_type": "code",
   "execution_count": 1174,
   "id": "01433fd3-869a-46e4-9adb-f4035c5f99fa",
   "metadata": {},
   "outputs": [
    {
     "data": {
      "text/html": [
       "<div>\n",
       "<style scoped>\n",
       "    .dataframe tbody tr th:only-of-type {\n",
       "        vertical-align: middle;\n",
       "    }\n",
       "\n",
       "    .dataframe tbody tr th {\n",
       "        vertical-align: top;\n",
       "    }\n",
       "\n",
       "    .dataframe thead th {\n",
       "        text-align: right;\n",
       "    }\n",
       "</style>\n",
       "<table border=\"1\" class=\"dataframe\">\n",
       "  <thead>\n",
       "    <tr style=\"text-align: right;\">\n",
       "      <th></th>\n",
       "      <th>Methods</th>\n",
       "      <th>Accuracy</th>\n",
       "      <th>Precision</th>\n",
       "      <th>Recall</th>\n",
       "      <th>F1-score</th>\n",
       "      <th>AUC score</th>\n",
       "    </tr>\n",
       "  </thead>\n",
       "  <tbody>\n",
       "    <tr>\n",
       "      <th>0</th>\n",
       "      <td>Decision Tree</td>\n",
       "      <td>0.484211</td>\n",
       "      <td>0.918327</td>\n",
       "      <td>0.457341</td>\n",
       "      <td>0.610596</td>\n",
       "      <td>0.573368</td>\n",
       "    </tr>\n",
       "    <tr>\n",
       "      <th>1</th>\n",
       "      <td>Random Forest</td>\n",
       "      <td>0.484211</td>\n",
       "      <td>0.918327</td>\n",
       "      <td>0.457341</td>\n",
       "      <td>0.573368</td>\n",
       "      <td>0.610596</td>\n",
       "    </tr>\n",
       "    <tr>\n",
       "      <th>2</th>\n",
       "      <td>Logistic Model</td>\n",
       "      <td>0.484211</td>\n",
       "      <td>0.918327</td>\n",
       "      <td>0.457341</td>\n",
       "      <td>0.573368</td>\n",
       "      <td>0.610596</td>\n",
       "    </tr>\n",
       "  </tbody>\n",
       "</table>\n",
       "</div>"
      ],
      "text/plain": [
       "          Methods  Accuracy  Precision    Recall  F1-score  AUC score\n",
       "0   Decision Tree  0.484211   0.918327  0.457341  0.610596   0.573368\n",
       "1   Random Forest  0.484211   0.918327  0.457341  0.573368   0.610596\n",
       "2  Logistic Model  0.484211   0.918327  0.457341  0.573368   0.610596"
      ]
     },
     "execution_count": 1174,
     "metadata": {},
     "output_type": "execute_result"
    }
   ],
   "source": [
    "evaluation_metrics_cv"
   ]
  },
  {
   "cell_type": "code",
   "execution_count": 1226,
   "id": "7b20d729-22d0-4b8b-a334-6e40a3679120",
   "metadata": {},
   "outputs": [],
   "source": [
    "from sklearn.preprocessing import StandardScaler\n",
    "from sklearn.feature_extraction.text import CountVectorizer\n",
    "standardscaler = StandardScaler()\n",
    "x_train_scale = standardscaler.fit_transform(X_train)\n",
    "x_test_scale = standardscaler.fit_transform(X_test)"
   ]
  },
  {
   "cell_type": "code",
   "execution_count": 1227,
   "id": "4ac8975a-128c-4732-95bf-3073e1e30691",
   "metadata": {},
   "outputs": [],
   "source": [
    "vectorizer = CountVectorizer(min_df=0, lowercase=True, stop_words='english')"
   ]
  },
  {
   "cell_type": "code",
   "execution_count": 1228,
   "id": "12de2492-e514-4f19-83c2-9f89aaafe0da",
   "metadata": {},
   "outputs": [],
   "source": [
    "from nltk.stem import PorterStemmer\n",
    "from nltk.stem import LancasterStemmer\n",
    "porter = PorterStemmer()\n",
    "lancaster = LancasterStemmer()"
   ]
  },
  {
   "cell_type": "code",
   "execution_count": 1235,
   "id": "843d7a46-3f41-4a79-b347-ebedcb3363ac",
   "metadata": {},
   "outputs": [],
   "source": [
    "frequency = y_train.value_counts()\n",
    "category = frequency.index.tolist()\n",
    "counts = frequency.values.tolist()"
   ]
  },
  {
   "cell_type": "code",
   "execution_count": 1236,
   "id": "3400e654-6771-4ceb-ac69-adc808019a6b",
   "metadata": {},
   "outputs": [
    {
     "ename": "ValueError",
     "evalue": "Expected 2D array, got 1D array instead:\narray=[2486 2074].\nReshape your data either using array.reshape(-1, 1) if your data has a single feature or array.reshape(1, -1) if it contains a single sample.",
     "output_type": "error",
     "traceback": [
      "\u001b[0;31m---------------------------------------------------------------------------\u001b[0m",
      "\u001b[0;31mValueError\u001b[0m                                Traceback (most recent call last)",
      "Input \u001b[0;32mIn [1236]\u001b[0m, in \u001b[0;36m<cell line: 4>\u001b[0;34m()\u001b[0m\n\u001b[1;32m      2\u001b[0m transformer \u001b[38;5;241m=\u001b[39m TfidfTransformer(smooth_idf\u001b[38;5;241m=\u001b[39m\u001b[38;5;28;01mFalse\u001b[39;00m)\n\u001b[1;32m      3\u001b[0m transformer\n\u001b[0;32m----> 4\u001b[0m tfidf \u001b[38;5;241m=\u001b[39m \u001b[43mtransformer\u001b[49m\u001b[38;5;241;43m.\u001b[39;49m\u001b[43mfit_transform\u001b[49m\u001b[43m(\u001b[49m\u001b[43mcounts\u001b[49m\u001b[43m)\u001b[49m\n\u001b[1;32m      5\u001b[0m tfidf\n\u001b[1;32m      6\u001b[0m transformer \u001b[38;5;241m=\u001b[39m TfidfTransformer()\n",
      "File \u001b[0;32m~/opt/anaconda3/lib/python3.9/site-packages/sklearn/base.py:852\u001b[0m, in \u001b[0;36mTransformerMixin.fit_transform\u001b[0;34m(self, X, y, **fit_params)\u001b[0m\n\u001b[1;32m    848\u001b[0m \u001b[38;5;66;03m# non-optimized default implementation; override when a better\u001b[39;00m\n\u001b[1;32m    849\u001b[0m \u001b[38;5;66;03m# method is possible for a given clustering algorithm\u001b[39;00m\n\u001b[1;32m    850\u001b[0m \u001b[38;5;28;01mif\u001b[39;00m y \u001b[38;5;129;01mis\u001b[39;00m \u001b[38;5;28;01mNone\u001b[39;00m:\n\u001b[1;32m    851\u001b[0m     \u001b[38;5;66;03m# fit method of arity 1 (unsupervised transformation)\u001b[39;00m\n\u001b[0;32m--> 852\u001b[0m     \u001b[38;5;28;01mreturn\u001b[39;00m \u001b[38;5;28;43mself\u001b[39;49m\u001b[38;5;241;43m.\u001b[39;49m\u001b[43mfit\u001b[49m\u001b[43m(\u001b[49m\u001b[43mX\u001b[49m\u001b[43m,\u001b[49m\u001b[43m \u001b[49m\u001b[38;5;241;43m*\u001b[39;49m\u001b[38;5;241;43m*\u001b[39;49m\u001b[43mfit_params\u001b[49m\u001b[43m)\u001b[49m\u001b[38;5;241m.\u001b[39mtransform(X)\n\u001b[1;32m    853\u001b[0m \u001b[38;5;28;01melse\u001b[39;00m:\n\u001b[1;32m    854\u001b[0m     \u001b[38;5;66;03m# fit method of arity 2 (supervised transformation)\u001b[39;00m\n\u001b[1;32m    855\u001b[0m     \u001b[38;5;28;01mreturn\u001b[39;00m \u001b[38;5;28mself\u001b[39m\u001b[38;5;241m.\u001b[39mfit(X, y, \u001b[38;5;241m*\u001b[39m\u001b[38;5;241m*\u001b[39mfit_params)\u001b[38;5;241m.\u001b[39mtransform(X)\n",
      "File \u001b[0;32m~/opt/anaconda3/lib/python3.9/site-packages/sklearn/feature_extraction/text.py:1614\u001b[0m, in \u001b[0;36mTfidfTransformer.fit\u001b[0;34m(self, X, y)\u001b[0m\n\u001b[1;32m   1596\u001b[0m \u001b[38;5;124;03m\"\"\"Learn the idf vector (global term weights).\u001b[39;00m\n\u001b[1;32m   1597\u001b[0m \n\u001b[1;32m   1598\u001b[0m \u001b[38;5;124;03mParameters\u001b[39;00m\n\u001b[0;32m   (...)\u001b[0m\n\u001b[1;32m   1609\u001b[0m \u001b[38;5;124;03m    Fitted transformer.\u001b[39;00m\n\u001b[1;32m   1610\u001b[0m \u001b[38;5;124;03m\"\"\"\u001b[39;00m\n\u001b[1;32m   1611\u001b[0m \u001b[38;5;66;03m# large sparse data is not supported for 32bit platforms because\u001b[39;00m\n\u001b[1;32m   1612\u001b[0m \u001b[38;5;66;03m# _document_frequency uses np.bincount which works on arrays of\u001b[39;00m\n\u001b[1;32m   1613\u001b[0m \u001b[38;5;66;03m# dtype NPY_INTP which is int32 for 32bit platforms. See #20923\u001b[39;00m\n\u001b[0;32m-> 1614\u001b[0m X \u001b[38;5;241m=\u001b[39m \u001b[38;5;28;43mself\u001b[39;49m\u001b[38;5;241;43m.\u001b[39;49m\u001b[43m_validate_data\u001b[49m\u001b[43m(\u001b[49m\n\u001b[1;32m   1615\u001b[0m \u001b[43m    \u001b[49m\u001b[43mX\u001b[49m\u001b[43m,\u001b[49m\u001b[43m \u001b[49m\u001b[43maccept_sparse\u001b[49m\u001b[38;5;241;43m=\u001b[39;49m\u001b[43m(\u001b[49m\u001b[38;5;124;43m\"\u001b[39;49m\u001b[38;5;124;43mcsr\u001b[39;49m\u001b[38;5;124;43m\"\u001b[39;49m\u001b[43m,\u001b[49m\u001b[43m \u001b[49m\u001b[38;5;124;43m\"\u001b[39;49m\u001b[38;5;124;43mcsc\u001b[39;49m\u001b[38;5;124;43m\"\u001b[39;49m\u001b[43m)\u001b[49m\u001b[43m,\u001b[49m\u001b[43m \u001b[49m\u001b[43maccept_large_sparse\u001b[49m\u001b[38;5;241;43m=\u001b[39;49m\u001b[38;5;129;43;01mnot\u001b[39;49;00m\u001b[43m \u001b[49m\u001b[43m_IS_32BIT\u001b[49m\n\u001b[1;32m   1616\u001b[0m \u001b[43m\u001b[49m\u001b[43m)\u001b[49m\n\u001b[1;32m   1617\u001b[0m \u001b[38;5;28;01mif\u001b[39;00m \u001b[38;5;129;01mnot\u001b[39;00m sp\u001b[38;5;241m.\u001b[39missparse(X):\n\u001b[1;32m   1618\u001b[0m     X \u001b[38;5;241m=\u001b[39m sp\u001b[38;5;241m.\u001b[39mcsr_matrix(X)\n",
      "File \u001b[0;32m~/opt/anaconda3/lib/python3.9/site-packages/sklearn/base.py:566\u001b[0m, in \u001b[0;36mBaseEstimator._validate_data\u001b[0;34m(self, X, y, reset, validate_separately, **check_params)\u001b[0m\n\u001b[1;32m    564\u001b[0m     \u001b[38;5;28;01mraise\u001b[39;00m \u001b[38;5;167;01mValueError\u001b[39;00m(\u001b[38;5;124m\"\u001b[39m\u001b[38;5;124mValidation should be done on X, y or both.\u001b[39m\u001b[38;5;124m\"\u001b[39m)\n\u001b[1;32m    565\u001b[0m \u001b[38;5;28;01melif\u001b[39;00m \u001b[38;5;129;01mnot\u001b[39;00m no_val_X \u001b[38;5;129;01mand\u001b[39;00m no_val_y:\n\u001b[0;32m--> 566\u001b[0m     X \u001b[38;5;241m=\u001b[39m \u001b[43mcheck_array\u001b[49m\u001b[43m(\u001b[49m\u001b[43mX\u001b[49m\u001b[43m,\u001b[49m\u001b[43m \u001b[49m\u001b[38;5;241;43m*\u001b[39;49m\u001b[38;5;241;43m*\u001b[39;49m\u001b[43mcheck_params\u001b[49m\u001b[43m)\u001b[49m\n\u001b[1;32m    567\u001b[0m     out \u001b[38;5;241m=\u001b[39m X\n\u001b[1;32m    568\u001b[0m \u001b[38;5;28;01melif\u001b[39;00m no_val_X \u001b[38;5;129;01mand\u001b[39;00m \u001b[38;5;129;01mnot\u001b[39;00m no_val_y:\n",
      "File \u001b[0;32m~/opt/anaconda3/lib/python3.9/site-packages/sklearn/utils/validation.py:769\u001b[0m, in \u001b[0;36mcheck_array\u001b[0;34m(array, accept_sparse, accept_large_sparse, dtype, order, copy, force_all_finite, ensure_2d, allow_nd, ensure_min_samples, ensure_min_features, estimator)\u001b[0m\n\u001b[1;32m    767\u001b[0m     \u001b[38;5;66;03m# If input is 1D raise error\u001b[39;00m\n\u001b[1;32m    768\u001b[0m     \u001b[38;5;28;01mif\u001b[39;00m array\u001b[38;5;241m.\u001b[39mndim \u001b[38;5;241m==\u001b[39m \u001b[38;5;241m1\u001b[39m:\n\u001b[0;32m--> 769\u001b[0m         \u001b[38;5;28;01mraise\u001b[39;00m \u001b[38;5;167;01mValueError\u001b[39;00m(\n\u001b[1;32m    770\u001b[0m             \u001b[38;5;124m\"\u001b[39m\u001b[38;5;124mExpected 2D array, got 1D array instead:\u001b[39m\u001b[38;5;130;01m\\n\u001b[39;00m\u001b[38;5;124marray=\u001b[39m\u001b[38;5;132;01m{}\u001b[39;00m\u001b[38;5;124m.\u001b[39m\u001b[38;5;130;01m\\n\u001b[39;00m\u001b[38;5;124m\"\u001b[39m\n\u001b[1;32m    771\u001b[0m             \u001b[38;5;124m\"\u001b[39m\u001b[38;5;124mReshape your data either using array.reshape(-1, 1) if \u001b[39m\u001b[38;5;124m\"\u001b[39m\n\u001b[1;32m    772\u001b[0m             \u001b[38;5;124m\"\u001b[39m\u001b[38;5;124myour data has a single feature or array.reshape(1, -1) \u001b[39m\u001b[38;5;124m\"\u001b[39m\n\u001b[1;32m    773\u001b[0m             \u001b[38;5;124m\"\u001b[39m\u001b[38;5;124mif it contains a single sample.\u001b[39m\u001b[38;5;124m\"\u001b[39m\u001b[38;5;241m.\u001b[39mformat(array)\n\u001b[1;32m    774\u001b[0m         )\n\u001b[1;32m    776\u001b[0m \u001b[38;5;66;03m# make sure we actually converted to numeric:\u001b[39;00m\n\u001b[1;32m    777\u001b[0m \u001b[38;5;28;01mif\u001b[39;00m dtype_numeric \u001b[38;5;129;01mand\u001b[39;00m array\u001b[38;5;241m.\u001b[39mdtype\u001b[38;5;241m.\u001b[39mkind \u001b[38;5;129;01min\u001b[39;00m \u001b[38;5;124m\"\u001b[39m\u001b[38;5;124mOUSV\u001b[39m\u001b[38;5;124m\"\u001b[39m:\n",
      "\u001b[0;31mValueError\u001b[0m: Expected 2D array, got 1D array instead:\narray=[2486 2074].\nReshape your data either using array.reshape(-1, 1) if your data has a single feature or array.reshape(1, -1) if it contains a single sample."
     ]
    }
   ],
   "source": [
    "from sklearn.feature_extraction.text import TfidfTransformer\n",
    "transformer = TfidfTransformer(smooth_idf=False)\n",
    "transformer\n",
    "tfidf = transformer.fit_transform(counts)\n",
    "tfidf\n",
    "transformer = TfidfTransformer()\n",
    "transformer.fit_transform(counts).toarray()\n",
    "transformer.idf_\n",
    "from sklearn.feature_extraction.text import TfidfVectorizer\n",
    "vectorizer = TfidfVectorizer()\n",
    "vectorizer.fit_transform(X_train)"
   ]
  },
  {
   "cell_type": "code",
   "execution_count": 1247,
   "id": "5b3f57c0-2b0d-4123-92ed-77ca4ee5c50f",
   "metadata": {},
   "outputs": [
    {
     "name": "stderr",
     "output_type": "stream",
     "text": [
      "/Users/akhil/opt/anaconda3/lib/python3.9/site-packages/gradio/inputs.py:58: UserWarning: Usage of gradio.inputs is deprecated, and will not be supported in the future, please import your component from gradio.components\n",
      "  warnings.warn(\n",
      "/Users/akhil/opt/anaconda3/lib/python3.9/site-packages/gradio/deprecation.py:40: UserWarning: `optional` parameter is deprecated, and it has no effect\n",
      "  warnings.warn(value)\n",
      "/Users/akhil/opt/anaconda3/lib/python3.9/site-packages/gradio/inputs.py:216: UserWarning: Usage of gradio.inputs is deprecated, and will not be supported in the future, please import your component from gradio.components\n",
      "  warnings.warn(\n",
      "/Users/akhil/opt/anaconda3/lib/python3.9/site-packages/gradio/outputs.py:21: UserWarning: Usage of gradio.outputs is deprecated, and will not be supported in the future, please import your components from gradio.components\n",
      "  warnings.warn(\n"
     ]
    },
    {
     "name": "stdout",
     "output_type": "stream",
     "text": [
      "Running on local URL:  http://127.0.0.1:7872\n",
      "\n",
      "To create a public link, set `share=True` in `launch()`.\n"
     ]
    },
    {
     "data": {
      "text/html": [
       "<div><iframe src=\"http://127.0.0.1:7872/\" width=\"100%\" height=\"500\" allow=\"autoplay; camera; microphone; clipboard-read; clipboard-write;\" frameborder=\"0\" allowfullscreen></iframe></div>"
      ],
      "text/plain": [
       "<IPython.core.display.HTML object>"
      ]
     },
     "metadata": {},
     "output_type": "display_data"
    },
    {
     "data": {
      "text/plain": []
     },
     "execution_count": 1247,
     "metadata": {},
     "output_type": "execute_result"
    },
    {
     "name": "stderr",
     "output_type": "stream",
     "text": [
      "/Users/akhil/opt/anaconda3/lib/python3.9/site-packages/gradio/outputs.py:21: UserWarning: Usage of gradio.outputs is deprecated, and will not be supported in the future, please import your components from gradio.components\n",
      "  warnings.warn(\n",
      "/Users/akhil/opt/anaconda3/lib/python3.9/site-packages/gradio/outputs.py:21: UserWarning: Usage of gradio.outputs is deprecated, and will not be supported in the future, please import your components from gradio.components\n",
      "  warnings.warn(\n",
      "/Users/akhil/opt/anaconda3/lib/python3.9/site-packages/gradio/outputs.py:21: UserWarning: Usage of gradio.outputs is deprecated, and will not be supported in the future, please import your components from gradio.components\n",
      "  warnings.warn(\n",
      "/Users/akhil/opt/anaconda3/lib/python3.9/site-packages/gradio/outputs.py:21: UserWarning: Usage of gradio.outputs is deprecated, and will not be supported in the future, please import your components from gradio.components\n",
      "  warnings.warn(\n"
     ]
    }
   ],
   "source": [
    "import gradio as gr\n",
    "from gradio.outputs import Label\n",
    "from sklearn import preprocessing\n",
    "\n",
    "\n",
    "def multi_inputs(input_2, input_3, input_1, input_5, input_4, input_6, input_7, input_8, input_9, input_10, input_11, input_12, input_13):\n",
    "\n",
    "    intputdata = ['Gender','Race (Reported)','Age','Height (cm)','Weight (kg)','Diabetes','Simvastatin (Zocor)','Amiodarone (Cordarone)','Target INR','INR on Reported Therapeutic Dose of Warfarin','Cyp2C9 genotypes','VKORC1 genotype: -1639 G>A (3673); chr16:31015190; rs9923231; C/T']\n",
    "    output = gr.outputs.Textbox(label = \"Therapeutic Dose of Warfarin\")\n",
    "\n",
    "    le = preprocessing.LabelEncoder()\n",
    "    input_3 = le.fit_transform(input_3)\n",
    "    input_2 = le.fit_transform(input_2)\n",
    "    input_11 = le.fit_transform(input_11)\n",
    "    input_12 = le.fit_transform(input_12)\n",
    "    inputs = [5, 1, 2 ,  3, 2, 0, 1,  1, 1, 4,  4, 1]\n",
    "    # inputs = [input_2, input_3, input_1, input_5, input_4, input_6, input_7, input_8, input_9, input_10, input_11, input_12] \n",
    "    \n",
    "    df1 = pd.DataFrame(data= [inputs],columns= [intputdata])\n",
    "    input_13 = 'Logistic Regression'\n",
    "    # finaldata = pd.DataFrame(data = [inputs], columns = ['Gender','Race (Reported)','Age','Height (cm)','Weight (kg)','Diabetes','Simvastatin (Zocor)','Amiodarone (Cordarone)','Target INR','INR on Reported Therapeutic Dose of Warfarin','Cyp2C9 genotypes','VKORC1 genotype: -1639 G>A (3673); chr16:31015190; rs9923231; C/T'])\n",
    "    # input_array= vectorizer.tranform(inputs).toarray()\n",
    "    if input_13 == ' Logistic Regression ':\n",
    "        output = logistic_model.predict(df1)\n",
    "        \n",
    "    if output == 0:\n",
    "        output = \"Low dose required\"\n",
    "    else: \n",
    "        output = \"High Dose\"\n",
    "    return output\n",
    "    \n",
    "input_1 = gr.inputs.Number(label = \"Age\")\n",
    "input_2 = gr.inputs.Dropdown(choices=[\"Female\", \"Male\"], label = \"Gender\")\n",
    "input_3 = gr.inputs.Dropdown(choices=[\"African American or Black\", \"American Indian or Alaska Native\", \"Asian or Indian subcontinents\", \"Native Hawaiian or other pacific Islander\", \"White, Caucasian or Middle Eastern\", \"Others\"], label = \"Race\")\n",
    "input_4 = gr.inputs.Number(label = \"Weight\")\n",
    "input_5 = gr.inputs.Number(label = \"Height\")\n",
    "input_6 = gr.inputs.Dropdown(choices=[\"1\", \"0\"], label = \"Diabetes\")\n",
    "input_7 = gr.inputs.Dropdown(choices=[\"1\", \"0\"], label = \"Simvastatin (Zocor)\")\n",
    "input_8 = gr.inputs.Dropdown(choices=[\"1\", \"0\"], label = \"Amiodarone (Cordarone)\")\n",
    "input_9 = gr.inputs.Number(label = \"Target INR\")\n",
    "input_10 = gr.inputs.Number(label = \"INR on Reported Therapeutic Dose of Warfarin\")\n",
    "input_11 = gr.inputs.Dropdown(choices=[\"*1\", \"*2\", \"*3\", \"*4\", \"*5\", \"*6\", \"*7\", \"*8\", \"*9\", \"*10\", \"*11\", \"*12\", \"or *13\"], label = \"Cyp2C9 genotypes\")\n",
    "input_12 = gr.inputs.Dropdown(choices=[\"A/A\", \"A/G\", \"G/G or NA\"], label = \"VKORC1 genotype: -1639 G>A (3673); chr16:31015190; rs9923231; C/T\")\n",
    "input_13 = gr.inputs.Dropdown(choices=[\"Decision Tree\", \"Logistic Regression\", \"Random Forest\"], label = \"Model\")\n",
    "\n",
    "output = gr.outputs.Textbox(label = \"Therapeutic Dose of Warfarin\")\n",
    "\n",
    "gr.Interface(fn= multi_inputs, inputs=[input_1, input_2, input_3, input_4, input_5, input_6, input_7, input_8, input_9, input_10, input_11, input_12, input_13], \n",
    "             outputs=[output]\n",
    "            ).launch()"
   ]
  },
  {
   "cell_type": "code",
   "execution_count": 1251,
   "id": "eb2bf741-a539-472a-af44-131432166691",
   "metadata": {},
   "outputs": [
    {
     "name": "stderr",
     "output_type": "stream",
     "text": [
      "/Users/akhil/opt/anaconda3/lib/python3.9/site-packages/gradio/inputs.py:58: UserWarning: Usage of gradio.inputs is deprecated, and will not be supported in the future, please import your component from gradio.components\n",
      "  warnings.warn(\n",
      "/Users/akhil/opt/anaconda3/lib/python3.9/site-packages/gradio/deprecation.py:40: UserWarning: `optional` parameter is deprecated, and it has no effect\n",
      "  warnings.warn(value)\n",
      "/Users/akhil/opt/anaconda3/lib/python3.9/site-packages/gradio/inputs.py:216: UserWarning: Usage of gradio.inputs is deprecated, and will not be supported in the future, please import your component from gradio.components\n",
      "  warnings.warn(\n"
     ]
    },
    {
     "name": "stdout",
     "output_type": "stream",
     "text": [
      "Running on local URL:  http://127.0.0.1:7876\n",
      "\n",
      "To create a public link, set `share=True` in `launch()`.\n"
     ]
    },
    {
     "data": {
      "text/html": [
       "<div><iframe src=\"http://127.0.0.1:7876/\" width=\"100%\" height=\"500\" allow=\"autoplay; camera; microphone; clipboard-read; clipboard-write;\" frameborder=\"0\" allowfullscreen></iframe></div>"
      ],
      "text/plain": [
       "<IPython.core.display.HTML object>"
      ]
     },
     "metadata": {},
     "output_type": "display_data"
    },
    {
     "data": {
      "text/plain": []
     },
     "execution_count": 1251,
     "metadata": {},
     "output_type": "execute_result"
    },
    {
     "name": "stderr",
     "output_type": "stream",
     "text": [
      "/Users/akhil/opt/anaconda3/lib/python3.9/site-packages/gradio/outputs.py:21: UserWarning: Usage of gradio.outputs is deprecated, and will not be supported in the future, please import your components from gradio.components\n",
      "  warnings.warn(\n"
     ]
    }
   ],
   "source": [
    "import gradio as gr\n",
    "from gradio.outputs import Label\n",
    "from sklearn import preprocessing\n",
    "\n",
    "\n",
    "def multi_inputs(input_2, input_3, input_1, input_5, input_4, input_6, input_7, input_8, input_9, input_10, input_11, input_12, input_13):\n",
    "    output = gr.outputs.Textbox(label = \"Therapeutic Dose of Warfarin\")\n",
    "\n",
    "    intputdata = ['Gender','Race (Reported)','Age','Height (cm)','Weight (kg)','Diabetes','Simvastatin (Zocor)','Amiodarone (Cordarone)','Target INR','INR on Reported Therapeutic Dose of Warfarin','Cyp2C9 genotypes','VKORC1 genotype: -1639 G>A (3673); chr16:31015190; rs9923231; C/T']\n",
    "    \n",
    "    \n",
    "    inputs = [input_2, input_3, input_1, input_5, input_4, input_6, input_7, input_8, input_9, input_10, input_11, input_12]\n",
    "\n",
    "    df1 = pd.DataFrame(data= [inputs],columns= [intputdata])\n",
    "    input_13 = 'Logistic Regression'\n",
    "    # finaldata = pd.DataFrame(data = [inputs], columns = ['Gender','Race (Reported)','Age','Height (cm)','Weight (kg)','Diabetes','Simvastatin (Zocor)','Amiodarone (Cordarone)','Target INR','INR on Reported Therapeutic Dose of Warfarin','Cyp2C9 genotypes','VKORC1 genotype: -1639 G>A (3673); chr16:31015190; rs9923231; C/T'])\n",
    "    # input_array= vectorizer.tranform(inputs).toarray()\n",
    "    if input_13 == ' Logistic Regression ':\n",
    "        output = logistic_model.predict(df1)\n",
    "        \n",
    "    if output == 0:\n",
    "        output = \"Low dose required\"\n",
    "    else: \n",
    "        output = \"High Dose\"\n",
    "    return output\n",
    "    \n",
    "input_1 = gr.inputs.Number(label = \"Age\")\n",
    "input_2 = gr.inputs.Dropdown(choices=[\"0\", \"1\"], label = \"Gender\")\n",
    "input_3 = gr.inputs.Dropdown(choices=[\"0\", \"1\", \"2\", \"3\", \"4\", \"5\"], label = \"Race\")\n",
    "input_4 = gr.inputs.Number(label = \"Weight\")\n",
    "input_5 = gr.inputs.Number(label = \"Height\")\n",
    "input_6 = gr.inputs.Dropdown(choices=[\"1\", \"0\"], label = \"Diabetes\")\n",
    "input_7 = gr.inputs.Dropdown(choices=[\"1\", \"0\"], label = \"Simvastatin (Zocor)\")\n",
    "input_8 = gr.inputs.Dropdown(choices=[\"1\", \"0\"], label = \"Amiodarone (Cordarone)\")\n",
    "input_9 = gr.inputs.Number(label = \"Target INR\")\n",
    "input_10 = gr.inputs.Number(label = \"INR on Reported Therapeutic Dose of Warfarin\")\n",
    "input_11 = gr.inputs.Dropdown(choices=[\"1\", \"2\", \"3\", \"4\", \"5\", \"6\", \"7\", \"8\", \"9\", \"10\", \"11\", \"12\", \"13\"], label = \"Cyp2C9 genotypes\")\n",
    "input_12 = gr.inputs.Dropdown(choices=[\"0\", \"2\", \"1\"], label = \"VKORC1 genotype: -1639 G>A (3673); chr16:31015190; rs9923231; C/T\")\n",
    "input_13 = gr.inputs.Dropdown(choices=[\"Decision Tree\", \"Logistic Regression\", \"Random Forest\"], label = \"Model\")\n",
    "\n",
    "\n",
    "gr.Interface(fn= multi_inputs, inputs=[input_1, input_2, input_3, input_4, input_5, input_6, input_7, input_8, input_9, input_10, input_11, input_12, input_13], \n",
    "             outputs=[output]\n",
    "            ).launch()"
   ]
  },
  {
   "cell_type": "code",
   "execution_count": null,
   "id": "1ae701f2-3fff-4fd3-b721-9b6fbbc9dd04",
   "metadata": {},
   "outputs": [],
   "source": []
  },
  {
   "cell_type": "raw",
   "id": "273ad444-3b0b-4cec-921f-6ac3f89c7690",
   "metadata": {},
   "source": [
    "# Feature Selection Algorithm - Principal Component Analysis (PCA)"
   ]
  },
  {
   "cell_type": "code",
   "execution_count": 1183,
   "id": "86fffae5-94f6-4bf1-8c86-fded5828257d",
   "metadata": {},
   "outputs": [
    {
     "data": {
      "text/plain": [
       "(4560, 12)"
      ]
     },
     "execution_count": 1183,
     "metadata": {},
     "output_type": "execute_result"
    }
   ],
   "source": [
    "X_train.shape"
   ]
  },
  {
   "cell_type": "code",
   "execution_count": 1185,
   "id": "b5880f2d-2cc1-4f54-bb45-db10fde98c33",
   "metadata": {},
   "outputs": [],
   "source": [
    "from sklearn.decomposition import PCA\n",
    "pca = PCA(n_components = 2)\n",
    "pca.fit(X_train)\n",
    "X_reduced = pca.transform(X_train)"
   ]
  },
  {
   "cell_type": "code",
   "execution_count": 1187,
   "id": "18bb97d0-fcce-4745-a365-cb1c46c262c7",
   "metadata": {},
   "outputs": [
    {
     "data": {
      "text/plain": [
       "(4560, 2)"
      ]
     },
     "execution_count": 1187,
     "metadata": {},
     "output_type": "execute_result"
    }
   ],
   "source": [
    "X_reduced.shape"
   ]
  },
  {
   "cell_type": "code",
   "execution_count": 1188,
   "id": "92d2f321-ed60-47af-9711-1f49edae2cb8",
   "metadata": {},
   "outputs": [
    {
     "name": "stderr",
     "output_type": "stream",
     "text": [
      "/Users/akhil/opt/anaconda3/lib/python3.9/site-packages/sklearn/utils/validation.py:993: DataConversionWarning: A column-vector y was passed when a 1d array was expected. Please change the shape of y to (n_samples, ), for example using ravel().\n",
      "  y = column_or_1d(y, warn=True)\n"
     ]
    },
    {
     "data": {
      "text/plain": [
       "LinearDiscriminantAnalysis()"
      ]
     },
     "execution_count": 1188,
     "metadata": {},
     "output_type": "execute_result"
    }
   ],
   "source": [
    "import numpy as np\n",
    "from sklearn.discriminant_analysis import LinearDiscriminantAnalysis\n",
    "clf = LinearDiscriminantAnalysis()\n",
    "clf.fit(X_reduced, y_train)"
   ]
  },
  {
   "cell_type": "code",
   "execution_count": 1189,
   "id": "6ccd376c-c2f5-41e4-a5b5-1c96ca363341",
   "metadata": {},
   "outputs": [
    {
     "data": {
      "text/plain": [
       "0.6515350877192982"
      ]
     },
     "execution_count": 1189,
     "metadata": {},
     "output_type": "execute_result"
    }
   ],
   "source": [
    "clf.score(X_reduced, y_train)"
   ]
  },
  {
   "cell_type": "code",
   "execution_count": null,
   "id": "e9337300-4a8c-465c-95f4-5dae14556128",
   "metadata": {},
   "outputs": [],
   "source": []
  }
 ],
 "metadata": {
  "kernelspec": {
   "display_name": "Python 3 (ipykernel)",
   "language": "python",
   "name": "python3"
  },
  "language_info": {
   "codemirror_mode": {
    "name": "ipython",
    "version": 3
   },
   "file_extension": ".py",
   "mimetype": "text/x-python",
   "name": "python",
   "nbconvert_exporter": "python",
   "pygments_lexer": "ipython3",
   "version": "3.9.12"
  }
 },
 "nbformat": 4,
 "nbformat_minor": 5
}
